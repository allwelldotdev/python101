{
 "cells": [
  {
   "cell_type": "markdown",
   "id": "sensitive-saint",
   "metadata": {},
   "source": [
    "### Exercises"
   ]
  },
  {
   "cell_type": "markdown",
   "id": "particular-humidity",
   "metadata": {},
   "source": [
    "#### Exercise 1"
   ]
  },
  {
   "cell_type": "markdown",
   "id": "trained-masters",
   "metadata": {},
   "source": [
    "Given a variable `a` (containing any value), re-assign the value `\"N/A\"` if `a` is `None`, and leave `a` unchanged otherwise. Use an `if...else...` statement."
   ]
  },
  {
   "cell_type": "code",
   "execution_count": 9,
   "id": "693a3ec2-f435-4c73-b2f7-84000f7ae0f7",
   "metadata": {},
   "outputs": [
    {
     "name": "stdout",
     "output_type": "stream",
     "text": [
      "any_value\n"
     ]
    }
   ],
   "source": [
    "a = 'any_value'\n",
    "\n",
    "if a == 'None':\n",
    "    a = 'N/A'\n",
    "else:\n",
    "    a\n",
    "\n",
    "print(a)"
   ]
  },
  {
   "cell_type": "markdown",
   "id": "growing-acoustic",
   "metadata": {},
   "source": [
    "#### Exercise 2"
   ]
  },
  {
   "cell_type": "markdown",
   "id": "8b8cec3b-d282-4ff0-b5b8-2afcbe198145",
   "metadata": {},
   "source": [
    "Do the same thing as Question 1, but this time use a ternary operator."
   ]
  },
  {
   "cell_type": "code",
   "execution_count": 12,
   "id": "731e1229-e42f-4392-acfc-c11f6bdc0c6e",
   "metadata": {},
   "outputs": [
    {
     "name": "stdout",
     "output_type": "stream",
     "text": [
      "any_value\n"
     ]
    }
   ],
   "source": [
    "a = 'N/A' if a == 'None' else 'any_value'\n",
    "\n",
    "print(a)"
   ]
  },
  {
   "cell_type": "markdown",
   "id": "seasonal-bronze",
   "metadata": {},
   "source": [
    "#### Exercise 3"
   ]
  },
  {
   "cell_type": "markdown",
   "id": "atomic-authority",
   "metadata": {},
   "source": [
    "Given an credit score `score`, assign a string value to another variable `rating` based on the following scale:\n",
    "\n",
    "- [0, 580) --> Poor\n",
    "- [580, 670) --> Fair\n",
    "- [670, 740) --> Good\n",
    "- [740, 800) --> Very Good\n",
    "- [800, 850] --> Excellent\n"
   ]
  },
  {
   "cell_type": "code",
   "execution_count": 21,
   "id": "c8c20387-98c4-4f35-a43f-290afb9e3e53",
   "metadata": {},
   "outputs": [
    {
     "name": "stdout",
     "output_type": "stream",
     "text": [
      "Good\n"
     ]
    }
   ],
   "source": [
    "score = 740\n",
    "\n",
    "if score <= 580:\n",
    "    rating = 'Poor'\n",
    "elif score <= 670:\n",
    "    rating = 'Fair'\n",
    "elif score <= 740:\n",
    "    rating = 'Good'\n",
    "elif score <= 800:\n",
    "    rating = 'Very Good'\n",
    "else:\n",
    "    rating = 'Excellent'\n",
    "\n",
    "print(rating)"
   ]
  },
  {
   "cell_type": "markdown",
   "id": "fiscal-estate",
   "metadata": {},
   "source": [
    "#### Exercise 4"
   ]
  },
  {
   "cell_type": "markdown",
   "id": "overhead-candidate",
   "metadata": {},
   "source": [
    "Given an `elapsed` time (in seconds), write code to set a variable `magnitude` based on the following conditions:\n",
    "\n",
    "- if elapsed time is less than 1 minute, `magnitude` --> `'seconds'`\n",
    "- if elapsed time is more than 1 minute, but less than 1 hour, `magnitude` --> `'minutes'`\n",
    "- if elapsed time is more than 1 hour, but less than 1 day, `magnitude` --> `'hours'`\n",
    "- if elapsed time is more than 1 day, but less than 1 week: `magnitude` --> `'days'`\n",
    "- if elapsed time is more than 1 week, `magnitude` --> '`weeks'`"
   ]
  },
  {
   "cell_type": "code",
   "execution_count": 113,
   "id": "9185416c-51e4-49b4-8f87-0cee43396175",
   "metadata": {},
   "outputs": [
    {
     "name": "stdout",
     "output_type": "stream",
     "text": [
      "3 days\n"
     ]
    }
   ],
   "source": [
    "elapsed = 86_400 * 3\n",
    "\n",
    "if elapsed < 60: # less than 1 minute - 60 seconds in 1 minute\n",
    "    magnitude = f\"{elapsed} {'second' if elapsed == 1 else 'seconds'}\"\n",
    "elif elapsed < 3600: # less than 1 hour - 3600 seconds in 1 hour\n",
    "    magnitude = f\"{elapsed // 60} {'minute' if elapsed // 60 == 1 else 'minutes'}\"\n",
    "elif elapsed < 86_400: # less than 1 day - 86_400 seconds in 1 day\n",
    "    magnitude = f\"{elapsed // 3600} {'hour' if elapsed // 3600 == 1 else 'hours'}\"\n",
    "elif elapsed < 604_800: # less than 1 week - 604_800 seconds in 1 week\n",
    "    magnitude = f\"{int(elapsed // 86_400)} {'day' if elapsed // 86_400 == 1 else 'days'}\"\n",
    "else: # more than 1 week\n",
    "    magnitude = f\"{elapsed // 604_800} {'week' if elapsed // 604_800 == 1 else 'weeks'}\"\n",
    "\n",
    "print(magnitude)"
   ]
  },
  {
   "cell_type": "markdown",
   "id": "db4d7406-c450-4d64-ac12-56744b790ba5",
   "metadata": {},
   "source": [
    "##### Another instance:\n",
    "\n",
    "In this instance, I'll specify `weeks`, `days`, `hours`, `minutes`, and `seconds` as it applies for each scenario."
   ]
  },
  {
   "cell_type": "code",
   "execution_count": 128,
   "id": "2936eda4-e6b7-492b-8e8d-43b096d6e00f",
   "metadata": {},
   "outputs": [
    {
     "name": "stdout",
     "output_type": "stream",
     "text": [
      "1 week, 1 day, 0 hours, 0 minutes, 0 seconds\n"
     ]
    }
   ],
   "source": [
    "elapsed = 604_800 + (3600 * 24)\n",
    "\n",
    "if elapsed < 60: # less than 1 minute - 60 seconds in 1 minute\n",
    "    magnitude = f\"{elapsed} {'second' if elapsed == 1 else 'seconds'}\"\n",
    "elif elapsed < 3600: # less than 1 hour - 3600 seconds in 1 hour\n",
    "    magnitude = f\"{elapsed // 60} {'minute' if elapsed // 60 == 1 else 'minutes'}, {elapsed % 60} {'second' if elapsed % 60 == 1 else 'seconds'}\"\n",
    "elif elapsed < 86_400: # less than 1 day - 86_400 seconds in 1 day\n",
    "    magnitude = f\"{elapsed // 3600} {'hour' if elapsed // 3600 == 1 else 'hours'}, {(elapsed % 3600) // 60} {'minute' if (elapsed % 3600) // 60 == 1 else 'minutes'}, {(elapsed % 3600) % 60} {'second' if (elapsed % 3600) % 60 == 1 else 'seconds'}\"\n",
    "elif elapsed < 604_800: # less than 1 week - 604_800 seconds in 1 week\n",
    "    magnitude = f\"{elapsed // 86_400} {'day' if elapsed // 86_400 == 1 else 'days'}, {(elapsed % 86_400) // 3600} {'hour' if (elapsed % 86_400) // 3600 == 1 else 'hours'}, {((elapsed % 86_400) % 3600) // 60} {'minute' if ((elapsed % 86_400) % 3600) // 60 == 1 else 'minutes'}, {((elapsed % 86_400) % 3600) % 60} {'second' if ((elapsed % 86_400) % 3600) % 60 == 1 else 'seconds'}\"\n",
    "else: # more than 1 week\n",
    "    magnitude = f\"{elapsed // 604_800} {'week' if elapsed // 604_800 == 1 else 'weeks'}, {(elapsed % 604_800) // 86_400} {'day' if (elapsed % 604_800) // 86_400 == 1 else 'days'}, {((elapsed % 604_800) % 86_400) // 3600} {'hour' if ((elapsed % 604_800) % 86_400) // 3600 == 1 else 'hours'}, {(((elapsed % 604_800) % 86_400) % 3600) // 60} {'minute' if (((elapsed % 604_800) % 86_400) % 3600) // 60 == 1 else 'minutes'}, {(((elapsed % 604_800) % 86_400) % 3600) % 60} {'second' if (((elapsed % 604_800) % 86_400) % 3600) % 60 == 1 else 'seconds'}\"\n",
    "\n",
    "print(magnitude)"
   ]
  }
 ],
 "metadata": {
  "kernelspec": {
   "display_name": "Python 3 (ipykernel)",
   "language": "python",
   "name": "python3"
  },
  "language_info": {
   "codemirror_mode": {
    "name": "ipython",
    "version": 3
   },
   "file_extension": ".py",
   "mimetype": "text/x-python",
   "name": "python",
   "nbconvert_exporter": "python",
   "pygments_lexer": "ipython3",
   "version": "3.9.19"
  }
 },
 "nbformat": 4,
 "nbformat_minor": 5
}
