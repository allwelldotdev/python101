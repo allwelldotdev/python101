{
 "cells": [
  {
   "cell_type": "markdown",
   "metadata": {},
   "source": [
    "### Exercises"
   ]
  },
  {
   "cell_type": "markdown",
   "metadata": {},
   "source": [
    "### Exercise 1"
   ]
  },
  {
   "cell_type": "markdown",
   "metadata": {},
   "source": [
    "Given two floats `a` and `b`, and some tolerance `tol`, write an expression that will test whether `a` and `b` are within `tol` of each other."
   ]
  },
  {
   "cell_type": "code",
   "execution_count": 65,
   "metadata": {},
   "outputs": [
    {
     "name": "stdout",
     "output_type": "stream",
     "text": [
      "0.7999999999999999333866185\n",
      "0.8000000000000000444089210\n",
      "True\n"
     ]
    }
   ],
   "source": [
    "a = 0.1 + 0.7\n",
    "b = 0.8\n",
    "tol = 0.000_000_001\n",
    "\n",
    "print(format(a, '.25f'))\n",
    "print(format(b, '.25f'))\n",
    "print(abs(a-b) < tol)"
   ]
  },
  {
   "cell_type": "markdown",
   "metadata": {},
   "source": [
    "### Exercise 2"
   ]
  },
  {
   "cell_type": "markdown",
   "metadata": {},
   "source": [
    "Assume you have some variable `elapsed` that contains elapsed time in seconds."
   ]
  },
  {
   "cell_type": "markdown",
   "metadata": {},
   "source": [
    "Create three new variables: `hours`, `minutes` and `seconds`, that represent the number of hours, minutes and seconds represented by `elapsed`."
   ]
  },
  {
   "cell_type": "markdown",
   "metadata": {},
   "source": [
    "For example, if `elapsed = 7835`, then `hours = 2`, `minutes = 10` and `seconds = 35`"
   ]
  },
  {
   "cell_type": "code",
   "execution_count": 84,
   "metadata": {},
   "outputs": [
    {
     "name": "stdout",
     "output_type": "stream",
     "text": [
      "elapsed time: 7835,\n",
      "hours: 2,\n",
      "minutes: 10, \n",
      "seconds: 35\n"
     ]
    }
   ],
   "source": [
    "elapsed = 7835\n",
    "hours = elapsed // (60**2)\n",
    "minutes = (elapsed // 60) - (60 * hours)\n",
    "seconds = elapsed % 60\n",
    "print(f'elapsed time: {elapsed},\\nhours: {hours},\\nminutes: {minutes}, \\nseconds: {seconds}')"
   ]
  },
  {
   "cell_type": "markdown",
   "metadata": {},
   "source": [
    "#### Another way of doing it:"
   ]
  },
  {
   "cell_type": "code",
   "execution_count": 95,
   "metadata": {},
   "outputs": [
    {
     "name": "stdout",
     "output_type": "stream",
     "text": [
      "2:10:35\n"
     ]
    }
   ],
   "source": [
    "elapsed = 7835 # elapsed time in seconds\n",
    "hours = elapsed // 3600 # 3600 seconds = 1 hour\n",
    "# remaining_seconds = elapsed % 3600\n",
    "minutes = (elapsed % 3600) // 60\n",
    "seconds = (elapsed % 3600) % 60\n",
    "\n",
    "print(hours, minutes, seconds, sep=':')"
   ]
  }
 ],
 "metadata": {
  "kernelspec": {
   "display_name": "Python 3 (ipykernel)",
   "language": "python",
   "name": "python3"
  },
  "language_info": {
   "codemirror_mode": {
    "name": "ipython",
    "version": 3
   },
   "file_extension": ".py",
   "mimetype": "text/x-python",
   "name": "python",
   "nbconvert_exporter": "python",
   "pygments_lexer": "ipython3",
   "version": "3.9.19"
  }
 },
 "nbformat": 4,
 "nbformat_minor": 4
}
