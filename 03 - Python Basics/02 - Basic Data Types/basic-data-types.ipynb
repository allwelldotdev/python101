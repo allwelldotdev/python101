{
 "cells": [
  {
   "cell_type": "code",
   "execution_count": 3,
   "id": "3073a5f1-f92c-4c7d-b625-acef0fe11754",
   "metadata": {},
   "outputs": [
    {
     "data": {
      "text/plain": [
       "1"
      ]
     },
     "execution_count": 3,
     "metadata": {},
     "output_type": "execute_result"
    }
   ],
   "source": [
    "1"
   ]
  },
  {
   "cell_type": "code",
   "execution_count": 5,
   "id": "a578316a-3fd6-4318-a4e9-0f3f7b36d1ae",
   "metadata": {},
   "outputs": [
    {
     "data": {
      "text/plain": [
       "-10"
      ]
     },
     "execution_count": 5,
     "metadata": {},
     "output_type": "execute_result"
    }
   ],
   "source": [
    "-10"
   ]
  },
  {
   "cell_type": "code",
   "execution_count": 7,
   "id": "b5ea3ef4-d2f5-4d75-a970-932c207b2714",
   "metadata": {},
   "outputs": [
    {
     "data": {
      "text/plain": [
       "1.0"
      ]
     },
     "execution_count": 7,
     "metadata": {},
     "output_type": "execute_result"
    }
   ],
   "source": [
    "1.0"
   ]
  },
  {
   "cell_type": "code",
   "execution_count": 9,
   "id": "cb1af985-6e4a-47d4-9732-1c0a5b0fbeb4",
   "metadata": {},
   "outputs": [
    {
     "data": {
      "text/plain": [
       "-10.5"
      ]
     },
     "execution_count": 9,
     "metadata": {},
     "output_type": "execute_result"
    }
   ],
   "source": [
    "-10.5"
   ]
  },
  {
   "cell_type": "code",
   "execution_count": 11,
   "id": "29945ecb-d615-4b9c-8668-b2f0519e0e38",
   "metadata": {},
   "outputs": [
    {
     "data": {
      "text/plain": [
       "True"
      ]
     },
     "execution_count": 11,
     "metadata": {},
     "output_type": "execute_result"
    }
   ],
   "source": [
    "True"
   ]
  },
  {
   "cell_type": "code",
   "execution_count": 13,
   "id": "72b1bc5f-14ec-4013-bdb0-4009741ff2ad",
   "metadata": {},
   "outputs": [
    {
     "data": {
      "text/plain": [
       "False"
      ]
     },
     "execution_count": 13,
     "metadata": {},
     "output_type": "execute_result"
    }
   ],
   "source": [
    "False"
   ]
  },
  {
   "cell_type": "code",
   "execution_count": 15,
   "id": "3015704a-60b2-4d22-a68d-5849e093a3a0",
   "metadata": {},
   "outputs": [
    {
     "data": {
      "text/plain": [
       "0.1"
      ]
     },
     "execution_count": 15,
     "metadata": {},
     "output_type": "execute_result"
    }
   ],
   "source": [
    "0.1"
   ]
  },
  {
   "cell_type": "code",
   "execution_count": 17,
   "id": "64e67075-340a-41d7-abb9-34f23cf256d2",
   "metadata": {},
   "outputs": [
    {
     "data": {
      "text/plain": [
       "'0.1000000000000000055511151'"
      ]
     },
     "execution_count": 17,
     "metadata": {},
     "output_type": "execute_result"
    }
   ],
   "source": [
    "format(0.1, '.25f')"
   ]
  },
  {
   "cell_type": "code",
   "execution_count": 19,
   "id": "3c094753-aaeb-4bde-9487-08f377c5ccdd",
   "metadata": {},
   "outputs": [
    {
     "data": {
      "text/plain": [
       "'0.1250000000000000000000000'"
      ]
     },
     "execution_count": 19,
     "metadata": {},
     "output_type": "execute_result"
    }
   ],
   "source": [
    "format(.125, '.25f')"
   ]
  },
  {
   "cell_type": "code",
   "execution_count": 21,
   "id": "639eb0c6-9ef9-41a3-8629-c9c4918c337e",
   "metadata": {},
   "outputs": [
    {
     "data": {
      "text/plain": [
       "True"
      ]
     },
     "execution_count": 21,
     "metadata": {},
     "output_type": "execute_result"
    }
   ],
   "source": [
    "1+1+1==3"
   ]
  },
  {
   "cell_type": "code",
   "execution_count": 24,
   "id": "b780f151-4a2d-4d9f-a8f4-e4a2e6770301",
   "metadata": {},
   "outputs": [
    {
     "data": {
      "text/plain": [
       "True"
      ]
     },
     "execution_count": 24,
     "metadata": {},
     "output_type": "execute_result"
    }
   ],
   "source": [
    "0.125+0.125+0.125==0.375"
   ]
  },
  {
   "cell_type": "code",
   "execution_count": 26,
   "id": "e4c1196b-8672-453f-a7eb-f504c481f8dd",
   "metadata": {},
   "outputs": [
    {
     "data": {
      "text/plain": [
       "False"
      ]
     },
     "execution_count": 26,
     "metadata": {},
     "output_type": "execute_result"
    }
   ],
   "source": [
    "0.1+0.1+0.1==0.3"
   ]
  },
  {
   "cell_type": "code",
   "execution_count": 34,
   "id": "e5af192d-54ca-48ca-82d5-8d9f46779998",
   "metadata": {},
   "outputs": [
    {
     "data": {
      "text/plain": [
       "'0.3000000000000000444089210'"
      ]
     },
     "execution_count": 34,
     "metadata": {},
     "output_type": "execute_result"
    }
   ],
   "source": [
    "format(0.1+0.1+0.1, '.25f')"
   ]
  },
  {
   "cell_type": "markdown",
   "id": "f45488c6-7a27-4f0c-9590-63055a00a4a1",
   "metadata": {},
   "source": [
    "The `format()` function allows you to display floats in decimal places."
   ]
  },
  {
   "cell_type": "code",
   "execution_count": 35,
   "id": "707b9c1a-e504-4fa7-9d48-914aceca4c66",
   "metadata": {},
   "outputs": [
    {
     "data": {
      "text/plain": [
       "'0.2999999999999999888977698'"
      ]
     },
     "execution_count": 35,
     "metadata": {},
     "output_type": "execute_result"
    }
   ],
   "source": [
    "format(0.3, '.25f')"
   ]
  },
  {
   "cell_type": "code",
   "execution_count": 36,
   "id": "1305fef6-d896-4ba8-9136-9280dac09947",
   "metadata": {},
   "outputs": [
    {
     "data": {
      "text/plain": [
       "5.551115123125783e-17"
      ]
     },
     "execution_count": 36,
     "metadata": {},
     "output_type": "execute_result"
    }
   ],
   "source": [
    "abs((0.1+0.1+0.1)-0.3) "
   ]
  },
  {
   "cell_type": "code",
   "execution_count": 33,
   "id": "75a3a5c3-60b9-4dba-9f33-4a84f14d0c06",
   "metadata": {},
   "outputs": [
    {
     "data": {
      "text/plain": [
       "True"
      ]
     },
     "execution_count": 33,
     "metadata": {},
     "output_type": "execute_result"
    }
   ],
   "source": [
    "abs((0.1+0.1+0.1)-0.3) < 0.001"
   ]
  },
  {
   "cell_type": "markdown",
   "id": "2263f25b-3fb1-4025-89b4-91648193d736",
   "metadata": {},
   "source": [
    "The absolute function `abs` helps you compare float values that would not have been comparable using a conditional that is significant to your workflow."
   ]
  }
 ],
 "metadata": {
  "kernelspec": {
   "display_name": "Python 3 (ipykernel)",
   "language": "python",
   "name": "python3"
  },
  "language_info": {
   "codemirror_mode": {
    "name": "ipython",
    "version": 3
   },
   "file_extension": ".py",
   "mimetype": "text/x-python",
   "name": "python",
   "nbconvert_exporter": "python",
   "pygments_lexer": "ipython3",
   "version": "3.9.19"
  }
 },
 "nbformat": 4,
 "nbformat_minor": 5
}
