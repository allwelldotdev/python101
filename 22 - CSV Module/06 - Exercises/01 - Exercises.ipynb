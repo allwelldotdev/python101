{
 "cells": [
  {
   "cell_type": "markdown",
   "id": "sustainable-listening",
   "metadata": {},
   "source": [
    "### Exercises"
   ]
  },
  {
   "cell_type": "markdown",
   "id": "apparent-romance",
   "metadata": {},
   "source": [
    "#### Question 1"
   ]
  },
  {
   "cell_type": "markdown",
   "id": "engaged-audience",
   "metadata": {},
   "source": [
    "Alongside this note book, four CSV files are specified (one is in fact a TSV file)."
   ]
  },
  {
   "cell_type": "markdown",
   "id": "satisfactory-greensboro",
   "metadata": {},
   "source": [
    "For each file, load it using the CSV module, and find the smallest and largest numbers in the data."
   ]
  },
  {
   "cell_type": "markdown",
   "id": "electoral-pathology",
   "metadata": {},
   "source": [
    "All these files contain just lists of numbers - with the exception of a possible header row"
   ]
  },
  {
   "cell_type": "markdown",
   "id": "0281df44-b616-4034-abcc-269ae71bed54",
   "metadata": {},
   "source": [
    "##### Solution 1"
   ]
  },
  {
   "cell_type": "code",
   "execution_count": 1,
   "id": "5893be04-8850-432e-adf3-e0e1780e4e74",
   "metadata": {},
   "outputs": [],
   "source": [
    "file1 = 'file1.csv'\n",
    "file2 = 'file2.csv'\n",
    "file3 = 'file3.tsv'\n",
    "file4 = 'file4.csv'"
   ]
  },
  {
   "cell_type": "code",
   "execution_count": 5,
   "id": "45189c2e-8e5c-4070-8313-f126b07d1e06",
   "metadata": {},
   "outputs": [],
   "source": [
    "def open_file(file):\n",
    "    with open(file) as f:\n",
    "        for row in f.readlines():\n",
    "            print(row.strip())"
   ]
  },
  {
   "cell_type": "code",
   "execution_count": 10,
   "id": "ac60fa83-bbda-4318-a0ce-28892005de22",
   "metadata": {},
   "outputs": [],
   "source": [
    "def open_file_raw(file):\n",
    "    with open(file) as f:\n",
    "        print(f.readlines())"
   ]
  },
  {
   "cell_type": "code",
   "execution_count": 6,
   "id": "b18e63bf-55ac-4a0b-b9e4-8730f3f1df96",
   "metadata": {},
   "outputs": [
    {
     "name": "stdout",
     "output_type": "stream",
     "text": [
      "col1,col2,col3\n",
      "10,20,30\n",
      "30,40,50\n",
      "60,70,80\n"
     ]
    }
   ],
   "source": [
    "open_file(file1)"
   ]
  },
  {
   "cell_type": "code",
   "execution_count": 7,
   "id": "f0fb2a89-c851-4e81-bb19-4468d592b49a",
   "metadata": {},
   "outputs": [
    {
     "name": "stdout",
     "output_type": "stream",
     "text": [
      "1, 3.14, 500\n",
      "20, 1, -2\n",
      "-1.1, -2.2, -3.3\n"
     ]
    }
   ],
   "source": [
    "open_file(file2)"
   ]
  },
  {
   "cell_type": "code",
   "execution_count": 23,
   "id": "dc409b24-12cf-4e5b-817c-9da43efe0c41",
   "metadata": {},
   "outputs": [
    {
     "name": "stdout",
     "output_type": "stream",
     "text": [
      "['1, 3.14, 500\\n', '20, 1, -2\\n', '-1.1, -2.2, -3.3']\n"
     ]
    }
   ],
   "source": [
    "open_file_raw(file2)"
   ]
  },
  {
   "cell_type": "code",
   "execution_count": 15,
   "id": "dc71998e-8394-4a82-a736-308b094727c4",
   "metadata": {},
   "outputs": [
    {
     "name": "stdout",
     "output_type": "stream",
     "text": [
      "col1\tcol2\tcol3\n",
      "10\t20\t30\n",
      "40\t50\t60\n",
      "100\t200\t300\n"
     ]
    }
   ],
   "source": [
    "open_file(file3)"
   ]
  },
  {
   "cell_type": "code",
   "execution_count": 16,
   "id": "3819f1f7-8e6b-484d-9d08-ffc10020543d",
   "metadata": {},
   "outputs": [
    {
     "name": "stdout",
     "output_type": "stream",
     "text": [
      "['col1\\tcol2\\tcol3\\n', '10\\t20\\t30\\n', '40\\t50\\t60\\n', '100\\t200\\t300']\n"
     ]
    }
   ],
   "source": [
    "open_file_raw(file3)"
   ]
  },
  {
   "cell_type": "code",
   "execution_count": 9,
   "id": "a5b9007d-f8d5-486a-9d0d-43c798f017dc",
   "metadata": {},
   "outputs": [
    {
     "name": "stdout",
     "output_type": "stream",
     "text": [
      "-col1-|-col2-|-col3-\n",
      "10|20|30\n",
      "-3.14-|-25-|-100-\n",
      "---3.14-|20|-30-\n"
     ]
    }
   ],
   "source": [
    "open_file(file4)"
   ]
  },
  {
   "cell_type": "code",
   "execution_count": 17,
   "id": "a2b690aa-26cb-4f97-bccf-be30ea29918b",
   "metadata": {},
   "outputs": [
    {
     "name": "stdout",
     "output_type": "stream",
     "text": [
      "['-col1-|-col2-|-col3-\\n', '10|20|30\\n', '-3.14-|-25-|-100-\\n', '---3.14-|20|-30-']\n"
     ]
    }
   ],
   "source": [
    "open_file_raw(file4)"
   ]
  },
  {
   "cell_type": "code",
   "execution_count": 18,
   "id": "775fe99e-5ed7-4e9a-a919-b9bb77af1848",
   "metadata": {},
   "outputs": [],
   "source": [
    "import csv"
   ]
  },
  {
   "cell_type": "code",
   "execution_count": 20,
   "id": "10260fec-5856-4f87-9c96-8f9f4e2f1db4",
   "metadata": {},
   "outputs": [],
   "source": [
    "# single function to parse all files\n",
    "def parse_file(file, has_header_row=True, **kwargs):\n",
    "    with open(file) as f:\n",
    "        reader = csv.reader(f, **kwargs)\n",
    "        if has_header_row:\n",
    "            next(reader)\n",
    "        flattened = [num for row in reader for num in row]\n",
    "    return min_max(flattened)"
   ]
  },
  {
   "cell_type": "code",
   "execution_count": 21,
   "id": "05b68a23-3f77-4683-bbd8-cc7fda46568b",
   "metadata": {},
   "outputs": [],
   "source": [
    "# independent min_max function to decompose complexity\n",
    "def min_max(data):\n",
    "    con = []\n",
    "    for num in data:\n",
    "        # convert the numbers to integers or floats to calculate min_max appropriately\n",
    "        try:\n",
    "            con.append(int(num))\n",
    "        except ValueError:\n",
    "            con.append(float(num))     \n",
    "    return min(con), max(con)"
   ]
  },
  {
   "cell_type": "code",
   "execution_count": 22,
   "id": "3e82dc9f-1eb5-481b-a826-69449b66d4b1",
   "metadata": {},
   "outputs": [
    {
     "data": {
      "text/plain": [
       "(10, 80)"
      ]
     },
     "execution_count": 22,
     "metadata": {},
     "output_type": "execute_result"
    }
   ],
   "source": [
    "parse_file(file1)"
   ]
  },
  {
   "cell_type": "code",
   "execution_count": 25,
   "id": "d7d92515-8e5f-4965-a018-ce0b11f676d0",
   "metadata": {},
   "outputs": [
    {
     "data": {
      "text/plain": [
       "(-3.3, 500)"
      ]
     },
     "execution_count": 25,
     "metadata": {},
     "output_type": "execute_result"
    }
   ],
   "source": [
    "parse_file(file2, has_header_row=False)"
   ]
  },
  {
   "cell_type": "code",
   "execution_count": 26,
   "id": "1fff7748-fa32-4572-b102-ca298d3db88d",
   "metadata": {},
   "outputs": [
    {
     "data": {
      "text/plain": [
       "(10, 300)"
      ]
     },
     "execution_count": 26,
     "metadata": {},
     "output_type": "execute_result"
    }
   ],
   "source": [
    "parse_file(file3, delimiter='\\t')"
   ]
  },
  {
   "cell_type": "code",
   "execution_count": 27,
   "id": "16b91d9e-4da4-470b-bc0f-f357a04c650b",
   "metadata": {},
   "outputs": [
    {
     "data": {
      "text/plain": [
       "(-3.14, 100)"
      ]
     },
     "execution_count": 27,
     "metadata": {},
     "output_type": "execute_result"
    }
   ],
   "source": [
    "parse_file(file4, delimiter='|', quotechar='-')"
   ]
  },
  {
   "cell_type": "markdown",
   "id": "annoying-anime",
   "metadata": {},
   "source": [
    "#### Question 2"
   ]
  },
  {
   "cell_type": "markdown",
   "id": "wooden-hunter",
   "metadata": {},
   "source": [
    "Given this data structure consisting of a list of dictionaries, write a function that will write this data out to a file, where the column headers (in the first row) are based on the dictionary keys, and the values are flattened out to one row per dictionary (under the corresponding column header)."
   ]
  },
  {
   "cell_type": "markdown",
   "id": "minus-flower",
   "metadata": {},
   "source": [
    "Note that not all dictionaries contain all the same keys, nor are the keys necessarily in the same order when present."
   ]
  },
  {
   "cell_type": "markdown",
   "id": "adverse-sussex",
   "metadata": {},
   "source": [
    "For \"missing\" values, your function should just write an empty string."
   ]
  },
  {
   "cell_type": "markdown",
   "id": "pursuant-cheese",
   "metadata": {},
   "source": [
    "For example, given this `data`:"
   ]
  },
  {
   "cell_type": "code",
   "execution_count": 28,
   "id": "incorporate-marijuana",
   "metadata": {},
   "outputs": [],
   "source": [
    "data = [\n",
    "    {'a': '1_a', 'b': '1_b', 'c': '1_c'},\n",
    "    {'c': '2_c', 'd': '2_d'},\n",
    "    {'a': '3_a', 'c': '3_c', 'e': '3_e'}\n",
    "]"
   ]
  },
  {
   "cell_type": "raw",
   "id": "olive-alcohol",
   "metadata": {},
   "source": [
    "Your output file should look like this:"
   ]
  },
  {
   "cell_type": "markdown",
   "id": "immune-aside",
   "metadata": {},
   "source": [
    "```\n",
    "a,b,c,d,e\n",
    "1_a,1_b,1_c,,,\n",
    ",,2_c,2_d,\n",
    "3_a,,3_c,,3_e\n",
    "```"
   ]
  },
  {
   "cell_type": "markdown",
   "id": "atmospheric-engine",
   "metadata": {},
   "source": [
    "The order of the columns and rows is not important - as long as they match up with respective column headers."
   ]
  },
  {
   "cell_type": "markdown",
   "id": "ea158b73-c40d-4d07-bb4c-da4f38088fd2",
   "metadata": {},
   "source": [
    "##### Solution 2"
   ]
  },
  {
   "cell_type": "code",
   "execution_count": 51,
   "id": "0f978bfd-7ba2-4595-a19f-79cdd35995a5",
   "metadata": {},
   "outputs": [],
   "source": [
    "def transform_data(data):\n",
    "    # iterate through data list and dict and put the dict keys in a set to form the header\n",
    "    header_row = {alpha for row in data for alpha in row}\n",
    "    # create list of lists\n",
    "    new_data = [[row.get(alpha, '') for alpha in sorted(header_row)] for row in data]\n",
    "    new_data = [sorted(header_row), *new_data]\n",
    "    return new_data"
   ]
  },
  {
   "cell_type": "code",
   "execution_count": 52,
   "id": "5ed4e487-dbd1-478b-bc55-4f9de21552fa",
   "metadata": {},
   "outputs": [
    {
     "data": {
      "text/plain": [
       "[['a', 'b', 'c', 'd', 'e'],\n",
       " ['1_a', '1_b', '1_c', '', ''],\n",
       " ['', '', '2_c', '2_d', ''],\n",
       " ['3_a', '', '3_c', '', '3_e']]"
      ]
     },
     "execution_count": 52,
     "metadata": {},
     "output_type": "execute_result"
    }
   ],
   "source": [
    "transform_data(data)"
   ]
  },
  {
   "cell_type": "code",
   "execution_count": 53,
   "id": "9e4c1f6a-8fec-45c0-b76c-e725a97c63ca",
   "metadata": {},
   "outputs": [],
   "source": [
    "def write_csv(file, data):\n",
    "    # write file to disk\n",
    "    with open(file, 'w') as f:\n",
    "        writer = csv.writer(f)\n",
    "        for row in transform_data(data):\n",
    "            writer.writerow(row)\n",
    "    # read file from disk\n",
    "    with open(file) as f:\n",
    "        for row in f:\n",
    "            print(row.strip())"
   ]
  },
  {
   "cell_type": "code",
   "execution_count": 56,
   "id": "a94f41d4-b9e2-4644-86ea-44f34f1308b1",
   "metadata": {},
   "outputs": [],
   "source": [
    "assign_file = 'test.csv'"
   ]
  },
  {
   "cell_type": "code",
   "execution_count": 57,
   "id": "2e43b35f-0858-4be7-b3ed-73b92cd3c4d4",
   "metadata": {},
   "outputs": [
    {
     "name": "stdout",
     "output_type": "stream",
     "text": [
      "a,b,c,d,e\n",
      "1_a,1_b,1_c,,\n",
      ",,2_c,2_d,\n",
      "3_a,,3_c,,3_e\n"
     ]
    }
   ],
   "source": [
    "write_csv(assign_file, data)"
   ]
  }
 ],
 "metadata": {
  "kernelspec": {
   "display_name": "Python 3 (ipykernel)",
   "language": "python",
   "name": "python3"
  },
  "language_info": {
   "codemirror_mode": {
    "name": "ipython",
    "version": 3
   },
   "file_extension": ".py",
   "mimetype": "text/x-python",
   "name": "python",
   "nbconvert_exporter": "python",
   "pygments_lexer": "ipython3",
   "version": "3.9.19"
  }
 },
 "nbformat": 4,
 "nbformat_minor": 5
}
