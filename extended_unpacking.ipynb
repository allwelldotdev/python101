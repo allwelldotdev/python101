{
 "cells": [
  {
   "cell_type": "markdown",
   "id": "390446d9-a854-458a-9d09-328946775097",
   "metadata": {},
   "source": [
    "### Trying out Extended Unpacking"
   ]
  },
  {
   "cell_type": "code",
   "execution_count": 1,
   "id": "37fb1513-ee6d-4eae-8592-514d88347608",
   "metadata": {},
   "outputs": [],
   "source": [
    "l = [1, 2, 3, 4, 'python']"
   ]
  },
  {
   "cell_type": "code",
   "execution_count": 2,
   "id": "25281e80-6cd5-43aa-b2bd-98f6fd21af6a",
   "metadata": {},
   "outputs": [
    {
     "name": "stdout",
     "output_type": "stream",
     "text": [
      "1 [2, 3, 4] p y ['t', 'h', 'o', 'n']\n"
     ]
    }
   ],
   "source": [
    "a, *b, (c, d, *e) = l\n",
    "print(a, b, c, d, e)"
   ]
  },
  {
   "cell_type": "markdown",
   "id": "5e65bb14-1902-4c03-a399-424881adbdb7",
   "metadata": {},
   "source": [
    "**Unpacking** is a little bit more general than **slicing** because we don't need indexable collections."
   ]
  },
  {
   "cell_type": "code",
   "execution_count": 6,
   "id": "bff10f78-e537-4ecf-bf76-019a2a940e4e",
   "metadata": {},
   "outputs": [
    {
     "name": "stdout",
     "output_type": "stream",
     "text": [
      "1 [2, 3, 4] p y thon\n"
     ]
    }
   ],
   "source": [
    "a, b, c, d, e = l[0], l[1:-1], l[-1][0], l[-1][1], l[-1][2:]\n",
    "print(a, b, c, d, e)"
   ]
  },
  {
   "cell_type": "code",
   "execution_count": 7,
   "id": "e67c77ea-1334-4f10-b854-23c0f6fa96c2",
   "metadata": {},
   "outputs": [
    {
     "name": "stdout",
     "output_type": "stream",
     "text": [
      "1 [2, 3, 4] p y ['t', 'h', 'o', 'n']\n"
     ]
    }
   ],
   "source": [
    "a, b, c, d, (*e,) = l[0], l[1:-1], l[-1][0], l[-1][1], l[-1][2:]\n",
    "print(a, b, c, d, e)"
   ]
  },
  {
   "cell_type": "code",
   "execution_count": 8,
   "id": "e91b82aa-7bbd-44ae-a8ba-007944d9b969",
   "metadata": {},
   "outputs": [
    {
     "name": "stdout",
     "output_type": "stream",
     "text": [
      "t\n",
      "h\n",
      "o\n",
      "n\n"
     ]
    }
   ],
   "source": [
    "for el in e:\n",
    "    print(el)"
   ]
  },
  {
   "cell_type": "code",
   "execution_count": 3,
   "id": "55b6bf1e-d637-4954-bafe-459481477ec4",
   "metadata": {},
   "outputs": [
    {
     "name": "stdout",
     "output_type": "stream",
     "text": [
      "[1, 2, 3, 4] ['p', 'y', 't', 'h', 'o', 'n']\n"
     ]
    }
   ],
   "source": [
    "*x, (*z,) = l\n",
    "print(x, z)"
   ]
  },
  {
   "cell_type": "code",
   "execution_count": 10,
   "id": "552147ce-5fac-4b58-b2e7-3debf39a640b",
   "metadata": {},
   "outputs": [
    {
     "data": {
      "text/plain": [
       "(1, 2, 3, 4, 'p', 'y', 't', 'h', 'o', 'n')"
      ]
     },
     "execution_count": 10,
     "metadata": {},
     "output_type": "execute_result"
    }
   ],
   "source": [
    "y = *x, *z\n",
    "y"
   ]
  },
  {
   "cell_type": "code",
   "execution_count": 10,
   "id": "fe83853a-20fe-4b9c-9a02-19c3fcdbe7d5",
   "metadata": {},
   "outputs": [
    {
     "name": "stdout",
     "output_type": "stream",
     "text": [
      "[1, 2, 3, 4] ['p', 'y', 't', 'h', 'o', 'n']\n"
     ]
    }
   ],
   "source": [
    "*numbers, (*alpha,) = l\n",
    "print(numbers, alpha)"
   ]
  },
  {
   "cell_type": "code",
   "execution_count": 11,
   "id": "b2c33f4d-e6a8-4ef7-8063-0086495fbcec",
   "metadata": {},
   "outputs": [],
   "source": [
    "d1 = {'key1': 1, 'key2': 2, 'key3': 3}\n",
    "d2 = {'key3': 10, 'key4': 4, 'key5': 5}"
   ]
  },
  {
   "cell_type": "code",
   "execution_count": 12,
   "id": "b7c7fd9c-0adb-4f54-a72d-5e705d03587b",
   "metadata": {},
   "outputs": [
    {
     "data": {
      "text/plain": [
       "({'key1', 'key2', 'key3', 'key4', 'key5'},\n",
       " {'key1': 1, 'key2': 2, 'key3': 10, 'key4': 4, 'key5': 5})"
      ]
     },
     "execution_count": 12,
     "metadata": {},
     "output_type": "execute_result"
    }
   ],
   "source": [
    "{*d1, *d2}, {**d1, **d2}"
   ]
  },
  {
   "cell_type": "code",
   "execution_count": 13,
   "id": "eb68c04a-547e-42ff-88a4-9120c9a1e1f7",
   "metadata": {},
   "outputs": [
    {
     "name": "stdout",
     "output_type": "stream",
     "text": [
      "[1, 2, 3]\n"
     ]
    }
   ],
   "source": [
    "*v, = d1.values()\n",
    "print(v)"
   ]
  },
  {
   "cell_type": "code",
   "execution_count": 14,
   "id": "e6f861d2-e6a3-458b-b351-e7de26af55eb",
   "metadata": {},
   "outputs": [
    {
     "name": "stdout",
     "output_type": "stream",
     "text": [
      "[1, 2, 3] [10, 4, 5]\n"
     ]
    }
   ],
   "source": [
    "(*x,), (*y,) = d1.values(), d2.values()\n",
    "print(x, y)"
   ]
  },
  {
   "cell_type": "code",
   "execution_count": 15,
   "id": "c13dc524-fb45-4f3e-97b1-f704b4080a17",
   "metadata": {},
   "outputs": [
    {
     "name": "stdout",
     "output_type": "stream",
     "text": [
      "{1, 2, 3, 4, 5} {5, 6, 7, 8, 9, 10} {10, 11, 12, 13, 14, 15}\n"
     ]
    }
   ],
   "source": [
    "s1 = set(range(1,6))\n",
    "s2 = set(range(5,11))\n",
    "s3 = set(range(10,16))\n",
    "\n",
    "print(s1, s2, s3)"
   ]
  },
  {
   "cell_type": "markdown",
   "id": "82049d03-44ed-4245-8103-c6db8d4b3040",
   "metadata": {},
   "source": [
    "#### Added a bit of Boolean Operators, Precedence and Short-circuiting"
   ]
  },
  {
   "cell_type": "code",
   "execution_count": 17,
   "id": "2a523b7e-4780-473d-bd17-6b8d3236835a",
   "metadata": {},
   "outputs": [
    {
     "data": {
      "text/plain": [
       "{1, 2, 3, 4, 5, 10}"
      ]
     },
     "execution_count": 17,
     "metadata": {},
     "output_type": "execute_result"
    }
   ],
   "source": [
    "s1 & s2 & s3 or s1 | s2 & s3"
   ]
  }
 ],
 "metadata": {
  "kernelspec": {
   "display_name": "Python 3 (ipykernel)",
   "language": "python",
   "name": "python3"
  },
  "language_info": {
   "codemirror_mode": {
    "name": "ipython",
    "version": 3
   },
   "file_extension": ".py",
   "mimetype": "text/x-python",
   "name": "python",
   "nbconvert_exporter": "python",
   "pygments_lexer": "ipython3",
   "version": "3.9.19"
  }
 },
 "nbformat": 4,
 "nbformat_minor": 5
}
