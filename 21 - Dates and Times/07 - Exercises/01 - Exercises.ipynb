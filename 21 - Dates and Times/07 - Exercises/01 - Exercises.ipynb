{
 "cells": [
  {
   "cell_type": "markdown",
   "id": "anonymous-accounting",
   "metadata": {},
   "source": [
    "### Exercises"
   ]
  },
  {
   "cell_type": "markdown",
   "id": "nominated-african",
   "metadata": {},
   "source": [
    "#### Question 1"
   ]
  },
  {
   "cell_type": "markdown",
   "id": "hungry-vietnam",
   "metadata": {},
   "source": [
    "Write a function that, given an epoch timestamp, returns a `datetime` object set to the beginning of that month (so midnight of the first day of the month)."
   ]
  },
  {
   "cell_type": "markdown",
   "id": "false-fountain",
   "metadata": {},
   "source": [
    "For example, given the epoch time `12345678.9`, your function should return:\n",
    "```\n",
    "datetime.datetime(1970, 5, 1, 0, 0)\n",
    "```"
   ]
  },
  {
   "cell_type": "markdown",
   "id": "47887cb4-a37f-44d1-a3ec-d7dce9a62120",
   "metadata": {},
   "source": [
    "##### Solution 1"
   ]
  },
  {
   "cell_type": "code",
   "execution_count": 185,
   "id": "5eb6089d-52d1-43d6-a273-da9c1dbd4028",
   "metadata": {},
   "outputs": [],
   "source": [
    "from time import gmtime, strftime\n",
    "from datetime import datetime, timedelta"
   ]
  },
  {
   "cell_type": "code",
   "execution_count": 2,
   "id": "2212a60e-4944-4e54-ad68-e2bae5848a6a",
   "metadata": {},
   "outputs": [],
   "source": [
    "e = 12345678.9"
   ]
  },
  {
   "cell_type": "code",
   "execution_count": 3,
   "id": "e83e1079-66d5-42b6-b741-cd0f523fd910",
   "metadata": {},
   "outputs": [
    {
     "data": {
      "text/plain": [
       "time.struct_time(tm_year=1970, tm_mon=5, tm_mday=23, tm_hour=21, tm_min=21, tm_sec=18, tm_wday=5, tm_yday=143, tm_isdst=0)"
      ]
     },
     "execution_count": 3,
     "metadata": {},
     "output_type": "execute_result"
    }
   ],
   "source": [
    "gmtime(e)"
   ]
  },
  {
   "cell_type": "markdown",
   "id": "400ee257-020c-4653-ba58-cf401dffba16",
   "metadata": {},
   "source": [
    "ISO Format: `YYYY-MM-DDTHH:MM:SS` --> `1970-05-23T21:21:18`"
   ]
  },
  {
   "cell_type": "code",
   "execution_count": 11,
   "id": "93e79780-0da7-4de9-9a31-3f7c92c2159e",
   "metadata": {},
   "outputs": [
    {
     "data": {
      "text/plain": [
       "datetime.datetime(1970, 5, 23, 21, 21, 18)"
      ]
     },
     "execution_count": 11,
     "metadata": {},
     "output_type": "execute_result"
    }
   ],
   "source": [
    "dt = strftime(\"%Y-%m-%dT%H:%M:%S\", gmtime(e))\n",
    "datetime.fromisoformat(dt)"
   ]
  },
  {
   "cell_type": "code",
   "execution_count": 32,
   "id": "259296f8-7073-4903-ad13-0654bb4fc346",
   "metadata": {},
   "outputs": [
    {
     "data": {
      "text/plain": [
       "datetime.datetime(1970, 5, 1, 0, 0)"
      ]
     },
     "execution_count": 32,
     "metadata": {},
     "output_type": "execute_result"
    }
   ],
   "source": [
    "def beginning_of_month(epoch_time):\n",
    "    dt = strftime(\"%Y-%m-%dT%H:%M:%S\", gmtime(epoch_time))\n",
    "    dt = datetime.fromisoformat(dt)\n",
    "    #return dt.replace(day=1, hour=0, minute=0, second=0)\n",
    "    # alternatively ...\n",
    "    return datetime(year=dt.year, month=dt.month, day=1)\n",
    "\n",
    "beginning_of_month(e)"
   ]
  },
  {
   "cell_type": "markdown",
   "id": "photographic-willow",
   "metadata": {},
   "source": [
    "#### Question 2"
   ]
  },
  {
   "cell_type": "markdown",
   "id": "mexican-cooperative",
   "metadata": {},
   "source": [
    "Write a function that returns the difference in hours between two dates provided as Python standard ISO formatted strings, rounded to the nearest hour. For simplicity, assume that these dates do not contain fractional seconds."
   ]
  },
  {
   "cell_type": "markdown",
   "id": "underlying-concord",
   "metadata": {},
   "source": [
    "For example, given these two dates:\n",
    "```\n",
    "2001-01-01T13:50:23\n",
    "```\n",
    "\n",
    "and \n",
    "```\n",
    "2001-06-12T14:23:50\n",
    "```\n",
    "\n",
    "your result should be `3889` hours."
   ]
  },
  {
   "cell_type": "markdown",
   "id": "0edc3dac-ec80-4e25-8013-796eba03bfa3",
   "metadata": {},
   "source": [
    "##### Solution 2"
   ]
  },
  {
   "cell_type": "code",
   "execution_count": 161,
   "id": "ea9812d0-63cc-4603-beff-2f857aabf1b0",
   "metadata": {},
   "outputs": [],
   "source": [
    "dt1 = '2001-01-01T13:50:23'\n",
    "dt2 = '2001-06-12T14:23:50'"
   ]
  },
  {
   "cell_type": "code",
   "execution_count": 162,
   "id": "fde6a571-36e6-4e80-8959-06eb5976e9b6",
   "metadata": {},
   "outputs": [],
   "source": [
    "def get_hours(dt1, dt2):\n",
    "    dt1 = datetime.fromisoformat(dt1)\n",
    "    dt2 = datetime.fromisoformat(dt2)\n",
    "    \n",
    "    hours = round((dt2 - dt1).total_seconds() / 60 / 60)\n",
    "    return f\"{hours} {'hours' if hours > 1 else 'hour'}\""
   ]
  },
  {
   "cell_type": "code",
   "execution_count": 165,
   "id": "d009b627-07d7-488a-bc60-3c94b0b4cbc0",
   "metadata": {},
   "outputs": [
    {
     "data": {
      "text/plain": [
       "'3889 hours'"
      ]
     },
     "execution_count": 165,
     "metadata": {},
     "output_type": "execute_result"
    }
   ],
   "source": [
    "get_hours(dt1, dt2)"
   ]
  },
  {
   "cell_type": "code",
   "execution_count": 164,
   "id": "d9e53410-54e4-41e2-bdd2-cb33a37d886d",
   "metadata": {},
   "outputs": [
    {
     "data": {
      "text/plain": [
       "'1 hour'"
      ]
     },
     "execution_count": 164,
     "metadata": {},
     "output_type": "execute_result"
    }
   ],
   "source": [
    "dt3 = '2001-01-01T10:00:00'\n",
    "dt4 = '2001-01-01T11:15:00'\n",
    "\n",
    "get_hours(dt3, dt4)"
   ]
  },
  {
   "cell_type": "markdown",
   "id": "promising-demand",
   "metadata": {},
   "source": [
    "### Question 3"
   ]
  },
  {
   "cell_type": "markdown",
   "id": "fewer-reception",
   "metadata": {},
   "source": [
    "Write a function that can be used to consistently format `datetime` objects into strings with some default format, but allows the caller to override the default format."
   ]
  },
  {
   "cell_type": "markdown",
   "id": "conditional-mason",
   "metadata": {},
   "source": [
    "For example, the default format could be `mm/dd/yyyy hh:mm:ss am/pm`, but your function allows itself to be called with some argument that can override that format."
   ]
  },
  {
   "cell_type": "markdown",
   "id": "29e890d2-4565-467d-8cb0-89ed717d7864",
   "metadata": {},
   "source": [
    "##### Solution 3"
   ]
  },
  {
   "cell_type": "code",
   "execution_count": 133,
   "id": "cccbbc08-4ae0-4733-a91b-4d6af217db29",
   "metadata": {},
   "outputs": [
    {
     "data": {
      "text/plain": [
       "True"
      ]
     },
     "execution_count": 133,
     "metadata": {},
     "output_type": "execute_result"
    }
   ],
   "source": [
    "isinstance(e, int) or isinstance(e, float)"
   ]
  },
  {
   "cell_type": "code",
   "execution_count": 134,
   "id": "b8056f25-a73a-4496-99e3-e747a80e3a05",
   "metadata": {},
   "outputs": [
    {
     "data": {
      "text/plain": [
       "True"
      ]
     },
     "execution_count": 134,
     "metadata": {},
     "output_type": "execute_result"
    }
   ],
   "source": [
    "isinstance(beginning_of_month(e), datetime)"
   ]
  },
  {
   "cell_type": "code",
   "execution_count": 234,
   "id": "89573be2-c5b1-4dfe-919f-9a3e3691a270",
   "metadata": {},
   "outputs": [],
   "source": [
    "def strfdatetime(time, is_default_format=True):\n",
    "    \"\"\"function can handle epoch times or datetime objects.\n",
    "function throws ValueError exception if `time` param is not epoch time or datetime object.\"\"\"\n",
    "    \n",
    "    from time import strftime, gmtime\n",
    "    from datetime import datetime\n",
    "    \n",
    "    # check if `time` is an epoch time, then convert to datetime object, else raise exception\n",
    "    if isinstance(time, int) or isinstance(time, float):\n",
    "        dt = strftime(\"%Y-%m-%dT%H:%M:%S\", gmtime(time))\n",
    "        dt = datetime.fromisoformat(dt)\n",
    "    elif isinstance(time, datetime):\n",
    "        dt = time\n",
    "    else:\n",
    "        raise ValueError('time must be epoch time or datetime object')\n",
    "\n",
    "    #check if is_default==True, then return format\n",
    "    if is_default_format:\n",
    "        return dt.strftime('%m/%d/%Y %I:%M:%S %p')\n",
    "    else:\n",
    "        return dt.isoformat()"
   ]
  },
  {
   "cell_type": "code",
   "execution_count": 224,
   "id": "08d86a82-bf50-40e7-b2a1-2c6c1109a8a8",
   "metadata": {},
   "outputs": [
    {
     "name": "stdout",
     "output_type": "stream",
     "text": [
      "function can handle epoch times or datetime objects.\n",
      "function throws ValueError exception if `time` param is not epoch time or datetime object.\n"
     ]
    }
   ],
   "source": [
    "print(strfdatetime.__doc__)"
   ]
  },
  {
   "cell_type": "code",
   "execution_count": 235,
   "id": "bd0cd12c-00ab-4e2b-b145-1852a063162d",
   "metadata": {},
   "outputs": [
    {
     "data": {
      "text/plain": [
       "('05/23/1970 09:21:18 PM', '1970-05-23T21:21:18')"
      ]
     },
     "execution_count": 235,
     "metadata": {},
     "output_type": "execute_result"
    }
   ],
   "source": [
    "strfdatetime(e), strfdatetime(e, False)"
   ]
  },
  {
   "cell_type": "code",
   "execution_count": 236,
   "id": "4845960f-3acc-4864-9697-e2cc0e2df28a",
   "metadata": {},
   "outputs": [
    {
     "data": {
      "text/plain": [
       "('02/03/2025 02:33:50 PM', '2025-02-03T14:33:50')"
      ]
     },
     "execution_count": 236,
     "metadata": {},
     "output_type": "execute_result"
    }
   ],
   "source": [
    "dt5 = datetime.fromisoformat('2025-02-03T14:33:50')\n",
    "strfdatetime(dt5), strfdatetime(dt5, is_default_format=False)"
   ]
  },
  {
   "cell_type": "code",
   "execution_count": 206,
   "id": "e02e3a41-9ed7-438d-9a10-a9aba72299c7",
   "metadata": {},
   "outputs": [
    {
     "data": {
      "text/plain": [
       "'02/04/2025 09:36:06 AM'"
      ]
     },
     "execution_count": 206,
     "metadata": {},
     "output_type": "execute_result"
    }
   ],
   "source": [
    "strfdatetime(datetime.utcnow())"
   ]
  },
  {
   "cell_type": "code",
   "execution_count": 207,
   "id": "b472f556-d1c0-47f4-8353-457258969d28",
   "metadata": {},
   "outputs": [
    {
     "data": {
      "text/plain": [
       "'02/04/2025 09:36:07 AM'"
      ]
     },
     "execution_count": 207,
     "metadata": {},
     "output_type": "execute_result"
    }
   ],
   "source": [
    "import time\n",
    "strfdatetime(time.time())"
   ]
  },
  {
   "cell_type": "code",
   "execution_count": 211,
   "id": "d34651f8-8219-4a89-a9df-3ecf28db8db1",
   "metadata": {},
   "outputs": [
    {
     "data": {
      "text/plain": [
       "'02/04/2025 10:47:06 AM'"
      ]
     },
     "execution_count": 211,
     "metadata": {},
     "output_type": "execute_result"
    }
   ],
   "source": [
    "strfdatetime(datetime.fromtimestamp(time.time())) # notice how <datetime_obj>.fromtimestamp() converts an epoch time to a datetime object"
   ]
  },
  {
   "cell_type": "code",
   "execution_count": 208,
   "id": "1a7ce36c-73e0-49a2-9c08-6bbf9005e72d",
   "metadata": {},
   "outputs": [
    {
     "ename": "ValueError",
     "evalue": "time must be epoch time or datetime object",
     "output_type": "error",
     "traceback": [
      "\u001b[0;31m---------------------------------------------------------------------------\u001b[0m",
      "\u001b[0;31mValueError\u001b[0m                                Traceback (most recent call last)",
      "Cell \u001b[0;32mIn[208], line 1\u001b[0m\n\u001b[0;32m----> 1\u001b[0m \u001b[43mstrfdatetime\u001b[49m\u001b[43m(\u001b[49m\u001b[38;5;124;43m'\u001b[39;49m\u001b[38;5;124;43mtime\u001b[39;49m\u001b[38;5;124;43m'\u001b[39;49m\u001b[43m)\u001b[49m\n",
      "Cell \u001b[0;32mIn[203], line 12\u001b[0m, in \u001b[0;36mstrfdatetime\u001b[0;34m(time, is_default)\u001b[0m\n\u001b[1;32m     10\u001b[0m     dt \u001b[38;5;241m=\u001b[39m time\n\u001b[1;32m     11\u001b[0m \u001b[38;5;28;01melse\u001b[39;00m:\n\u001b[0;32m---> 12\u001b[0m     \u001b[38;5;28;01mraise\u001b[39;00m \u001b[38;5;167;01mValueError\u001b[39;00m(\u001b[38;5;124m'\u001b[39m\u001b[38;5;124mtime must be epoch time or datetime object\u001b[39m\u001b[38;5;124m'\u001b[39m)\n\u001b[1;32m     14\u001b[0m \u001b[38;5;66;03m#check if is_default==True, then return format\u001b[39;00m\n\u001b[1;32m     15\u001b[0m \u001b[38;5;28;01mif\u001b[39;00m is_default:\n",
      "\u001b[0;31mValueError\u001b[0m: time must be epoch time or datetime object"
     ]
    }
   ],
   "source": [
    "strfdatetime('time')"
   ]
  }
 ],
 "metadata": {
  "kernelspec": {
   "display_name": "Python 3 (ipykernel)",
   "language": "python",
   "name": "python3"
  },
  "language_info": {
   "codemirror_mode": {
    "name": "ipython",
    "version": 3
   },
   "file_extension": ".py",
   "mimetype": "text/x-python",
   "name": "python",
   "nbconvert_exporter": "python",
   "pygments_lexer": "ipython3",
   "version": "3.9.19"
  }
 },
 "nbformat": 4,
 "nbformat_minor": 5
}
