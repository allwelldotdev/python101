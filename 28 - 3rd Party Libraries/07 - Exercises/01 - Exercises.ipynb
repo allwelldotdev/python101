{
 "cells": [
  {
   "cell_type": "markdown",
   "id": "urban-territory",
   "metadata": {},
   "source": [
    "### Solutions"
   ]
  },
  {
   "cell_type": "markdown",
   "id": "computational-fitness",
   "metadata": {},
   "source": [
    "#### Question 1"
   ]
  },
  {
   "cell_type": "markdown",
   "id": "coral-lending",
   "metadata": {},
   "source": [
    "Use the `pytz` and `dateutil` libraries to convert this string into a UTC naive `datetime` object."
   ]
  },
  {
   "cell_type": "code",
   "execution_count": 2,
   "id": "formal-ability",
   "metadata": {},
   "outputs": [],
   "source": [
    "t = \"Feb 8, 2021 5:30pm (Denver Time)\""
   ]
  },
  {
   "cell_type": "markdown",
   "id": "a5eae68d-b0fe-4ba9-a83c-3231b2f5fa62",
   "metadata": {},
   "source": [
    "##### Solution 1"
   ]
  },
  {
   "cell_type": "code",
   "execution_count": 7,
   "id": "0f15e613-ea7c-44e4-a9a5-85354dee0b5c",
   "metadata": {},
   "outputs": [],
   "source": [
    "import pytz\n",
    "from dateutil.parser import parse"
   ]
  },
  {
   "cell_type": "code",
   "execution_count": 4,
   "id": "b85472a7-80ad-4b81-9bdd-7a358a88baeb",
   "metadata": {},
   "outputs": [
    {
     "name": "stdout",
     "output_type": "stream",
     "text": [
      "2021-02-08 17:30:00\n",
      "2021-02-08 17:30:00-07:00\n",
      "2021-02-09 00:30:00+00:00\n",
      "2021-02-09 00:30:00\n"
     ]
    }
   ],
   "source": [
    "tz_denver = pytz.timezone('America/Denver')\n",
    "\n",
    "denver_dt = parse(t, fuzzy_with_tokens=True)[0]\n",
    "denver_aware = tz_denver.localize(denver_dt)\n",
    "denver_aware_utc = denver_aware.astimezone(pytz.UTC)\n",
    "denver_utc_naive = denver_aware_utc.replace(tzinfo=None)\n",
    "\n",
    "print(denver_dt)\n",
    "print(denver_aware)\n",
    "print(denver_aware_utc)\n",
    "print(denver_utc_naive) # final answer"
   ]
  },
  {
   "cell_type": "markdown",
   "id": "amended-illustration",
   "metadata": {},
   "source": [
    "#### Question 2"
   ]
  },
  {
   "cell_type": "markdown",
   "id": "massive-input",
   "metadata": {},
   "source": [
    "Use the `requests` library to load the following html page:"
   ]
  },
  {
   "cell_type": "code",
   "execution_count": 8,
   "id": "understanding-softball",
   "metadata": {},
   "outputs": [],
   "source": [
    "url = 'https://en.wikipedia.org/wiki/John_von_Neumann'"
   ]
  },
  {
   "cell_type": "markdown",
   "id": "systematic-shock",
   "metadata": {},
   "source": [
    "Once you have loaded that page, extract the title of that page, which is the text located between the `<title>` and `</title>` tags (often referred to as opening and closing tags, or start and end tags, respectively)."
   ]
  },
  {
   "cell_type": "markdown",
   "id": "equivalent-divide",
   "metadata": {},
   "source": [
    "Hint: You'll want to read the Python docs for the `find` method available for strings:\n",
    "\n",
    "https://docs.python.org/3/library/stdtypes.html?highlight=string#str.find"
   ]
  },
  {
   "cell_type": "markdown",
   "id": "fdaa9811-afb5-4778-adb4-f05df753d9ec",
   "metadata": {},
   "source": [
    "##### Solution 2"
   ]
  },
  {
   "cell_type": "code",
   "execution_count": 9,
   "id": "1d998ba5-4005-429f-8d32-c5da13439b16",
   "metadata": {},
   "outputs": [],
   "source": [
    "import requests as req"
   ]
  },
  {
   "cell_type": "code",
   "execution_count": 10,
   "id": "04147169-c4d6-4146-973a-e02bc4f022c6",
   "metadata": {},
   "outputs": [
    {
     "name": "stdout",
     "output_type": "stream",
     "text": [
      "200 OK\n"
     ]
    }
   ],
   "source": [
    "res = req.get(url)\n",
    "print(res.status_code, res.reason)"
   ]
  },
  {
   "cell_type": "code",
   "execution_count": 11,
   "id": "5d62a319-7926-47bc-af47-6ba1f3b94257",
   "metadata": {},
   "outputs": [
    {
     "name": "stdout",
     "output_type": "stream",
     "text": [
      "<title>John von Neumann - Wikipedia</title>\n"
     ]
    }
   ],
   "source": [
    "text = res.text\n",
    "#text.find('</title>')\n",
    "print(text[text.find('<title>'):text.find('</title>') + len('</title>')])"
   ]
  },
  {
   "cell_type": "markdown",
   "id": "declared-appreciation",
   "metadata": {},
   "source": [
    "#### Question 3"
   ]
  },
  {
   "cell_type": "markdown",
   "id": "fifth-strength",
   "metadata": {},
   "source": [
    "Use a `GET` request to this URL:"
   ]
  },
  {
   "cell_type": "code",
   "execution_count": 12,
   "id": "coordinated-lounge",
   "metadata": {},
   "outputs": [],
   "source": [
    "url = 'https://httpbin.org/json'"
   ]
  },
  {
   "cell_type": "markdown",
   "id": "gross-vatican",
   "metadata": {},
   "source": [
    "Use the response from that request to:\n",
    "- determine the response format\n",
    "- extract the response into a Python object"
   ]
  },
  {
   "cell_type": "markdown",
   "id": "4368577d-5b8e-4baf-947a-4f633aed8a9a",
   "metadata": {},
   "source": [
    "##### Solution 3"
   ]
  },
  {
   "cell_type": "code",
   "execution_count": 13,
   "id": "9167f06e-6fda-48bc-a98f-5d36de468027",
   "metadata": {},
   "outputs": [],
   "source": [
    "def det_ext_res(url):\n",
    "    res = req.get(url)\n",
    "    res_format = str(res.headers['content-type'])\n",
    "    if 'json' in res_format:\n",
    "        return res.json()\n",
    "    return 'Response Not Found'"
   ]
  },
  {
   "cell_type": "code",
   "execution_count": 14,
   "id": "935d2a60-d472-419d-afcf-bc532271ee25",
   "metadata": {},
   "outputs": [
    {
     "data": {
      "text/plain": [
       "{'slideshow': {'author': 'Yours Truly',\n",
       "  'date': 'date of publication',\n",
       "  'slides': [{'title': 'Wake up to WonderWidgets!', 'type': 'all'},\n",
       "   {'items': ['Why <em>WonderWidgets</em> are great',\n",
       "     'Who <em>buys</em> WonderWidgets'],\n",
       "    'title': 'Overview',\n",
       "    'type': 'all'}],\n",
       "  'title': 'Sample Slide Show'}}"
      ]
     },
     "execution_count": 14,
     "metadata": {},
     "output_type": "execute_result"
    }
   ],
   "source": [
    "det_ext_res(url)"
   ]
  },
  {
   "cell_type": "markdown",
   "id": "molecular-click",
   "metadata": {},
   "source": [
    "#### Question 4"
   ]
  },
  {
   "cell_type": "markdown",
   "id": "transsexual-simple",
   "metadata": {},
   "source": [
    "Use a `POST` request to call this url:"
   ]
  },
  {
   "cell_type": "code",
   "execution_count": 15,
   "id": "funky-mistress",
   "metadata": {},
   "outputs": [],
   "source": [
    "url = 'https://httpbin.org/anything'"
   ]
  },
  {
   "cell_type": "markdown",
   "id": "diverse-alpha",
   "metadata": {},
   "source": [
    "Make this call passing the following query parameters: `a=1` and `b=2`"
   ]
  },
  {
   "cell_type": "markdown",
   "id": "early-reminder",
   "metadata": {},
   "source": [
    "Also, pass this dictionary as the body of the post request:"
   ]
  },
  {
   "cell_type": "code",
   "execution_count": 16,
   "id": "excessive-mouth",
   "metadata": {},
   "outputs": [],
   "source": [
    "data = {\n",
    "    'x': 100,\n",
    "    'y': 200,\n",
    "    'z': ['a', 'b', 'c']\n",
    "}"
   ]
  },
  {
   "cell_type": "markdown",
   "id": "announced-discharge",
   "metadata": {},
   "source": [
    "Load the returned JSON into a Python object and print it out."
   ]
  },
  {
   "cell_type": "markdown",
   "id": "48449d3d-20c6-48fa-b0ef-e750d609a733",
   "metadata": {},
   "source": [
    "##### Solution 4"
   ]
  },
  {
   "cell_type": "code",
   "execution_count": 17,
   "id": "2f2e57e4-e0ba-402f-aa90-ea84c23d7a1b",
   "metadata": {},
   "outputs": [],
   "source": [
    "def post_httpbin(url, params, **kwargs):\n",
    "    params = {**params, **kwargs}\n",
    "    res = req.post(url=url, params=params)\n",
    "    if res.status_code == 200:\n",
    "        return res.json()\n",
    "    return 'Not Executed'"
   ]
  },
  {
   "cell_type": "code",
   "execution_count": 18,
   "id": "afd3816f-47c5-4f97-92d6-f9fa0afc2f5f",
   "metadata": {},
   "outputs": [
    {
     "data": {
      "text/plain": [
       "{'args': {'a': '1', 'b': '2', 'x': '100', 'y': '200', 'z': ['a', 'b', 'c']},\n",
       " 'data': '',\n",
       " 'files': {},\n",
       " 'form': {},\n",
       " 'headers': {'Accept': '*/*',\n",
       "  'Accept-Encoding': 'gzip, deflate',\n",
       "  'Content-Length': '0',\n",
       "  'Host': 'httpbin.org',\n",
       "  'User-Agent': 'python-requests/2.32.3',\n",
       "  'X-Amzn-Trace-Id': 'Root=1-67b66578-2cd2f32d544b661331544741'},\n",
       " 'json': None,\n",
       " 'method': 'POST',\n",
       " 'origin': '105.113.98.184',\n",
       " 'url': 'https://httpbin.org/anything?x=100&y=200&z=a&z=b&z=c&a=1&b=2'}"
      ]
     },
     "execution_count": 18,
     "metadata": {},
     "output_type": "execute_result"
    }
   ],
   "source": [
    "post_httpbin(url, data, a=1, b=2)"
   ]
  }
 ],
 "metadata": {
  "kernelspec": {
   "display_name": "Python 3 (ipykernel)",
   "language": "python",
   "name": "python3"
  },
  "language_info": {
   "codemirror_mode": {
    "name": "ipython",
    "version": 3
   },
   "file_extension": ".py",
   "mimetype": "text/x-python",
   "name": "python",
   "nbconvert_exporter": "python",
   "pygments_lexer": "ipython3",
   "version": "3.9.19"
  }
 },
 "nbformat": 4,
 "nbformat_minor": 5
}
