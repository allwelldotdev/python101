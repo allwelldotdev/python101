{
 "cells": [
  {
   "cell_type": "markdown",
   "id": "7ce5ca74",
   "metadata": {},
   "source": [
    "### Exam 2"
   ]
  },
  {
   "cell_type": "markdown",
   "id": "0152c00b",
   "metadata": {},
   "source": [
    "#### Q1"
   ]
  },
  {
   "cell_type": "markdown",
   "id": "9f121e0b",
   "metadata": {},
   "source": [
    "We are creating a list of `(x, y)` coordinate pairs (represented as tuples), based on calculating the `math.sin` function of a given sequence of `x` values. (You can assume that the `math` module has been imported)"
   ]
  },
  {
   "cell_type": "markdown",
   "id": "a37c2965",
   "metadata": {},
   "source": [
    "For example, given:"
   ]
  },
  {
   "cell_type": "code",
   "execution_count": 1,
   "id": "230006d6",
   "metadata": {},
   "outputs": [],
   "source": [
    "x = [1, 2, 3, 4, 5, 6]"
   ]
  },
  {
   "cell_type": "markdown",
   "id": "a2ec1dac",
   "metadata": {},
   "source": [
    "The return value of calling the function `gen_coords(math.sin, x)` should return:\n",
    "\n",
    "```\n",
    "[(1, 0.8414709848078965),\n",
    " (2, 0.9092974268256817),\n",
    " (3, 0.1411200080598672),\n",
    " (4, -0.7568024953079282),\n",
    " (5, -0.9589242746631385),\n",
    " (6, -0.27941549819892586)]\n",
    "```"
   ]
  },
  {
   "cell_type": "markdown",
   "id": "8846e5b6",
   "metadata": {},
   "source": [
    "Which of the following functions will work correctly?\n",
    "\n",
    "I.\n",
    "```\n",
    "def gen_coords(fn, x):\n",
    "    return list(zip(x, map(fn, x)))\n",
    "```\n",
    "\n",
    "II.\n",
    "```\n",
    "def gen_coords(fn, x):\n",
    "    return [(v, fn(v)) for v in x]\n",
    "```\n",
    "\n",
    "III.\n",
    "```\n",
    "def gen_coords(fn, x):\n",
    "    return [(v, map(fn, v)) for v in x]\n",
    "```\n",
    "\n",
    "- a. I only\n",
    "- b. I and II only\n",
    "- c. I and III only\n",
    "- d. all of them\n"
   ]
  },
  {
   "cell_type": "markdown",
   "id": "0bad878f-25a6-4547-ab44-f3b0d8eb65f5",
   "metadata": {},
   "source": [
    "##### A1"
   ]
  },
  {
   "cell_type": "markdown",
   "id": "a9246d45-3245-4482-94c3-d8f0a7f4efb1",
   "metadata": {},
   "source": [
    "Answer is `d`"
   ]
  },
  {
   "cell_type": "markdown",
   "id": "3f9be4fc-2502-4afe-b581-10e48cd86ff9",
   "metadata": {},
   "source": [
    "**WRONG!** Correct answer is `b`"
   ]
  },
  {
   "cell_type": "markdown",
   "id": "e17ae527",
   "metadata": {},
   "source": [
    "#### Q2"
   ]
  },
  {
   "cell_type": "markdown",
   "id": "9ea6e66c",
   "metadata": {},
   "source": [
    "The following collection of dictionaries has to be filtered to only include the elements with a `symbol` field equal to`ABC`, and ordered by the difference between high and low in descending order."
   ]
  },
  {
   "cell_type": "code",
   "execution_count": 2,
   "id": "a1d932ec",
   "metadata": {},
   "outputs": [],
   "source": [
    "data = [\n",
    "    {\n",
    "        'symbol': 'ABC',\n",
    "        'date': '1900-01-01',\n",
    "        'high': 100,\n",
    "        'low': 50\n",
    "    },\n",
    "    {\n",
    "        'symbol': 'ABC',\n",
    "        'date': '1900-01-02',\n",
    "        'high': 90,\n",
    "        'low': 60\n",
    "    },\n",
    "    {\n",
    "        'symbol': 'DEF',\n",
    "        'date': '1900-01-01',\n",
    "        'high': 100,\n",
    "        'low': 50\n",
    "    },\n",
    "    {\n",
    "        'symbol': 'ABC',\n",
    "        'date': '1900-01-03',\n",
    "        'high': 120,\n",
    "        'low': 10\n",
    "    },\n",
    "    {\n",
    "        'date': '1900-01-04',\n",
    "        'high': 100,\n",
    "        'low': 90\n",
    "    }\n",
    "]"
   ]
  },
  {
   "cell_type": "markdown",
   "id": "6732336d",
   "metadata": {},
   "source": [
    "For this data set, the result should be:"
   ]
  },
  {
   "cell_type": "markdown",
   "id": "a75cf024",
   "metadata": {},
   "source": [
    "```\n",
    "[\n",
    "    {\n",
    "        'symbol': 'ABC',\n",
    "        'date': '1900-01-03',\n",
    "        'high': 120,\n",
    "        'low': 10\n",
    "    },\n",
    "    {\n",
    "        'symbol': 'ABC',\n",
    "        'date': '1900-01-01',\n",
    "        'high': 100,\n",
    "        'low': 50\n",
    "    },\n",
    "    {\n",
    "        'symbol': 'ABC',\n",
    "        'date': '1900-01-02',\n",
    "        'high': 90,\n",
    "        'low': 60\n",
    "    }    \n",
    "]\n",
    "```"
   ]
  },
  {
   "cell_type": "markdown",
   "id": "3dc7fb01",
   "metadata": {},
   "source": [
    "Which of the following functions will return the desired result?"
   ]
  },
  {
   "cell_type": "markdown",
   "id": "b3c986b9",
   "metadata": {},
   "source": [
    "I.\n",
    "```\n",
    "def extract(data):\n",
    "    pred = lambda d: d.get('symbol') == 'ABC'\n",
    "    filtered = filter(pred, data)\n",
    "    return list(sorted(filtered, key=lambda d: d['high'] - d['low'], reverse=True))\n",
    "```\n",
    "\n",
    "II.\n",
    "```\n",
    "def extract(data):\n",
    "    filtered = filter(lambda d: d['symbol'] == 'AAPL', data)\n",
    "    return list(sorted(filtered, key=lambda d: d['high'] - d['low'], reverse=True))\n",
    "```\n",
    "\n",
    "III.\n",
    "```\n",
    "def extract(data):\n",
    "    filtered = []\n",
    "    for d in data:\n",
    "        if d.get('symbol') == 'ABC':\n",
    "            filtered.append(d)\n",
    "    sort_func = lambda d: d['high'] - d['low']\n",
    "    sorted_data = sorted(filtered, key=sort_func, reverse=True)\n",
    "    return list(sorted_data)\n",
    "```\n",
    "\n",
    "- a. I only\n",
    "- b. I and II only\n",
    "- c. I and III only\n",
    "- d. all of them\n"
   ]
  },
  {
   "cell_type": "markdown",
   "id": "042eff30-49c5-4eb3-b304-0ec36bcc2b0e",
   "metadata": {},
   "source": [
    "##### A2"
   ]
  },
  {
   "cell_type": "markdown",
   "id": "cb6e8117-3820-4d30-9a73-2f9463a67079",
   "metadata": {},
   "source": [
    "Answer is `d`"
   ]
  },
  {
   "cell_type": "markdown",
   "id": "d3c2fa78-7b9e-45fa-812a-dd077159eaa6",
   "metadata": {},
   "source": [
    "**WRONG!** Correct answer is `c`"
   ]
  },
  {
   "cell_type": "markdown",
   "id": "0bca9d56",
   "metadata": {},
   "source": [
    "#### Q3"
   ]
  },
  {
   "cell_type": "markdown",
   "id": "8e7d85b7",
   "metadata": {},
   "source": [
    "The following function is meant to be used as a decorator that will convert the result of a function to an ISO formatted date string if the function returns a `datetime` object, and leave the result unaffected otherwise."
   ]
  },
  {
   "cell_type": "markdown",
   "id": "38550b8a",
   "metadata": {},
   "source": [
    "```\n",
    "1 from datetime import datetime\n",
    "2 \n",
    "3 def normalize_datetime(fn):\n",
    "4     def inner(*args, **kwargs):\n",
    "5         result = fn(args, kwargs)\n",
    "6         if isinstance(result, datetime):\n",
    "7             result = result.isoformat()\n",
    "8         return fn\n",
    "9     return result\n",
    "```"
   ]
  },
  {
   "cell_type": "markdown",
   "id": "d54c5fc6",
   "metadata": {},
   "source": [
    "However, there are a few things wrong with this function. Which of the following changes should be made to this function for it to work properly:"
   ]
  },
  {
   "cell_type": "markdown",
   "id": "66b5cbee",
   "metadata": {},
   "source": [
    "I. Line 5 should be changed to: `result = fn(*args, **kwargs)`\n",
    "\n",
    "II. Line 8 should be changed to: `return result`\n",
    "\n",
    "III. Line 9 should be changed to: `return inner`\n",
    "\n",
    "\n",
    "- a. I and II only\n",
    "- b. II and III only\n",
    "- c. I and III only\n",
    "- d. all of them\n"
   ]
  },
  {
   "cell_type": "markdown",
   "id": "4791f71c-28f9-4d98-9bf9-f6d35848c573",
   "metadata": {},
   "source": [
    "##### A3"
   ]
  },
  {
   "cell_type": "markdown",
   "id": "65474564-03f7-49a0-a228-6b1740290c4c",
   "metadata": {},
   "source": [
    "Answer is `d`"
   ]
  },
  {
   "cell_type": "markdown",
   "id": "de0378d9",
   "metadata": {},
   "source": [
    "#### Q4"
   ]
  },
  {
   "cell_type": "markdown",
   "id": "3abe1434",
   "metadata": {},
   "source": [
    "What format string should be used to parse the following string into a `datetime` object using the `datetime.strptime()` function:\n",
    "\n",
    "```\n",
    "t = '8:30pm on the 3rd of March, 2020'\n",
    "```"
   ]
  },
  {
   "cell_type": "markdown",
   "id": "5b710410",
   "metadata": {},
   "source": [
    "- a. `'%H:%m%p on the %Drd of %M, %Y'`\n",
    "- b. `'%I:%M%p on the %drd of %B, %Y'`\n",
    "- c. `'%h:%h%p on the %drd of %b, %Y'`\n",
    "- d. `'%I:%M%P on the %drd of %B, %Y'`\n"
   ]
  },
  {
   "cell_type": "markdown",
   "id": "4d90dd00-1bc1-471f-b662-deee258dbf2b",
   "metadata": {},
   "source": [
    "##### A4"
   ]
  },
  {
   "cell_type": "markdown",
   "id": "a961ba78-88ec-44f3-8f35-4f7c435cfd94",
   "metadata": {},
   "source": [
    "Answer is `b`"
   ]
  },
  {
   "cell_type": "markdown",
   "id": "ab930d67",
   "metadata": {},
   "source": [
    "#### Q5"
   ]
  },
  {
   "cell_type": "markdown",
   "id": "16b881a6",
   "metadata": {},
   "source": [
    "You are writing some code to append lines of text to an existing text file.\n",
    "\n",
    "Which variant of the `open` function should you use:\n",
    "\n",
    "- a. `open(f, 'r')`\n",
    "- b. `open(f, 'w')`\n",
    "- c. `open(f, 'a')`\n",
    "- d. `open(f, 'rw')`\n"
   ]
  },
  {
   "cell_type": "markdown",
   "id": "09b40d90-c4c7-46bd-89fd-cc8d0b2ed81e",
   "metadata": {},
   "source": [
    "##### A5"
   ]
  },
  {
   "cell_type": "markdown",
   "id": "44a1bb82-8552-4363-af37-eaca90697160",
   "metadata": {},
   "source": [
    "Answer is `c`"
   ]
  },
  {
   "cell_type": "markdown",
   "id": "c75cdbb0",
   "metadata": {},
   "source": [
    "#### Q6"
   ]
  },
  {
   "cell_type": "markdown",
   "id": "12f61d65",
   "metadata": {},
   "source": [
    "A CSV file has rows formatted as follows:\n",
    "\n",
    "```\n",
    "'/string-1/- string2- string3-100'\n",
    "```\n",
    "\n",
    "We want to parse this row so that the result should be `['string-1', 'string2', 'string3', '100']`"
   ]
  },
  {
   "cell_type": "markdown",
   "id": "74a38c7b",
   "metadata": {},
   "source": [
    "What settings should be used when using Python's CSV reader to parse this file correctly?\n",
    "\n",
    "- a. `csv.reader(file, delimiter='-', quotechar='/', skipinitialspace=False)`\n",
    "- b. `csv.reader(file, delimiter='-', quotechar='/', skipinitialspace=True)`\n",
    "- c. `csv.reader(file, delimiter='/', quotechar='-', skipinitialspace=False)`\n",
    "- d. `csv.reader(file, delimiter='/', quotechar='-', skipinitialspace=True)`\n"
   ]
  },
  {
   "cell_type": "markdown",
   "id": "39481243-f4ac-4ab1-9f8e-b57b76e8ff84",
   "metadata": {},
   "source": [
    "##### A6"
   ]
  },
  {
   "cell_type": "markdown",
   "id": "3683e510-f086-44f8-8084-a5174c5aca7d",
   "metadata": {},
   "source": [
    "Answer is `b`"
   ]
  },
  {
   "cell_type": "markdown",
   "id": "1f5664c3",
   "metadata": {},
   "source": [
    "#### Q7"
   ]
  },
  {
   "cell_type": "markdown",
   "id": "53c2676c",
   "metadata": {},
   "source": [
    "Which of the following expressions can be used to generate a random `float` in the interval `[15, 25)` (i.e. the random number `x` should satisfy `15 <= x < 25`)\n",
    "\n",
    "- a. `15 + 25 * random.random()`\n",
    "- b. `10 + 15 * random.random()`\n",
    "- c. `40 * random.random() - 15`\n",
    "- d. `15 + 10 * random.random()`\n"
   ]
  },
  {
   "cell_type": "markdown",
   "id": "58fbe95d-484d-439e-96ec-ecc402498111",
   "metadata": {},
   "source": [
    "##### A7"
   ]
  },
  {
   "cell_type": "markdown",
   "id": "e953dd1b-d005-48bc-8508-b5188425f79b",
   "metadata": {},
   "source": [
    "Answer is `d`"
   ]
  },
  {
   "cell_type": "markdown",
   "id": "4364d12a",
   "metadata": {},
   "source": [
    "#### Q8"
   ]
  },
  {
   "cell_type": "markdown",
   "id": "471db5fb",
   "metadata": {},
   "source": [
    "For this exercise you will need to first set your random seed to `-1` (`random.seed(-1)`)\n",
    "\n",
    "Once you have done this, use the `statistics` module to create a normal distribution centered at `3` with a standard deviation of `5`. Determine the median of a `50` element sample from the distribution (use the distribution object's `sample()` method to extract your sample of `50` elements).\n",
    "\n",
    "The median, rounded to 2 digits after the decimal point is:\n",
    "- a. `3.0`\n",
    "- b. `3.83`\n",
    "- c. `5.0`\n",
    "- d. `2.99`\n"
   ]
  },
  {
   "cell_type": "markdown",
   "id": "766f2378-05eb-406c-a756-307d32030998",
   "metadata": {},
   "source": [
    "##### A8"
   ]
  },
  {
   "cell_type": "code",
   "execution_count": 1,
   "id": "c2ab0c56-28f0-4f55-9779-ff3deab671d2",
   "metadata": {},
   "outputs": [],
   "source": [
    "import random\n",
    "import statistics as stats"
   ]
  },
  {
   "cell_type": "code",
   "execution_count": 5,
   "id": "84d069f3-2d97-4ef1-bc17-1975f5b58699",
   "metadata": {},
   "outputs": [
    {
     "data": {
      "text/plain": [
       "3.83"
      ]
     },
     "execution_count": 5,
     "metadata": {},
     "output_type": "execute_result"
    }
   ],
   "source": [
    "random.seed(-1)\n",
    "\n",
    "d = stats.NormalDist(3, 5)\n",
    "round(stats.median(d.samples(50)), 2)"
   ]
  },
  {
   "cell_type": "markdown",
   "id": "e3bf864c-34ce-4f15-bbd9-c5052eed4bf6",
   "metadata": {},
   "source": [
    "Answer is `b`"
   ]
  },
  {
   "cell_type": "markdown",
   "id": "3c081fa0",
   "metadata": {},
   "source": [
    "#### Q9"
   ]
  },
  {
   "cell_type": "markdown",
   "id": "fd97b507",
   "metadata": {},
   "source": [
    "You have this 2-dimensional `Vector` class defined as follows:"
   ]
  },
  {
   "cell_type": "code",
   "execution_count": 3,
   "id": "b72c639d",
   "metadata": {},
   "outputs": [],
   "source": [
    "class Vector:\n",
    "    def __init__(self, x, y):\n",
    "        self._x = x\n",
    "        self._y = y\n",
    "        \n",
    "    @property\n",
    "    def x(self):\n",
    "        return self._x\n",
    "    \n",
    "    @property \n",
    "    def y(self):\n",
    "        return self._y"
   ]
  },
  {
   "cell_type": "markdown",
   "id": "69839eb4",
   "metadata": {},
   "source": [
    "When you print out an instance of this class, Python's default string representation is shown. You would rather have a more specific representation that should result in the **same output** for **both** `repr()` and `str()` of the instance."
   ]
  },
  {
   "cell_type": "markdown",
   "id": "a598a4a0",
   "metadata": {},
   "source": [
    "For example, if you have a vector:"
   ]
  },
  {
   "cell_type": "code",
   "execution_count": 4,
   "id": "d0074bc5",
   "metadata": {},
   "outputs": [],
   "source": [
    "v = Vector(1, 2)"
   ]
  },
  {
   "cell_type": "markdown",
   "id": "2d2a62c9",
   "metadata": {},
   "source": [
    "Then you want the following results:\n",
    "\n",
    "`str(v)` --> `'Vector(1, 2)'`\n",
    "\n",
    "`repr(v)` --> `'Vector(1, 2)'`"
   ]
  },
  {
   "cell_type": "markdown",
   "id": "bb30e8ba",
   "metadata": {},
   "source": [
    "What code can you add to your class to do this:"
   ]
  },
  {
   "cell_type": "markdown",
   "id": "f0d037b1",
   "metadata": {},
   "source": [
    "I. \n",
    "```\n",
    "def __str__(self):\n",
    "    return f'Vector({self.x}, {self.y})'\n",
    "```\n",
    "\n",
    "II.\n",
    "```\n",
    "def __repr__(self):\n",
    "    return f'Vector({self.x}, {self.y})'\n",
    "```\n",
    "\n",
    "III. \n",
    "```\n",
    "def __str__(self):\n",
    "    return f'Vector({self._x}, {self._y})'\n",
    "```\n",
    "\n",
    "IV.\n",
    "```\n",
    "def __repr__(self):\n",
    "    return f'Vector({self._x}, {self._y})'\n",
    "```\n",
    "\n",
    "\n",
    "- a. I or II only\n",
    "- b. III or IV only\n",
    "- c. II or IV only\n",
    "- d. any of them will work\n"
   ]
  },
  {
   "cell_type": "markdown",
   "id": "9d0f48ff-c642-47c1-b1f9-fb861554cd5e",
   "metadata": {},
   "source": [
    "##### A9"
   ]
  },
  {
   "cell_type": "markdown",
   "id": "8be45971-89e9-4f3c-aaa6-ba9877afac24",
   "metadata": {},
   "source": [
    "Answer is `c`"
   ]
  },
  {
   "cell_type": "markdown",
   "id": "41470914",
   "metadata": {},
   "source": [
    "#### Q10"
   ]
  },
  {
   "cell_type": "markdown",
   "id": "6e39f0de",
   "metadata": {},
   "source": [
    "Continuing with the `Vector` class defined in the previous question, we want to implement equality of two instances of `Vector` such that two instances are considered equal if:\n",
    "- they are both instances of `Vector`\n",
    "- the `x` components of each vector are equal, and the `y` components of each vector are equal"
   ]
  },
  {
   "cell_type": "markdown",
   "id": "177753f3",
   "metadata": {},
   "source": [
    "Once you have implemented this functionality, then:\n",
    "\n",
    "```\n",
    "Vector(1, 2) == Vector(1, 2)\n",
    "```\n",
    "\n",
    "should evaluate to `True`"
   ]
  },
  {
   "cell_type": "markdown",
   "id": "6dc5334e",
   "metadata": {},
   "source": [
    "Which of the following additions to your class could implement this behavior:"
   ]
  },
  {
   "cell_type": "markdown",
   "id": "9105d4f0",
   "metadata": {},
   "source": [
    "I.\n",
    "```\n",
    "def __eq__(self, other):\n",
    "    return self == other\n",
    "```\n",
    "\n",
    "II.\n",
    "```\n",
    "def __eq__(self, other):\n",
    "    return isinstance(other, Vector)\n",
    "```\n",
    "\n",
    "III.\n",
    "```\n",
    "def __eq__(self, other):\n",
    "    if (\n",
    "        isinstance(other, Vector) \n",
    "        and self.x == other.x \n",
    "        and self.y == other.y\n",
    "    ):\n",
    "        return True\n",
    "    return False\n",
    "```\n",
    "\n",
    "- a. I only\n",
    "- b. II only\n",
    "- c. III only\n",
    "- d. none of them\n"
   ]
  },
  {
   "cell_type": "markdown",
   "id": "41158cc5-2db1-4f78-9c5a-d86e428a5ee4",
   "metadata": {},
   "source": [
    "##### A10"
   ]
  },
  {
   "cell_type": "markdown",
   "id": "bc5ca653-7d93-41db-98f3-3ef3c3589446",
   "metadata": {},
   "source": [
    "Answer is `c`"
   ]
  }
 ],
 "metadata": {
  "kernelspec": {
   "display_name": "Python 3 (ipykernel)",
   "language": "python",
   "name": "python3"
  },
  "language_info": {
   "codemirror_mode": {
    "name": "ipython",
    "version": 3
   },
   "file_extension": ".py",
   "mimetype": "text/x-python",
   "name": "python",
   "nbconvert_exporter": "python",
   "pygments_lexer": "ipython3",
   "version": "3.9.19"
  }
 },
 "nbformat": 4,
 "nbformat_minor": 5
}
