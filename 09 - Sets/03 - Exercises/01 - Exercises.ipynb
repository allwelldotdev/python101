{
 "cells": [
  {
   "cell_type": "markdown",
   "id": "neural-details",
   "metadata": {},
   "source": [
    "### Exercises"
   ]
  },
  {
   "cell_type": "markdown",
   "id": "liked-hearts",
   "metadata": {},
   "source": [
    "#### Question 1"
   ]
  },
  {
   "cell_type": "markdown",
   "id": "indonesian-municipality",
   "metadata": {},
   "source": [
    "You are given a list of strings from which you want to generate all the unique values."
   ]
  },
  {
   "cell_type": "markdown",
   "id": "artificial-heritage",
   "metadata": {},
   "source": [
    "For example, if you were given this list:\n",
    "\n",
    "```\n",
    "['a', 'A', 'b', 'B', 'B', 'A', 'a', 'c']\n",
    "```\n",
    "\n",
    "your result should contain these values:\n",
    "\n",
    "```\n",
    "['a', 'A', 'b', 'B', 'c']\n",
    "```"
   ]
  },
  {
   "cell_type": "markdown",
   "id": "muslim-hurricane",
   "metadata": {},
   "source": [
    "Note that the order of the elements in the resulting list is not important."
   ]
  },
  {
   "cell_type": "markdown",
   "id": "brave-pasta",
   "metadata": {},
   "source": [
    "You can use this list for this exercise."
   ]
  },
  {
   "cell_type": "code",
   "execution_count": 16,
   "id": "rotary-mirror",
   "metadata": {},
   "outputs": [],
   "source": [
    "l = ['AAPL', 'AAPL', 'Aapl', 'aapl', 'MSFT']"
   ]
  },
  {
   "cell_type": "markdown",
   "id": "7273efb4-c09e-4836-901f-8acfb938091c",
   "metadata": {},
   "source": [
    "#### Solution 1"
   ]
  },
  {
   "cell_type": "code",
   "execution_count": 29,
   "id": "774174ea-0a81-43ee-9342-bf89f585c6d1",
   "metadata": {},
   "outputs": [
    {
     "name": "stdout",
     "output_type": "stream",
     "text": [
      "{'c': 1, 'b': 1, 'B': 2, 'a': 2, 'A': 2}\n",
      "{'c': 1, 'b': 1, 'B': 2, 'a': 2, 'A': 2}\n",
      "{'aapl', 'AAPL', 'MSFT', 'Aapl'}\n"
     ]
    }
   ],
   "source": [
    "l = ['a', 'A', 'b', 'B', 'B', 'A', 'a', 'c']\n",
    "\n",
    "# counting the number of elements in an iterable using sets\n",
    "count = {}\n",
    "for i in set(l):\n",
    "    for j in l:\n",
    "        if i == j:\n",
    "            count[i] = count.get(i, 0) + 1\n",
    "print(count)\n",
    "\n",
    "# counting the number of elements in an iterable using dictionary comprehensions\n",
    "count2 = {\n",
    "    i: len([i for j in l if i == j])\n",
    "    for i in set(l)\n",
    "}\n",
    "print(count2)\n",
    "\n",
    "# solving Question 1 now:\n",
    "l = ['AAPL', 'AAPL', 'Aapl', 'aapl', 'MSFT']\n",
    "\n",
    "unique = set(l)\n",
    "print(unique)"
   ]
  },
  {
   "cell_type": "markdown",
   "id": "closing-massage",
   "metadata": {},
   "source": [
    "#### Question 2"
   ]
  },
  {
   "cell_type": "markdown",
   "id": "labeled-bouquet",
   "metadata": {},
   "source": [
    "Using the same data we saw in Question 1, the goal is to find all the unique values in a **case-insensitive** fashion."
   ]
  },
  {
   "cell_type": "markdown",
   "id": "handled-cruise",
   "metadata": {},
   "source": [
    "For example, `AAPL`, `Aapl` and `aapl` should each be considered to be the same value."
   ]
  },
  {
   "cell_type": "markdown",
   "id": "e70ab873-5234-4aac-8066-0e83ed4a7d82",
   "metadata": {},
   "source": [
    "#### Solution 2"
   ]
  },
  {
   "cell_type": "code",
   "execution_count": 31,
   "id": "902646b7-1ddc-4ec6-831d-ed2ff7947245",
   "metadata": {},
   "outputs": [
    {
     "name": "stdout",
     "output_type": "stream",
     "text": [
      "{'AAPL', 'MSFT'}\n",
      "{'AAPL', 'MSFT'}\n"
     ]
    }
   ],
   "source": [
    "l = ['AAPL', 'AAPL', 'Aapl', 'aapl', 'MSFT']\n",
    "\n",
    "unique = set()\n",
    "for i in l:\n",
    "    unique.add(i.upper())\n",
    "print(unique)\n",
    "\n",
    "# using set comprehensions\n",
    "unique2 = {i.upper() for i in l}\n",
    "print(unique2)"
   ]
  },
  {
   "cell_type": "markdown",
   "id": "adjacent-southwest",
   "metadata": {},
   "source": [
    "#### Question 3"
   ]
  },
  {
   "cell_type": "markdown",
   "id": "authorized-cathedral",
   "metadata": {},
   "source": [
    "Given this data structure:"
   ]
  },
  {
   "cell_type": "code",
   "execution_count": 2,
   "id": "flying-processor",
   "metadata": {},
   "outputs": [],
   "source": [
    "data = {\n",
    "    'd1': {'a': 1, 'b': 2, 'c': 3},\n",
    "    'd2': {'b': 20, 'c': 30, 'd': 40},\n",
    "    'd3': {'d': 100, 'x': 200}\n",
    "}"
   ]
  },
  {
   "cell_type": "markdown",
   "id": "emotional-respect",
   "metadata": {},
   "source": [
    "Find all the unique keys in the sub-dictionaries.\n",
    "\n",
    "In this case above, your result should be:\n",
    "\n",
    "```\n",
    "{'a', 'b', 'c', 'd', 'x'}\n",
    "```\n",
    "\n",
    "Of course, the order in the result is irrelevant (there is no ordering in sets)."
   ]
  },
  {
   "cell_type": "markdown",
   "id": "b1237fd9-a1c5-48b6-9b53-4ba1fd5b7726",
   "metadata": {},
   "source": [
    "#### Solution 3"
   ]
  },
  {
   "cell_type": "code",
   "execution_count": 46,
   "id": "1b0765e6-86e5-4f25-a690-f0a659e03c3a",
   "metadata": {},
   "outputs": [
    {
     "name": "stdout",
     "output_type": "stream",
     "text": [
      "{'c', 'b', 'a', 'x', 'd'}\n"
     ]
    }
   ],
   "source": [
    "data = {\n",
    "    'd1': {'a': 1, 'b': 2, 'c': 3},\n",
    "    'd2': {'b': 20, 'c': 30, 'd': 40},\n",
    "    'd3': {'d': 100, 'x': 200}\n",
    "}\n",
    "\n",
    "u_keys = set()\n",
    "\n",
    "#for i in data.values():\n",
    "#    for k in i:\n",
    "#        u_keys.add(k)\n",
    "# this could also be done like so:\n",
    "for i in data.values():\n",
    "    u_keys = u_keys | i.keys()\n",
    "print(u_keys)"
   ]
  }
 ],
 "metadata": {
  "kernelspec": {
   "display_name": "Python 3 (ipykernel)",
   "language": "python",
   "name": "python3"
  },
  "language_info": {
   "codemirror_mode": {
    "name": "ipython",
    "version": 3
   },
   "file_extension": ".py",
   "mimetype": "text/x-python",
   "name": "python",
   "nbconvert_exporter": "python",
   "pygments_lexer": "ipython3",
   "version": "3.9.19"
  }
 },
 "nbformat": 4,
 "nbformat_minor": 5
}
