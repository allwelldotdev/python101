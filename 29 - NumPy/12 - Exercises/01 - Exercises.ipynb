{
 "cells": [
  {
   "cell_type": "markdown",
   "id": "complimentary-glory",
   "metadata": {},
   "source": [
    "### Exercises"
   ]
  },
  {
   "cell_type": "markdown",
   "id": "collected-sacramento",
   "metadata": {},
   "source": [
    "#### Question 1"
   ]
  },
  {
   "cell_type": "markdown",
   "id": "bizarre-definition",
   "metadata": {},
   "source": [
    "The accompanying file `data.csv` contains information for the value `x` of something observed at time `t`."
   ]
  },
  {
   "cell_type": "markdown",
   "id": "vocational-remains",
   "metadata": {},
   "source": [
    "Given this data, we want to calculate the rate of change of this value over time - we'll do this by taking two consecutive observations, say $x(t_i)$ and $x(t_{i+1})$ and approximate the rate of change using this formula:\n",
    "\n",
    "$$\n",
    "v(t_{i+1}) = \\frac{x(t_{i+1}) - x(t_i)}{t_{i+1} - t_i}\n",
    "$$"
   ]
  },
  {
   "cell_type": "markdown",
   "id": "affected-rocket",
   "metadata": {},
   "source": [
    "For example, if the data looks like this:\n",
    "\n",
    "```\n",
    "t     x\n",
    "0.1   10\n",
    "0.2   12\n",
    "0.4   14\n",
    "0.5   15\n",
    "```"
   ]
  },
  {
   "cell_type": "markdown",
   "id": "alternate-nudist",
   "metadata": {},
   "source": [
    "Then the first row of data would be considered $t_0$, the second row $t_1$, etc"
   ]
  },
  {
   "cell_type": "markdown",
   "id": "ancient-decade",
   "metadata": {},
   "source": [
    "And we can start approximating the rate of change starting at $v_1$ which would be calculated as:\n",
    "\n",
    "$$\n",
    "v_1 = \\frac{12 - 10}{0.2 - 0.1} = 20.0\n",
    "$$"
   ]
  },
  {
   "cell_type": "markdown",
   "id": "toxic-doctrine",
   "metadata": {},
   "source": [
    "Similarly, $v_2$ would be calculated as:\n",
    "\n",
    "$$\n",
    "v_2 = \\frac{14 - 12}{0.4 - 0.2} = 10.0\n",
    "$$"
   ]
  },
  {
   "cell_type": "markdown",
   "id": "second-participant",
   "metadata": {},
   "source": [
    "Use NumPy arrays to create an array that holds the calculated rates of change and determine the minimum, maximum, average and standard deviation of the rate of change."
   ]
  },
  {
   "cell_type": "markdown",
   "id": "454c5c13-91f5-4faa-86ab-a083e3da87a8",
   "metadata": {},
   "source": [
    "##### Solution 1"
   ]
  },
  {
   "cell_type": "code",
   "execution_count": 2,
   "id": "881aff3a-79d1-483b-91f4-e5b05e161bbe",
   "metadata": {},
   "outputs": [],
   "source": [
    "import numpy as np\n",
    "import csv"
   ]
  },
  {
   "cell_type": "code",
   "execution_count": 3,
   "id": "58a7227e-1c4c-44a7-9c2f-8f044dc8d4f9",
   "metadata": {},
   "outputs": [],
   "source": [
    "file = 'data.csv'"
   ]
  },
  {
   "cell_type": "code",
   "execution_count": 123,
   "id": "c0f6e194-7224-41e7-9836-f9c4c359c8fa",
   "metadata": {},
   "outputs": [
    {
     "name": "stdout",
     "output_type": "stream",
     "text": [
      "0.092,14.765674972872079\n",
      "0.2,20.259226923447223\n",
      "0.296,25.246364712175524\n"
     ]
    }
   ],
   "source": [
    "# check out file\n",
    "with open(file) as f:\n",
    "    next(f) # skip header\n",
    "    for _ in range(3):\n",
    "        print(next(f).strip())"
   ]
  },
  {
   "cell_type": "code",
   "execution_count": 56,
   "id": "0adbe986-dd86-49bd-b1b2-41d7749b69f5",
   "metadata": {},
   "outputs": [],
   "source": [
    "from collections import namedtuple"
   ]
  },
  {
   "cell_type": "code",
   "execution_count": 57,
   "id": "ad924e7e-031e-4c6a-9bce-94de4f4aad8d",
   "metadata": {},
   "outputs": [],
   "source": [
    "RateOfChange = namedtuple('RateOfChange', 'min max mean std')"
   ]
  },
  {
   "cell_type": "code",
   "execution_count": 87,
   "id": "2ab49e7e-c0ac-47e0-921f-73af98479cda",
   "metadata": {},
   "outputs": [],
   "source": [
    "# func uses NumPy, csv, namedtuple module\n",
    "def calc_rate_of_change(file):\n",
    "    # read file from disk\n",
    "    with open(file) as f:\n",
    "        reader = csv.reader(f)\n",
    "        header = next(reader)\n",
    "        data = np.array(list(reader)).astype(np.float64)\n",
    "    \n",
    "    # calculate rate of change\n",
    "    #roc = np.subtract(data[1:, 1], data[:-1, 1]) / np.subtract(data[1:, 0], data[:-1, 0])\n",
    "    # alternatively ...\n",
    "    roc = np.divide.reduce(np.subtract(data[1:], data[:-1])[:, ::-1], 1)\n",
    "    \n",
    "    # return minimum, maximum, mean, and standard deviation\n",
    "    return RateOfChange(np.amin(roc), np.amax(roc), np.mean(roc), np.std(roc))"
   ]
  },
  {
   "cell_type": "code",
   "execution_count": 88,
   "id": "c35ea766-9643-4779-89ef-33f4e0d42dcb",
   "metadata": {},
   "outputs": [
    {
     "data": {
      "text/plain": [
       "RateOfChange(min=np.float64(29.42739859222142), max=np.float64(69.07300506151955), mean=np.float64(49.98125178748103), std=np.float64(9.043463532187504))"
      ]
     },
     "execution_count": 88,
     "metadata": {},
     "output_type": "execute_result"
    }
   ],
   "source": [
    "calc_rate_of_change(file)"
   ]
  },
  {
   "cell_type": "markdown",
   "id": "compliant-mexico",
   "metadata": {},
   "source": [
    "#### Question 2"
   ]
  },
  {
   "cell_type": "markdown",
   "id": "polished-ebony",
   "metadata": {},
   "source": [
    "In linear regression we try to find the coefficients `m` (slope) and `c` (y-intercept) of a straight line\n",
    "\n",
    "$$\n",
    "y = mx + c\n",
    "$$\n",
    "\n",
    "that provides the \"best\" fit given some `x` and `y` data. This formula then allows to predict `y` values for given `x` values."
   ]
  },
  {
   "cell_type": "markdown",
   "id": "gorgeous-assets",
   "metadata": {},
   "source": [
    "Given an array of `n` `(x, y)` data pairs, these coefficients can be calculated very simply."
   ]
  },
  {
   "cell_type": "markdown",
   "id": "failing-tours",
   "metadata": {},
   "source": [
    "A bit of terminology first:"
   ]
  },
  {
   "cell_type": "markdown",
   "id": "liable-civilization",
   "metadata": {},
   "source": [
    "- Let `X` mean the column of `X` values.\n",
    "- Let `Y` mean the column of `Y` values.\n",
    "- Let `XX` mean a column calculated by multiplying each `x` in the `X` column by itself\n",
    "- Let `XY` mean a column calculated by multiplying the `x` and `y` values from the `X` and `Y` columns"
   ]
  },
  {
   "cell_type": "markdown",
   "id": "divine-texas",
   "metadata": {},
   "source": [
    "Then, given some column (say `X`), this symbol: $\\sum{X}$ means the sum of all the elements in the column.\n",
    "\n",
    "Similarly, the symbol $\\sum{XY}$ means the sum of the values obtained by multiplying (pairwise) the values in `X` and `Y`."
   ]
  },
  {
   "cell_type": "markdown",
   "id": "lonely-reward",
   "metadata": {},
   "source": [
    "Given those definitions, the formulas for calculating the \"best\" values of `m` and `c` are given by:"
   ]
  },
  {
   "cell_type": "markdown",
   "id": "engaged-positive",
   "metadata": {},
   "source": [
    "$$\n",
    "m = \\frac{n\\sum{XY} - \\sum{X}\\sum{Y}}{n\\sum{XX} - (\\sum{X})^2}\n",
    "$$"
   ]
  },
  {
   "cell_type": "markdown",
   "id": "japanese-breakfast",
   "metadata": {},
   "source": [
    "$$\n",
    "c = \\frac{\\sum{Y}\\sum{XX} - \\sum{X}\\sum{XY}}{n\\sum{XX} - (\\sum{X})^2}\n",
    "$$"
   ]
  },
  {
   "cell_type": "markdown",
   "id": "collect-guidance",
   "metadata": {},
   "source": [
    "(where `n` is the number of `(x,y)` pairs in our data set.)"
   ]
  },
  {
   "cell_type": "markdown",
   "id": "suspended-calgary",
   "metadata": {},
   "source": [
    "Using the same data we saw in Question 1, calculate the values for `m` and `c` for that data set given the formulas above.\n",
    "\n",
    "You can think of the `t` column in the data as the `X` column, and the `x` values in the data as the `Y` column - we are trying to predict the value of `x` given a value of `t`."
   ]
  },
  {
   "cell_type": "markdown",
   "id": "classical-theorem",
   "metadata": {},
   "source": [
    "This will result in a straight line that \"best\" fits through the data."
   ]
  },
  {
   "cell_type": "markdown",
   "id": "precious-boundary",
   "metadata": {},
   "source": [
    "Compare the slope of this regression line to the average rate of change you calculated in Question 1."
   ]
  },
  {
   "cell_type": "markdown",
   "id": "c5ccc10e-839e-4620-bd76-a00e04344d75",
   "metadata": {},
   "source": [
    "##### Solution 2"
   ]
  },
  {
   "cell_type": "markdown",
   "id": "344c5f97-0e64-45af-a106-92c95231f835",
   "metadata": {},
   "source": [
    "Gotta do two main things:\n",
    "1. calculate the values for `m` and `c` using the LaTex-written formula above\n",
    "2. compare slope of regression line `m` to average (`mean`) rate of change in *Question 1*"
   ]
  },
  {
   "cell_type": "code",
   "execution_count": 111,
   "id": "1b914824-9749-40d7-a259-12178a3c0e29",
   "metadata": {},
   "outputs": [],
   "source": [
    "def calc_mc(arr):\n",
    "    # get n value\n",
    "    n = arr.shape[0]\n",
    "\n",
    "    # ------>8------ calculate for m: (slope) of straight line\n",
    "    # compute numerator: (n * sum of xy) - (sum of x * sum of y)\n",
    "    m_numer = n * np.sum(np.multiply(arr[:, 0], arr[:, 1])) - np.sum(arr[:, 0]) * np.sum(arr[:, 1])\n",
    "    \n",
    "    # compute denominator: (n * sum of xx) - (sum of x)^squared\n",
    "    m_denom = n * np.sum(np.square(arr[:, 0])) - np.square(np.sum(arr[:, 0]))\n",
    "    \n",
    "    m = np.divide(m_numer, m_denom)\n",
    "\n",
    "    # ------>8------ calculate for c: (y-intercept) of straight line\n",
    "    # compute numerator: (sum of y * sum of xx) - (sum of x * sum of xy)\n",
    "    c_numer = np.multiply(np.sum(arr[:, 1]), np.sum(np.square(arr[:, 0]))) - np.multiply(np.sum(arr[:, 0]), np.sum(np.multiply(arr[:, 0], arr[:, 1])))\n",
    "    \n",
    "    # compute denominator: (n * sum of xx) - (sum of x)^squared\n",
    "    c_denom = n * np.sum(np.square(arr[:, 0])) - np.square(np.sum(arr[:, 0]))\n",
    "    \n",
    "    c = np.divide(c_numer, c_denom)\n",
    "\n",
    "    # create namedtuple class for LinearReg\n",
    "    LinearReg = namedtuple('LinearReg', 'm c')\n",
    "\n",
    "    return LinearReg(m, c)"
   ]
  },
  {
   "cell_type": "code",
   "execution_count": 112,
   "id": "0d75e092-8ee2-40bd-ab7a-f58029dfd6af",
   "metadata": {},
   "outputs": [
    {
     "data": {
      "text/plain": [
       "LinearReg(m=np.float64(49.978008206387344), c=np.float64(10.081268844890284))"
      ]
     },
     "execution_count": 112,
     "metadata": {},
     "output_type": "execute_result"
    }
   ],
   "source": [
    "calc_mc(data)"
   ]
  },
  {
   "cell_type": "code",
   "execution_count": 124,
   "id": "abb54dc6-6c99-48b7-ba54-4d3c21933bfb",
   "metadata": {},
   "outputs": [
    {
     "data": {
      "text/plain": [
       "'Both values are very similar with a percentage difference of 0.0065%: not up to 1%'"
      ]
     },
     "execution_count": 124,
     "metadata": {},
     "output_type": "execute_result"
    }
   ],
   "source": [
    "# compare regression slope `m` to average rate of change in Question 1\n",
    "linear_reg = calc_mc(data)\n",
    "\n",
    "# grab average rate of change from Question 1\n",
    "roc = calc_rate_of_change(file)\n",
    "\n",
    "# find percentage difference between slope and avergae\n",
    "def calc_percdiff(slope, avg):\n",
    "    perc_diff = np.abs((roc.mean - linear_reg.m) / ((linear_reg.m + roc.mean) / 2)) * 100\n",
    "    result = f'Both values are very similar with a percentage difference of {float(np.around(perc_diff, 4))}%: not up to 1%' \\\n",
    "            if perc_diff < 1 else 'Both values differ by 1% or more'\n",
    "    return result\n",
    "\n",
    "calc_percdiff(linear_reg.m, roc.mean)"
   ]
  }
 ],
 "metadata": {
  "kernelspec": {
   "display_name": "Python 3 (ipykernel)",
   "language": "python",
   "name": "python3"
  },
  "language_info": {
   "codemirror_mode": {
    "name": "ipython",
    "version": 3
   },
   "file_extension": ".py",
   "mimetype": "text/x-python",
   "name": "python",
   "nbconvert_exporter": "python",
   "pygments_lexer": "ipython3",
   "version": "3.9.19"
  }
 },
 "nbformat": 4,
 "nbformat_minor": 5
}
