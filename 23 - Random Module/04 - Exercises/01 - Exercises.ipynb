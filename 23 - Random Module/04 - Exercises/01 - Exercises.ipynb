{
 "cells": [
  {
   "cell_type": "markdown",
   "id": "willing-privacy",
   "metadata": {},
   "source": [
    "### Exercises"
   ]
  },
  {
   "cell_type": "markdown",
   "id": "biological-eugene",
   "metadata": {},
   "source": [
    "#### Question 1"
   ]
  },
  {
   "cell_type": "markdown",
   "id": "convertible-romance",
   "metadata": {},
   "source": [
    "Generate the sample space of rolling two 6-sided dice, numbered `'9', '10', 'J', 'Q', 'K', 'A'`."
   ]
  },
  {
   "cell_type": "markdown",
   "id": "stock-relations",
   "metadata": {},
   "source": [
    "(The sample space is the set of all possible outcomes)."
   ]
  },
  {
   "cell_type": "markdown",
   "id": "strong-russia",
   "metadata": {},
   "source": [
    "Your result should be a list containing tuples for the outcome of each die, e.g.\n",
    "\n",
    "```\n",
    "[('9', '9'),\n",
    " ('9', '10'),\n",
    " ('9', 'J'),\n",
    " ('9', 'Q'),\n",
    " ('9', 'K'),\n",
    " ('9', 'A'),\n",
    " ('10', '9'),\n",
    " ('10', '10'),\n",
    " ('10', 'J'),\n",
    " ('10', 'Q'),\n",
    " ('10', 'K'),\n",
    " ('10', 'A'),\n",
    " etc\n",
    "```"
   ]
  },
  {
   "cell_type": "markdown",
   "id": "chicken-proceeding",
   "metadata": {},
   "source": [
    "Make this a function that returns the sample space, called `make_sample_space`."
   ]
  },
  {
   "cell_type": "markdown",
   "id": "cee46b5f-1963-4db5-a599-a88f5eb4fca3",
   "metadata": {},
   "source": [
    "##### Solution 1"
   ]
  },
  {
   "cell_type": "code",
   "execution_count": 2,
   "id": "c4041ee4-3f27-4cbe-b610-6cdc97c0b0a4",
   "metadata": {},
   "outputs": [],
   "source": [
    "dice_numbering = '9', '10', 'J', 'Q', 'K', 'A'"
   ]
  },
  {
   "cell_type": "code",
   "execution_count": 3,
   "id": "34fca48b-1bfd-4ed0-ac00-10a7d1ab150d",
   "metadata": {},
   "outputs": [],
   "source": [
    "def make_sample_space(dice):\n",
    "    return [(num, num2) for num in dice for num2 in dice]"
   ]
  },
  {
   "cell_type": "code",
   "execution_count": 4,
   "id": "856b1cf4-ec93-4f34-8162-8b74d1dfb6ca",
   "metadata": {
    "scrolled": true
   },
   "outputs": [
    {
     "data": {
      "text/plain": [
       "[('9', '9'),\n",
       " ('9', '10'),\n",
       " ('9', 'J'),\n",
       " ('9', 'Q'),\n",
       " ('9', 'K'),\n",
       " ('9', 'A'),\n",
       " ('10', '9'),\n",
       " ('10', '10'),\n",
       " ('10', 'J'),\n",
       " ('10', 'Q'),\n",
       " ('10', 'K'),\n",
       " ('10', 'A'),\n",
       " ('J', '9'),\n",
       " ('J', '10'),\n",
       " ('J', 'J'),\n",
       " ('J', 'Q'),\n",
       " ('J', 'K'),\n",
       " ('J', 'A'),\n",
       " ('Q', '9'),\n",
       " ('Q', '10'),\n",
       " ('Q', 'J'),\n",
       " ('Q', 'Q'),\n",
       " ('Q', 'K'),\n",
       " ('Q', 'A'),\n",
       " ('K', '9'),\n",
       " ('K', '10'),\n",
       " ('K', 'J'),\n",
       " ('K', 'Q'),\n",
       " ('K', 'K'),\n",
       " ('K', 'A'),\n",
       " ('A', '9'),\n",
       " ('A', '10'),\n",
       " ('A', 'J'),\n",
       " ('A', 'Q'),\n",
       " ('A', 'K'),\n",
       " ('A', 'A')]"
      ]
     },
     "execution_count": 4,
     "metadata": {},
     "output_type": "execute_result"
    }
   ],
   "source": [
    "make_sample_space(dice_numbering)"
   ]
  },
  {
   "cell_type": "markdown",
   "id": "searching-footwear",
   "metadata": {},
   "source": [
    "#### Question 2"
   ]
  },
  {
   "cell_type": "markdown",
   "id": "matched-opening",
   "metadata": {},
   "source": [
    "Using the sample space you just created above, simulate throwing the two die `n` times by making random choices from the sample space."
   ]
  },
  {
   "cell_type": "markdown",
   "id": "olive-athens",
   "metadata": {},
   "source": [
    "Again, make this into a function that returns the random choices as a list of tuples, with `n` as a parameter of this function.\n",
    "\n",
    "Call the function `simulate_throws_from_sample_space`."
   ]
  },
  {
   "cell_type": "markdown",
   "id": "330f20bd-d5b5-4795-9bd5-a0023085ead9",
   "metadata": {},
   "source": [
    "##### Solution 2"
   ]
  },
  {
   "cell_type": "code",
   "execution_count": 5,
   "id": "a8e1c1c7-99b4-4d90-8ee6-634fcdb0c726",
   "metadata": {},
   "outputs": [],
   "source": [
    "import random"
   ]
  },
  {
   "cell_type": "code",
   "execution_count": 6,
   "id": "ee255a4b-a6fb-4c6b-80b3-63d71dc5794b",
   "metadata": {},
   "outputs": [],
   "source": [
    "random.seed(0)"
   ]
  },
  {
   "cell_type": "code",
   "execution_count": 20,
   "id": "fdfef6e7-8350-49e4-81f4-7719227c2604",
   "metadata": {},
   "outputs": [],
   "source": [
    "l = make_sample_space(dice_numbering)\n",
    "\n",
    "def simulate_throws_from_sample_space(n, sample_space=l):\n",
    "    #return [random.choice(l) for _ in range(n)]\n",
    "    # using random.choices() instead of a for loop\n",
    "    return random.choices(sample_space, k=n)"
   ]
  },
  {
   "cell_type": "code",
   "execution_count": 21,
   "id": "b369e716-b237-4fea-a3f0-a66568dcc598",
   "metadata": {},
   "outputs": [
    {
     "data": {
      "text/plain": [
       "[('K', 'K'), ('Q', '10'), ('9', '9')]"
      ]
     },
     "execution_count": 21,
     "metadata": {},
     "output_type": "execute_result"
    }
   ],
   "source": [
    "simulate_throws_from_sample_space(3)"
   ]
  },
  {
   "cell_type": "code",
   "execution_count": 23,
   "id": "8a43d4b5-8d92-4061-98af-f00fba5caf72",
   "metadata": {},
   "outputs": [
    {
     "data": {
      "text/plain": [
       "[('A', '10'), ('10', 'J'), ('10', 'A'), ('A', '10'), ('10', '9'), ('Q', 'J')]"
      ]
     },
     "execution_count": 23,
     "metadata": {},
     "output_type": "execute_result"
    }
   ],
   "source": [
    "simulate_throws_from_sample_space(6)"
   ]
  },
  {
   "cell_type": "markdown",
   "id": "nearby-first",
   "metadata": {},
   "source": [
    "#### Question 3"
   ]
  },
  {
   "cell_type": "markdown",
   "id": "compliant-eleven",
   "metadata": {},
   "source": [
    "Your goal here is to implement a function `simulate_throws`, similar to the one you wrote in Question 2, but without generating a sample space at all - just using the `face_values`.\n",
    "\n",
    "Write a function that implements this, and name it `simulate_throws`."
   ]
  },
  {
   "cell_type": "markdown",
   "id": "c0d3a004-d36c-457f-bec0-95da16e94132",
   "metadata": {},
   "source": [
    "##### Solution 3"
   ]
  },
  {
   "cell_type": "code",
   "execution_count": 24,
   "id": "5f739b2b-e32e-489d-8392-1a2cf5c2d477",
   "metadata": {},
   "outputs": [],
   "source": [
    "def simulate_throws(n, face_values=dice_numbering):\n",
    "    return [tuple(random.choices(face_values, k=2)) for _ in range(n)]"
   ]
  },
  {
   "cell_type": "code",
   "execution_count": 27,
   "id": "9c61d30e-1742-4702-b73d-e3c49ca61e12",
   "metadata": {},
   "outputs": [
    {
     "data": {
      "text/plain": [
       "[('Q', 'J'), ('Q', '10'), ('10', '10')]"
      ]
     },
     "execution_count": 27,
     "metadata": {},
     "output_type": "execute_result"
    }
   ],
   "source": [
    "simulate_throws(3)"
   ]
  },
  {
   "cell_type": "code",
   "execution_count": 28,
   "id": "a20f9c8c-8076-45f1-9bc9-26971e9d01a7",
   "metadata": {},
   "outputs": [
    {
     "data": {
      "text/plain": [
       "[('Q', 'Q'), ('J', '9'), ('K', 'A'), ('A', 'A'), ('A', 'A'), ('Q', 'J')]"
      ]
     },
     "execution_count": 28,
     "metadata": {},
     "output_type": "execute_result"
    }
   ],
   "source": [
    "simulate_throws(6)"
   ]
  },
  {
   "cell_type": "markdown",
   "id": "useful-claim",
   "metadata": {},
   "source": [
    "#### Question 4"
   ]
  },
  {
   "cell_type": "markdown",
   "id": "photographic-collection",
   "metadata": {},
   "source": [
    "Using both methods of generating throws, build a dictionary that contains the face values as keys, and the number of times they were selected in the simulated throws."
   ]
  },
  {
   "cell_type": "markdown",
   "id": "hybrid-titanium",
   "metadata": {},
   "source": [
    "For example, assuming you made `100` throws using one of these methods, your dictionary might look like this:\n",
    "\n",
    "```\n",
    "{\n",
    "    '9': 39, \n",
    "    '10': 27, \n",
    "    'J': 28, \n",
    "    'Q': 34,\n",
    "    'K': 36, \n",
    "    'A': 36\n",
    "}\n",
    "```"
   ]
  },
  {
   "cell_type": "markdown",
   "id": "included-willow",
   "metadata": {},
   "source": [
    "Note that your values in the dictionary should add up to `200` is you made one `100` throws."
   ]
  },
  {
   "cell_type": "markdown",
   "id": "stuffed-think",
   "metadata": {},
   "source": [
    "Write a function that is given the function to use to generate the throws, the number of throws to simulate, and returns this dictionary."
   ]
  },
  {
   "cell_type": "markdown",
   "id": "bd78f20f-649c-4988-a922-ffc94a5e1645",
   "metadata": {},
   "source": [
    "##### Solution 4"
   ]
  },
  {
   "cell_type": "code",
   "execution_count": 125,
   "id": "303d221a-416b-42b8-92ce-6ac65820b4dd",
   "metadata": {},
   "outputs": [],
   "source": [
    "def freq_distribution(num_of_throws, face_values=dice_numbering, func_to_generate_throws=simulate_throws):\n",
    "    data = func_to_generate_throws(num_of_throws, face_values)\n",
    "    linearized = [num for el in data for num in el]\n",
    "    return {num: sum(1 for i in linearized if i == num) for num in face_values}"
   ]
  },
  {
   "cell_type": "code",
   "execution_count": 162,
   "id": "ac2194d6-682a-4d4e-8d80-dcb0cb0e81a5",
   "metadata": {},
   "outputs": [
    {
     "data": {
      "text/plain": [
       "{'9': 31, '10': 30, 'J': 28, 'Q': 37, 'K': 31, 'A': 43}"
      ]
     },
     "execution_count": 162,
     "metadata": {},
     "output_type": "execute_result"
    }
   ],
   "source": [
    "freq_distribution(100)"
   ]
  },
  {
   "cell_type": "markdown",
   "id": "89d1de9f-4e74-4fc7-8b96-2b8f2db6433f",
   "metadata": {},
   "source": [
    "Instead of doing this: `{num: sum(1 for i in linearized if i == num) for num in face_values}`\n",
    "\n",
    "Let's check out the `Counter()` function from the `collections` module, that can do something similar even quicker."
   ]
  },
  {
   "cell_type": "code",
   "execution_count": 29,
   "id": "2f76850d-9e4f-4e98-af3a-f2d017e230c8",
   "metadata": {},
   "outputs": [],
   "source": [
    "from collections import Counter"
   ]
  },
  {
   "cell_type": "code",
   "execution_count": 121,
   "id": "76a03048-323c-4be9-b8c3-61f31050ebee",
   "metadata": {},
   "outputs": [
    {
     "name": "stdout",
     "output_type": "stream",
     "text": [
      "[('a', 3), ('l', 2), ('g', 1)]\n"
     ]
    },
    {
     "data": {
      "text/plain": [
       "[('g', 1), ('l', 2)]"
      ]
     },
     "execution_count": 121,
     "metadata": {},
     "output_type": "execute_result"
    }
   ],
   "source": [
    "c = Counter('gallahad')\n",
    "print(c.most_common(3))\n",
    "c.most_common(3)[:-2-1:-1] # lists (key, value) pairs of `n` (2) least common elements where n is [:-n-1:-1]"
   ]
  },
  {
   "cell_type": "code",
   "execution_count": 122,
   "id": "43ac688b-aeb2-410d-8e80-8b39d742af41",
   "metadata": {},
   "outputs": [
    {
     "data": {
      "text/plain": [
       "Counter({'meat': 2, 'eggs': 1, 'milk': 1, 'butter': 1})"
      ]
     },
     "execution_count": 122,
     "metadata": {},
     "output_type": "execute_result"
    }
   ],
   "source": [
    "c = Counter(['eggs', 'meat', 'meat', 'milk', 'butter'])\n",
    "c"
   ]
  },
  {
   "cell_type": "code",
   "execution_count": 123,
   "id": "4db72bd2-5e22-4ceb-8feb-4cc811a0d179",
   "metadata": {},
   "outputs": [
    {
     "data": {
      "text/plain": [
       "{'eggs': 1,\n",
       " 'meat': 1,\n",
       " 'milk': 1,\n",
       " 'butter': 1,\n",
       " 'g': 1,\n",
       " 'a': 3,\n",
       " 'l': 2,\n",
       " 'h': 1,\n",
       " 'd': 1}"
      ]
     },
     "execution_count": 123,
     "metadata": {},
     "output_type": "execute_result"
    }
   ],
   "source": [
    "c = Counter(dict.fromkeys(['eggs', 'meat', 'meat', 'milk', 'butter'], 1))\n",
    "c.update(Counter('gallahad'))\n",
    "dict(c)"
   ]
  },
  {
   "cell_type": "code",
   "execution_count": 139,
   "id": "75dd5be8-9d31-44b5-8622-b4977d813d25",
   "metadata": {},
   "outputs": [
    {
     "data": {
      "text/plain": [
       "Counter({'milk': 5, 'meat': 3, 'eggs': 2, 'butter': 1, 'zero': 0})"
      ]
     },
     "execution_count": 139,
     "metadata": {},
     "output_type": "execute_result"
    }
   ],
   "source": [
    "list_of_pairs = [('eggs', 2), ('meat', 3), ('butter', 1), ('milk', 5), ('zero', 0)]\n",
    "\n",
    "c_pairs = Counter(dict(list_of_pairs))\n",
    "c_pairs"
   ]
  },
  {
   "cell_type": "markdown",
   "id": "6c769cec-c952-41d7-aaf3-41165863ae79",
   "metadata": {},
   "source": [
    "Now that we're doing trying out `Counter`. We can use `Counter()` to count the number of times a face_value shows up in the simulated data."
   ]
  },
  {
   "cell_type": "code",
   "execution_count": 160,
   "id": "4a64ad4a-0a85-4516-92ff-75bf51ad1b24",
   "metadata": {},
   "outputs": [],
   "source": [
    "def freq_dist_counter(num_of_throws, face_values=dice_numbering, func_to_generate_throws=simulate_throws):\n",
    "    data = func_to_generate_throws(num_of_throws, face_values)\n",
    "    linearized = [num for el in data for num in el]\n",
    "    _counted = Counter(linearized)\n",
    "    sort_order = {value: idx for idx, value in enumerate(dice_numbering)}\n",
    "    _sorted = sorted(_counted, key=lambda x: sort_order[x])\n",
    "    return {k: _counted[k] for k in _sorted}"
   ]
  },
  {
   "cell_type": "code",
   "execution_count": 161,
   "id": "cf2e2a3b-1197-470b-8564-d8554c91ab25",
   "metadata": {},
   "outputs": [
    {
     "data": {
      "text/plain": [
       "{'9': 41, '10': 27, 'J': 32, 'Q': 36, 'K': 31, 'A': 33}"
      ]
     },
     "execution_count": 161,
     "metadata": {},
     "output_type": "execute_result"
    }
   ],
   "source": [
    "freq_dist_counter(100)"
   ]
  },
  {
   "cell_type": "markdown",
   "id": "b54dd5c5-248f-47ef-9e9c-5c0a4747aca4",
   "metadata": {},
   "source": [
    "this ended up being overkill but was a good learning experience to see how I could use `Counter()` in place of the dictionary comprehension above. That said, it meant my finished code was a couple more lines compared to my earlier function `freq_distribution()`."
   ]
  },
  {
   "cell_type": "markdown",
   "id": "d5a01138-3dc8-4cde-9e56-29e8204b51c4",
   "metadata": {},
   "source": [
    "moving on...\n",
    "\n",
    "does the sum of values in dictionary add up to `200` after making `100` throws?"
   ]
  },
  {
   "cell_type": "code",
   "execution_count": 163,
   "id": "f8d20257-c1f2-4194-bae6-3394b73be828",
   "metadata": {},
   "outputs": [],
   "source": [
    "# do sum of values in dictionary equate 200 ?\n",
    "def is_sum_of_dict_values_200(_dict):\n",
    "    return sum(_dict.values()) == 200"
   ]
  },
  {
   "cell_type": "code",
   "execution_count": 166,
   "id": "401b8ac0-53c0-422c-85e3-29f4f5bc4554",
   "metadata": {},
   "outputs": [
    {
     "data": {
      "text/plain": [
       "True"
      ]
     },
     "execution_count": 166,
     "metadata": {},
     "output_type": "execute_result"
    }
   ],
   "source": [
    "is_sum_of_dict_values_200(freq_distribution(100))"
   ]
  },
  {
   "cell_type": "code",
   "execution_count": 167,
   "id": "d1f8126c-28b3-48ec-af54-1eb92bde8abf",
   "metadata": {},
   "outputs": [
    {
     "data": {
      "text/plain": [
       "True"
      ]
     },
     "execution_count": 167,
     "metadata": {},
     "output_type": "execute_result"
    }
   ],
   "source": [
    "is_sum_of_dict_values_200(freq_dist_counter(100))"
   ]
  },
  {
   "cell_type": "markdown",
   "id": "occupational-ladder",
   "metadata": {},
   "source": [
    "#### Question 5"
   ]
  },
  {
   "cell_type": "markdown",
   "id": "vietnamese-coral",
   "metadata": {},
   "source": [
    "Write a function that given two arguments `a` and `b` returns a random float between `a` (inclusive) and `b` (exclusive)."
   ]
  },
  {
   "cell_type": "markdown",
   "id": "4361962b-f520-470b-9c1f-8e77806d68fa",
   "metadata": {},
   "source": [
    "##### Solution 5"
   ]
  },
  {
   "cell_type": "code",
   "execution_count": 378,
   "id": "58dae2eb-a3de-45a5-9727-d66fd5c95945",
   "metadata": {},
   "outputs": [],
   "source": [
    "def random_float(a, b):\n",
    "    # random.random() generates a random float within [0, 1)\n",
    "    # while random.uniform() generate a random float within [0, 1]\n",
    "    # to generate [a, b) we need to modify random.random()\n",
    "    return a + (random.random() * (b-a))"
   ]
  },
  {
   "cell_type": "code",
   "execution_count": 379,
   "id": "4000bc9a-f4df-4037-818b-9925c8786de1",
   "metadata": {},
   "outputs": [
    {
     "data": {
      "text/plain": [
       "2.6538768733044558"
      ]
     },
     "execution_count": 379,
     "metadata": {},
     "output_type": "execute_result"
    }
   ],
   "source": [
    "random_float(2, 3)"
   ]
  },
  {
   "cell_type": "code",
   "execution_count": 380,
   "id": "255e4d8e-f822-4885-9214-70cd48e1b826",
   "metadata": {},
   "outputs": [
    {
     "name": "stdout",
     "output_type": "stream",
     "text": [
      "1.2661803907441151\n",
      "1.2496230705061109\n",
      "4.888372977494467\n",
      "2.6906115751221993\n",
      "4.569715735971437\n",
      "1.866097135811056\n",
      "2.7408527178184676\n",
      "2.4321405384526202\n",
      "1.7077421441398766\n",
      "2.3152527430076666\n"
     ]
    }
   ],
   "source": [
    "for _ in range(10):\n",
    "    print(random_float(1, 5))"
   ]
  }
 ],
 "metadata": {
  "kernelspec": {
   "display_name": "Python 3 (ipykernel)",
   "language": "python",
   "name": "python3"
  },
  "language_info": {
   "codemirror_mode": {
    "name": "ipython",
    "version": 3
   },
   "file_extension": ".py",
   "mimetype": "text/x-python",
   "name": "python",
   "nbconvert_exporter": "python",
   "pygments_lexer": "ipython3",
   "version": "3.9.19"
  }
 },
 "nbformat": 4,
 "nbformat_minor": 5
}
