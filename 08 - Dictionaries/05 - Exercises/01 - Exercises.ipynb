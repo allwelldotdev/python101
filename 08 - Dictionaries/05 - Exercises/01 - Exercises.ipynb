{
 "cells": [
  {
   "cell_type": "markdown",
   "id": "corporate-husband",
   "metadata": {},
   "source": [
    "### Solutions"
   ]
  },
  {
   "cell_type": "markdown",
   "id": "romance-tracker",
   "metadata": {},
   "source": [
    "#### Question 1"
   ]
  },
  {
   "cell_type": "markdown",
   "id": "empty-slovenia",
   "metadata": {},
   "source": [
    "Use a dictionary to count the frequency of the characters `a-z A-Z` in a given string.\n",
    "\n",
    "You should write your code to be as general as possible, so that it will work with any string of any given length.\n",
    "\n",
    "Your resulting dictionary should only contain keys for characters that occured at least once (i.e. no zero count characters should be present.)\n",
    "\n",
    "Hint: you will probably want to use the `ord()` function that we studied earlier along with the unicode character codes for `a`, `z`, `A` and `Z`."
   ]
  },
  {
   "cell_type": "markdown",
   "id": "thousand-handling",
   "metadata": {},
   "source": [
    "For example, if the given string is:\n",
    "\n",
    "```\n",
    "s = 'Aa, Bb - A a B C'\n",
    "```\n",
    "\n",
    "then your resulting dictionary should be:\n",
    "\n",
    "```\n",
    "{\n",
    "    'A': 2, \n",
    "    'a': 2, \n",
    "    'B': 2, \n",
    "    'b': 1, \n",
    "    'C': 1\n",
    "}\n",
    "```\n",
    "\n",
    "(Note that the order of the keys in the dictionary is not important)"
   ]
  },
  {
   "cell_type": "markdown",
   "id": "considerable-orchestra",
   "metadata": {},
   "source": [
    "Here are two sample strings you can use:"
   ]
  },
  {
   "cell_type": "code",
   "execution_count": 1,
   "id": "baking-logic",
   "metadata": {},
   "outputs": [],
   "source": [
    "s1 = \"\"\"\n",
    "“'And' and 'or' are the basic operations of logic. Together with 'no' (the logical operation \n",
    "of negation) they are a complete set of basic logical operations — all other logical \n",
    "operations, no matter how complex, can be obtained by suitable combinations of these.” \n",
    "― John von Neumann, The Computer and the Brain\n",
    "\"\"\"\n",
    "\n",
    "s2 = \"\"\"\n",
    "Lorem ipsum dolor sit amet, consectetur adipiscing elit, sed do eiusmod tempor incididunt ut \n",
    "labore et dolore magna aliqua. Ut enim ad minim veniam, quis nostrud exercitation ullamco laboris \n",
    "nisi ut aliquip ex ea commodo consequat. Duis aute irure dolor in reprehenderit in voluptate velit \n",
    "esse cillum dolore eu fugiat nulla pariatur. Excepteur sint occaecat cupidatat non proident, sunt \n",
    "in culpa qui officia deserunt mollit anim id est laborum.\n",
    "\"\"\"\n",
    "\n",
    "s3 = 'Aa, Bb - A a B C'"
   ]
  },
  {
   "cell_type": "code",
   "execution_count": 59,
   "id": "40ab298a-dd40-4c06-a392-64c266178b3f",
   "metadata": {},
   "outputs": [
    {
     "name": "stdout",
     "output_type": "stream",
     "text": [
      "Alphabet count: {'A': 1, 'n': 20, 'd': 4, 'a': 23, 'o': 31, 'r': 12, 'e': 27, 't': 21, 'h': 11, 'b': 7, 's': 9, 'i': 17, 'c': 10, 'p': 7, 'f': 4, 'l': 12, 'g': 6, 'T': 2, 'w': 2, 'y': 2, 'm': 6, 'x': 1, 'u': 3, 'J': 1, 'v': 1, 'N': 1, 'C': 1, 'B': 1}\n",
      "Alphabet with highest count: ('o', 31)\n"
     ]
    }
   ],
   "source": [
    "alphabets = dict.fromkeys('abcdefghijklmnopqrstuvwxyzABCDEFGHIJKLMNOPQRSTUVWXYZ', 0)\n",
    "alphabet_count = {}\n",
    "iterate_str = s1\n",
    "\n",
    "# number of characters in string\n",
    "for i in iterate_str:\n",
    "    if i in alphabets:\n",
    "        alphabet_count[i] = alphabet_count.get(i, 0) + 1\n",
    "print(f'Alphabet count: {alphabet_count}')\n",
    "\n",
    "# what character has highest count in string\n",
    "count = 0\n",
    "for v in alphabet_count.values():\n",
    "    if v > count:\n",
    "        count = v\n",
    "for t in alphabet_count.items():\n",
    "    k, v = t\n",
    "    if v == count:\n",
    "        print(f'Alphabet with highest count: {t}')"
   ]
  },
  {
   "cell_type": "code",
   "execution_count": 3,
   "id": "5a24e15d-0332-48cc-b6e5-d91ab4460eba",
   "metadata": {},
   "outputs": [
    {
     "data": {
      "text/plain": [
       "97"
      ]
     },
     "execution_count": 3,
     "metadata": {},
     "output_type": "execute_result"
    }
   ],
   "source": [
    "ord('a')"
   ]
  },
  {
   "cell_type": "markdown",
   "id": "double-engine",
   "metadata": {},
   "source": [
    "#### Question 2"
   ]
  },
  {
   "cell_type": "markdown",
   "id": "finnish-villa",
   "metadata": {},
   "source": [
    "Given the following dictionaries:"
   ]
  },
  {
   "cell_type": "code",
   "execution_count": 4,
   "id": "racial-medline",
   "metadata": {},
   "outputs": [],
   "source": [
    "d1 = {'a': 10, 'b': 20, 'c': 30}\n",
    "d2 = {'d': 100, 'e': 200, 'f': 300}\n",
    "d3 = {'f': 30, 'g': 40}"
   ]
  },
  {
   "cell_type": "markdown",
   "id": "north-information",
   "metadata": {},
   "source": [
    "Construct two lists, one containing all the keys of both dictionaries, and one containing all the values of each dictionary. (It is OK for values or keys to be repeated in the lists)."
   ]
  },
  {
   "cell_type": "markdown",
   "id": "automotive-railway",
   "metadata": {},
   "source": [
    "In the example above you should end up with two lists containing the elements:\n",
    "\n",
    "```\n",
    "'a', 'b', 'c', 'd', 'e', 'f', 'f', 'g'\n",
    "```\n",
    "\n",
    "and\n",
    "\n",
    "```\n",
    "10, 20, 30, 100, 200, 300, 30, 40\n",
    "```"
   ]
  },
  {
   "cell_type": "markdown",
   "id": "military-tuning",
   "metadata": {},
   "source": [
    "Note that the order in which the elements appear in each list is not important."
   ]
  },
  {
   "cell_type": "code",
   "execution_count": 5,
   "id": "6b9ad8f2-9243-4389-b048-c15c36c1676d",
   "metadata": {},
   "outputs": [
    {
     "name": "stdout",
     "output_type": "stream",
     "text": [
      "['a', 'b', 'c', 'd', 'e', 'f', 'f', 'g'] [10, 20, 30, 100, 200, 300, 30, 40]\n"
     ]
    }
   ],
   "source": [
    "d1 = {'a': 10, 'b': 20, 'c': 30}\n",
    "d2 = {'d': 100, 'e': 200, 'f': 300}\n",
    "d3 = {'f': 30, 'g': 40}\n",
    "\n",
    "l_with_keys = []\n",
    "l_with_values = []\n",
    "\n",
    "for k in d1, d2, d3:\n",
    "    l_with_keys.extend(k)\n",
    "for v in d1.values(), d2.values(), d3.values():\n",
    "    l_with_values.extend(v)\n",
    "\n",
    "print(l_with_keys, l_with_values)"
   ]
  },
  {
   "cell_type": "markdown",
   "id": "hawaiian-proxy",
   "metadata": {},
   "source": [
    "#### Question 3"
   ]
  },
  {
   "cell_type": "markdown",
   "id": "cardiac-contractor",
   "metadata": {},
   "source": [
    "In this example, suppose you have a grade book designed as follows:"
   ]
  },
  {
   "cell_type": "code",
   "execution_count": 6,
   "id": "decreased-dress",
   "metadata": {},
   "outputs": [],
   "source": [
    "grades = {\n",
    "    'John': [90, 95, 98],\n",
    "    'Eric': [86, 84, 92],\n",
    "    'Michael': [90, 89, 85]\n",
    "}"
   ]
  },
  {
   "cell_type": "markdown",
   "id": "alleged-relevance",
   "metadata": {},
   "source": [
    "This grade book is a dictionary that consists of the student's name as the key, and the value is a list representing results for a series of tests, from most recent to oldest."
   ]
  },
  {
   "cell_type": "markdown",
   "id": "hidden-crystal",
   "metadata": {},
   "source": [
    "A new exam has just been graded, and you receive the grades for that specific exam also as a dictionary:"
   ]
  },
  {
   "cell_type": "code",
   "execution_count": 7,
   "id": "acceptable-clinic",
   "metadata": {},
   "outputs": [],
   "source": [
    "exam = {\n",
    "    'Eric': 99,\n",
    "    'John': 100\n",
    "}"
   ]
  },
  {
   "cell_type": "markdown",
   "id": "interracial-florence",
   "metadata": {},
   "source": [
    "Write code that updates the grades dictionary by adding the latest test result to the beginning of each list corresponding to the student.\n",
    "\n",
    "If the new exam grade is missing for a student, assign the value `None` as the latest grade in the `grades` dictionary."
   ]
  },
  {
   "cell_type": "markdown",
   "id": "judicial-release",
   "metadata": {},
   "source": [
    "For the data given above, your `grades` dictionary should now contain the following information:\n",
    "\n",
    "```\n",
    "{\n",
    "    'John': [100, 90, 95, 98],\n",
    "    'Eric': [99, 86, 84, 92],\n",
    "    'Michael': [None, 90, 89, 85]\n",
    "}\n",
    "```"
   ]
  },
  {
   "cell_type": "code",
   "execution_count": 52,
   "id": "89c27215-991f-4ff4-8837-4c35c2d32362",
   "metadata": {},
   "outputs": [
    {
     "name": "stdout",
     "output_type": "stream",
     "text": [
      "{'Eric': 99, 'John': 100}\n",
      "{'John': [100, 90, 95, 98], 'Eric': [99, 86, 84, 92], 'Michael': [None, 90, 89, 85]}\n",
      "{}\n"
     ]
    }
   ],
   "source": [
    "grades = {\n",
    "    'John': [90, 95, 98],\n",
    "    'Eric': [86, 84, 92],\n",
    "    'Michael': [90, 89, 85]\n",
    "}\n",
    "\n",
    "exam = {\n",
    "    'Eric': 99,\n",
    "    'John': 100\n",
    "}\n",
    "\n",
    "print(exam)\n",
    "\n",
    "while len(exam) > 0:\n",
    "    for k, v in exam.items():\n",
    "        if k in grades:\n",
    "            grades[k].insert(0, v)\n",
    "        else:\n",
    "            grades[k] = v\n",
    "    for student in grades:\n",
    "        if student not in exam:\n",
    "            grades[student].insert(0, None)\n",
    "    exam.clear()\n",
    "\n",
    "print(grades)\n",
    "\n",
    "print(exam)"
   ]
  }
 ],
 "metadata": {
  "kernelspec": {
   "display_name": "Python 3 (ipykernel)",
   "language": "python",
   "name": "python3"
  },
  "language_info": {
   "codemirror_mode": {
    "name": "ipython",
    "version": 3
   },
   "file_extension": ".py",
   "mimetype": "text/x-python",
   "name": "python",
   "nbconvert_exporter": "python",
   "pygments_lexer": "ipython3",
   "version": "3.9.19"
  }
 },
 "nbformat": 4,
 "nbformat_minor": 5
}
