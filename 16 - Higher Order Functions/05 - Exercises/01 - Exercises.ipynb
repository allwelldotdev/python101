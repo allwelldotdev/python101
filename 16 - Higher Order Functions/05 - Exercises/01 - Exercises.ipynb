{
 "cells": [
  {
   "cell_type": "markdown",
   "id": "tight-homework",
   "metadata": {},
   "source": [
    "### Exercises"
   ]
  },
  {
   "cell_type": "markdown",
   "id": "focused-phone",
   "metadata": {},
   "source": [
    "#### Question 1"
   ]
  },
  {
   "cell_type": "markdown",
   "id": "accomplished-livestock",
   "metadata": {},
   "source": [
    "We want to write a function that can find an approximate maximum or minimum of some given function over some given range."
   ]
  },
  {
   "cell_type": "markdown",
   "id": "exempt-heater",
   "metadata": {},
   "source": [
    "For example, given some function:\n",
    "\n",
    "```\n",
    "f(x) = x**2 - 1\n",
    "```\n",
    "\n",
    "our function should return an approximate minimum (or maximum) of `f` over some given range, say `[-5, 5]`."
   ]
  },
  {
   "cell_type": "markdown",
   "id": "closing-belle",
   "metadata": {},
   "source": [
    "We'll do this by essentially splitting our intervals into `n` points (what I'll call the `resolution`), evaluating the function at each of these points, and returning either the min or the max."
   ]
  },
  {
   "cell_type": "markdown",
   "id": "comfortable-aviation",
   "metadata": {},
   "source": [
    "We want this function to be generic, so it should have the following parameters:\n",
    "- a function of one variable\n",
    "- a range of values defined by start/end values\n",
    "- a value indicating the \"resolution\"\n",
    "- a value indicating whether we want the min or the max"
   ]
  },
  {
   "cell_type": "markdown",
   "id": "deff640b-df02-434d-88a4-6f7aaf0c2c8e",
   "metadata": {},
   "source": [
    "##### Solution 1"
   ]
  },
  {
   "cell_type": "code",
   "execution_count": 230,
   "id": "e4a5944b-c90c-44ee-b7c0-9ee9bcfbf96f",
   "metadata": {},
   "outputs": [],
   "source": [
    "f = lambda x: x**2 - 1\n",
    "\n",
    "def find_approx_min_max(func, start, end, *, is_min=True):\n",
    "    range_n = [func(n) for n in range(start, end+1)]\n",
    "    if is_min:\n",
    "        range_approx = min(range_n)\n",
    "    else :\n",
    "        range_approx = max(range_n)\n",
    "    return range_approx"
   ]
  },
  {
   "cell_type": "code",
   "execution_count": 231,
   "id": "fa9bc5c8-e14e-4e44-b56f-874e645a9979",
   "metadata": {},
   "outputs": [
    {
     "data": {
      "text/plain": [
       "-1"
      ]
     },
     "execution_count": 231,
     "metadata": {},
     "output_type": "execute_result"
    }
   ],
   "source": [
    "find_approx_min_max(f, -5, 5)"
   ]
  },
  {
   "cell_type": "code",
   "execution_count": 232,
   "id": "3d3e55fa-2cfa-40f3-bd0a-5fd6499d099b",
   "metadata": {},
   "outputs": [
    {
     "data": {
      "text/plain": [
       "24"
      ]
     },
     "execution_count": 232,
     "metadata": {},
     "output_type": "execute_result"
    }
   ],
   "source": [
    "find_approx_min_max(f, -5, 5, is_min=False)"
   ]
  },
  {
   "cell_type": "markdown",
   "id": "fiscal-exclusive",
   "metadata": {},
   "source": [
    "#### Question 2"
   ]
  },
  {
   "cell_type": "markdown",
   "id": "tribal-irrigation",
   "metadata": {},
   "source": [
    "You are given a function of two variables, and a list of tuples containing the values for the two variables."
   ]
  },
  {
   "cell_type": "markdown",
   "id": "guilty-opposition",
   "metadata": {},
   "source": [
    "Create a list that is the result of calling the function on each values in the list, using three different techniques:\n",
    "- a `for` loop\n",
    "- a list comprehension\n",
    "- the `map` function\n",
    "\n",
    "Use the `timeit` function to time each approach.\n",
    "\n",
    "Hint: write a function that implements each approach, and then time calling those functions using the `timeit` function (`from timeit import timeit` - we've used it before). Also you will want to specify `number=10` or something like that when you run `timeit` - unless you want to sit there watvhing your screen for quite a while :-)"
   ]
  },
  {
   "cell_type": "code",
   "execution_count": 66,
   "id": "prompt-investigator",
   "metadata": {},
   "outputs": [],
   "source": [
    "import math\n",
    "\n",
    "def func(point):\n",
    "    # expect point to be a sequence of two values\n",
    "    x, y = point\n",
    "    return math.hypot(x, y)  \n",
    "    # hypot is a function that calculates sqrt(x**2 + y**2), given a sequence (x, y)\n",
    "\n",
    "points = [\n",
    "    (0, 0),\n",
    "    (1, 1),\n",
    "    (10, 20),\n",
    "    (math.pi, math.e)\n",
    "]"
   ]
  },
  {
   "cell_type": "markdown",
   "id": "tutorial-absolute",
   "metadata": {},
   "source": [
    "Your result for `points` should be:\n",
    "\n",
    "```\n",
    "[0.0, 1.4142135623730951, 22.360679774997898, 4.154354402313314]\n",
    "```"
   ]
  },
  {
   "cell_type": "markdown",
   "id": "digital-september",
   "metadata": {},
   "source": [
    "For timing purposes, use a larger set of points, like this one:"
   ]
  },
  {
   "cell_type": "code",
   "execution_count": 67,
   "id": "informal-equality",
   "metadata": {},
   "outputs": [],
   "source": [
    "points_large = [(math.sin(x), math.cos(x)) for x in range(1, 1_000_000)]"
   ]
  },
  {
   "cell_type": "markdown",
   "id": "6a4367ff-2442-4c22-9ead-69b8dab27624",
   "metadata": {},
   "source": [
    "##### Solution 2"
   ]
  },
  {
   "cell_type": "code",
   "execution_count": 85,
   "id": "2518c636-1893-4dda-a734-2566f6c66370",
   "metadata": {},
   "outputs": [
    {
     "data": {
      "text/plain": [
       "[0.0, 1.4142135623730951, 22.360679774997898, 4.154354402313314]"
      ]
     },
     "execution_count": 85,
     "metadata": {},
     "output_type": "execute_result"
    }
   ],
   "source": [
    "def result_for(f, points):\n",
    "    result = []\n",
    "    for point in points:\n",
    "        result.append(f(point))\n",
    "    return result\n",
    "\n",
    "result_for(func, points)"
   ]
  },
  {
   "cell_type": "code",
   "execution_count": 92,
   "id": "25ef8260-3e2b-4f9f-b786-3d1a43973c21",
   "metadata": {},
   "outputs": [
    {
     "data": {
      "text/plain": [
       "[0.0, 1.4142135623730951, 22.360679774997898, 4.154354402313314]"
      ]
     },
     "execution_count": 92,
     "metadata": {},
     "output_type": "execute_result"
    }
   ],
   "source": [
    "def result_list(f, points):\n",
    "    return [f(point) for point in points]\n",
    "\n",
    "result_list(func, points)"
   ]
  },
  {
   "cell_type": "code",
   "execution_count": 93,
   "id": "b3d9ca1c-0912-44f2-a938-ad4b6b8a8c9c",
   "metadata": {},
   "outputs": [
    {
     "data": {
      "text/plain": [
       "[0.0, 1.4142135623730951, 22.360679774997898, 4.154354402313314]"
      ]
     },
     "execution_count": 93,
     "metadata": {},
     "output_type": "execute_result"
    }
   ],
   "source": [
    "def result_map(f, points):\n",
    "    return list(map(func, points))\n",
    "\n",
    "result_map(func, points)"
   ]
  },
  {
   "cell_type": "code",
   "execution_count": 94,
   "id": "020ffbef-9d12-4e55-b938-495d37edec79",
   "metadata": {},
   "outputs": [],
   "source": [
    "from timeit import timeit"
   ]
  },
  {
   "cell_type": "code",
   "execution_count": 117,
   "id": "d222a91d-18be-43b3-a6ff-7c57c144862e",
   "metadata": {},
   "outputs": [
    {
     "data": {
      "text/plain": [
       "1.834980200001155"
      ]
     },
     "execution_count": 117,
     "metadata": {},
     "output_type": "execute_result"
    }
   ],
   "source": [
    "timeit('result_for(func, points_large)', globals=globals(), number=10)"
   ]
  },
  {
   "cell_type": "code",
   "execution_count": 118,
   "id": "39ce3be1-14e5-4b84-9f5b-181b8db70f61",
   "metadata": {},
   "outputs": [
    {
     "data": {
      "text/plain": [
       "1.6617893460006599"
      ]
     },
     "execution_count": 118,
     "metadata": {},
     "output_type": "execute_result"
    }
   ],
   "source": [
    "timeit('result_list(func, points_large)', globals=globals(), number=10)"
   ]
  },
  {
   "cell_type": "code",
   "execution_count": 119,
   "id": "bed674ea-9ce6-490d-a08d-3b6f4c6f2c42",
   "metadata": {},
   "outputs": [
    {
     "data": {
      "text/plain": [
       "1.4613371680006821"
      ]
     },
     "execution_count": 119,
     "metadata": {},
     "output_type": "execute_result"
    }
   ],
   "source": [
    "timeit('result_map(func, points_large)', globals=globals(), number=10)"
   ]
  },
  {
   "cell_type": "markdown",
   "id": "caroline-analysis",
   "metadata": {},
   "source": [
    "#### Question 3"
   ]
  },
  {
   "cell_type": "markdown",
   "id": "special-stuart",
   "metadata": {},
   "source": [
    "Write a function that returns a function with all arguments, except the first one, prefilled with certain values provided to the outer function."
   ]
  },
  {
   "cell_type": "markdown",
   "id": "becoming-civilization",
   "metadata": {},
   "source": [
    "(This is sometimes called a partial function)."
   ]
  },
  {
   "cell_type": "markdown",
   "id": "solar-watson",
   "metadata": {},
   "source": [
    "For example, we may have some functions such as:"
   ]
  },
  {
   "cell_type": "code",
   "execution_count": 120,
   "id": "divine-brand",
   "metadata": {},
   "outputs": [],
   "source": [
    "import math"
   ]
  },
  {
   "cell_type": "code",
   "execution_count": 121,
   "id": "saving-hazard",
   "metadata": {},
   "outputs": [],
   "source": [
    "def power(x, n):\n",
    "    return x ** n"
   ]
  },
  {
   "cell_type": "code",
   "execution_count": 122,
   "id": "requested-mathematics",
   "metadata": {},
   "outputs": [],
   "source": [
    "def dist(pt1, pt2):\n",
    "    return math.sqrt(sum(coord_1 - coord_2 for coord_1, coord_2 in zip(pt1, pt2)))"
   ]
  },
  {
   "cell_type": "markdown",
   "id": "hungry-aberdeen",
   "metadata": {},
   "source": [
    "Or even functions already defined, such as:\n",
    "\n",
    "```\n",
    "math.gcd(a, b)\n",
    "```\n",
    "or\n",
    "```\n",
    "math.log(x, base)\n",
    "```"
   ]
  },
  {
   "cell_type": "markdown",
   "id": "entitled-denver",
   "metadata": {},
   "source": [
    "We want to to be able to generate new functions, based on these ones (`power`, `dist`, `gcd`, `log`) but with all the values except the first one prefilled, for example, assuming our function is named `partial`, we can use it to define new functions this way:"
   ]
  },
  {
   "cell_type": "markdown",
   "id": "first-velvet",
   "metadata": {},
   "source": [
    "```\n",
    "squares = partial(power, 2)\n",
    "dist_from_origin = partial(dist, (0, 0))\n",
    "gcd_13 = partial(math.gcd, 13)\n",
    "log_2 = partial(math.log, 2)\n",
    "log_10 = partial(math.log, 10)\n",
    "log_16 = partial(math.log, 16)\n",
    "```"
   ]
  },
  {
   "cell_type": "markdown",
   "id": "gentle-monitor",
   "metadata": {},
   "source": [
    "Then when we call our new functions, we just pass in the value for the first argument, i.e."
   ]
  },
  {
   "cell_type": "markdown",
   "id": "bridal-scenario",
   "metadata": {},
   "source": [
    "```\n",
    "squares(3) --> 9\n",
    "squares(4) --> 16\n",
    "dist_from_origin((1, 1)) --> 1.414\n",
    "log_2(10) --> 3.3219\n",
    "log_10(10) --> 1.0\n",
    "log_16(10) --> 0.8304\n",
    "```"
   ]
  },
  {
   "cell_type": "code",
   "execution_count": 156,
   "id": "3ea711ea-ffee-4da9-94d3-1cd670e6b875",
   "metadata": {},
   "outputs": [],
   "source": [
    "def partial(func, b):\n",
    "    def inner(a):\n",
    "        return func(a, b)\n",
    "    return inner"
   ]
  },
  {
   "cell_type": "code",
   "execution_count": 157,
   "id": "69f08538-a45e-4998-afa7-1aae17e83ae0",
   "metadata": {},
   "outputs": [
    {
     "data": {
      "text/plain": [
       "9"
      ]
     },
     "execution_count": 157,
     "metadata": {},
     "output_type": "execute_result"
    }
   ],
   "source": [
    "squares = partial(power, 2)\n",
    "squares(3)"
   ]
  },
  {
   "cell_type": "code",
   "execution_count": 158,
   "id": "c30a2174-9dc8-45a3-b072-6f980cd65cec",
   "metadata": {},
   "outputs": [
    {
     "data": {
      "text/plain": [
       "16"
      ]
     },
     "execution_count": 158,
     "metadata": {},
     "output_type": "execute_result"
    }
   ],
   "source": [
    "squares = partial(power, 2)\n",
    "squares(4)"
   ]
  },
  {
   "cell_type": "code",
   "execution_count": 159,
   "id": "bac0419c-a6b7-40d4-b60b-17cb0a5f74f5",
   "metadata": {},
   "outputs": [
    {
     "data": {
      "text/plain": [
       "1.414"
      ]
     },
     "execution_count": 159,
     "metadata": {},
     "output_type": "execute_result"
    }
   ],
   "source": [
    "dist_from_origin = partial(dist, (0, 0))\n",
    "round(dist_from_origin((1, 1)), 3)"
   ]
  },
  {
   "cell_type": "code",
   "execution_count": 160,
   "id": "3aba95f4-bdd2-4f69-8f70-a25b59a2a623",
   "metadata": {},
   "outputs": [
    {
     "data": {
      "text/plain": [
       "3.3219"
      ]
     },
     "execution_count": 160,
     "metadata": {},
     "output_type": "execute_result"
    }
   ],
   "source": [
    "log_2 = partial(math.log, 2)\n",
    "round(log_2(10), 4)"
   ]
  },
  {
   "cell_type": "code",
   "execution_count": 161,
   "id": "6fe9765e-de02-4e42-a4be-2f4860c71a28",
   "metadata": {},
   "outputs": [
    {
     "data": {
      "text/plain": [
       "1.0"
      ]
     },
     "execution_count": 161,
     "metadata": {},
     "output_type": "execute_result"
    }
   ],
   "source": [
    "log_10 = partial(math.log, 10)\n",
    "log_10(10)"
   ]
  },
  {
   "cell_type": "code",
   "execution_count": 162,
   "id": "94c4de63-cd0a-4859-9e7d-0973a0740ae7",
   "metadata": {},
   "outputs": [
    {
     "data": {
      "text/plain": [
       "0.8305"
      ]
     },
     "execution_count": 162,
     "metadata": {},
     "output_type": "execute_result"
    }
   ],
   "source": [
    "log_16 = partial(math.log, 16)\n",
    "round(log_16(10), 4)"
   ]
  },
  {
   "cell_type": "markdown",
   "id": "cleared-watson",
   "metadata": {},
   "source": [
    "#### Question 4"
   ]
  },
  {
   "cell_type": "markdown",
   "id": "registered-moscow",
   "metadata": {},
   "source": [
    "Write a function that can be used to not only execute another function with specified arguments, but print a \"log\" (basically just print to the console\", of how long it took to execute the function."
   ]
  },
  {
   "cell_type": "markdown",
   "id": "invisible-elephant",
   "metadata": {},
   "source": [
    "For example, given some functions like this:"
   ]
  },
  {
   "cell_type": "code",
   "execution_count": 199,
   "id": "prerequisite-allergy",
   "metadata": {},
   "outputs": [],
   "source": [
    "def norm(x, y):\n",
    "    return math.sqrt(x**2 + y**2)\n",
    "\n",
    "def find_index_min(seq):\n",
    "    min_ = min(seq)\n",
    "    return seq.index(min_)"
   ]
  },
  {
   "cell_type": "markdown",
   "id": "heavy-police",
   "metadata": {},
   "source": [
    "Then assuming your logging function is called `logged`, you could create logged functions this way:"
   ]
  },
  {
   "cell_type": "code",
   "execution_count": 7,
   "id": "liquid-divide",
   "metadata": {},
   "outputs": [],
   "source": [
    "def logged(f):\n",
    "    # implement this\n",
    "    pass"
   ]
  },
  {
   "cell_type": "code",
   "execution_count": 8,
   "id": "measured-packaging",
   "metadata": {},
   "outputs": [],
   "source": [
    "norm_logged = logged(norm)\n",
    "find_index_min_logged = logged(find_index_min)"
   ]
  },
  {
   "cell_type": "markdown",
   "id": "czech-husband",
   "metadata": {},
   "source": [
    "You would then be able to call `norm_logged` with some arguments, or `find_index_min_logged` with some arguments, and not only get the actual result back, but also see an output to the console that tells you how long the function took to run."
   ]
  },
  {
   "cell_type": "markdown",
   "id": "5e051d9b-9951-4a4e-a6c6-5832578a4db9",
   "metadata": {},
   "source": [
    "##### Solution 4"
   ]
  },
  {
   "cell_type": "code",
   "execution_count": 170,
   "id": "c429136a-5e27-423e-83f7-765f12a67db3",
   "metadata": {},
   "outputs": [],
   "source": [
    "from time import perf_counter"
   ]
  },
  {
   "cell_type": "code",
   "execution_count": 213,
   "id": "f8ea21fa-c69c-41e6-8338-d4a25a3ff169",
   "metadata": {},
   "outputs": [],
   "source": [
    "def logged(func):\n",
    "    def inner(*args):\n",
    "        start = perf_counter()\n",
    "        result = func(*args)\n",
    "        end = perf_counter()\n",
    "        print(f'Logged (runtime): {end - start}')\n",
    "        return result\n",
    "    return inner"
   ]
  },
  {
   "cell_type": "code",
   "execution_count": 214,
   "id": "c5973b08-6bdd-439d-9c1c-1a4aa70c9b6a",
   "metadata": {},
   "outputs": [],
   "source": [
    "norm_logged = logged(norm)"
   ]
  },
  {
   "cell_type": "code",
   "execution_count": 215,
   "id": "61614f2c-e37d-431e-b8bf-ba5a8d88a07b",
   "metadata": {},
   "outputs": [
    {
     "name": "stdout",
     "output_type": "stream",
     "text": [
      "Logged (runtime): 7.2999991971300915e-06\n"
     ]
    },
    {
     "data": {
      "text/plain": [
       "4.47213595499958"
      ]
     },
     "execution_count": 215,
     "metadata": {},
     "output_type": "execute_result"
    }
   ],
   "source": [
    "norm_logged(2, 4)"
   ]
  },
  {
   "cell_type": "code",
   "execution_count": 216,
   "id": "3628ae01-0fe7-41fb-ac3a-fc5ae06c233e",
   "metadata": {},
   "outputs": [],
   "source": [
    "find_index_min_logged = logged(find_index_min)"
   ]
  },
  {
   "cell_type": "code",
   "execution_count": 217,
   "id": "849d49fc-0934-48db-9ddb-a476eb3743e1",
   "metadata": {},
   "outputs": [
    {
     "name": "stdout",
     "output_type": "stream",
     "text": [
      "Logged (runtime): 3.6999990697950125e-06\n"
     ]
    },
    {
     "data": {
      "text/plain": [
       "2"
      ]
     },
     "execution_count": 217,
     "metadata": {},
     "output_type": "execute_result"
    }
   ],
   "source": [
    "find_index_min_logged([10, 8, 1, 4, 9])"
   ]
  }
 ],
 "metadata": {
  "kernelspec": {
   "display_name": "Python 3 (ipykernel)",
   "language": "python",
   "name": "python3"
  },
  "language_info": {
   "codemirror_mode": {
    "name": "ipython",
    "version": 3
   },
   "file_extension": ".py",
   "mimetype": "text/x-python",
   "name": "python",
   "nbconvert_exporter": "python",
   "pygments_lexer": "ipython3",
   "version": "3.9.19"
  }
 },
 "nbformat": 4,
 "nbformat_minor": 5
}
