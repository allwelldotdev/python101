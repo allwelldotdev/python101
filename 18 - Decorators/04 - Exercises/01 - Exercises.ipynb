{
 "cells": [
  {
   "cell_type": "markdown",
   "id": "played-luxembourg",
   "metadata": {},
   "source": [
    "### Solutions"
   ]
  },
  {
   "cell_type": "markdown",
   "id": "limited-cosmetic",
   "metadata": {},
   "source": [
    "#### Question 1"
   ]
  },
  {
   "cell_type": "markdown",
   "id": "skilled-royal",
   "metadata": {},
   "source": [
    "Write a decorator that can be used to print out how long a function takes to run."
   ]
  },
  {
   "cell_type": "code",
   "execution_count": 1,
   "id": "a469b81f-6a97-48e7-ab38-2b5367e86735",
   "metadata": {},
   "outputs": [],
   "source": [
    "from time import perf_counter"
   ]
  },
  {
   "cell_type": "code",
   "execution_count": 3,
   "id": "bd7823da-4d9f-421c-b382-87e344a7e920",
   "metadata": {},
   "outputs": [],
   "source": [
    "def log(func):\n",
    "    def inner(*args, **kwargs):\n",
    "        start = perf_counter()\n",
    "        result = func(*args, **kwargs)\n",
    "        end = perf_counter()\n",
    "        print('elapsed time:', end - start)\n",
    "        return result\n",
    "    return inner\n",
    "\n",
    "def add(a, b):\n",
    "    return a + b\n",
    "def sub(a, b):\n",
    "    return a - b\n",
    "def div(a, b):\n",
    "    return a / b\n",
    "def mult(a, b):\n",
    "    return a * b\n",
    "\n",
    "@log\n",
    "def calc(a, b, *, func):\n",
    "    return func(a, b)\n",
    "\n",
    "@log\n",
    "def greet(name):\n",
    "    return \"Hello, {0}\".format(name)"
   ]
  },
  {
   "cell_type": "code",
   "execution_count": 4,
   "id": "fcacd6bf-670d-4d32-83de-3b7b7de2861e",
   "metadata": {},
   "outputs": [
    {
     "name": "stdout",
     "output_type": "stream",
     "text": [
      "elapsed time: 3.9000005926936865e-06\n"
     ]
    },
    {
     "data": {
      "text/plain": [
       "3"
      ]
     },
     "execution_count": 4,
     "metadata": {},
     "output_type": "execute_result"
    }
   ],
   "source": [
    "calc(1, 2, func=add)"
   ]
  },
  {
   "cell_type": "code",
   "execution_count": 5,
   "id": "658289fa-ee71-49a4-8616-d733a5b4b4b6",
   "metadata": {},
   "outputs": [
    {
     "name": "stdout",
     "output_type": "stream",
     "text": [
      "elapsed time: 4.1000021155923605e-06\n"
     ]
    },
    {
     "data": {
      "text/plain": [
       "'Hello, Allwell'"
      ]
     },
     "execution_count": 5,
     "metadata": {},
     "output_type": "execute_result"
    }
   ],
   "source": [
    "greet('Allwell')"
   ]
  },
  {
   "cell_type": "markdown",
   "id": "friendly-county",
   "metadata": {},
   "source": [
    "#### Question 2"
   ]
  },
  {
   "cell_type": "markdown",
   "id": "removed-there",
   "metadata": {},
   "source": [
    "We have several functions in our code that perform some calculations and return a numeric result, possibly `float`, `int` or even `Decimal`."
   ]
  },
  {
   "cell_type": "markdown",
   "id": "middle-politics",
   "metadata": {},
   "source": [
    "We actually want to make sure that all results from each of these functions are rounded to some number of digits after the decimal point (precision), and always returned as a `float`."
   ]
  },
  {
   "cell_type": "markdown",
   "id": "cloudy-robert",
   "metadata": {},
   "source": [
    "But every time our program runs, that precision could change. Also, we'd rather not have to change every function we have, since at some point in the future we may want to return `Decimal` objects, and not `floats` - so we want to minimize how much code we would have to change to accomodate all this."
   ]
  },
  {
   "cell_type": "markdown",
   "id": "increasing-occasion",
   "metadata": {},
   "source": [
    "For example, we might a variable in our code that defines the precision, and could be changed any time we run our code:"
   ]
  },
  {
   "cell_type": "code",
   "execution_count": 28,
   "id": "common-maker",
   "metadata": {},
   "outputs": [],
   "source": [
    "PRECISION = 2"
   ]
  },
  {
   "cell_type": "markdown",
   "id": "certified-compiler",
   "metadata": {},
   "source": [
    "Suppose we have the following functions already defined:"
   ]
  },
  {
   "cell_type": "code",
   "execution_count": 6,
   "id": "christian-centre",
   "metadata": {},
   "outputs": [],
   "source": [
    "from decimal import Decimal\n",
    "\n",
    "def perc_diff(x, y):\n",
    "    try:\n",
    "        return (y-x) / x * 100\n",
    "    except ZeroDivisionError:\n",
    "        return 0\n",
    "    \n",
    "def sum_squares(*args):\n",
    "    return sum(x**2 for x in args)\n",
    "\n",
    "def avg(*args):\n",
    "    if len(args) == 0:\n",
    "        return 0\n",
    "    \n",
    "    numbers = [Decimal(x) for x in args]\n",
    "    sum_ = sum(numbers)\n",
    "    return sum_ / len(numbers)"
   ]
  },
  {
   "cell_type": "markdown",
   "id": "mechanical-extra",
   "metadata": {},
   "source": [
    "Write a decorator named `normalize` that can be used to decorate these functions to ensure that the result is always returned as a `float` with a precision defined by some global variable `PRECISION`."
   ]
  },
  {
   "cell_type": "code",
   "execution_count": 8,
   "id": "7a46162f-bb25-4601-a0cc-648d7606333b",
   "metadata": {},
   "outputs": [],
   "source": [
    "def normalize(func):\n",
    "    def inner(*args, precision):\n",
    "        result = func(*args)\n",
    "        return round(result, precision)\n",
    "    return inner"
   ]
  },
  {
   "cell_type": "code",
   "execution_count": 9,
   "id": "2dfc5901-fe17-41d2-8e25-f703c3b1d80f",
   "metadata": {},
   "outputs": [],
   "source": [
    "@normalize\n",
    "def perc_diff(x, y):\n",
    "    try:\n",
    "        return (y-x) / x * 100\n",
    "    except ZeroDivisionError:\n",
    "        return 0\n",
    "\n",
    "@normalize\n",
    "def sum_squares(*args):\n",
    "    return sum(x**2 for x in args)\n",
    "\n",
    "@normalize\n",
    "def avg(*args):\n",
    "    if len(args) == 0:\n",
    "        return 0\n",
    "    \n",
    "    numbers = [Decimal(x) for x in args]\n",
    "    sum_ = sum(numbers)\n",
    "    return sum_ / len(numbers)"
   ]
  },
  {
   "cell_type": "code",
   "execution_count": 29,
   "id": "5e38b4a7-00e6-4c41-aa1d-7c2d1e0928fa",
   "metadata": {},
   "outputs": [
    {
     "data": {
      "text/plain": [
       "33.33"
      ]
     },
     "execution_count": 29,
     "metadata": {},
     "output_type": "execute_result"
    }
   ],
   "source": [
    "perc_diff(3, 4, precision=PRECISION)"
   ]
  },
  {
   "cell_type": "code",
   "execution_count": 30,
   "id": "7df465b2-0a28-49ca-9027-64357cf2f942",
   "metadata": {},
   "outputs": [
    {
     "data": {
      "text/plain": [
       "272.77"
      ]
     },
     "execution_count": 30,
     "metadata": {},
     "output_type": "execute_result"
    }
   ],
   "source": [
    "sum_squares(2, 5, 3, 7, 9, 10.2355, precision=PRECISION)"
   ]
  },
  {
   "cell_type": "code",
   "execution_count": 31,
   "id": "150af0ed-6304-45d6-8054-7f85444b05fc",
   "metadata": {},
   "outputs": [
    {
     "data": {
      "text/plain": [
       "Decimal('4.12')"
      ]
     },
     "execution_count": 31,
     "metadata": {},
     "output_type": "execute_result"
    }
   ],
   "source": [
    "avg(2.8, 2.1, 9.0, 10, 0.6, 0.2353, precision=PRECISION)"
   ]
  },
  {
   "cell_type": "markdown",
   "id": "sized-aaron",
   "metadata": {},
   "source": [
    "#### Question 3"
   ]
  },
  {
   "cell_type": "markdown",
   "id": "meaningful-creativity",
   "metadata": {},
   "source": [
    "Sometimes we have functions that get called often with the same argument values but take a long time to run."
   ]
  },
  {
   "cell_type": "markdown",
   "id": "dramatic-editing",
   "metadata": {},
   "source": [
    "If those functions are deterministic (i.e. passing the same arguments will always result in the same return value), then we can get a huge performance benefit by implementing a caching mechanism."
   ]
  },
  {
   "cell_type": "markdown",
   "id": "fewer-shock",
   "metadata": {},
   "source": [
    "This function simulates a long running function:"
   ]
  },
  {
   "cell_type": "code",
   "execution_count": 32,
   "id": "freelance-sponsorship",
   "metadata": {},
   "outputs": [],
   "source": [
    "from time import sleep\n",
    "\n",
    "def add(x, y):\n",
    "    sleep(2)\n",
    "    return x + y"
   ]
  },
  {
   "cell_type": "markdown",
   "id": "fatty-christianity",
   "metadata": {},
   "source": [
    "As you can see the function is deterministic - the result will always be the same for the same arguments."
   ]
  },
  {
   "cell_type": "markdown",
   "id": "controlling-composite",
   "metadata": {},
   "source": [
    "Use Python's LRU caching decorator to help improve performance when this function is called multiple times with the same arguments."
   ]
  },
  {
   "cell_type": "markdown",
   "id": "incorrect-protein",
   "metadata": {},
   "source": [
    "Then use `timeit` to test how performance is affected."
   ]
  },
  {
   "cell_type": "markdown",
   "id": "c04f202b-db7d-4de4-b25f-38767b1c4d9d",
   "metadata": {},
   "source": [
    "##### Solution 3: Without LRU Cache"
   ]
  },
  {
   "cell_type": "code",
   "execution_count": 33,
   "id": "ddbe0747-6d41-45a8-9ac1-e93f8bb75eb6",
   "metadata": {},
   "outputs": [],
   "source": [
    "from timeit import timeit"
   ]
  },
  {
   "cell_type": "code",
   "execution_count": 41,
   "id": "5c1c198a-793a-407f-a0e1-c36bc246c268",
   "metadata": {},
   "outputs": [],
   "source": [
    "def cache(fn):\n",
    "    print('Initializing cache...')\n",
    "    cache = {}\n",
    "    def inner(*args):\n",
    "        key = args\n",
    "        if key in cache:\n",
    "            print('cache hit', end='')\n",
    "            return cache[args]\n",
    "        else:\n",
    "            print('cache miss')\n",
    "            print(f'running {fn.__name__}() function', end='')\n",
    "            result = fn(*args)\n",
    "            cache[args] = result\n",
    "            return result\n",
    "    return inner"
   ]
  },
  {
   "cell_type": "code",
   "execution_count": 50,
   "id": "57429f1b-4ee7-4cad-aec2-2101ee90e43d",
   "metadata": {},
   "outputs": [
    {
     "name": "stdout",
     "output_type": "stream",
     "text": [
      "Initializing cache...\n"
     ]
    }
   ],
   "source": [
    "@cache\n",
    "def add(x, y):\n",
    "    sleep(2)\n",
    "    return x + y"
   ]
  },
  {
   "cell_type": "code",
   "execution_count": 51,
   "id": "1413568a-2538-42ab-a7f3-69caea360a85",
   "metadata": {},
   "outputs": [
    {
     "name": "stdout",
     "output_type": "stream",
     "text": [
      "cache miss\n",
      "running add() function"
     ]
    },
    {
     "data": {
      "text/plain": [
       "20"
      ]
     },
     "execution_count": 51,
     "metadata": {},
     "output_type": "execute_result"
    }
   ],
   "source": [
    "add(10, 10)"
   ]
  },
  {
   "cell_type": "code",
   "execution_count": 52,
   "id": "6404bb20-07b0-40dc-ae02-4c2b7f4c62b9",
   "metadata": {},
   "outputs": [
    {
     "name": "stdout",
     "output_type": "stream",
     "text": [
      "cache hit"
     ]
    },
    {
     "data": {
      "text/plain": [
       "20"
      ]
     },
     "execution_count": 52,
     "metadata": {},
     "output_type": "execute_result"
    }
   ],
   "source": [
    "add(10, 10)"
   ]
  },
  {
   "cell_type": "code",
   "execution_count": 53,
   "id": "1bb2ef82-5acb-4cc0-a4fa-8e8f8bf52078",
   "metadata": {},
   "outputs": [
    {
     "name": "stdout",
     "output_type": "stream",
     "text": [
      "cache miss\n",
      "running add() function"
     ]
    },
    {
     "data": {
      "text/plain": [
       "2.0022169040021254"
      ]
     },
     "execution_count": 53,
     "metadata": {},
     "output_type": "execute_result"
    }
   ],
   "source": [
    "timeit('add(20, 10)', globals=globals(), number=1)"
   ]
  },
  {
   "cell_type": "code",
   "execution_count": 54,
   "id": "d9b16b57-5090-4ca9-8a4a-321375d120ec",
   "metadata": {},
   "outputs": [
    {
     "name": "stdout",
     "output_type": "stream",
     "text": [
      "cache hit"
     ]
    },
    {
     "data": {
      "text/plain": [
       "9.720000525703654e-05"
      ]
     },
     "execution_count": 54,
     "metadata": {},
     "output_type": "execute_result"
    }
   ],
   "source": [
    "timeit('add(20, 10)', globals=globals(), number=1)"
   ]
  },
  {
   "cell_type": "markdown",
   "id": "7b26536b-4ee9-4f36-9b13-599a09e9431c",
   "metadata": {},
   "source": [
    "##### Solution 3: With LRU Cache"
   ]
  },
  {
   "cell_type": "code",
   "execution_count": 56,
   "id": "1a70095f-4875-4063-b27a-adba0c3ff3df",
   "metadata": {},
   "outputs": [],
   "source": [
    "from functools import lru_cache"
   ]
  },
  {
   "cell_type": "code",
   "execution_count": 57,
   "id": "a54c3b66-cd77-43e6-8aa8-ec6cdb980053",
   "metadata": {},
   "outputs": [],
   "source": [
    "@lru_cache(maxsize=2)\n",
    "def add_lru(x, y):\n",
    "    sleep(2)\n",
    "    return x + y"
   ]
  },
  {
   "cell_type": "code",
   "execution_count": 58,
   "id": "2bda9a0c-c23a-4c65-abc1-786c26b92e81",
   "metadata": {},
   "outputs": [
    {
     "data": {
      "text/plain": [
       "20"
      ]
     },
     "execution_count": 58,
     "metadata": {},
     "output_type": "execute_result"
    }
   ],
   "source": [
    "add_lru(10, 10)"
   ]
  },
  {
   "cell_type": "code",
   "execution_count": 59,
   "id": "8a52e336-84ea-4265-9c17-4b15dab4b5d8",
   "metadata": {},
   "outputs": [
    {
     "data": {
      "text/plain": [
       "20"
      ]
     },
     "execution_count": 59,
     "metadata": {},
     "output_type": "execute_result"
    }
   ],
   "source": [
    "add_lru(10, 10)"
   ]
  },
  {
   "cell_type": "code",
   "execution_count": 60,
   "id": "0bcc23fd-665e-4423-b354-5ddc39af7aac",
   "metadata": {},
   "outputs": [
    {
     "data": {
      "text/plain": [
       "2.0024004410006455"
      ]
     },
     "execution_count": 60,
     "metadata": {},
     "output_type": "execute_result"
    }
   ],
   "source": [
    "timeit('add_lru(20, 10)', globals=globals(), number=1)"
   ]
  },
  {
   "cell_type": "code",
   "execution_count": 61,
   "id": "d64fd0d4-2082-4f42-898c-810615856c93",
   "metadata": {},
   "outputs": [
    {
     "data": {
      "text/plain": [
       "2.9000002541579306e-06"
      ]
     },
     "execution_count": 61,
     "metadata": {},
     "output_type": "execute_result"
    }
   ],
   "source": [
    "timeit('add_lru(20, 10)', globals=globals(), number=1)"
   ]
  },
  {
   "cell_type": "markdown",
   "id": "nervous-mozambique",
   "metadata": {},
   "source": [
    "#### Question 4"
   ]
  },
  {
   "cell_type": "markdown",
   "id": "latin-radius",
   "metadata": {},
   "source": [
    "This is kind of a \"bonus\" exercise. It's a follow-up to Question 2."
   ]
  },
  {
   "cell_type": "markdown",
   "id": "partial-mustang",
   "metadata": {},
   "source": [
    "It's also complicated, so don't worry if you are unable to do this one!"
   ]
  },
  {
   "cell_type": "markdown",
   "id": "trying-curve",
   "metadata": {},
   "source": [
    "In Question 2, we created a decorator that used a global variable for the precision."
   ]
  },
  {
   "cell_type": "markdown",
   "id": "collected-tenant",
   "metadata": {},
   "source": [
    "Here, we would rather define a decorator that can take that precision as an argument, i.e. we could do something like this:"
   ]
  },
  {
   "cell_type": "markdown",
   "id": "alike-haven",
   "metadata": {},
   "source": [
    "```\n",
    "@normalize(2)\n",
    "def perc_diff(x, y):\n",
    "    try:\n",
    "        return (y-x) / x * 100\n",
    "    except ZeroDivisionError:\n",
    "        return 0\n",
    "    \n",
    "@normalize(4)\n",
    "def sum_squares(*args):\n",
    "    return sum(x**2 for x in args)\n",
    "\n",
    "@normalize(8)\n",
    "def avg(*args):\n",
    "    if len(args) == 0:\n",
    "        return 0\n",
    "    \n",
    "    numbers = [Decimal(x) for x in args]\n",
    "    sum_ = sum(numbers)\n",
    "    return sum_ / len(numbers)\n",
    "```"
   ]
  },
  {
   "cell_type": "markdown",
   "id": "lovely-philosophy",
   "metadata": {},
   "source": [
    "As a hint, remember how we created \"partial\" functions in a previous exercise?"
   ]
  },
  {
   "cell_type": "markdown",
   "id": "advisory-millennium",
   "metadata": {},
   "source": [
    "What we'll want to do here is not write a decorator function directly, but instead write a function that will **create** a decorator function, with the precision captured in the decorator function (which will itself then, be a closure)."
   ]
  },
  {
   "cell_type": "markdown",
   "id": "civic-favorite",
   "metadata": {},
   "source": [
    "Something like this:"
   ]
  },
  {
   "cell_type": "markdown",
   "id": "figured-singing",
   "metadata": {},
   "source": [
    "```\n",
    "def normalize(precision):\n",
    "    def decorator(fn):\n",
    "        def inner(*args, **kwargs):\n",
    "            # precision passed to normalize is available here\n",
    "            return result\n",
    "        return inner\n",
    "    return decorator\n",
    "```"
   ]
  },
  {
   "cell_type": "code",
   "execution_count": 66,
   "id": "28bff67c-2d01-43e1-a5ae-19d3ff2c9fb0",
   "metadata": {},
   "outputs": [],
   "source": [
    "def normalize(precision):\n",
    "    def decorator(func):\n",
    "        print(f'{func.__name__}() now decorator...')\n",
    "        def inner(*args):\n",
    "            result = func(*args)\n",
    "            return round(result, precision)\n",
    "        return inner\n",
    "    return decorator"
   ]
  },
  {
   "cell_type": "code",
   "execution_count": 96,
   "id": "1d0cb02e-507e-474d-8972-c69b78d74724",
   "metadata": {},
   "outputs": [
    {
     "name": "stdout",
     "output_type": "stream",
     "text": [
      "perc_diff() now decorator...\n",
      "sum_squares() now decorator...\n",
      "avg() now decorator...\n"
     ]
    }
   ],
   "source": [
    "@normalize(PRECISION)\n",
    "def perc_diff(x, y):\n",
    "    try:\n",
    "        return (y-x) / x * 100\n",
    "    except ZeroDivisionError:\n",
    "        return 0\n",
    "\n",
    "@normalize(PRECISION)\n",
    "def sum_squares(*args):\n",
    "    return sum(x**2 for x in args)\n",
    "\n",
    "@normalize(PRECISION)\n",
    "def avg(*args):\n",
    "    if len(args) == 0:\n",
    "        return 0\n",
    "    \n",
    "    numbers = [Decimal(x) for x in args]\n",
    "    sum_ = sum(numbers)\n",
    "    return sum_ / len(numbers)"
   ]
  },
  {
   "cell_type": "code",
   "execution_count": 97,
   "id": "5bfbda65-a615-41f7-a45e-f9b707d127e9",
   "metadata": {},
   "outputs": [
    {
     "data": {
      "text/plain": [
       "33.33"
      ]
     },
     "execution_count": 97,
     "metadata": {},
     "output_type": "execute_result"
    }
   ],
   "source": [
    "perc_diff(3, 4)"
   ]
  },
  {
   "cell_type": "code",
   "execution_count": 98,
   "id": "4604d894-7a47-41ba-9a31-32974c8494d1",
   "metadata": {},
   "outputs": [
    {
     "data": {
      "text/plain": [
       "272.77"
      ]
     },
     "execution_count": 98,
     "metadata": {},
     "output_type": "execute_result"
    }
   ],
   "source": [
    "sum_squares(2, 5, 3, 7, 9, 10.2355)"
   ]
  },
  {
   "cell_type": "code",
   "execution_count": 99,
   "id": "20c7901a-b745-46bf-88a7-60bc063a5431",
   "metadata": {},
   "outputs": [
    {
     "data": {
      "text/plain": [
       "Decimal('4.12')"
      ]
     },
     "execution_count": 99,
     "metadata": {},
     "output_type": "execute_result"
    }
   ],
   "source": [
    "avg(2.8, 2.1, 9.0, 10, 0.6, 0.2353)"
   ]
  }
 ],
 "metadata": {
  "kernelspec": {
   "display_name": "Python 3 (ipykernel)",
   "language": "python",
   "name": "python3"
  },
  "language_info": {
   "codemirror_mode": {
    "name": "ipython",
    "version": 3
   },
   "file_extension": ".py",
   "mimetype": "text/x-python",
   "name": "python",
   "nbconvert_exporter": "python",
   "pygments_lexer": "ipython3",
   "version": "3.9.19"
  }
 },
 "nbformat": 4,
 "nbformat_minor": 5
}
