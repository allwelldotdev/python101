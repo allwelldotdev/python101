{
 "cells": [
  {
   "cell_type": "markdown",
   "id": "alert-document",
   "metadata": {},
   "source": [
    "### Solutions"
   ]
  },
  {
   "cell_type": "markdown",
   "id": "descending-cursor",
   "metadata": {},
   "source": [
    "#### Question 1"
   ]
  },
  {
   "cell_type": "markdown",
   "id": "fundamental-seven",
   "metadata": {},
   "source": [
    "Write a function that takes a variable number of arguments (with a minimum of one), and returns the average of these numbers."
   ]
  },
  {
   "cell_type": "markdown",
   "id": "3aa80e4e-df70-4f2e-8b2d-13a6b026e8ee",
   "metadata": {},
   "source": [
    "##### Solution 1 (using defined functions)"
   ]
  },
  {
   "cell_type": "code",
   "execution_count": 1,
   "id": "f8e0587b-22cf-4e0a-a0bf-9caab0477ec9",
   "metadata": {},
   "outputs": [],
   "source": [
    "def average(*args):\n",
    "    try:\n",
    "        return sum(args) / len(args)\n",
    "    except ZeroDivisionError as ex:\n",
    "        print(f'Error: {ex} - arguments must be minimum of 1')\n",
    "    except TypeError as ex:\n",
    "        print(f'Error: {ex} - arguments must be `int` or `float`')"
   ]
  },
  {
   "cell_type": "code",
   "execution_count": 6,
   "id": "eed334ef-292d-49bb-b5c1-0542930c5059",
   "metadata": {},
   "outputs": [
    {
     "name": "stdout",
     "output_type": "stream",
     "text": [
      "Error: division by zero - arguments must be minimum of 1\n"
     ]
    }
   ],
   "source": [
    "average()"
   ]
  },
  {
   "cell_type": "markdown",
   "id": "9f6be7b5-342d-4d17-8f59-2d3b00e46fbf",
   "metadata": {},
   "source": [
    "##### Solution 1 (without using `sum()` function)"
   ]
  },
  {
   "cell_type": "code",
   "execution_count": 2,
   "id": "1b9b32cd-024a-4b2b-98c7-fdf28ac8382f",
   "metadata": {},
   "outputs": [],
   "source": [
    "def average3(*args):\n",
    "    sum_value = 0\n",
    "    for value in args:\n",
    "        sum_value += value\n",
    "    return sum_value / len(args)"
   ]
  },
  {
   "cell_type": "code",
   "execution_count": 8,
   "id": "f2683bb9-8214-48f5-a7be-cb534d40eca4",
   "metadata": {},
   "outputs": [
    {
     "data": {
      "text/plain": [
       "3.0"
      ]
     },
     "execution_count": 8,
     "metadata": {},
     "output_type": "execute_result"
    }
   ],
   "source": [
    "average3(2, 4)"
   ]
  },
  {
   "cell_type": "markdown",
   "id": "59d5faf5-829a-4807-a38b-6dab651e5693",
   "metadata": {},
   "source": [
    "##### Solution 1 (using Lambda Functions)"
   ]
  },
  {
   "cell_type": "code",
   "execution_count": 23,
   "id": "98df2ed9-c14f-4601-be24-70c71fb7a715",
   "metadata": {},
   "outputs": [],
   "source": [
    "average2 = lambda *args: sum(args) / len(args)"
   ]
  },
  {
   "cell_type": "code",
   "execution_count": 31,
   "id": "e65f9f64-23cb-4da3-8ff6-1b74aba3e95f",
   "metadata": {},
   "outputs": [
    {
     "data": {
      "text/plain": [
       "2.0"
      ]
     },
     "execution_count": 31,
     "metadata": {},
     "output_type": "execute_result"
    }
   ],
   "source": [
    "average2(1, 2, 3)"
   ]
  },
  {
   "cell_type": "markdown",
   "id": "atlantic-edgar",
   "metadata": {},
   "source": [
    "#### Question 2"
   ]
  },
  {
   "cell_type": "markdown",
   "id": "alive-concrete",
   "metadata": {},
   "source": [
    "Write a function that returns a string based on two input arguments:\n",
    "- a character or string to be repeated\n",
    "- the number of times the string should be repeated"
   ]
  },
  {
   "cell_type": "markdown",
   "id": "green-opinion",
   "metadata": {},
   "source": [
    "The function should be such that the number of repetitions defaults to `10` if it is not passed by the caller, and the default character to be repeated should be a negative sign (`-`).\n",
    "\n",
    "Call your function `separator`.\n",
    "\n",
    "Use a keyword-only argument for the string argument."
   ]
  },
  {
   "cell_type": "code",
   "execution_count": 71,
   "id": "e45fbdc4-ce83-4239-82de-644545d47cfa",
   "metadata": {},
   "outputs": [],
   "source": [
    "def seperator(reps=10, *, chars='-'):\n",
    "    return chars * reps"
   ]
  },
  {
   "cell_type": "code",
   "execution_count": 73,
   "id": "5f3a1cba-48f4-4a93-96b5-9ba803250dc1",
   "metadata": {},
   "outputs": [
    {
     "data": {
      "text/plain": [
       "'----------'"
      ]
     },
     "execution_count": 73,
     "metadata": {},
     "output_type": "execute_result"
    }
   ],
   "source": [
    "seperator()"
   ]
  },
  {
   "cell_type": "markdown",
   "id": "elegant-glass",
   "metadata": {},
   "source": [
    "#### Question 3"
   ]
  },
  {
   "cell_type": "markdown",
   "id": "thrown-theology",
   "metadata": {},
   "source": [
    "Write a lambda function that returns the number of unique elements in an iterable. This could be the number of unique characters in a string, or the number of unique elements in a list, tuple, etc.\n",
    "\n",
    "If the iterable received by the lambda function is empty, then it should return `0`."
   ]
  },
  {
   "cell_type": "code",
   "execution_count": 9,
   "id": "946aba16-e8dd-4384-a484-5afd2e69b074",
   "metadata": {},
   "outputs": [],
   "source": [
    "unique = lambda iterable: len(set(iterable))"
   ]
  },
  {
   "cell_type": "code",
   "execution_count": 10,
   "id": "73e0e441-5888-487c-8c7c-406bf940470d",
   "metadata": {},
   "outputs": [
    {
     "name": "stdout",
     "output_type": "stream",
     "text": [
      "3 {1, 2, 3}\n"
     ]
    }
   ],
   "source": [
    "l = [1, 2, 3, 3, 2, 2,]\n",
    "print(unique(l), set(l))"
   ]
  },
  {
   "cell_type": "code",
   "execution_count": 11,
   "id": "5b0277ab-23f8-47a3-81c0-20a9a6282886",
   "metadata": {},
   "outputs": [
    {
     "name": "stdout",
     "output_type": "stream",
     "text": [
      "0 set()\n"
     ]
    }
   ],
   "source": [
    "o = []\n",
    "print(unique(o), set(o))"
   ]
  },
  {
   "cell_type": "code",
   "execution_count": 17,
   "id": "42bd2f1a-efbd-4c42-af77-40a5015b9e95",
   "metadata": {},
   "outputs": [
    {
     "data": {
      "text/plain": [
       "3"
      ]
     },
     "execution_count": 17,
     "metadata": {},
     "output_type": "execute_result"
    }
   ],
   "source": [
    "unique(['a', 'b', 'c', 'a'])"
   ]
  },
  {
   "cell_type": "markdown",
   "id": "earlier-community",
   "metadata": {},
   "source": [
    "#### Question 4"
   ]
  },
  {
   "cell_type": "markdown",
   "id": "criminal-heritage",
   "metadata": {},
   "source": [
    "Write a function that receives a string as an argument (defaults to an empty string) and returns a dictionary with the unique words and their frequency."
   ]
  },
  {
   "cell_type": "markdown",
   "id": "loose-brooks",
   "metadata": {},
   "source": [
    "For example, for a string such as:\n",
    "\n",
    "```\n",
    "This is the first sentence. This is the scecond sentence. This is not the fourth sentence, it is the third sentence.\n",
    "```\n",
    "\n",
    "the result of the function should be:"
   ]
  },
  {
   "cell_type": "code",
   "execution_count": 44,
   "id": "middle-public",
   "metadata": {},
   "outputs": [],
   "source": [
    "result = {\n",
    "    'This': 3,\n",
    "    'is': 4,\n",
    "    'the': 4,\n",
    "    'first': 1,\n",
    "    'sentence': 4,\n",
    "    'scecond': 1,\n",
    "    'not': 1,\n",
    "    'fourth': 1,\n",
    "    'it': 1,\n",
    "    'third': 1\n",
    "}"
   ]
  },
  {
   "cell_type": "markdown",
   "id": "sonic-civilization",
   "metadata": {},
   "source": [
    "You may assume that word separators are limited to spaces, commas, and periods (no newline characters)."
   ]
  },
  {
   "cell_type": "markdown",
   "id": "finished-collar",
   "metadata": {},
   "source": [
    "Hint: You will want to split based on some character. Problem is that we really need to split based on three different characters: spaces, commas and periods. One approach would be to replace all commas and periods with spaces and then split on spaces."
   ]
  },
  {
   "cell_type": "code",
   "execution_count": 45,
   "id": "8d440900-0e2a-4e83-bd65-f2e24e6eed6c",
   "metadata": {},
   "outputs": [],
   "source": [
    "def unique_dict(strings=''):\n",
    "    ignore_chars = '.,?|'\n",
    "    strings = [i.strip(ignore_chars) for i in strings.split()]\n",
    "    result = {i: len([j for j in strings if i == j])\n",
    "              for i in set(strings)}\n",
    "    return result"
   ]
  },
  {
   "cell_type": "code",
   "execution_count": 46,
   "id": "05ce0feb-4849-47a0-90d0-48f87252b552",
   "metadata": {},
   "outputs": [
    {
     "data": {
      "text/plain": [
       "{'the': 4,\n",
       " 'sentence': 4,\n",
       " 'it': 1,\n",
       " 'fourth': 1,\n",
       " 'not': 1,\n",
       " 'first': 1,\n",
       " 'scecond': 1,\n",
       " 'This': 3,\n",
       " 'third': 1,\n",
       " 'is': 4}"
      ]
     },
     "execution_count": 46,
     "metadata": {},
     "output_type": "execute_result"
    }
   ],
   "source": [
    "s = 'This is the first sentence. This is the scecond sentence. This is not the fourth sentence, it is the third sentence.|?'\n",
    "\n",
    "unique_dict(s)"
   ]
  },
  {
   "cell_type": "code",
   "execution_count": 31,
   "id": "618dffd9-ade6-472b-ad22-8845a40e2f69",
   "metadata": {},
   "outputs": [],
   "source": [
    "from collections import Counter"
   ]
  },
  {
   "cell_type": "code",
   "execution_count": 48,
   "id": "b38dc38e-3bf5-44c9-86c2-f7574cfb18aa",
   "metadata": {},
   "outputs": [],
   "source": [
    "def unique_dict2(strings=''):\n",
    "    ignore_chars = '.,?|'\n",
    "    strings = [i.strip(ignore_chars) for i in strings.split()]\n",
    "    return dict(Counter(strings))"
   ]
  },
  {
   "cell_type": "code",
   "execution_count": 47,
   "id": "51f89494-0e0b-44a0-befd-74266a431c38",
   "metadata": {},
   "outputs": [
    {
     "data": {
      "text/plain": [
       "{'This': 3,\n",
       " 'is': 4,\n",
       " 'the': 4,\n",
       " 'first': 1,\n",
       " 'sentence': 4,\n",
       " 'scecond': 1,\n",
       " 'not': 1,\n",
       " 'fourth': 1,\n",
       " 'it': 1,\n",
       " 'third': 1}"
      ]
     },
     "execution_count": 47,
     "metadata": {},
     "output_type": "execute_result"
    }
   ],
   "source": [
    "s = 'This is the first sentence. This is the scecond sentence. This is not the fourth sentence, it is the third sentence.|?'\n",
    "\n",
    "unique_dict2(s)"
   ]
  }
 ],
 "metadata": {
  "kernelspec": {
   "display_name": "Python 3 (ipykernel)",
   "language": "python",
   "name": "python3"
  },
  "language_info": {
   "codemirror_mode": {
    "name": "ipython",
    "version": 3
   },
   "file_extension": ".py",
   "mimetype": "text/x-python",
   "name": "python",
   "nbconvert_exporter": "python",
   "pygments_lexer": "ipython3",
   "version": "3.9.19"
  }
 },
 "nbformat": 4,
 "nbformat_minor": 5
}
