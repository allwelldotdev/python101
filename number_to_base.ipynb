{
 "cells": [
  {
   "cell_type": "markdown",
   "id": "e836c86a-d850-4856-821e-ce212eabf852",
   "metadata": {},
   "source": [
    "n = (n // b) * b + (n % b)"
   ]
  },
  {
   "cell_type": "code",
   "execution_count": 207,
   "id": "31f03cfe-133a-4301-b471-08147412f19d",
   "metadata": {},
   "outputs": [],
   "source": [
    "def repr_base(n, /, *, base=5):\n",
    "    \"\"\"This function calculates the 'base' representation of the 'n' (decimal representation) integer.\n",
    "Using the equation which is: num = (num // base) * base + (num % base)\n",
    "@params:\n",
    "    'n' : positional-only argument (decimal representation)\n",
    "    'base' : keyword-only argument (base to represent decimal in)\n",
    "Some rules (exceptions):\n",
    "    'base' must be greater than or equal to 2\n",
    "    'n' must only represent non-negative integers\n",
    "    \"\"\"\n",
    "    \n",
    "    if base < 2:\n",
    "        raise ValueError('base must be greater than or equal to 2')\n",
    "    if n < 0:\n",
    "        raise ValueError('can only represent non-negative integers')\n",
    "    \n",
    "    repr_con = []\n",
    "    \n",
    "    def calc_div_mod(num):\n",
    "        mod = num % base\n",
    "        div = num // base\n",
    "        return div, mod\n",
    "\n",
    "    while n >= 0:\n",
    "        base_div, base_mod = calc_div_mod(n)\n",
    "        if base_div >= base or (base_div <= base and base_div > 0):\n",
    "            repr_con.insert(0, str(base_mod))\n",
    "            n = base_div\n",
    "        if base_div == 0:\n",
    "            repr_con.insert(0, str(base_mod))\n",
    "            break\n",
    "\n",
    "    return int(''.join(repr_con))"
   ]
  },
  {
   "cell_type": "code",
   "execution_count": 208,
   "id": "bbe90a32-b9a3-45a2-98b6-1e06069d48da",
   "metadata": {},
   "outputs": [
    {
     "name": "stdout",
     "output_type": "stream",
     "text": [
      "This function calculates the 'base' representation of the 'n' (decimal representation) integer.\n",
      "Using the equation which is: num = (num // base) * base + (num % base)\n",
      "@params:\n",
      "    'n' : positional-only argument (decimal representation)\n",
      "    'base' : keyword-only argument (base to represent decimal in)\n",
      "Some rules (exceptions):\n",
      "    'base' must be greater than or equal to 2\n",
      "    'n' must only represent non-negative integers\n",
      "    \n"
     ]
    }
   ],
   "source": [
    "print(repr_base.__doc__)"
   ]
  },
  {
   "cell_type": "code",
   "execution_count": 209,
   "id": "dad5fb6d-5078-4a67-af4b-377dd6c92d1b",
   "metadata": {},
   "outputs": [
    {
     "data": {
      "text/plain": [
       "\u001b[0;31mSignature:\u001b[0m \u001b[0mrepr_base\u001b[0m\u001b[0;34m(\u001b[0m\u001b[0mn\u001b[0m\u001b[0;34m,\u001b[0m \u001b[0;34m/\u001b[0m\u001b[0;34m,\u001b[0m \u001b[0;34m*\u001b[0m\u001b[0;34m,\u001b[0m \u001b[0mbase\u001b[0m\u001b[0;34m=\u001b[0m\u001b[0;36m5\u001b[0m\u001b[0;34m)\u001b[0m\u001b[0;34m\u001b[0m\u001b[0;34m\u001b[0m\u001b[0m\n",
       "\u001b[0;31mDocstring:\u001b[0m\n",
       "This function calculates the 'base' representation of the 'n' (decimal representation) integer.\n",
       "Using the equation which is: num = (num // base) * base + (num % base)\n",
       "@params:\n",
       "    'n' : positional-only argument (decimal representation)\n",
       "    'base' : keyword-only argument (base to represent decimal in)\n",
       "Some rules (exceptions):\n",
       "    'base' must be greater than or equal to 2\n",
       "    'n' must only represent non-negative integers\n",
       "    \n",
       "\u001b[0;31mFile:\u001b[0m      /tmp/ipykernel_224214/2802945537.py\n",
       "\u001b[0;31mType:\u001b[0m      function"
      ]
     },
     "metadata": {},
     "output_type": "display_data"
    }
   ],
   "source": [
    "?repr_base"
   ]
  },
  {
   "cell_type": "code",
   "execution_count": 210,
   "id": "22c9ff76-5e4a-4afb-8176-412f1e212e51",
   "metadata": {},
   "outputs": [
    {
     "data": {
      "text/plain": [
       "145"
      ]
     },
     "execution_count": 210,
     "metadata": {},
     "output_type": "execute_result"
    }
   ],
   "source": [
    "repr_base(101, base=8)"
   ]
  },
  {
   "cell_type": "code",
   "execution_count": 189,
   "id": "f68cb9a8-44a3-42d5-86c7-fcfafd61783d",
   "metadata": {},
   "outputs": [
    {
     "data": {
      "text/plain": [
       "'0o145'"
      ]
     },
     "execution_count": 189,
     "metadata": {},
     "output_type": "execute_result"
    }
   ],
   "source": [
    "oct(101)"
   ]
  },
  {
   "cell_type": "code",
   "execution_count": 194,
   "id": "b6b3d2f1-f533-4ce8-af7e-cee7cf79e90a",
   "metadata": {},
   "outputs": [
    {
     "data": {
      "text/plain": [
       "1100100"
      ]
     },
     "execution_count": 194,
     "metadata": {},
     "output_type": "execute_result"
    }
   ],
   "source": [
    "repr_base(100, base=2)"
   ]
  },
  {
   "cell_type": "code",
   "execution_count": 196,
   "id": "90b94c40-d2dc-4c0d-ba42-62a5d729d15a",
   "metadata": {},
   "outputs": [
    {
     "data": {
      "text/plain": [
       "'0b1100100'"
      ]
     },
     "execution_count": 196,
     "metadata": {},
     "output_type": "execute_result"
    }
   ],
   "source": [
    "bin(100)"
   ]
  },
  {
   "cell_type": "code",
   "execution_count": 198,
   "id": "eb70c8ff-0b1d-4605-8a85-34a889bfdbf6",
   "metadata": {},
   "outputs": [
    {
     "data": {
      "text/plain": [
       "1412"
      ]
     },
     "execution_count": 198,
     "metadata": {},
     "output_type": "execute_result"
    }
   ],
   "source": [
    "repr_base(232, base=5)"
   ]
  },
  {
   "cell_type": "markdown",
   "id": "3f41105a-6289-4e78-a94d-32995a651a19",
   "metadata": {},
   "source": [
    "### Refining the function to use character encoding for different base"
   ]
  },
  {
   "cell_type": "code",
   "execution_count": 1,
   "id": "a3c7a18c-3861-4dd5-a79c-8ce0a41146b2",
   "metadata": {},
   "outputs": [],
   "source": [
    "def repr_base(n, /, *, base=2):\n",
    "    # function documentation\n",
    "    \"\"\"This function calculates the 'base' representation of the 'n' (decimal representation) integer.\n",
    "Using the equation which is: num = (num // base) * base + (num % base)\n",
    "@params:\n",
    "    'n' : positional-only argument (decimal representation)\n",
    "    'base' : keyword-only argument (base to represent decimal in)\n",
    "Some rules (exceptions):\n",
    "    'base' base must be greater than or equal to 2 and less than or equal to 64\n",
    "    'n' must only represent non-negative integers\n",
    "    \"\"\"\n",
    "\n",
    "    # throw exceptions\n",
    "    if base < 2 or base > 64:\n",
    "        raise ValueError('base must be greater than or equal to 2 and less than or equal to 64')\n",
    "    if n < 0:\n",
    "        raise ValueError('can only represent non-negative integers')\n",
    "    \n",
    "    digits = []\n",
    "\n",
    "    # calculate base repr\n",
    "    # can you imagine all that former bogus code could be simplified to this? 🤯\n",
    "    while n > 0:\n",
    "        mod = n % base\n",
    "        n = n // base\n",
    "        digits.insert(0, mod)\n",
    "\n",
    "    # 64 character encondings\n",
    "    import string\n",
    "    \n",
    "    chars = list(range(10)) + list(string.ascii_letters) + ['#', '*']\n",
    "    char_enc = {idx: v for idx, v in enumerate(chars)}\n",
    "\n",
    "    check_base = lambda : [char_enc[digit] for digit in digits]\n",
    "\n",
    "    joiner = lambda iter_ : ''.join(map(str, iter_))\n",
    "\n",
    "    # check base and evaluate output\n",
    "    if base > 10:\n",
    "        char_digits = check_base()\n",
    "        if base == 16:\n",
    "            output = '0x' + joiner(char_digits)\n",
    "        elif base == 64:\n",
    "            output = 'base64:' + joiner(char_digits)\n",
    "        else:\n",
    "            output = f'base{base}:' + joiner(char_digits)\n",
    "    elif base == 2:\n",
    "        output = '0b' + joiner(digits)\n",
    "    elif base == 8:\n",
    "        output = '0o' + joiner(digits)\n",
    "    else:\n",
    "        output = f'base{base}:' + joiner(digits)\n",
    "    \n",
    "    return output"
   ]
  },
  {
   "cell_type": "code",
   "execution_count": 2,
   "id": "7ab1ccbb-9cf1-44d4-b00f-61b8b621ff78",
   "metadata": {},
   "outputs": [
    {
     "data": {
      "text/plain": [
       "'base5:1412'"
      ]
     },
     "execution_count": 2,
     "metadata": {},
     "output_type": "execute_result"
    }
   ],
   "source": [
    "repr_base(232, base=5)"
   ]
  },
  {
   "cell_type": "code",
   "execution_count": 3,
   "id": "46101df2-32e6-443a-a28e-b1d2005da68b",
   "metadata": {},
   "outputs": [
    {
     "data": {
      "text/plain": [
       "'0b1010'"
      ]
     },
     "execution_count": 3,
     "metadata": {},
     "output_type": "execute_result"
    }
   ],
   "source": [
    "repr_base(10)"
   ]
  },
  {
   "cell_type": "code",
   "execution_count": 4,
   "id": "941a5bf7-8034-4252-a3dc-ffb9361c2e0c",
   "metadata": {},
   "outputs": [
    {
     "data": {
      "text/plain": [
       "'0b1010'"
      ]
     },
     "execution_count": 4,
     "metadata": {},
     "output_type": "execute_result"
    }
   ],
   "source": [
    "bin(10)"
   ]
  },
  {
   "cell_type": "code",
   "execution_count": 5,
   "id": "f7208af8-d688-4d9c-9f97-8ed3dd60be55",
   "metadata": {},
   "outputs": [],
   "source": [
    "from timeit import timeit"
   ]
  },
  {
   "cell_type": "code",
   "execution_count": 6,
   "id": "0f2920b0-159e-492e-9a5b-7dffe876f0c8",
   "metadata": {},
   "outputs": [
    {
     "data": {
      "text/plain": [
       "'base64:YXzZtIgAU8J1d7F1HAq5s45*'"
      ]
     },
     "execution_count": 6,
     "metadata": {},
     "output_type": "execute_result"
    }
   ],
   "source": [
    "repr_base(21231234348283429492389425025235902352343423, base=64)"
   ]
  },
  {
   "cell_type": "code",
   "execution_count": 7,
   "id": "076ff271-48dc-4087-a0fe-f5f4a12a95e3",
   "metadata": {},
   "outputs": [
    {
     "data": {
      "text/plain": [
       "5.819999995537728e-05"
      ]
     },
     "execution_count": 7,
     "metadata": {},
     "output_type": "execute_result"
    }
   ],
   "source": [
    "timeit('repr_base(21231234348283429492389425025235902352343423, base=64)', globals=globals(), number=1)"
   ]
  },
  {
   "cell_type": "code",
   "execution_count": 8,
   "id": "8b3bd9aa-f554-4be3-9106-13bf65563fd7",
   "metadata": {},
   "outputs": [
    {
     "data": {
      "text/plain": [
       "'0o350'"
      ]
     },
     "execution_count": 8,
     "metadata": {},
     "output_type": "execute_result"
    }
   ],
   "source": [
    "repr_base(232, base=8)"
   ]
  },
  {
   "cell_type": "code",
   "execution_count": 9,
   "id": "e7024a94-7275-4b30-ac15-0b48f6ca09cd",
   "metadata": {},
   "outputs": [
    {
     "data": {
      "text/plain": [
       "'0o350'"
      ]
     },
     "execution_count": 9,
     "metadata": {},
     "output_type": "execute_result"
    }
   ],
   "source": [
    "oct(232)"
   ]
  },
  {
   "cell_type": "code",
   "execution_count": 10,
   "id": "b131557f-bda7-4323-a698-b5877697b7c5",
   "metadata": {},
   "outputs": [
    {
     "data": {
      "text/plain": [
       "'0x7f9abdd2e160'"
      ]
     },
     "execution_count": 10,
     "metadata": {},
     "output_type": "execute_result"
    }
   ],
   "source": [
    "repr_base(id(repr_base), base=16)"
   ]
  },
  {
   "cell_type": "code",
   "execution_count": 11,
   "id": "c34ef6f7-2169-470b-b870-2518837afe4e",
   "metadata": {},
   "outputs": [
    {
     "data": {
      "text/plain": [
       "'0x7f9abdd2e160'"
      ]
     },
     "execution_count": 11,
     "metadata": {},
     "output_type": "execute_result"
    }
   ],
   "source": [
    "hex(id(repr_base))"
   ]
  }
 ],
 "metadata": {
  "kernelspec": {
   "display_name": "Python 3 (ipykernel)",
   "language": "python",
   "name": "python3"
  },
  "language_info": {
   "codemirror_mode": {
    "name": "ipython",
    "version": 3
   },
   "file_extension": ".py",
   "mimetype": "text/x-python",
   "name": "python",
   "nbconvert_exporter": "python",
   "pygments_lexer": "ipython3",
   "version": "3.9.19"
  }
 },
 "nbformat": 4,
 "nbformat_minor": 5
}
