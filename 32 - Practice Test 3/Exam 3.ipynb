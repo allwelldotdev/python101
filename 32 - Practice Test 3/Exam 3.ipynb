{
 "cells": [
  {
   "cell_type": "markdown",
   "id": "overhead-penguin",
   "metadata": {},
   "source": [
    "### Exam 3"
   ]
  },
  {
   "cell_type": "markdown",
   "id": "peripheral-franchise",
   "metadata": {},
   "source": [
    "The downloadable course materials contain a folder named `Exam Materials` which contains the following file:\n",
    "\n",
    "```\n",
    "widget_sales.csv\n",
    "```"
   ]
  },
  {
   "cell_type": "markdown",
   "id": "employed-syracuse",
   "metadata": {},
   "source": [
    "This CSV file contains sales data for some widgets, and contains the following columns:\n",
    "- `widget`: the name of the widget (string)\n",
    "- `date_sold`: an epoch indicating date and time sale occurred (integer)\n",
    "- `quantity_sold`: the number of widgets sold (integer)\n",
    "- `unit_price`: the unit price widget was sold for (float)\n",
    "- `tax`: the tax that was added to the sale price (float)\n",
    "- `discount`: the discount that was subtracted from the sale price (float)"
   ]
  },
  {
   "cell_type": "markdown",
   "id": "incoming-jewelry",
   "metadata": {},
   "source": [
    "All the questions on this exam relate to the data contained in this file."
   ]
  },
  {
   "cell_type": "markdown",
   "id": "timely-pressing",
   "metadata": {},
   "source": [
    "#### Q1"
   ]
  },
  {
   "cell_type": "markdown",
   "id": "stunning-trout",
   "metadata": {},
   "source": [
    "First thing is to load the data into a Pandas dataframe.\n",
    "\n",
    "We do this by running the following code:"
   ]
  },
  {
   "cell_type": "code",
   "execution_count": 1,
   "id": "historical-wrong",
   "metadata": {},
   "outputs": [],
   "source": [
    "import pandas as pd\n",
    "df = pd.read_csv('widget_sales.csv')"
   ]
  },
  {
   "cell_type": "code",
   "execution_count": 2,
   "id": "eea7fa1e-b0d4-4f0e-960b-0f7864b4e4c8",
   "metadata": {},
   "outputs": [
    {
     "data": {
      "text/html": [
       "<div>\n",
       "<style scoped>\n",
       "    .dataframe tbody tr th:only-of-type {\n",
       "        vertical-align: middle;\n",
       "    }\n",
       "\n",
       "    .dataframe tbody tr th {\n",
       "        vertical-align: top;\n",
       "    }\n",
       "\n",
       "    .dataframe thead th {\n",
       "        text-align: right;\n",
       "    }\n",
       "</style>\n",
       "<table border=\"1\" class=\"dataframe\">\n",
       "  <thead>\n",
       "    <tr style=\"text-align: right;\">\n",
       "      <th></th>\n",
       "      <th>widget</th>\n",
       "      <th>date_sold</th>\n",
       "      <th>quantity_sold</th>\n",
       "      <th>unit_price</th>\n",
       "      <th>tax</th>\n",
       "      <th>discount</th>\n",
       "    </tr>\n",
       "  </thead>\n",
       "  <tbody>\n",
       "    <tr>\n",
       "      <th>0</th>\n",
       "      <td>DDD</td>\n",
       "      <td>1579626005</td>\n",
       "      <td>2.0</td>\n",
       "      <td>9.99</td>\n",
       "      <td>0.26</td>\n",
       "      <td>0.51</td>\n",
       "    </tr>\n",
       "    <tr>\n",
       "      <th>1</th>\n",
       "      <td>NaN</td>\n",
       "      <td>1579134185</td>\n",
       "      <td>16.0</td>\n",
       "      <td>9.99</td>\n",
       "      <td>2.86</td>\n",
       "      <td>7.13</td>\n",
       "    </tr>\n",
       "    <tr>\n",
       "      <th>2</th>\n",
       "      <td>BBB</td>\n",
       "      <td>1579978810</td>\n",
       "      <td>NaN</td>\n",
       "      <td>15.00</td>\n",
       "      <td>1.06</td>\n",
       "      <td>2.83</td>\n",
       "    </tr>\n",
       "    <tr>\n",
       "      <th>3</th>\n",
       "      <td>EEE</td>\n",
       "      <td>1578912699</td>\n",
       "      <td>18.0</td>\n",
       "      <td>199.99</td>\n",
       "      <td>176.89</td>\n",
       "      <td>145.83</td>\n",
       "    </tr>\n",
       "    <tr>\n",
       "      <th>4</th>\n",
       "      <td>BBB</td>\n",
       "      <td>1579162853</td>\n",
       "      <td>4.0</td>\n",
       "      <td>15.00</td>\n",
       "      <td>2.19</td>\n",
       "      <td>2.70</td>\n",
       "    </tr>\n",
       "    <tr>\n",
       "      <th>...</th>\n",
       "      <td>...</td>\n",
       "      <td>...</td>\n",
       "      <td>...</td>\n",
       "      <td>...</td>\n",
       "      <td>...</td>\n",
       "      <td>...</td>\n",
       "    </tr>\n",
       "    <tr>\n",
       "      <th>9995</th>\n",
       "      <td>DDD</td>\n",
       "      <td>1580265826</td>\n",
       "      <td>3.0</td>\n",
       "      <td>9.99</td>\n",
       "      <td>0.52</td>\n",
       "      <td>0.68</td>\n",
       "    </tr>\n",
       "    <tr>\n",
       "      <th>9996</th>\n",
       "      <td>DDD</td>\n",
       "      <td>1579719495</td>\n",
       "      <td>2.0</td>\n",
       "      <td>9.99</td>\n",
       "      <td>0.19</td>\n",
       "      <td>0.51</td>\n",
       "    </tr>\n",
       "    <tr>\n",
       "      <th>9997</th>\n",
       "      <td>BBB</td>\n",
       "      <td>1579872262</td>\n",
       "      <td>11.0</td>\n",
       "      <td>15.00</td>\n",
       "      <td>6.96</td>\n",
       "      <td>2.57</td>\n",
       "    </tr>\n",
       "    <tr>\n",
       "      <th>9998</th>\n",
       "      <td>EEE</td>\n",
       "      <td>1578057662</td>\n",
       "      <td>16.0</td>\n",
       "      <td>199.99</td>\n",
       "      <td>42.43</td>\n",
       "      <td>14.63</td>\n",
       "    </tr>\n",
       "    <tr>\n",
       "      <th>9999</th>\n",
       "      <td>FFF</td>\n",
       "      <td>1579287420</td>\n",
       "      <td>3.0</td>\n",
       "      <td>250.00</td>\n",
       "      <td>28.65</td>\n",
       "      <td>26.53</td>\n",
       "    </tr>\n",
       "  </tbody>\n",
       "</table>\n",
       "<p>10000 rows × 6 columns</p>\n",
       "</div>"
      ],
      "text/plain": [
       "     widget   date_sold  quantity_sold  unit_price     tax  discount\n",
       "0       DDD  1579626005            2.0        9.99    0.26      0.51\n",
       "1       NaN  1579134185           16.0        9.99    2.86      7.13\n",
       "2       BBB  1579978810            NaN       15.00    1.06      2.83\n",
       "3       EEE  1578912699           18.0      199.99  176.89    145.83\n",
       "4       BBB  1579162853            4.0       15.00    2.19      2.70\n",
       "...     ...         ...            ...         ...     ...       ...\n",
       "9995    DDD  1580265826            3.0        9.99    0.52      0.68\n",
       "9996    DDD  1579719495            2.0        9.99    0.19      0.51\n",
       "9997    BBB  1579872262           11.0       15.00    6.96      2.57\n",
       "9998    EEE  1578057662           16.0      199.99   42.43     14.63\n",
       "9999    FFF  1579287420            3.0      250.00   28.65     26.53\n",
       "\n",
       "[10000 rows x 6 columns]"
      ]
     },
     "execution_count": 2,
     "metadata": {},
     "output_type": "execute_result"
    }
   ],
   "source": [
    "df"
   ]
  },
  {
   "cell_type": "markdown",
   "id": "pleasant-morgan",
   "metadata": {},
   "source": [
    "The expected data type for the `quantity_sold` column is an integer, what are the expected and actual Numpy data types for that column in the loaded dataframe?"
   ]
  },
  {
   "cell_type": "markdown",
   "id": "overhead-newcastle",
   "metadata": {},
   "source": [
    "- a. expected = `int64`, actual = `int64`\n",
    "- b. expected = `int64`, actual = `float64`\n",
    "- c. expected = `float64`, actual = `object`\n",
    "- d. expected = `float64`, actual = `float64`\n"
   ]
  },
  {
   "cell_type": "markdown",
   "id": "e63f17b7-ffc6-4739-97ab-1d262e642eee",
   "metadata": {},
   "source": [
    "Answer is `b`"
   ]
  },
  {
   "cell_type": "markdown",
   "id": "588623cf-c622-454f-af6f-38d5e8d525c1",
   "metadata": {},
   "source": [
    "Why? Because while the data values in the `quantity_sold` column are integers there are some missing values `NaN`. When the missing values are added to the column it turns the column data type to a `float64` instead of `int64`."
   ]
  },
  {
   "cell_type": "markdown",
   "id": "professional-round",
   "metadata": {},
   "source": [
    "#### Q2"
   ]
  },
  {
   "cell_type": "markdown",
   "id": "sexual-clear",
   "metadata": {},
   "source": [
    "Why is the expected and actual data type for `quantity_sold` not the same?\n",
    "\n",
    "- a. The csv data contains some float values for that column, not just integers\n",
    "- b. There's a bug in Pandas\n",
    "- c. That column has some missing values\n",
    "- d. The expected and actual data types are the same - nothing to see here, move along!\n"
   ]
  },
  {
   "cell_type": "markdown",
   "id": "cb6aa90c-8827-45ce-88fb-3c89f87116cb",
   "metadata": {},
   "source": [
    "Answer is `c`"
   ]
  },
  {
   "cell_type": "markdown",
   "id": "close-florist",
   "metadata": {},
   "source": [
    "#### Q3"
   ]
  },
  {
   "cell_type": "markdown",
   "id": "neural-exercise",
   "metadata": {},
   "source": [
    "Inspect the data frame to determine which columns have missing (null) values.\n",
    "\n",
    "- a. `widget`, `quantity_sold` only\n",
    "- b. `date_sold`, `quantity_sold` only\n",
    "- c. `quantity_sold` only\n",
    "- d. there are no missing values anywhere\n"
   ]
  },
  {
   "cell_type": "code",
   "execution_count": 4,
   "id": "dc5ac9e1-ee8d-4e80-af54-ec7c6b04f3ed",
   "metadata": {},
   "outputs": [
    {
     "name": "stdout",
     "output_type": "stream",
     "text": [
      "<class 'pandas.core.frame.DataFrame'>\n",
      "RangeIndex: 10000 entries, 0 to 9999\n",
      "Data columns (total 6 columns):\n",
      " #   Column         Non-Null Count  Dtype  \n",
      "---  ------         --------------  -----  \n",
      " 0   widget         9999 non-null   object \n",
      " 1   date_sold      10000 non-null  int64  \n",
      " 2   quantity_sold  9999 non-null   float64\n",
      " 3   unit_price     10000 non-null  float64\n",
      " 4   tax            10000 non-null  float64\n",
      " 5   discount       10000 non-null  float64\n",
      "dtypes: float64(4), int64(1), object(1)\n",
      "memory usage: 468.9+ KB\n"
     ]
    }
   ],
   "source": [
    "df.info()"
   ]
  },
  {
   "cell_type": "markdown",
   "id": "e4ac63a7-6133-4b4c-b69d-a0535feebd23",
   "metadata": {},
   "source": [
    "Answer is `a`"
   ]
  },
  {
   "cell_type": "markdown",
   "id": "animated-congress",
   "metadata": {},
   "source": [
    "#### Q4"
   ]
  },
  {
   "cell_type": "markdown",
   "id": "preliminary-assets",
   "metadata": {},
   "source": [
    "We want to create a new dataframe (named `df_not_null`) that does not have any missing values.\n",
    "We want to do this by removing all **rows** that contain null values.\n",
    "\n",
    "Which of the following expressions will achieve this?\n",
    "\n",
    "I.\n",
    "```\n",
    "df_temp = df[pd.notnull(df['widget'])]\n",
    "df_not_null = df_temp[pd.notnull(df_temp['quantity_sold'])]\n",
    "```\n",
    "\n",
    "II.\n",
    "```\n",
    "df_not_null = df.dropna(axis=0)\n",
    "```\n",
    "\n",
    "III.\n",
    "```\n",
    "df_not_null = df.dropna()\n",
    "```\n",
    "\n",
    "- a. I only\n",
    "- b. II and III only\n",
    "- c. none of them\n",
    "- d. all of them\n"
   ]
  },
  {
   "cell_type": "markdown",
   "id": "0052a05d-b54d-42e1-81b2-4d3645d86182",
   "metadata": {},
   "source": [
    "Answer is `d`"
   ]
  },
  {
   "cell_type": "markdown",
   "id": "living-range",
   "metadata": {},
   "source": [
    "#### Q5"
   ]
  },
  {
   "cell_type": "markdown",
   "id": "instructional-southwest",
   "metadata": {},
   "source": [
    "Assume that `df_not_null` is the result of correctly removing any rows in the original data frame that contained any null values.\n",
    "\n",
    "Inspect this new data frame - what is the data type of `quantity_sold`?\n",
    "\n",
    "- a. `object`\n",
    "- b. `int64`\n",
    "- c. `float64`\n",
    "- d. `uint64`\n"
   ]
  },
  {
   "cell_type": "code",
   "execution_count": 6,
   "id": "58f92e22-9ff6-4b82-b1d0-1f02de38097a",
   "metadata": {},
   "outputs": [
    {
     "name": "stdout",
     "output_type": "stream",
     "text": [
      "<class 'pandas.core.frame.DataFrame'>\n",
      "Index: 9998 entries, 0 to 9999\n",
      "Data columns (total 6 columns):\n",
      " #   Column         Non-Null Count  Dtype  \n",
      "---  ------         --------------  -----  \n",
      " 0   widget         9998 non-null   object \n",
      " 1   date_sold      9998 non-null   int64  \n",
      " 2   quantity_sold  9998 non-null   float64\n",
      " 3   unit_price     9998 non-null   float64\n",
      " 4   tax            9998 non-null   float64\n",
      " 5   discount       9998 non-null   float64\n",
      "dtypes: float64(4), int64(1), object(1)\n",
      "memory usage: 546.8+ KB\n"
     ]
    }
   ],
   "source": [
    "df_not_null = df.dropna()\n",
    "df_not_null.info()"
   ]
  },
  {
   "cell_type": "markdown",
   "id": "5ed12ed7-ca1d-47d5-9298-b91d4ecf0534",
   "metadata": {},
   "source": [
    "Answer is `c`"
   ]
  },
  {
   "cell_type": "markdown",
   "id": "extraordinary-fortune",
   "metadata": {},
   "source": [
    "#### Q6\n",
    "The data type for `quantity_sold` can be changed to be an integer since we expect all non-null values to be positive integers.\n",
    "\n",
    "Assuming `df_not_null` is a dataframe that contains no null values (derived from our original dataframe `df`), which of the following code results in `data` being a dataframe that contains the `quantity_sold` column as an `int64` data type?\n",
    "\n",
    "I.\n",
    "```\n",
    "quantity_sold = df_not_null['quantity_sold'].astype(int)\n",
    "data = pd.concat(\n",
    "    [\n",
    "        df_not_null[['widget', 'date_sold', 'unit_price', 'tax', 'discount']], \n",
    "        quantity_sold\n",
    "    ],\n",
    "    axis=1\n",
    ")\n",
    "```\n",
    "\n",
    "II.\n",
    "```\n",
    "quantity_sold = df_not_null['quantity_sold'].astype(int)\n",
    "data = df_not_null.drop('quantity_sold', axis=1)\n",
    "data = pd.concat([data, quantity_sold], axis=1, join='inner')\n",
    "```\n",
    "\n",
    "III.\n",
    "```\n",
    "quantity_sold = df['quantity_sold'].dropna().astype(int)\n",
    "data = df.drop('quantity_sold', axis=1)\n",
    "data = pd.concat([data, quantity_sold], axis=1, join='inner')\n",
    "```\n",
    "\n",
    "- a. I only\n",
    "- b. II only\n",
    "- c. III only\n",
    "- d. I and II only\n"
   ]
  },
  {
   "cell_type": "markdown",
   "id": "50057148-af2a-47a3-a7e7-512e7130b272",
   "metadata": {},
   "source": [
    "This is an interesting one but: Answer should be `d`"
   ]
  },
  {
   "cell_type": "markdown",
   "id": "unlimited-princeton",
   "metadata": {},
   "source": [
    "#### Q7"
   ]
  },
  {
   "cell_type": "markdown",
   "id": "remarkable-rebate",
   "metadata": {},
   "source": [
    "The net sale for each row is given by:\n",
    "\n",
    "```quantity_sold * unit_price + tax - discount```"
   ]
  },
  {
   "cell_type": "markdown",
   "id": "satisfied-mechanics",
   "metadata": {},
   "source": [
    "Calculate the total net sales of the data contained in the dataframe that has all rows with null values removed, rounded to 2 decimal points.\n",
    "\n",
    "The answer is:\n",
    "- a. `8383874.86`\n",
    "- b. `7963979.82`\n",
    "- c. `8380560.82`\n",
    "- d. `99355.0`\n"
   ]
  },
  {
   "cell_type": "code",
   "execution_count": 14,
   "id": "207d9d91-dc45-4f10-9694-cb05d6d49aa7",
   "metadata": {},
   "outputs": [],
   "source": [
    "import numpy as np"
   ]
  },
  {
   "cell_type": "code",
   "execution_count": 21,
   "id": "cb7aab12-14ce-4942-9985-4f82ceab8946",
   "metadata": {},
   "outputs": [
    {
     "data": {
      "text/plain": [
       "np.float64(8383874.86)"
      ]
     },
     "execution_count": 21,
     "metadata": {},
     "output_type": "execute_result"
    }
   ],
   "source": [
    "df_net_sale = (df_not_null.quantity_sold * df_not_null.unit_price) + (df_not_null.tax - df_not_null.discount)\n",
    "np.around(df_net_sale.sum(), 2)"
   ]
  },
  {
   "cell_type": "markdown",
   "id": "345218e8-84c6-46df-aa00-40e69e728bee",
   "metadata": {},
   "source": [
    "Answer is `a`"
   ]
  },
  {
   "cell_type": "markdown",
   "id": "collective-buying",
   "metadata": {},
   "source": [
    "#### Q8"
   ]
  },
  {
   "cell_type": "markdown",
   "id": "trained-earth",
   "metadata": {},
   "source": [
    "Identify the date on which the **second** highest net sale for widget `AAA` occurred.\n",
    "\n",
    "Just as before, the net sale formula is given by:\n",
    "```quantity_sold * unit_price + tax - discount```\n",
    "\n",
    "This sale happened on this date:\n",
    "s\n",
    "- a. 2020-01-21T16:22:07\n",
    "- b. 2020-01-21T21:39:52\n",
    "- c. 2020-01-26T00:30:51\n",
    "- d. 2020-01-23T21:31:26\n"
   ]
  },
  {
   "cell_type": "code",
   "execution_count": 25,
   "id": "c51d858e-e6e5-4de0-91ac-eaa37defc915",
   "metadata": {},
   "outputs": [],
   "source": [
    "from datetime import datetime"
   ]
  },
  {
   "cell_type": "code",
   "execution_count": 48,
   "id": "47f119a4-b8af-40b7-a75d-059a222b29f6",
   "metadata": {},
   "outputs": [
    {
     "data": {
      "text/plain": [
       "'2020-01-26T08:30:51'"
      ]
     },
     "execution_count": 48,
     "metadata": {},
     "output_type": "execute_result"
    }
   ],
   "source": [
    "df_AAA = df_not_null[df_not_null['widget'] == 'AAA']\n",
    "df_AAA_net_sales = (df_AAA.quantity_sold * df_AAA.unit_price) + (df_AAA.tax - df_AAA.discount)\n",
    "df_AAA_net_sales.name = 'net_sales'\n",
    "df_AAA = pd.concat([df_AAA, df_AAA_net_sales], axis=1)\n",
    "epochtime_AAA = df_AAA.sort_values('net_sales').iloc[-2]['date_sold']\n",
    "datetime.strftime(datetime.fromtimestamp(epochtime_AAA), \"%Y-%m-%dT%H:%M:%S\")"
   ]
  },
  {
   "cell_type": "markdown",
   "id": "4098d25b-31e5-4389-bc4b-29b59a0e94aa",
   "metadata": {},
   "source": [
    "Based on my results, the date shold be `c` though there seems to be some time diff"
   ]
  },
  {
   "cell_type": "markdown",
   "id": "together-coordinate",
   "metadata": {},
   "source": [
    "#### Q9"
   ]
  },
  {
   "cell_type": "markdown",
   "id": "comic-seafood",
   "metadata": {},
   "source": [
    "Calculate the number of rows (sales) that each widget has generated (limit your dataframe to rows that contain no null values)."
   ]
  },
  {
   "cell_type": "markdown",
   "id": "recreational-venice",
   "metadata": {},
   "source": [
    "Represented as a dictionary, the result is:\n",
    "\n",
    "a. \n",
    "```\n",
    "{'AAA': 1646, 'BBB': 1705, 'CCC': 1653, 'DDD': 1666, 'EEE': 1668, 'FFF': 1661}\n",
    "```\n",
    "\n",
    "b.\n",
    "```\n",
    "{'AAA': 1647, 'BBB': 1704, 'CCC': 1652, 'DDD': 1667, 'EEE': 1667, 'FFF': 1661}\n",
    "```\n",
    "\n",
    "c.\n",
    "```\n",
    "{'AAA': 1666, 'BBB': 1666, 'CCC': 1666, 'DDD': 1666, 'EEE': 1666, 'FFF': 1670}\n",
    "```\n",
    "\n",
    "d.\n",
    "```\n",
    "{'AAA': 1647, 'BBB': 1705, 'CCC': 1652, 'DDD': 1667, 'EEE': 1667, 'FFF': 1661, NAN: 1}\n",
    "```\n"
   ]
  },
  {
   "cell_type": "code",
   "execution_count": 54,
   "id": "ec73c2b6-c5be-40f6-b43d-703956277a29",
   "metadata": {},
   "outputs": [
    {
     "data": {
      "text/plain": [
       "array(['AAA', 'BBB', 'CCC', 'DDD', 'EEE', 'FFF'], dtype=object)"
      ]
     },
     "execution_count": 54,
     "metadata": {},
     "output_type": "execute_result"
    }
   ],
   "source": [
    "np.sort(df_not_null.widget.unique())"
   ]
  },
  {
   "cell_type": "code",
   "execution_count": 57,
   "id": "c24f1997-e4cb-4f11-9a24-6bea260be1f2",
   "metadata": {},
   "outputs": [
    {
     "data": {
      "text/plain": [
       "{'AAA': 1647, 'BBB': 1704, 'CCC': 1652, 'DDD': 1667, 'EEE': 1667, 'FFF': 1661}"
      ]
     },
     "execution_count": 57,
     "metadata": {},
     "output_type": "execute_result"
    }
   ],
   "source": [
    "num_of_sales = {i: len(df_not_null[df_not_null['widget'] == i])\n",
    "    for i in np.sort(df_not_null.widget.unique())\n",
    "}\n",
    "num_of_sales"
   ]
  },
  {
   "cell_type": "markdown",
   "id": "37cf3070-8d77-49bb-8c5d-7103304f3617",
   "metadata": {},
   "source": [
    "Answer is `b`"
   ]
  },
  {
   "cell_type": "markdown",
   "id": "manual-valuable",
   "metadata": {},
   "source": [
    "#### Q10"
   ]
  },
  {
   "cell_type": "markdown",
   "id": "promotional-rental",
   "metadata": {},
   "source": [
    "Limiting your dataframe to rows with non-null values only, calculate the average percentage discount (rounded to 2 digits after the decimal point) of each widget.\n",
    "\n",
    "(The percentage discount for a specific row in the dataframe is given by:\n",
    "```\n",
    "discount / (quantity_sold * unit_price) * 100\n",
    "```\n",
    ")\n",
    "\n",
    "Represented as a dictionary, the result is:\n",
    "\n",
    "a. \n",
    "```\n",
    "{'AAA': 2.44, 'BBB': 2.5, 'CCC': 2.49, 'DDD': 2.45, 'EEE': 2.48, 'FFF': 2.46}\n",
    "```\n",
    "\n",
    "b.\n",
    "```\n",
    "{'AAA': 2.35, 'BBB': 2.49, 'CCC': 2.42, 'DDD': 2.39, 'EEE': 2.44, 'FFF': 2.47}\n",
    "```\n",
    "\n",
    "c.\n",
    "```\n",
    "{'AAA': 2.14, 'BBB': 2.23, 'CCC': 2.2, 'DDD': 2.14, 'EEE': 2.24, 'FFF': 2.2}\n",
    "```\n",
    "\n",
    "d.\n",
    "```\n",
    "{'AAA': 2.65, 'BBB': 2.76, 'CCC': 2.71, 'DDD': 2.63, 'EEE': 2.72, 'FFF': 2.7}\n",
    "```\n"
   ]
  },
  {
   "cell_type": "code",
   "execution_count": 61,
   "id": "1dfbdb2d-bcc1-417c-b1f3-63874560865e",
   "metadata": {},
   "outputs": [
    {
     "data": {
      "text/plain": [
       "{'AAA': 2.44, 'BBB': 2.5, 'CCC': 2.49, 'DDD': 2.45, 'EEE': 2.48, 'FFF': 2.46}"
      ]
     },
     "execution_count": 61,
     "metadata": {},
     "output_type": "execute_result"
    }
   ],
   "source": [
    "avg_perc_discount = {}\n",
    "for i in np.sort(df_not_null.widget.unique()):\n",
    "    df_i = df_not_null[df_not_null.widget == i]\n",
    "    df_perc_discount = df_i.discount / (df_i.quantity_sold * df_i.unit_price) * 100\n",
    "    avg_perc_discount[i] = float(np.around(df_perc_discount.mean(), 2))\n",
    "avg_perc_discount"
   ]
  },
  {
   "cell_type": "markdown",
   "id": "539ffaa5-9e19-4125-ab2d-be4a03ab4461",
   "metadata": {},
   "source": [
    "Answer is `a`"
   ]
  }
 ],
 "metadata": {
  "kernelspec": {
   "display_name": "Python 3 (ipykernel)",
   "language": "python",
   "name": "python3"
  },
  "language_info": {
   "codemirror_mode": {
    "name": "ipython",
    "version": 3
   },
   "file_extension": ".py",
   "mimetype": "text/x-python",
   "name": "python",
   "nbconvert_exporter": "python",
   "pygments_lexer": "ipython3",
   "version": "3.9.19"
  }
 },
 "nbformat": 4,
 "nbformat_minor": 5
}
