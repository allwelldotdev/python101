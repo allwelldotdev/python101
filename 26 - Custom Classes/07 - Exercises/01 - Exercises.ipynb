{
 "cells": [
  {
   "cell_type": "markdown",
   "id": "intimate-skirt",
   "metadata": {},
   "source": [
    "### Solutions"
   ]
  },
  {
   "cell_type": "markdown",
   "id": "compliant-pavilion",
   "metadata": {},
   "source": [
    "#### Question 1"
   ]
  },
  {
   "cell_type": "markdown",
   "id": "private-theory",
   "metadata": {},
   "source": [
    "Write a custom class that will be used to model a single bank account."
   ]
  },
  {
   "cell_type": "markdown",
   "id": "greenhouse-anchor",
   "metadata": {},
   "source": [
    "Your class should implement functionality to:\n",
    "- allow initialization with values for `first_name`, `last_name`, `account_number`, `balance`, `is_overdraft_allowed`\n",
    "- keep track of a \"ledger\" that keeps a record all transactions (just use a list to keep track of this)\n",
    "    - at a minimum it should keep track of the transaction date (the current UTC datetime) and the amount (positive, or negative to indicate deposits/withdrawals) - later you could add tracking the running balance as well.\n",
    "- provide read-only properties for `first_name`, `last_name`, `account_number` and `balance`\n",
    "- provide a property to access the ledger in such a way that a user of this class cannot mutate the ledger directly\n",
    "- provide a read-write property for `is_overdraft_allowed` that indicates whether overdrafts are allowed on the account.\n",
    "- provide methods to debit (`def withdraw`) and credit (`def deposit`) transactions that:\n",
    "    - verify withdrawals against available balance and `is_overdraft_allowed` flag\n",
    "        - if withdrawal is larger than available balance and overdrafts are not allowed, this should raise a custom `OverdraftNotAllowed` exception.\n",
    "        - if transaction value is not positive, this should raise a `ValueError` exception (we have separate methods for deposits and withdrawals, and we expect the value to be positive in both cases - one will add to the balance, one will subtract from the balance).\n",
    "    - add an entry to the ledger with a current UTC timestamp (positive or negative to indicate credit/debit)\n",
    "    - keeps the available balance updated\n",
    "- implements a good string representation for the instance (maybe something like `first_name last_name (account_number): balance`"
   ]
  },
  {
   "cell_type": "markdown",
   "id": "cultural-point",
   "metadata": {},
   "source": [
    "Feel free to expand on the minimum definition I have given here and enhance your custom class."
   ]
  },
  {
   "cell_type": "markdown",
   "id": "e45320ce-e2c6-4f37-8832-fc05aa4bdd4f",
   "metadata": {},
   "source": [
    "##### Solution 1"
   ]
  },
  {
   "cell_type": "code",
   "execution_count": 1,
   "id": "3ed630ef-6589-40d5-9d5b-8ef182919b7f",
   "metadata": {},
   "outputs": [],
   "source": [
    "import random\n",
    "from datetime import datetime, timezone"
   ]
  },
  {
   "cell_type": "code",
   "execution_count": 2,
   "id": "d0fc4d70-aa0e-4c0d-8fd6-e599175db4a7",
   "metadata": {},
   "outputs": [],
   "source": [
    "class BankAccount:\n",
    "    def __init__(self, *,\n",
    "                 first_name:str,\n",
    "                 last_name:str,\n",
    "                 account_number:int,\n",
    "                 balance:float= 0,\n",
    "        is_overdraft_allowed:bool= False,\n",
    "                overdraft_amount:float= 0):\n",
    "\n",
    "        # validate: first_name\n",
    "        if not self.is_pure_str(first_name):\n",
    "            raise ValueError('first_name must be a string')\n",
    "        self._first_name = first_name.upper()\n",
    "\n",
    "        # validate: last_name\n",
    "        if not self.is_pure_str(last_name):\n",
    "            raise ValueError('first_name must be a string')\n",
    "        self._last_name = last_name.upper()\n",
    "\n",
    "        # validate: account_number\n",
    "        if isinstance(account_number, float) and not(isinstance(account_number, int)):\n",
    "            raise ValueError('account_number must be an integer')\n",
    "        elif not(self.count_digits(account_number, 10)):\n",
    "            raise ValueError('account_number must be 10 digits')\n",
    "        else:\n",
    "            self._account_number = account_number\n",
    "\n",
    "        # validate: balance\n",
    "        if not(isinstance(balance, int) or isinstance(balance, float)):\n",
    "            raise ValueError('balance must be integer or float')\n",
    "        self._balance = float(balance)\n",
    "\n",
    "        # validate: is_overdraft_allowed\n",
    "        if not(isinstance(is_overdraft_allowed, bool)):\n",
    "            raise ValueError('is_overdraft_allowed must be boolean')\n",
    "        self.is_overdraft_allowed = is_overdraft_allowed # defaults to False\n",
    "\n",
    "        # validate: overdraft_amount\n",
    "        if not(isinstance(balance, int) or isinstance(balance, float)):\n",
    "            raise ValueError('overdraft_amount must be integer or float')\n",
    "        if not self.is_overdraft_allowed and overdraft_amount > 0 or overdraft_amount < 0:\n",
    "            raise ValueError('is_overdraft_allowed is False, therefore setting overdraft amount is not allowed')\n",
    "        self._overdraft, self._overdraft_amount = [round(overdraft_amount, 2)] * 2\n",
    "\n",
    "        # initialize ledger\n",
    "        self._ledger = []\n",
    "\n",
    "    # validation func\n",
    "    def is_pure_str(self, value):\n",
    "        if not isinstance(value, str):\n",
    "            return False\n",
    "        try:\n",
    "            float(value)\n",
    "            return False\n",
    "        except ValueError:\n",
    "            return True\n",
    "    \n",
    "    # check if digits is count value. Ex: if count value is 10 and digits is 9, return False\n",
    "    def count_digits(self, digits, count):\n",
    "        digits = len([digit for digit in str(digits)])\n",
    "        return digits == count\n",
    "    \n",
    "    # setting read-only properties: first_name, last_name, account_number, balance\n",
    "    @property\n",
    "    def first_name(self):\n",
    "        return self._first_name\n",
    "    \n",
    "    @property\n",
    "    def last_name(self):\n",
    "        return self._last_name\n",
    "\n",
    "    @property\n",
    "    def account_number(self):\n",
    "        return self._account_number\n",
    "\n",
    "    @property\n",
    "    def balance(self):\n",
    "        return self._balance\n",
    "\n",
    "    @property\n",
    "    def ledger(self):\n",
    "        return self._ledger\n",
    "\n",
    "    # configure overdraft getter\n",
    "    @property\n",
    "    def overdraft(self):\n",
    "        return self._overdraft\n",
    "\n",
    "    # contifure overdraft_amount getter\n",
    "    @property\n",
    "    def overdraft_amount(self):\n",
    "        return self._overdraft_amount\n",
    "\n",
    "    # configure overdraft_amount setter\n",
    "    @overdraft_amount.setter\n",
    "    def overdraft_amount(self, value):\n",
    "        if not(isinstance(value, int) or isinstance(value, float)):\n",
    "            raise ValueError('overdraft_amount must be integer or float')\n",
    "        if not self.is_overdraft_allowed:\n",
    "            raise ValueError('is_overdraft_allowed is False, therefore setting overdraft amount is not allowed')\n",
    "        if self.overdraft != self.overdraft_amount:\n",
    "            raise ValueError('BankAccount not qualified for overdraft amount increase')\n",
    "        self._overdraft, self._overdraft_amount = [round(value, 2)] * 2\n",
    "\n",
    "    # define ledger_wrap decorator function to add metaprogramming to deposit and withdrawal func\n",
    "    # this decorator adds every deposit/withdraw transaction to the ledger\n",
    "    def ledger_wrap(fn):\n",
    "        def inner(self, amount):\n",
    "            _dict = {'datetime': datetime.now(timezone.utc), 'transaction_reference': random.randrange(10**13, 10**14)}\n",
    "            result = fn(self, amount)\n",
    "            result_copy = result.copy()\n",
    "            result_copy.update(_dict)\n",
    "            self.ledger.append(result_copy)\n",
    "            return result\n",
    "        return inner\n",
    "    \n",
    "    # decorate deposit func with ledger_wrap decorator\n",
    "    @ledger_wrap\n",
    "    # deposit func\n",
    "    def deposit(self, amount):\n",
    "        # validate amount to be int, float, or greater than zero\n",
    "        if not(isinstance(amount, int) or isinstance(amount, float)):\n",
    "            raise ValueError('amount must be integer or float')\n",
    "        if not(amount > 0):\n",
    "            raise ValueError('amount must be greater than zero')\n",
    "\n",
    "        # grab initial balance before transactions\n",
    "        initial_balance, initial_overdraft = self.balance, self.overdraft\n",
    "\n",
    "        # deposit + overdraft functionality\n",
    "        if self.is_overdraft_allowed and self.overdraft < self.overdraft_amount:\n",
    "            if self.overdraft + amount > self.overdraft_amount:\n",
    "                remainder = amount - (self.overdraft_amount - self.overdraft)\n",
    "                self._overdraft = self.overdraft_amount\n",
    "                self._balance = round(self.balance + remainder, 2)\n",
    "            else:\n",
    "                self._overdraft = self.overdraft + amount\n",
    "            return {\n",
    "                'credit': amount,\n",
    "                'initial_balance': initial_balance,\n",
    "                'current_balance': self.balance,\n",
    "                'initial_overdraft': initial_overdraft,\n",
    "                'current_overdraft': self.overdraft\n",
    "            }\n",
    "        else:\n",
    "            self._balance = round(self.balance + amount, 2)\n",
    "            return {'credit': amount, 'initial_balance': initial_balance, 'current_balance': self.balance}\n",
    "\n",
    "    # decorate withdraw func with ledger_wrap decorator\n",
    "    @ledger_wrap\n",
    "    # withdraw func\n",
    "    def withdraw(self, amount):\n",
    "        # validate amount to be int, float, or greater than zero \n",
    "        if not(isinstance(amount, int) or isinstance(amount, float)):\n",
    "            raise ValueError('amount must be integer or float')\n",
    "        if not(amount > 0):\n",
    "            raise ValueError('amount must be greater than zero')\n",
    "\n",
    "        # validate withdrawal, raise custom exception if trying to withdraw beyond overdraft limit\n",
    "        if amount > self.balance and amount > self.balance + self.overdraft:\n",
    "            raise self.OverdraftNotAllowed(self.balance + self.overdraft, amount)\n",
    "\n",
    "        # grab initial balance before transactions\n",
    "        initial_balance, initial_overdraft = self.balance, self.overdraft\n",
    "\n",
    "        # withdraw + overdraft functionality\n",
    "        if amount > self.balance:\n",
    "            remainder = -(self.balance - amount)\n",
    "            self._balance = float(0)\n",
    "            self._overdraft = round(self.overdraft - remainder, 2)\n",
    "            return {\n",
    "                'debit': amount,\n",
    "                'initial_balance': initial_balance,\n",
    "                'current_balance': self.balance,\n",
    "                'initial_overdraft': initial_overdraft,\n",
    "                'current_overdraft': self.overdraft\n",
    "            }\n",
    "        else:\n",
    "            self._balance = round(self.balance - amount, 2)\n",
    "            return {'debit': amount, 'initial_balance': initial_balance, 'current_balance': self.balance}\n",
    "\n",
    "    # custom exception 'OverdraftNotAllowed', if withdraw amount exceeds balance\n",
    "    class OverdraftNotAllowed(Exception):\n",
    "        def __init__(self, balance, amount):\n",
    "            self.message = f'Cannot withdraw {amount}. Current Balance: {balance}'\n",
    "            super().__init__(self.message)\n",
    "\n",
    "    # class string formatting\n",
    "    def __str__(self):\n",
    "        return f'{self.first_name} {self.last_name} ({self.account_number}): {self.balance}'\n",
    "\n",
    "    # class repr formatting\n",
    "    def __repr__(self):\n",
    "        return f'{self.__class__.__name__}(first_name={self.first_name}, last_name={self.last_name}, account_number={self.account_number}, balance={self.balance}, is_overdraft_allowed={self.is_overdraft_allowed}, overdraft={self.overdraft}, overdraft_amount={self.overdraft_amount}, ledger_length={len(self.ledger)})'\n",
    "\n",
    "    # implement equality\n",
    "    def __eq__(self, other):\n",
    "        if not isinstance(other, self.__class__):\n",
    "            raise ValueError('not comparable')\n",
    "        return self.account_number == other.account_number\n",
    "\n",
    "    # implement greater than comparison\n",
    "    def __gt__(self, other):\n",
    "        if not isinstance(other, self.__class__):\n",
    "            raise ValueError('not comparable')\n",
    "        return self.balance > other.balance"
   ]
  },
  {
   "cell_type": "markdown",
   "id": "861464a0-85c8-4d3e-8353-38036449ca80",
   "metadata": {},
   "source": [
    "alrightyy...🚀 so in the spirit of taking notes, and for anyone else who is reading this except myself, below I show proof of problems from assignment solved using my `class` code. Enjoy!\n",
    "\n",
    "so first off, let's create an instance of the `BankAccount` class and assign it to `allwell`"
   ]
  },
  {
   "cell_type": "code",
   "execution_count": 3,
   "id": "b2d77893-08fd-4513-8eba-6d8a0dd03b78",
   "metadata": {},
   "outputs": [],
   "source": [
    "allwell = BankAccount(first_name='Allwell',\n",
    "                      last_name='Agwu-Okoro',\n",
    "                      account_number=1234567890,\n",
    "                      balance=100,\n",
    "                      #is_overdraft_allowed=True,\n",
    "                      #overdraft_amount=100\n",
    "                     )"
   ]
  },
  {
   "cell_type": "markdown",
   "id": "97e00c63-a04c-405a-9679-35144c0e7b09",
   "metadata": {},
   "source": [
    "**1)** allow initialization with values for `first_name`, `last_name`, `account_number`, `balance`, `is_overdraft_allowed` ✅\n",
    "\n",
    "The `class` takes in all those values. Among them, `balance` defaults to `0.0` and `is_overdraft_allowed` defaults to `False`. Therefore, I don't need to pass them in while I create an instance of the `class`. But since the `balance` property is immutable once created, for the `allwell` instance I passed in a value of `100` for `balance` to start him off with some 💵"
   ]
  },
  {
   "cell_type": "code",
   "execution_count": 4,
   "id": "99146776-2dfb-403f-b430-679f44605b4b",
   "metadata": {},
   "outputs": [
    {
     "data": {
      "text/plain": [
       "{'_first_name': 'ALLWELL',\n",
       " '_last_name': 'AGWU-OKORO',\n",
       " '_account_number': 1234567890,\n",
       " '_balance': 100.0,\n",
       " 'is_overdraft_allowed': False,\n",
       " '_overdraft': 0,\n",
       " '_overdraft_amount': 0,\n",
       " '_ledger': []}"
      ]
     },
     "execution_count": 4,
     "metadata": {},
     "output_type": "execute_result"
    }
   ],
   "source": [
    "allwell.__dict__ # let's take a look at the properties of this BankAccount instance"
   ]
  },
  {
   "cell_type": "markdown",
   "id": "c1d30c95-e79e-4aab-be68-f24266435ed4",
   "metadata": {},
   "source": [
    "As we can see from the properties of this instance, there are some private properties (properties that start with an underscore `_`), and just one public (I'll come back to that one later).\n",
    "\n",
    "Also, notice the `_ledger` private property. It's an empty list right now, but this will change once we initiate some transactions. The idea behind the ledger is: it's a transaction tracker (whenever a transaction occurs on a `BankAccount` class instance, the transaction is tracked within this ledger). That's ties in close with the second question (as seen below).\n",
    "\n",
    "**2)** keep track of a \"ledger\" that keeps a record all transactions (just use a list to keep track of this) ✅\n",
    "- at a minimum it should keep track of the transaction date (the current UTC datetime) and the amount (positive, or negative to indicate deposits/withdrawals) - later you could add tracking the running balance as well."
   ]
  },
  {
   "cell_type": "markdown",
   "id": "3dbe3a2e-ea95-4322-9a74-85892c3b8070",
   "metadata": {},
   "source": [
    "next question!\n",
    "\n",
    "**3)** provide read-only properties for `first_name`, `last_name`, `account_number` and `balance` ✅"
   ]
  },
  {
   "cell_type": "code",
   "execution_count": 5,
   "id": "7ebd51f5-df34-4969-b7c7-282bd46582b3",
   "metadata": {},
   "outputs": [
    {
     "data": {
      "text/plain": [
       "('ALLWELL', 'AGWU-OKORO', 1234567890, 100.0)"
      ]
     },
     "execution_count": 5,
     "metadata": {},
     "output_type": "execute_result"
    }
   ],
   "source": [
    "allwell.first_name, allwell.last_name, allwell.account_number, allwell.balance"
   ]
  },
  {
   "cell_type": "markdown",
   "id": "6d7563b0-67d7-4e10-b32d-dc9bdf85b0d1",
   "metadata": {},
   "source": [
    "They are all read-only properties now. If I try to write to them or set their values it raises an error. Watch 🍿"
   ]
  },
  {
   "cell_type": "code",
   "execution_count": 6,
   "id": "a026e3fa-4f7f-4442-b441-a66cfc131163",
   "metadata": {},
   "outputs": [
    {
     "ename": "AttributeError",
     "evalue": "can't set attribute",
     "output_type": "error",
     "traceback": [
      "\u001b[0;31m---------------------------------------------------------------------------\u001b[0m",
      "\u001b[0;31mAttributeError\u001b[0m                            Traceback (most recent call last)",
      "Cell \u001b[0;32mIn[6], line 1\u001b[0m\n\u001b[0;32m----> 1\u001b[0m \u001b[43mallwell\u001b[49m\u001b[38;5;241;43m.\u001b[39;49m\u001b[43mfirst_name\u001b[49m \u001b[38;5;241m=\u001b[39m \u001b[38;5;124m'\u001b[39m\u001b[38;5;124mjohn\u001b[39m\u001b[38;5;124m'\u001b[39m\n\u001b[1;32m      2\u001b[0m allwell\u001b[38;5;241m.\u001b[39mlast_name \u001b[38;5;241m=\u001b[39m \u001b[38;5;124m'\u001b[39m\u001b[38;5;124mdoe\u001b[39m\u001b[38;5;124m'\u001b[39m\n\u001b[1;32m      3\u001b[0m allwell\u001b[38;5;241m.\u001b[39maccount_number \u001b[38;5;241m=\u001b[39m \u001b[38;5;241m69\u001b[39m \u001b[38;5;66;03m# 😏\u001b[39;00m\n",
      "\u001b[0;31mAttributeError\u001b[0m: can't set attribute"
     ]
    }
   ],
   "source": [
    "allwell.first_name = 'john'\n",
    "allwell.last_name = 'doe'\n",
    "allwell.account_number = 69 # 😏\n",
    "allwell.balance = 100_000_000_000 # USD! very soon God abeg 🤲🏾"
   ]
  },
  {
   "cell_type": "markdown",
   "id": "11971f0a-130f-4b26-8c7e-6dcb2216a81c",
   "metadata": {},
   "source": [
    "Well, it didn't run the other lines of code because the first line threw an error and exited the code. But you get the point. `first_name`, `last_name`, `account_number`, and `balance` are read-only properties. They can't be written to, which protects and ensures the data integrity of the `BankAccount` class."
   ]
  },
  {
   "cell_type": "markdown",
   "id": "f0d92a86-4de8-4943-a9db-a5b5504855f3",
   "metadata": {},
   "source": [
    "**4)** provide a property to access the ledger in such a way that a user of this class cannot mutate the ledger directly ✅\n",
    "\n",
    "Finally, some *action*. Okay, so here we're gonna see the beauty (the part I enjoyed programming the most) of the ledger tracker. It only happens when a transaction (credit/debit) is made.\n",
    "\n",
    "Before that, lemme show you something I implemented. The ledger tracker is a list, therefore when there's a transaction, instead of displaying the entire transaction data in the `repr` format display, I instead show the number of transactions tracked. This helps devs know, just from looking at the `repr` format, if a transaction has been performed at all, and if yes, how many."
   ]
  },
  {
   "cell_type": "code",
   "execution_count": 7,
   "id": "0ccd0a88-cf19-4b80-89b9-c80dc0c89688",
   "metadata": {},
   "outputs": [
    {
     "data": {
      "text/plain": [
       "BankAccount(first_name=ALLWELL, last_name=AGWU-OKORO, account_number=1234567890, balance=100.0, is_overdraft_allowed=False, overdraft=0, overdraft_amount=0, ledger_length=0)"
      ]
     },
     "execution_count": 7,
     "metadata": {},
     "output_type": "execute_result"
    }
   ],
   "source": [
    "allwell # in Jupyter, this is the same as doing `repr(allwell)`"
   ]
  },
  {
   "cell_type": "markdown",
   "id": "5ba417ac-bf6e-4876-b804-3bb986cb9d48",
   "metadata": {},
   "source": [
    "We can see from the repr that the `ledger_length` is tracking `0` transactions. That's because our `BankAccount` class instance `allwell` has not had any transactions yet. Let's perform some!\n",
    "\n",
    "While performing transactions, I'd like to share that this action answers some questions from the exercise (such as listed and ticked below):\n",
    "\n",
    "**5)** provide methods to debit (`def withdraw`) and credit (`def deposit`) transactions that: ✅\n",
    "1. verify withdrawals against available balance and `is_overdraft_allowed` flag\n",
    "    1. if withdrawal is larger than available balance and overdrafts are not allowed, this should raise a custom `OverdraftNotAllowed` exception.\n",
    "    2. if transaction value is not positive, this should raise a `ValueError` exception (we have separate methods for deposits and withdrawals, and we expect the value to be positive in both cases - one will add to the balance, one will subtract from the balance).\n",
    "2. add an entry to the ledger with a current UTC timestamp (positive or negative to indicate credit/debit) ✅\n",
    "3. keeps the available balance updated ✅"
   ]
  },
  {
   "cell_type": "code",
   "execution_count": 8,
   "id": "f8e13da4-f3e2-4d85-84ed-cdfc647161ba",
   "metadata": {},
   "outputs": [
    {
     "data": {
      "text/plain": [
       "100.0"
      ]
     },
     "execution_count": 8,
     "metadata": {},
     "output_type": "execute_result"
    }
   ],
   "source": [
    "allwell.balance # let's check allwell's current balance just transactions"
   ]
  },
  {
   "cell_type": "code",
   "execution_count": 9,
   "id": "d523597f-db7d-4430-be95-21f25863c5d0",
   "metadata": {},
   "outputs": [
    {
     "data": {
      "text/plain": [
       "{'credit': 100, 'initial_balance': 100.0, 'current_balance': 200.0}"
      ]
     },
     "execution_count": 9,
     "metadata": {},
     "output_type": "execute_result"
    }
   ],
   "source": [
    "allwell.deposit(100) # a deposit transaction"
   ]
  },
  {
   "cell_type": "markdown",
   "id": "6ee387f5-217a-4d36-8135-4ac068846972",
   "metadata": {},
   "source": [
    "After a `deposit` transaction, as well as `withdraw` transaction, the function returns some data about the transaction (as seen above).\n",
    "\n",
    "Let's perform a `withdraw` transaction."
   ]
  },
  {
   "cell_type": "code",
   "execution_count": 10,
   "id": "d53b9cc6-fc33-45e4-9223-343c30053d91",
   "metadata": {},
   "outputs": [
    {
     "data": {
      "text/plain": [
       "{'debit': 60, 'initial_balance': 200.0, 'current_balance': 140.0}"
      ]
     },
     "execution_count": 10,
     "metadata": {},
     "output_type": "execute_result"
    }
   ],
   "source": [
    "allwell.withdraw(60) # a withdraw transaction"
   ]
  },
  {
   "cell_type": "markdown",
   "id": "7051195f-19a6-4484-8473-54f138cc1f57",
   "metadata": {},
   "source": [
    "Notice the data displayed in return values of `deposit` and `withdraw` functions. They keep track of the `initial_balance` before transaction, as well as credit/debit amount, and `current_balance`.\n",
    "\n",
    "Now, let's look at the ledger to see if it kept track of both transactions.\n",
    "\n",
    "First of, let's see if the `ledger_length` corresponds to the number of transactions performed so far. Remember, earlier it was `0`."
   ]
  },
  {
   "cell_type": "code",
   "execution_count": 11,
   "id": "3edfdbd6-6899-4597-b46c-12956c181354",
   "metadata": {},
   "outputs": [
    {
     "data": {
      "text/plain": [
       "BankAccount(first_name=ALLWELL, last_name=AGWU-OKORO, account_number=1234567890, balance=140.0, is_overdraft_allowed=False, overdraft=0, overdraft_amount=0, ledger_length=2)"
      ]
     },
     "execution_count": 11,
     "metadata": {},
     "output_type": "execute_result"
    }
   ],
   "source": [
    "allwell"
   ]
  },
  {
   "cell_type": "markdown",
   "id": "e73e088a-9ab7-4ba9-8250-2d3f00bdfb96",
   "metadata": {},
   "source": [
    "`ledger_length` is now `2` showing there have been two transactions performed on this `BankAccount` class instance. If we check the ledger we should see more data on the transactions."
   ]
  },
  {
   "cell_type": "code",
   "execution_count": 13,
   "id": "bf8cef2a-625c-4f23-8394-71edee3b017d",
   "metadata": {},
   "outputs": [
    {
     "data": {
      "text/plain": [
       "[{'credit': 100,\n",
       "  'initial_balance': 100.0,\n",
       "  'current_balance': 200.0,\n",
       "  'datetime': datetime.datetime(2025, 2, 16, 20, 6, 15, 840871, tzinfo=datetime.timezone.utc),\n",
       "  'transaction_reference': 50328428576694},\n",
       " {'debit': 60,\n",
       "  'initial_balance': 200.0,\n",
       "  'current_balance': 140.0,\n",
       "  'datetime': datetime.datetime(2025, 2, 16, 20, 16, 40, 940729, tzinfo=datetime.timezone.utc),\n",
       "  'transaction_reference': 76225539946863}]"
      ]
     },
     "execution_count": 13,
     "metadata": {},
     "output_type": "execute_result"
    }
   ],
   "source": [
    "allwell.ledger # ledger tracker"
   ]
  },
  {
   "cell_type": "markdown",
   "id": "02091e3c-3192-4931-87c7-cc24a3184f33",
   "metadata": {},
   "source": [
    "The `ledger` tracker data (a list of dictionaries (key-value pairs)) contains:\n",
    "1. transaction debit/credit amount, initial balance, current balance,\n",
    "2. data about the time of transaction in `datetime.datetime` class type stored (naive) in `UTC`,\n",
    "3. and a transaction reference (here I implemented a 14-digit `random` number - no one is the same - mirroring a real world transaction reference)"
   ]
  },
  {
   "cell_type": "markdown",
   "id": "ecab7480-ee00-4c2e-b4e4-19c225bd31a2",
   "metadata": {},
   "source": [
    "next question!"
   ]
  },
  {
   "cell_type": "markdown",
   "id": "d7b7dd15-ed55-454e-ba15-4f0f16cfa06f",
   "metadata": {},
   "source": [
    "To answer the rest of the questions in no. **5**-**1** **A** & **B**, let's introduce overdrafts to our `BankAccount` class instance.\n",
    "\n",
    "Remember, at initialization, `is_overdraft_allowed` defaults to `False`. Meaning, no overdraft. The `allwell` `BankAccount` instance does not have overdraft capability.\n",
    "\n",
    "Let's imagine that the bank decides to give `allwell` a 50% overdraft amount of `50` due to good financial management."
   ]
  },
  {
   "cell_type": "markdown",
   "id": "c8857c50-f177-42b0-93d6-6788165347ae",
   "metadata": {},
   "source": [
    "Before adding overdraft functionality, let's see the current properties of `allwell` instance (particularly overdraft properties)."
   ]
  },
  {
   "cell_type": "code",
   "execution_count": 14,
   "id": "b07ee35e-0dc9-4aeb-953b-b0128da7e3d4",
   "metadata": {},
   "outputs": [
    {
     "data": {
      "text/plain": [
       "BankAccount(first_name=ALLWELL, last_name=AGWU-OKORO, account_number=1234567890, balance=140.0, is_overdraft_allowed=False, overdraft=0, overdraft_amount=0, ledger_length=2)"
      ]
     },
     "execution_count": 14,
     "metadata": {},
     "output_type": "execute_result"
    }
   ],
   "source": [
    "allwell"
   ]
  },
  {
   "cell_type": "markdown",
   "id": "a99d63e9-b539-4ddb-ad04-0e3200d7a595",
   "metadata": {},
   "source": [
    "`is_overdraft_allowed` is `False`, `overdraft` is `0`, and `overdraft_amount` is `0`"
   ]
  },
  {
   "cell_type": "markdown",
   "id": "52b6d952-d314-45f9-b8f4-cee2b854c1f0",
   "metadata": {},
   "source": [
    "Now, let's add overdraft functionality."
   ]
  },
  {
   "cell_type": "code",
   "execution_count": 15,
   "id": "cbde816b-dd09-44c9-a696-1b7781b5a523",
   "metadata": {},
   "outputs": [
    {
     "data": {
      "text/plain": [
       "BankAccount(first_name=ALLWELL, last_name=AGWU-OKORO, account_number=1234567890, balance=140.0, is_overdraft_allowed=True, overdraft=50, overdraft_amount=50, ledger_length=2)"
      ]
     },
     "execution_count": 15,
     "metadata": {},
     "output_type": "execute_result"
    }
   ],
   "source": [
    "allwell.is_overdraft_allowed = True # bank authorizes overdraft functionality for `allwell`\n",
    "allwell.overdraft_amount = 50 # overdraft amount is `50`\n",
    "allwell # let's see if the overdraft amount reflects"
   ]
  },
  {
   "cell_type": "markdown",
   "id": "e37bc2f7-ab4b-4414-8bd7-15387f417358",
   "metadata": {},
   "source": [
    "`is_overdraft_allowed` is now `True`, `overdraft` is `50`, and `overdraft_amount` is also `50`.\n",
    "\n",
    "Now you may be thinking, what is the difference between `overdraft` and `overdraft_amount`? 🤔 (I gotchu 👇🏾)"
   ]
  },
  {
   "cell_type": "markdown",
   "id": "5ec4bcc2-63cc-4f8a-b79f-b5879bcacdd2",
   "metadata": {},
   "source": [
    "- `overdraft` is a container (variable) that holds the overdraft (current) amount which operates on `deposit` and `withdraw` transactions.\n",
    "- While, `overdraft_amount` is a placeholder variable that shows how much overdraft was authorized or awarded to a `BankAccount` class instance.\n",
    "\n",
    "I hope this explains it succintly."
   ]
  },
  {
   "cell_type": "markdown",
   "id": "8a9c4fd3-1f8b-48e8-ab26-a91357c9bf27",
   "metadata": {},
   "source": [
    "Let's see some of these features in action. (remember the current `balance` and other property values from the last `repr` display of `allwell`)"
   ]
  },
  {
   "cell_type": "code",
   "execution_count": 16,
   "id": "ec774fc8-2025-4e2c-ba3c-41ac44c769b1",
   "metadata": {},
   "outputs": [
    {
     "data": {
      "text/plain": [
       "{'debit': 150,\n",
       " 'initial_balance': 140.0,\n",
       " 'current_balance': 0.0,\n",
       " 'initial_overdraft': 50,\n",
       " 'current_overdraft': 40.0}"
      ]
     },
     "execution_count": 16,
     "metadata": {},
     "output_type": "execute_result"
    }
   ],
   "source": [
    "allwell.withdraw(150) # withdrawing beyond the balance amount `140`, overdraft will kick in"
   ]
  },
  {
   "cell_type": "markdown",
   "id": "04820fd4-f97e-4fc8-beeb-6760e1d5dd8e",
   "metadata": {},
   "source": [
    "Notice the return value of `withdraw` function is different (showing overdraft data)"
   ]
  },
  {
   "cell_type": "markdown",
   "id": "efce1f6f-ca6a-4afc-8eae-bcaa46ec77b7",
   "metadata": {},
   "source": [
    "If allwell is high as a kite 🪁 and decides to withdraw more money than is available even in his overdraft, he'll receive a custom `OverdraftNotAllowed` exception with a nicely formatted error message. Watch 🍿"
   ]
  },
  {
   "cell_type": "code",
   "execution_count": 17,
   "id": "f92a767b-7efb-49c0-9277-0c2913d4c35b",
   "metadata": {},
   "outputs": [
    {
     "ename": "OverdraftNotAllowed",
     "evalue": "Cannot withdraw 50. Current Balance: 40.0",
     "output_type": "error",
     "traceback": [
      "\u001b[0;31m---------------------------------------------------------------------------\u001b[0m",
      "\u001b[0;31mOverdraftNotAllowed\u001b[0m                       Traceback (most recent call last)",
      "Cell \u001b[0;32mIn[17], line 1\u001b[0m\n\u001b[0;32m----> 1\u001b[0m \u001b[43mallwell\u001b[49m\u001b[38;5;241;43m.\u001b[39;49m\u001b[43mwithdraw\u001b[49m\u001b[43m(\u001b[49m\u001b[38;5;241;43m50\u001b[39;49m\u001b[43m)\u001b[49m \u001b[38;5;66;03m# exceeding balance and overdraft capacity\u001b[39;00m\n",
      "Cell \u001b[0;32mIn[2], line 110\u001b[0m, in \u001b[0;36mBankAccount.ledger_wrap.<locals>.inner\u001b[0;34m(self, amount)\u001b[0m\n\u001b[1;32m    108\u001b[0m \u001b[38;5;28;01mdef\u001b[39;00m \u001b[38;5;21minner\u001b[39m(\u001b[38;5;28mself\u001b[39m, amount):\n\u001b[1;32m    109\u001b[0m     _dict \u001b[38;5;241m=\u001b[39m {\u001b[38;5;124m'\u001b[39m\u001b[38;5;124mdatetime\u001b[39m\u001b[38;5;124m'\u001b[39m: datetime\u001b[38;5;241m.\u001b[39mnow(timezone\u001b[38;5;241m.\u001b[39mutc), \u001b[38;5;124m'\u001b[39m\u001b[38;5;124mtransaction_reference\u001b[39m\u001b[38;5;124m'\u001b[39m: random\u001b[38;5;241m.\u001b[39mrandrange(\u001b[38;5;241m10\u001b[39m\u001b[38;5;241m*\u001b[39m\u001b[38;5;241m*\u001b[39m\u001b[38;5;241m13\u001b[39m, \u001b[38;5;241m10\u001b[39m\u001b[38;5;241m*\u001b[39m\u001b[38;5;241m*\u001b[39m\u001b[38;5;241m14\u001b[39m)}\n\u001b[0;32m--> 110\u001b[0m     result \u001b[38;5;241m=\u001b[39m \u001b[43mfn\u001b[49m\u001b[43m(\u001b[49m\u001b[38;5;28;43mself\u001b[39;49m\u001b[43m,\u001b[49m\u001b[43m \u001b[49m\u001b[43mamount\u001b[49m\u001b[43m)\u001b[49m\n\u001b[1;32m    111\u001b[0m     result_copy \u001b[38;5;241m=\u001b[39m result\u001b[38;5;241m.\u001b[39mcopy()\n\u001b[1;32m    112\u001b[0m     result_copy\u001b[38;5;241m.\u001b[39mupdate(_dict)\n",
      "Cell \u001b[0;32mIn[2], line 161\u001b[0m, in \u001b[0;36mBankAccount.withdraw\u001b[0;34m(self, amount)\u001b[0m\n\u001b[1;32m    159\u001b[0m \u001b[38;5;66;03m# validate withdrawal, raise custom exception if trying to withdraw beyond overdraft limit\u001b[39;00m\n\u001b[1;32m    160\u001b[0m \u001b[38;5;28;01mif\u001b[39;00m amount \u001b[38;5;241m>\u001b[39m \u001b[38;5;28mself\u001b[39m\u001b[38;5;241m.\u001b[39mbalance \u001b[38;5;129;01mand\u001b[39;00m amount \u001b[38;5;241m>\u001b[39m \u001b[38;5;28mself\u001b[39m\u001b[38;5;241m.\u001b[39mbalance \u001b[38;5;241m+\u001b[39m \u001b[38;5;28mself\u001b[39m\u001b[38;5;241m.\u001b[39moverdraft:\n\u001b[0;32m--> 161\u001b[0m     \u001b[38;5;28;01mraise\u001b[39;00m \u001b[38;5;28mself\u001b[39m\u001b[38;5;241m.\u001b[39mOverdraftNotAllowed(\u001b[38;5;28mself\u001b[39m\u001b[38;5;241m.\u001b[39mbalance \u001b[38;5;241m+\u001b[39m \u001b[38;5;28mself\u001b[39m\u001b[38;5;241m.\u001b[39moverdraft, amount)\n\u001b[1;32m    163\u001b[0m \u001b[38;5;66;03m# grab initial balance before transactions\u001b[39;00m\n\u001b[1;32m    164\u001b[0m initial_balance, initial_overdraft \u001b[38;5;241m=\u001b[39m \u001b[38;5;28mself\u001b[39m\u001b[38;5;241m.\u001b[39mbalance, \u001b[38;5;28mself\u001b[39m\u001b[38;5;241m.\u001b[39moverdraft\n",
      "\u001b[0;31mOverdraftNotAllowed\u001b[0m: Cannot withdraw 50. Current Balance: 40.0"
     ]
    }
   ],
   "source": [
    "allwell.withdraw(50) # exceeding balance and overdraft capacity"
   ]
  },
  {
   "cell_type": "markdown",
   "id": "c6bf1cc9-810b-47f6-bbe6-4c17e7cdcafa",
   "metadata": {},
   "source": [
    "Also, negative `withdraw` or `deposit` values are **not allowed** and would throw an exception."
   ]
  },
  {
   "cell_type": "code",
   "execution_count": 18,
   "id": "d4a297a2-dd72-48c7-a1d0-3c2159621433",
   "metadata": {},
   "outputs": [
    {
     "ename": "ValueError",
     "evalue": "amount must be greater than zero",
     "output_type": "error",
     "traceback": [
      "\u001b[0;31m---------------------------------------------------------------------------\u001b[0m",
      "\u001b[0;31mValueError\u001b[0m                                Traceback (most recent call last)",
      "Cell \u001b[0;32mIn[18], line 1\u001b[0m\n\u001b[0;32m----> 1\u001b[0m \u001b[43mallwell\u001b[49m\u001b[38;5;241;43m.\u001b[39;49m\u001b[43mwithdraw\u001b[49m\u001b[43m(\u001b[49m\u001b[38;5;241;43m-\u001b[39;49m\u001b[38;5;241;43m10\u001b[39;49m\u001b[43m)\u001b[49m\n",
      "Cell \u001b[0;32mIn[2], line 110\u001b[0m, in \u001b[0;36mBankAccount.ledger_wrap.<locals>.inner\u001b[0;34m(self, amount)\u001b[0m\n\u001b[1;32m    108\u001b[0m \u001b[38;5;28;01mdef\u001b[39;00m \u001b[38;5;21minner\u001b[39m(\u001b[38;5;28mself\u001b[39m, amount):\n\u001b[1;32m    109\u001b[0m     _dict \u001b[38;5;241m=\u001b[39m {\u001b[38;5;124m'\u001b[39m\u001b[38;5;124mdatetime\u001b[39m\u001b[38;5;124m'\u001b[39m: datetime\u001b[38;5;241m.\u001b[39mnow(timezone\u001b[38;5;241m.\u001b[39mutc), \u001b[38;5;124m'\u001b[39m\u001b[38;5;124mtransaction_reference\u001b[39m\u001b[38;5;124m'\u001b[39m: random\u001b[38;5;241m.\u001b[39mrandrange(\u001b[38;5;241m10\u001b[39m\u001b[38;5;241m*\u001b[39m\u001b[38;5;241m*\u001b[39m\u001b[38;5;241m13\u001b[39m, \u001b[38;5;241m10\u001b[39m\u001b[38;5;241m*\u001b[39m\u001b[38;5;241m*\u001b[39m\u001b[38;5;241m14\u001b[39m)}\n\u001b[0;32m--> 110\u001b[0m     result \u001b[38;5;241m=\u001b[39m \u001b[43mfn\u001b[49m\u001b[43m(\u001b[49m\u001b[38;5;28;43mself\u001b[39;49m\u001b[43m,\u001b[49m\u001b[43m \u001b[49m\u001b[43mamount\u001b[49m\u001b[43m)\u001b[49m\n\u001b[1;32m    111\u001b[0m     result_copy \u001b[38;5;241m=\u001b[39m result\u001b[38;5;241m.\u001b[39mcopy()\n\u001b[1;32m    112\u001b[0m     result_copy\u001b[38;5;241m.\u001b[39mupdate(_dict)\n",
      "Cell \u001b[0;32mIn[2], line 157\u001b[0m, in \u001b[0;36mBankAccount.withdraw\u001b[0;34m(self, amount)\u001b[0m\n\u001b[1;32m    155\u001b[0m     \u001b[38;5;28;01mraise\u001b[39;00m \u001b[38;5;167;01mValueError\u001b[39;00m(\u001b[38;5;124m'\u001b[39m\u001b[38;5;124mamount must be integer or float\u001b[39m\u001b[38;5;124m'\u001b[39m)\n\u001b[1;32m    156\u001b[0m \u001b[38;5;28;01mif\u001b[39;00m \u001b[38;5;129;01mnot\u001b[39;00m(amount \u001b[38;5;241m>\u001b[39m \u001b[38;5;241m0\u001b[39m):\n\u001b[0;32m--> 157\u001b[0m     \u001b[38;5;28;01mraise\u001b[39;00m \u001b[38;5;167;01mValueError\u001b[39;00m(\u001b[38;5;124m'\u001b[39m\u001b[38;5;124mamount must be greater than zero\u001b[39m\u001b[38;5;124m'\u001b[39m)\n\u001b[1;32m    159\u001b[0m \u001b[38;5;66;03m# validate withdrawal, raise custom exception if trying to withdraw beyond overdraft limit\u001b[39;00m\n\u001b[1;32m    160\u001b[0m \u001b[38;5;28;01mif\u001b[39;00m amount \u001b[38;5;241m>\u001b[39m \u001b[38;5;28mself\u001b[39m\u001b[38;5;241m.\u001b[39mbalance \u001b[38;5;129;01mand\u001b[39;00m amount \u001b[38;5;241m>\u001b[39m \u001b[38;5;28mself\u001b[39m\u001b[38;5;241m.\u001b[39mbalance \u001b[38;5;241m+\u001b[39m \u001b[38;5;28mself\u001b[39m\u001b[38;5;241m.\u001b[39moverdraft:\n",
      "\u001b[0;31mValueError\u001b[0m: amount must be greater than zero"
     ]
    }
   ],
   "source": [
    "allwell.withdraw(-10)"
   ]
  },
  {
   "cell_type": "code",
   "execution_count": 19,
   "id": "f1798744-e2b2-4330-83b6-395baaffa9f1",
   "metadata": {},
   "outputs": [
    {
     "ename": "ValueError",
     "evalue": "amount must be greater than zero",
     "output_type": "error",
     "traceback": [
      "\u001b[0;31m---------------------------------------------------------------------------\u001b[0m",
      "\u001b[0;31mValueError\u001b[0m                                Traceback (most recent call last)",
      "Cell \u001b[0;32mIn[19], line 1\u001b[0m\n\u001b[0;32m----> 1\u001b[0m \u001b[43mallwell\u001b[49m\u001b[38;5;241;43m.\u001b[39;49m\u001b[43mdeposit\u001b[49m\u001b[43m(\u001b[49m\u001b[38;5;241;43m-\u001b[39;49m\u001b[38;5;241;43m10\u001b[39;49m\u001b[43m)\u001b[49m\n",
      "Cell \u001b[0;32mIn[2], line 110\u001b[0m, in \u001b[0;36mBankAccount.ledger_wrap.<locals>.inner\u001b[0;34m(self, amount)\u001b[0m\n\u001b[1;32m    108\u001b[0m \u001b[38;5;28;01mdef\u001b[39;00m \u001b[38;5;21minner\u001b[39m(\u001b[38;5;28mself\u001b[39m, amount):\n\u001b[1;32m    109\u001b[0m     _dict \u001b[38;5;241m=\u001b[39m {\u001b[38;5;124m'\u001b[39m\u001b[38;5;124mdatetime\u001b[39m\u001b[38;5;124m'\u001b[39m: datetime\u001b[38;5;241m.\u001b[39mnow(timezone\u001b[38;5;241m.\u001b[39mutc), \u001b[38;5;124m'\u001b[39m\u001b[38;5;124mtransaction_reference\u001b[39m\u001b[38;5;124m'\u001b[39m: random\u001b[38;5;241m.\u001b[39mrandrange(\u001b[38;5;241m10\u001b[39m\u001b[38;5;241m*\u001b[39m\u001b[38;5;241m*\u001b[39m\u001b[38;5;241m13\u001b[39m, \u001b[38;5;241m10\u001b[39m\u001b[38;5;241m*\u001b[39m\u001b[38;5;241m*\u001b[39m\u001b[38;5;241m14\u001b[39m)}\n\u001b[0;32m--> 110\u001b[0m     result \u001b[38;5;241m=\u001b[39m \u001b[43mfn\u001b[49m\u001b[43m(\u001b[49m\u001b[38;5;28;43mself\u001b[39;49m\u001b[43m,\u001b[49m\u001b[43m \u001b[49m\u001b[43mamount\u001b[49m\u001b[43m)\u001b[49m\n\u001b[1;32m    111\u001b[0m     result_copy \u001b[38;5;241m=\u001b[39m result\u001b[38;5;241m.\u001b[39mcopy()\n\u001b[1;32m    112\u001b[0m     result_copy\u001b[38;5;241m.\u001b[39mupdate(_dict)\n",
      "Cell \u001b[0;32mIn[2], line 125\u001b[0m, in \u001b[0;36mBankAccount.deposit\u001b[0;34m(self, amount)\u001b[0m\n\u001b[1;32m    123\u001b[0m     \u001b[38;5;28;01mraise\u001b[39;00m \u001b[38;5;167;01mValueError\u001b[39;00m(\u001b[38;5;124m'\u001b[39m\u001b[38;5;124mamount must be integer or float\u001b[39m\u001b[38;5;124m'\u001b[39m)\n\u001b[1;32m    124\u001b[0m \u001b[38;5;28;01mif\u001b[39;00m \u001b[38;5;129;01mnot\u001b[39;00m(amount \u001b[38;5;241m>\u001b[39m \u001b[38;5;241m0\u001b[39m):\n\u001b[0;32m--> 125\u001b[0m     \u001b[38;5;28;01mraise\u001b[39;00m \u001b[38;5;167;01mValueError\u001b[39;00m(\u001b[38;5;124m'\u001b[39m\u001b[38;5;124mamount must be greater than zero\u001b[39m\u001b[38;5;124m'\u001b[39m)\n\u001b[1;32m    127\u001b[0m \u001b[38;5;66;03m# grab initial balance before transactions\u001b[39;00m\n\u001b[1;32m    128\u001b[0m initial_balance, initial_overdraft \u001b[38;5;241m=\u001b[39m \u001b[38;5;28mself\u001b[39m\u001b[38;5;241m.\u001b[39mbalance, \u001b[38;5;28mself\u001b[39m\u001b[38;5;241m.\u001b[39moverdraft\n",
      "\u001b[0;31mValueError\u001b[0m: amount must be greater than zero"
     ]
    }
   ],
   "source": [
    "allwell.deposit(-10)"
   ]
  },
  {
   "cell_type": "markdown",
   "id": "567a6e2e-f550-4cb4-be43-0a5bd483958e",
   "metadata": {},
   "source": [
    "That answers questions in no. **5**-**1** **A** & **B** (as seen below):\n",
    "\n",
    "**5)** provide methods to debit (`def withdraw`) and credit (`def deposit`) transactions that: ✅\n",
    "1. verify withdrawals against available balance and `is_overdraft_allowed` flag ✅\n",
    "    1. if withdrawal is larger than available balance and overdrafts are not allowed, this should raise a custom `OverdraftNotAllowed` exception. ✅\n",
    "    2. if transaction value is not positive, this should raise a `ValueError` exception (we have separate methods for deposits and withdrawals, and we expect the value to be positive in both cases - one will add to the balance, one will subtract from the balance). ✅"
   ]
  },
  {
   "cell_type": "markdown",
   "id": "6f39a888-2b74-412a-9268-3b67dfc05a07",
   "metadata": {},
   "source": [
    "Some other cool overdraft features I implemented are:\n",
    "- while the `overdraft` is depleted, `overdraft_amount` cannot be incremented or decremented. In other words, the bank cannot increase or decrease the `overdraft_amount` if the `overdraft` have been spent. Watch 🍿"
   ]
  },
  {
   "cell_type": "code",
   "execution_count": 20,
   "id": "c19e8b81-b87a-4433-bb64-052e8511335f",
   "metadata": {},
   "outputs": [
    {
     "data": {
      "text/plain": [
       "(40.0, 50)"
      ]
     },
     "execution_count": 20,
     "metadata": {},
     "output_type": "execute_result"
    }
   ],
   "source": [
    "# just to recall, `overdraft` is now spent and therefore lesser than `overdraft_amount` assigned to instance\n",
    "allwell.overdraft, allwell.overdraft_amount"
   ]
  },
  {
   "cell_type": "markdown",
   "id": "9ecec11c-70ea-4600-9f86-f3564e3e3299",
   "metadata": {},
   "source": [
    "don't get confused, remember the difference between `overdraft` and `overdraft_amount`. See my earlier comments on it if necessary."
   ]
  },
  {
   "cell_type": "code",
   "execution_count": 21,
   "id": "ada5d4a9-f245-4824-9ce7-2754ef9bcb9c",
   "metadata": {},
   "outputs": [
    {
     "ename": "ValueError",
     "evalue": "BankAccount not qualified for overdraft amount increase",
     "output_type": "error",
     "traceback": [
      "\u001b[0;31m---------------------------------------------------------------------------\u001b[0m",
      "\u001b[0;31mValueError\u001b[0m                                Traceback (most recent call last)",
      "Cell \u001b[0;32mIn[21], line 2\u001b[0m\n\u001b[1;32m      1\u001b[0m \u001b[38;5;66;03m# therefore, now, if I (as the bank) try to increase the overdraft amount of this account it'll throw an exception\u001b[39;00m\n\u001b[0;32m----> 2\u001b[0m \u001b[43mallwell\u001b[49m\u001b[38;5;241;43m.\u001b[39;49m\u001b[43moverdraft_amount\u001b[49m \u001b[38;5;241m=\u001b[39m \u001b[38;5;241m100\u001b[39m \u001b[38;5;66;03m# increase overdraft from 50 to 100\u001b[39;00m\n",
      "Cell \u001b[0;32mIn[2], line 102\u001b[0m, in \u001b[0;36mBankAccount.overdraft_amount\u001b[0;34m(self, value)\u001b[0m\n\u001b[1;32m    100\u001b[0m     \u001b[38;5;28;01mraise\u001b[39;00m \u001b[38;5;167;01mValueError\u001b[39;00m(\u001b[38;5;124m'\u001b[39m\u001b[38;5;124mis_overdraft_allowed is False, therefore setting overdraft amount is not allowed\u001b[39m\u001b[38;5;124m'\u001b[39m)\n\u001b[1;32m    101\u001b[0m \u001b[38;5;28;01mif\u001b[39;00m \u001b[38;5;28mself\u001b[39m\u001b[38;5;241m.\u001b[39moverdraft \u001b[38;5;241m!=\u001b[39m \u001b[38;5;28mself\u001b[39m\u001b[38;5;241m.\u001b[39moverdraft_amount:\n\u001b[0;32m--> 102\u001b[0m     \u001b[38;5;28;01mraise\u001b[39;00m \u001b[38;5;167;01mValueError\u001b[39;00m(\u001b[38;5;124m'\u001b[39m\u001b[38;5;124mBankAccount not qualified for overdraft amount increase\u001b[39m\u001b[38;5;124m'\u001b[39m)\n\u001b[1;32m    103\u001b[0m \u001b[38;5;28mself\u001b[39m\u001b[38;5;241m.\u001b[39m_overdraft, \u001b[38;5;28mself\u001b[39m\u001b[38;5;241m.\u001b[39m_overdraft_amount \u001b[38;5;241m=\u001b[39m [\u001b[38;5;28mround\u001b[39m(value, \u001b[38;5;241m2\u001b[39m)] \u001b[38;5;241m*\u001b[39m \u001b[38;5;241m2\u001b[39m\n",
      "\u001b[0;31mValueError\u001b[0m: BankAccount not qualified for overdraft amount increase"
     ]
    }
   ],
   "source": [
    "# therefore, now, if I (as the bank) try to increase the overdraft amount of this account it'll throw an exception\n",
    "allwell.overdraft_amount = 100 # increase overdraft from 50 to 100"
   ]
  },
  {
   "cell_type": "markdown",
   "id": "e039e545-a25b-4a60-a31a-b3a1bfc64d45",
   "metadata": {},
   "source": [
    "---"
   ]
  },
  {
   "cell_type": "markdown",
   "id": "a45c05de-9539-487b-a3bf-ba0aef6632bd",
   "metadata": {},
   "source": [
    "okay... I'm tired now... I'll continue tomorrow. 😴"
   ]
  },
  {
   "cell_type": "markdown",
   "id": "f7b98f7d-4fa6-45c4-9ee7-a549db6b6f70",
   "metadata": {},
   "source": [
    "*...updating...*"
   ]
  },
  {
   "cell_type": "markdown",
   "id": "31bbf531-0a02-4ed0-b7ae-8edbdf5b0772",
   "metadata": {},
   "source": [
    "---"
   ]
  },
  {
   "cell_type": "markdown",
   "id": "ae412dd0-97d9-46dd-9bce-a689fbe266eb",
   "metadata": {},
   "source": [
    "#### Below is trial code from development (testing out my code and stuff)"
   ]
  },
  {
   "cell_type": "markdown",
   "id": "0a1a11bf-4541-4857-b6ee-f3342fba8cc2",
   "metadata": {},
   "source": [
    "---"
   ]
  },
  {
   "cell_type": "code",
   "execution_count": 251,
   "id": "9159e961-61dd-4ba8-a123-7e2bddb2b307",
   "metadata": {},
   "outputs": [
    {
     "name": "stdout",
     "output_type": "stream",
     "text": [
      "ALLWELL AGWU-OKORO (1234567890): 100.0\n"
     ]
    }
   ],
   "source": [
    "print(allwell)"
   ]
  },
  {
   "cell_type": "code",
   "execution_count": 253,
   "id": "09c06168-a9cb-4738-8561-f3d58ca7ec3c",
   "metadata": {},
   "outputs": [
    {
     "data": {
      "text/plain": [
       "{'_first_name': 'ALLWELL',\n",
       " '_last_name': 'AGWU-OKORO',\n",
       " '_account_number': 1234567890,\n",
       " '_balance': 100.0,\n",
       " 'is_overdraft_allowed': False,\n",
       " '_overdraft': 0,\n",
       " '_overdraft_amount': 0,\n",
       " '_ledger': []}"
      ]
     },
     "execution_count": 253,
     "metadata": {},
     "output_type": "execute_result"
    }
   ],
   "source": [
    "allwell.__dict__"
   ]
  },
  {
   "cell_type": "code",
   "execution_count": 255,
   "id": "dbe6e332-5acd-48f4-a4ef-b820f4a579ce",
   "metadata": {},
   "outputs": [
    {
     "data": {
      "text/plain": [
       "{'credit': 10, 'initial_balance': 100.0, 'current_balance': 110.0}"
      ]
     },
     "execution_count": 255,
     "metadata": {},
     "output_type": "execute_result"
    }
   ],
   "source": [
    "allwell.deposit(10)"
   ]
  },
  {
   "cell_type": "code",
   "execution_count": 256,
   "id": "a0a18bd1-2953-4e07-8bba-208a73d28ad2",
   "metadata": {},
   "outputs": [
    {
     "data": {
      "text/plain": [
       "[{'credit': 10,\n",
       "  'initial_balance': 100.0,\n",
       "  'current_balance': 110.0,\n",
       "  'datetime': datetime.datetime(2025, 2, 15, 22, 56, 27, 328462, tzinfo=datetime.timezone.utc),\n",
       "  'transaction_reference': 77870758520333}]"
      ]
     },
     "execution_count": 256,
     "metadata": {},
     "output_type": "execute_result"
    }
   ],
   "source": [
    "allwell.ledger"
   ]
  },
  {
   "cell_type": "code",
   "execution_count": 257,
   "id": "5626e8fe-1a00-46fa-b08a-2b9919912034",
   "metadata": {},
   "outputs": [
    {
     "data": {
      "text/plain": [
       "{'credit': 350, 'initial_balance': 110.0, 'current_balance': 460.0}"
      ]
     },
     "execution_count": 257,
     "metadata": {},
     "output_type": "execute_result"
    }
   ],
   "source": [
    "allwell.deposit(350)"
   ]
  },
  {
   "cell_type": "code",
   "execution_count": 258,
   "id": "e3dc9639-da0b-4d9c-8ef1-b641859f0aa5",
   "metadata": {},
   "outputs": [
    {
     "data": {
      "text/plain": [
       "BankAccount(first_name=ALLWELL, last_name=AGWU-OKORO, account_number=1234567890, balance=460.0, is_overdraft_allowed=False, overdraft=0, overdraft_amount=0, ledger_length=2)"
      ]
     },
     "execution_count": 258,
     "metadata": {},
     "output_type": "execute_result"
    }
   ],
   "source": [
    "allwell"
   ]
  },
  {
   "cell_type": "code",
   "execution_count": 259,
   "id": "d8a6895e-e93f-4796-a304-e8834e851ed0",
   "metadata": {},
   "outputs": [
    {
     "data": {
      "text/plain": [
       "[{'credit': 10,\n",
       "  'initial_balance': 100.0,\n",
       "  'current_balance': 110.0,\n",
       "  'datetime': datetime.datetime(2025, 2, 15, 22, 56, 27, 328462, tzinfo=datetime.timezone.utc),\n",
       "  'transaction_reference': 77870758520333},\n",
       " {'credit': 350,\n",
       "  'initial_balance': 110.0,\n",
       "  'current_balance': 460.0,\n",
       "  'datetime': datetime.datetime(2025, 2, 15, 22, 56, 29, 157220, tzinfo=datetime.timezone.utc),\n",
       "  'transaction_reference': 73141196876612}]"
      ]
     },
     "execution_count": 259,
     "metadata": {},
     "output_type": "execute_result"
    }
   ],
   "source": [
    "allwell.ledger"
   ]
  },
  {
   "cell_type": "code",
   "execution_count": 260,
   "id": "51eed6dc-b97d-4017-ae5d-7af16aee8bf2",
   "metadata": {},
   "outputs": [
    {
     "data": {
      "text/plain": [
       "{'debit': 400, 'initial_balance': 460.0, 'current_balance': 60.0}"
      ]
     },
     "execution_count": 260,
     "metadata": {},
     "output_type": "execute_result"
    }
   ],
   "source": [
    "allwell.withdraw(400)"
   ]
  },
  {
   "cell_type": "code",
   "execution_count": 261,
   "id": "0137a5e8-6dd1-4c88-b7cf-b42991ce62e8",
   "metadata": {},
   "outputs": [
    {
     "data": {
      "text/plain": [
       "[{'credit': 10,\n",
       "  'initial_balance': 100.0,\n",
       "  'current_balance': 110.0,\n",
       "  'datetime': datetime.datetime(2025, 2, 15, 22, 56, 27, 328462, tzinfo=datetime.timezone.utc),\n",
       "  'transaction_reference': 77870758520333},\n",
       " {'credit': 350,\n",
       "  'initial_balance': 110.0,\n",
       "  'current_balance': 460.0,\n",
       "  'datetime': datetime.datetime(2025, 2, 15, 22, 56, 29, 157220, tzinfo=datetime.timezone.utc),\n",
       "  'transaction_reference': 73141196876612},\n",
       " {'debit': 400,\n",
       "  'initial_balance': 460.0,\n",
       "  'current_balance': 60.0,\n",
       "  'datetime': datetime.datetime(2025, 2, 15, 22, 56, 32, 832258, tzinfo=datetime.timezone.utc),\n",
       "  'transaction_reference': 95448792844078}]"
      ]
     },
     "execution_count": 261,
     "metadata": {},
     "output_type": "execute_result"
    }
   ],
   "source": [
    "allwell.ledger"
   ]
  },
  {
   "cell_type": "code",
   "execution_count": 262,
   "id": "5d8bca13-32d2-48bf-b33e-a2f6dadcc3c7",
   "metadata": {},
   "outputs": [
    {
     "data": {
      "text/plain": [
       "BankAccount(first_name=ALLWELL, last_name=AGWU-OKORO, account_number=1234567890, balance=60.0, is_overdraft_allowed=False, overdraft=0, overdraft_amount=0, ledger_length=3)"
      ]
     },
     "execution_count": 262,
     "metadata": {},
     "output_type": "execute_result"
    }
   ],
   "source": [
    "allwell"
   ]
  },
  {
   "cell_type": "code",
   "execution_count": 263,
   "id": "80864d00-536e-4e40-8fa6-3b72b3017304",
   "metadata": {},
   "outputs": [
    {
     "data": {
      "text/plain": [
       "BankAccount(first_name=ALLWELL, last_name=AGWU-OKORO, account_number=1234567890, balance=60.0, is_overdraft_allowed=True, overdraft=100, overdraft_amount=100, ledger_length=3)"
      ]
     },
     "execution_count": 263,
     "metadata": {},
     "output_type": "execute_result"
    }
   ],
   "source": [
    "allwell.is_overdraft_allowed = True\n",
    "allwell.overdraft_amount = 100\n",
    "allwell"
   ]
  },
  {
   "cell_type": "code",
   "execution_count": 264,
   "id": "8695c220-e5e3-417c-ad83-0479a010ba71",
   "metadata": {},
   "outputs": [
    {
     "data": {
      "text/plain": [
       "{'debit': 150,\n",
       " 'initial_balance': 60.0,\n",
       " 'current_balance': 0.0,\n",
       " 'initial_overdraft': 100,\n",
       " 'current_overdraft': 10.0}"
      ]
     },
     "execution_count": 264,
     "metadata": {},
     "output_type": "execute_result"
    }
   ],
   "source": [
    "allwell.withdraw(150)"
   ]
  },
  {
   "cell_type": "code",
   "execution_count": 265,
   "id": "b2247735-55a7-4ec7-80d8-d81b105e09d4",
   "metadata": {},
   "outputs": [
    {
     "data": {
      "text/plain": [
       "[{'credit': 10,\n",
       "  'initial_balance': 100.0,\n",
       "  'current_balance': 110.0,\n",
       "  'datetime': datetime.datetime(2025, 2, 15, 22, 56, 27, 328462, tzinfo=datetime.timezone.utc),\n",
       "  'transaction_reference': 77870758520333},\n",
       " {'credit': 350,\n",
       "  'initial_balance': 110.0,\n",
       "  'current_balance': 460.0,\n",
       "  'datetime': datetime.datetime(2025, 2, 15, 22, 56, 29, 157220, tzinfo=datetime.timezone.utc),\n",
       "  'transaction_reference': 73141196876612},\n",
       " {'debit': 400,\n",
       "  'initial_balance': 460.0,\n",
       "  'current_balance': 60.0,\n",
       "  'datetime': datetime.datetime(2025, 2, 15, 22, 56, 32, 832258, tzinfo=datetime.timezone.utc),\n",
       "  'transaction_reference': 95448792844078},\n",
       " {'debit': 150,\n",
       "  'initial_balance': 60.0,\n",
       "  'current_balance': 0.0,\n",
       "  'initial_overdraft': 100,\n",
       "  'current_overdraft': 10.0,\n",
       "  'datetime': datetime.datetime(2025, 2, 15, 22, 56, 37, 240645, tzinfo=datetime.timezone.utc),\n",
       "  'transaction_reference': 32833296440216}]"
      ]
     },
     "execution_count": 265,
     "metadata": {},
     "output_type": "execute_result"
    }
   ],
   "source": [
    "allwell.ledger"
   ]
  },
  {
   "cell_type": "markdown",
   "id": "weekly-working",
   "metadata": {},
   "source": [
    "#### Question 2"
   ]
  },
  {
   "cell_type": "markdown",
   "id": "accompanied-collaboration",
   "metadata": {},
   "source": [
    "Expand on your class above to implement equality (`==`) comparisons between instances of your class."
   ]
  },
  {
   "cell_type": "markdown",
   "id": "acceptable-creek",
   "metadata": {},
   "source": [
    "Two accounts should be considered equal if the account numbers are the same."
   ]
  },
  {
   "cell_type": "markdown",
   "id": "f27be7b6-e863-4f63-8559-8f5b34d60765",
   "metadata": {},
   "source": [
    "##### Solution 2"
   ]
  },
  {
   "cell_type": "code",
   "execution_count": 266,
   "id": "fdaa60da-797e-4a78-aa29-0f811a425f46",
   "metadata": {},
   "outputs": [],
   "source": [
    "john = BankAccount(\n",
    "    first_name='john',\n",
    "    last_name='cleese',\n",
    "    account_number=1234567890, # same account number as `allwell`\n",
    ")"
   ]
  },
  {
   "cell_type": "code",
   "execution_count": 267,
   "id": "41f8e4fb-6ab6-41b0-a5d2-8c5a80beb532",
   "metadata": {},
   "outputs": [
    {
     "data": {
      "text/plain": [
       "BankAccount(first_name=JOHN, last_name=CLEESE, account_number=1234567890, balance=0.0, is_overdraft_allowed=False, overdraft=0, overdraft_amount=0, ledger_length=0)"
      ]
     },
     "execution_count": 267,
     "metadata": {},
     "output_type": "execute_result"
    }
   ],
   "source": [
    "john"
   ]
  },
  {
   "cell_type": "code",
   "execution_count": 268,
   "id": "ddc38491-10ac-44f4-93a7-9f962fe844d5",
   "metadata": {},
   "outputs": [
    {
     "data": {
      "text/plain": [
       "True"
      ]
     },
     "execution_count": 268,
     "metadata": {},
     "output_type": "execute_result"
    }
   ],
   "source": [
    "allwell == john"
   ]
  },
  {
   "cell_type": "code",
   "execution_count": 269,
   "id": "0f1f312b-6c09-4b1a-9edd-ae8172064d84",
   "metadata": {},
   "outputs": [
    {
     "data": {
      "text/plain": [
       "False"
      ]
     },
     "execution_count": 269,
     "metadata": {},
     "output_type": "execute_result"
    }
   ],
   "source": [
    "john > allwell"
   ]
  },
  {
   "cell_type": "code",
   "execution_count": 270,
   "id": "f4d48185-4793-4f06-bc32-c6e45672fe5a",
   "metadata": {},
   "outputs": [
    {
     "data": {
      "text/plain": [
       "False"
      ]
     },
     "execution_count": 270,
     "metadata": {},
     "output_type": "execute_result"
    }
   ],
   "source": [
    "allwell > john"
   ]
  },
  {
   "cell_type": "code",
   "execution_count": 273,
   "id": "a4d58502-db01-4835-9c1f-b1551f595c8e",
   "metadata": {},
   "outputs": [
    {
     "data": {
      "text/plain": [
       "0.0"
      ]
     },
     "execution_count": 273,
     "metadata": {},
     "output_type": "execute_result"
    }
   ],
   "source": [
    "allwell.balance"
   ]
  },
  {
   "cell_type": "code",
   "execution_count": 274,
   "id": "f7e34f8c-1b23-4992-b9dd-12c1990574da",
   "metadata": {},
   "outputs": [
    {
     "data": {
      "text/plain": [
       "BankAccount(first_name=ALLWELL, last_name=AGWU-OKORO, account_number=1234567890, balance=0.0, is_overdraft_allowed=True, overdraft=10.0, overdraft_amount=100, ledger_length=4)"
      ]
     },
     "execution_count": 274,
     "metadata": {},
     "output_type": "execute_result"
    }
   ],
   "source": [
    "allwell"
   ]
  },
  {
   "cell_type": "code",
   "execution_count": 275,
   "id": "57d7c958-5b26-4b65-ba98-ed01df8ccc67",
   "metadata": {},
   "outputs": [
    {
     "data": {
      "text/plain": [
       "{'credit': 100,\n",
       " 'initial_balance': 0.0,\n",
       " 'current_balance': 10.0,\n",
       " 'initial_overdraft': 10.0,\n",
       " 'current_overdraft': 100}"
      ]
     },
     "execution_count": 275,
     "metadata": {},
     "output_type": "execute_result"
    }
   ],
   "source": [
    "allwell.deposit(100)"
   ]
  },
  {
   "cell_type": "code",
   "execution_count": 277,
   "id": "be1ef3a9-c67a-40ac-803e-1b342235823b",
   "metadata": {},
   "outputs": [
    {
     "data": {
      "text/plain": [
       "False"
      ]
     },
     "execution_count": 277,
     "metadata": {},
     "output_type": "execute_result"
    }
   ],
   "source": [
    "john > allwell"
   ]
  },
  {
   "cell_type": "code",
   "execution_count": 278,
   "id": "0be0bd20-e57a-4949-bd09-087821b73223",
   "metadata": {},
   "outputs": [
    {
     "data": {
      "text/plain": [
       "True"
      ]
     },
     "execution_count": 278,
     "metadata": {},
     "output_type": "execute_result"
    }
   ],
   "source": [
    "allwell > john"
   ]
  },
  {
   "cell_type": "code",
   "execution_count": 279,
   "id": "8b94d13d-a39e-4cae-ab0b-d4a497facdf2",
   "metadata": {},
   "outputs": [
    {
     "data": {
      "text/plain": [
       "True"
      ]
     },
     "execution_count": 279,
     "metadata": {},
     "output_type": "execute_result"
    }
   ],
   "source": [
    "allwell == john"
   ]
  },
  {
   "cell_type": "code",
   "execution_count": null,
   "id": "81d84191-ba39-4343-ac6e-1e34f85dc5ae",
   "metadata": {},
   "outputs": [],
   "source": []
  }
 ],
 "metadata": {
  "kernelspec": {
   "display_name": "Python 3 (ipykernel)",
   "language": "python",
   "name": "python3"
  },
  "language_info": {
   "codemirror_mode": {
    "name": "ipython",
    "version": 3
   },
   "file_extension": ".py",
   "mimetype": "text/x-python",
   "name": "python",
   "nbconvert_exporter": "python",
   "pygments_lexer": "ipython3",
   "version": "3.9.19"
  }
 },
 "nbformat": 4,
 "nbformat_minor": 5
}
