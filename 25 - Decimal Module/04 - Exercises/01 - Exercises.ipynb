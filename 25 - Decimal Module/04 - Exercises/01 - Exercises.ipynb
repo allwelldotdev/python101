{
 "cells": [
  {
   "cell_type": "markdown",
   "id": "material-george",
   "metadata": {},
   "source": [
    "### Exercises"
   ]
  },
  {
   "cell_type": "markdown",
   "id": "conscious-reform",
   "metadata": {},
   "source": [
    "### Question 1"
   ]
  },
  {
   "cell_type": "markdown",
   "id": "filled-payroll",
   "metadata": {},
   "source": [
    "There is a file named `transactions.csv` which is a list of purchases and sales."
   ]
  },
  {
   "cell_type": "markdown",
   "id": "invalid-silence",
   "metadata": {},
   "source": [
    "Write code that loads this data and calculates the total of these purchases and sales."
   ]
  },
  {
   "cell_type": "markdown",
   "id": "human-requirement",
   "metadata": {},
   "source": [
    "Take two approaches - one using floats, and one using Decimal objects. Calculate the difference between the two results."
   ]
  },
  {
   "cell_type": "markdown",
   "id": "irish-fleet",
   "metadata": {},
   "source": [
    "Also, time how long it takes to run your code using floats and using Decimals."
   ]
  },
  {
   "cell_type": "markdown",
   "id": "435b6528-0945-492e-81e0-2ca4a67a6a78",
   "metadata": {},
   "source": [
    "##### Solution 1"
   ]
  },
  {
   "cell_type": "code",
   "execution_count": 1,
   "id": "169e3e03-fadc-4479-b3f5-38172f85d43d",
   "metadata": {},
   "outputs": [],
   "source": [
    "import csv\n",
    "import decimal\n",
    "from decimal import Decimal"
   ]
  },
  {
   "cell_type": "code",
   "execution_count": 2,
   "id": "159d197f-7456-4e3a-a039-d3328d1b94bf",
   "metadata": {},
   "outputs": [],
   "source": [
    "file = 'transactions.csv'"
   ]
  },
  {
   "cell_type": "code",
   "execution_count": 32,
   "id": "5eb436a1-0657-4c18-856f-fe072ef5b828",
   "metadata": {},
   "outputs": [
    {
     "name": "stdout",
     "output_type": "stream",
     "text": [
      "['timestamp', 'account', 'amount']\n",
      "['2020-11-03T02:01:50', '6136306', '-11.022038']\n",
      "['2020-06-19T07:32:00', '3369009', '-56.825416']\n",
      "['2021-01-29T13:29:17', '4366765', '-87.430871']\n",
      "['2020-03-31T09:27:11', '3298760', '16.161836']\n"
     ]
    }
   ],
   "source": [
    "# checking out what's in the file\n",
    "with open(file) as f:\n",
    "    reader = csv.reader(f)\n",
    "    for _ in range(5):\n",
    "        print(next(reader))"
   ]
  },
  {
   "cell_type": "code",
   "execution_count": 33,
   "id": "5541e48d-790c-49d0-ba79-6630ad8cb0d6",
   "metadata": {},
   "outputs": [],
   "source": [
    "# write function to calculate total of purchases and sales using floats and decimals\n",
    "def ps_total(f_name, use_decimal=False):\n",
    "    with open(f_name) as f:\n",
    "        reader = csv.reader(f)\n",
    "        next(reader) # skip header row\n",
    "        return sum(Decimal(row[-1]) if use_decimal else float(row[-1]) for row in reader)"
   ]
  },
  {
   "cell_type": "code",
   "execution_count": 34,
   "id": "e54c177d-10fa-43a8-8dea-b634187be1f5",
   "metadata": {},
   "outputs": [],
   "source": [
    "# lets use a decorator function to time the calculation of ps_total in float and decimals\n",
    "def ps_decorator(fn):\n",
    "    from time import perf_counter\n",
    "    def inner(*args, **kwargs):\n",
    "        start = perf_counter()\n",
    "        result = fn(*args, **kwargs)\n",
    "        end = perf_counter()\n",
    "        print('elapsed time:', end - start)\n",
    "        return result\n",
    "    return inner\n",
    "\n",
    "ps_total = ps_decorator(ps_total) # ps_total function decorated with time calculation features"
   ]
  },
  {
   "cell_type": "code",
   "execution_count": 35,
   "id": "2344f2f5-f423-484e-9a82-0f58a0bf6baf",
   "metadata": {},
   "outputs": [
    {
     "name": "stdout",
     "output_type": "stream",
     "text": [
      "elapsed time: 1.7656877330000498\n"
     ]
    },
    {
     "data": {
      "text/plain": [
       "116387.51306500046"
      ]
     },
     "execution_count": 35,
     "metadata": {},
     "output_type": "execute_result"
    }
   ],
   "source": [
    "ps_float = ps_total(file)\n",
    "ps_float"
   ]
  },
  {
   "cell_type": "code",
   "execution_count": 36,
   "id": "c9d8262f-ac73-4a45-8a05-e746c94abacc",
   "metadata": {},
   "outputs": [
    {
     "name": "stdout",
     "output_type": "stream",
     "text": [
      "elapsed time: 2.1473726210001587\n"
     ]
    },
    {
     "data": {
      "text/plain": [
       "Decimal('116387.513065')"
      ]
     },
     "execution_count": 36,
     "metadata": {},
     "output_type": "execute_result"
    }
   ],
   "source": [
    "ps_decimal = ps_total(file, use_decimal=True)\n",
    "ps_decimal"
   ]
  },
  {
   "cell_type": "code",
   "execution_count": 37,
   "id": "c1cd82a0-502b-4933-b7d1-0449be1557dd",
   "metadata": {},
   "outputs": [
    {
     "data": {
      "text/plain": [
       "'0.000000000451109372079372406'"
      ]
     },
     "execution_count": 37,
     "metadata": {},
     "output_type": "execute_result"
    }
   ],
   "source": [
    "# calculate difference in floats vs Decimal objects\n",
    "format(abs(ps_float - float(ps_decimal)), '.27f')"
   ]
  },
  {
   "cell_type": "markdown",
   "id": "b9dc8475-eecb-40e7-b4f8-eef282ae16ea",
   "metadata": {},
   "source": [
    "calculating % time difference between using `float` and `Decimal`"
   ]
  },
  {
   "cell_type": "code",
   "execution_count": 38,
   "id": "492e32b7-79d0-4c08-866c-dbe0127c8747",
   "metadata": {},
   "outputs": [],
   "source": [
    "from timeit import timeit"
   ]
  },
  {
   "cell_type": "code",
   "execution_count": 39,
   "id": "8b20989b-863d-4c98-b57b-9c415a00d767",
   "metadata": {},
   "outputs": [
    {
     "name": "stdout",
     "output_type": "stream",
     "text": [
      "elapsed time: 1.776984153000285\n",
      "elapsed time: 1.6710079500003303\n",
      "elapsed time: 1.6525091489997976\n",
      "elapsed time: 1.7472758489998341\n",
      "elapsed time: 1.63811002500006\n",
      "elapsed time: 2.236509633999958\n",
      "elapsed time: 2.1305055319999155\n",
      "elapsed time: 2.1894125379999423\n",
      "elapsed time: 2.1917400699999234\n",
      "elapsed time: 2.199700372999814\n",
      "Decimal is slower than float by 29.0%\n"
     ]
    }
   ],
   "source": [
    "time_float = timeit('ps_total(file)', globals=globals(), number=5)\n",
    "time_decimal = timeit('ps_total(file, use_decimal=True)', globals=globals(), number=5)\n",
    "\n",
    "# calculate how much slower decimal is to float\n",
    "time_diff = round((time_decimal - time_float) / time_float * 100, 1)\n",
    "print(f'Decimal is slower than float by {time_diff}%')"
   ]
  },
  {
   "cell_type": "markdown",
   "id": "united-snowboard",
   "metadata": {},
   "source": [
    "#### Question 2"
   ]
  },
  {
   "cell_type": "markdown",
   "id": "simple-diary",
   "metadata": {},
   "source": [
    "Using the same file (`transactions.csv`), we now want to calculate a fee on each transaction."
   ]
  },
  {
   "cell_type": "markdown",
   "id": "decimal-williams",
   "metadata": {},
   "source": [
    "Irrespective of whether the transaction was a credit or a debit, we will calculate a `0.123%` transaction fee for the (absolute) values of each transaction."
   ]
  },
  {
   "cell_type": "markdown",
   "id": "brown-finish",
   "metadata": {},
   "source": [
    "**Each** fee calculation precision should be limited to `8` digits after the decimal point (so use `round(val, 8)`)"
   ]
  },
  {
   "cell_type": "markdown",
   "id": "postal-textbook",
   "metadata": {},
   "source": [
    "In addition, any rounding should always round ties away from `0` (`ROUND_HALF_UP`) - and not use Banker's rounding (`ROUND_HALF_EVEN`)."
   ]
  },
  {
   "cell_type": "markdown",
   "id": "undefined-treasure",
   "metadata": {},
   "source": [
    "Only implement this solution using `Decimal` objects, as floats do not offer a rounding algorithm choice, and writing our own rounding algorithm can be overly complicated."
   ]
  },
  {
   "cell_type": "markdown",
   "id": "convenient-hanging",
   "metadata": {},
   "source": [
    "Also calculate the different in the fee totals when using `ROUND_HALF_UP` vs `ROUND_HALF_EVEN`"
   ]
  },
  {
   "cell_type": "code",
   "execution_count": 30,
   "id": "1c6727a2-7465-4602-83ef-bdd682f269f5",
   "metadata": {},
   "outputs": [],
   "source": [
    "# write function to calculate transaction fee of purchases and sales using decimals\n",
    "def ps_transaction_fee(f_name, t_fee=.123, rounding_even=False):\n",
    "    t_fee = Decimal(f'{t_fee}')\n",
    "    with open(f_name) as f:\n",
    "        reader = csv.reader(f)\n",
    "        next(reader) # skip header row\n",
    "        amounts = [Decimal(row[-1]) for row in reader]\n",
    "        _sum = lambda: sum(round(abs(amt * (t_fee/100)), 8) for amt in amounts)\n",
    "        transaction_fees_EVEN = _sum()\n",
    "        with decimal.localcontext() as ctx:\n",
    "            ctx.rounding = decimal.ROUND_HALF_UP\n",
    "            transaction_fees_UP = _sum()\n",
    "    return transaction_fees_EVEN if rounding_even else transaction_fees_UP"
   ]
  },
  {
   "cell_type": "code",
   "execution_count": 31,
   "id": "7e58ca2b-1c48-4709-a4a0-d3274754384e",
   "metadata": {},
   "outputs": [
    {
     "name": "stdout",
     "output_type": "stream",
     "text": [
      "125501.66978197 125501.66977180\n"
     ]
    },
    {
     "data": {
      "text/plain": [
       "Decimal('0.00001017')"
      ]
     },
     "execution_count": 31,
     "metadata": {},
     "output_type": "execute_result"
    }
   ],
   "source": [
    "ps_UP = ps_transaction_fee(file)\n",
    "ps_EVEN = ps_transaction_fee(file, rounding_even=True)\n",
    "\n",
    "print(ps_UP, ps_EVEN)\n",
    "abs(ps_UP - ps_EVEN)"
   ]
  }
 ],
 "metadata": {
  "kernelspec": {
   "display_name": "Python 3 (ipykernel)",
   "language": "python",
   "name": "python3"
  },
  "language_info": {
   "codemirror_mode": {
    "name": "ipython",
    "version": 3
   },
   "file_extension": ".py",
   "mimetype": "text/x-python",
   "name": "python",
   "nbconvert_exporter": "python",
   "pygments_lexer": "ipython3",
   "version": "3.9.19"
  }
 },
 "nbformat": 4,
 "nbformat_minor": 5
}
