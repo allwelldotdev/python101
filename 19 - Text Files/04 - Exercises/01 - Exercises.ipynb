{
 "cells": [
  {
   "cell_type": "markdown",
   "id": "plain-speaking",
   "metadata": {},
   "source": [
    "### Exercises"
   ]
  },
  {
   "cell_type": "markdown",
   "id": "hydraulic-hello",
   "metadata": {},
   "source": [
    "#### Question 1"
   ]
  },
  {
   "cell_type": "markdown",
   "id": "least-intelligence",
   "metadata": {},
   "source": [
    "Write some code that generates a file containing containing rows containing the following data:\n",
    "\n",
    "```\n",
    "i, fibonacci_i, factorial_i, gcd_fibonacci_i_factorial_i\n",
    "```\n",
    "\n",
    "where:\n",
    "- `i`: integer values from `0` to `100`\n",
    "- `fibonacci_i`: the `i`th Fibonacci number\n",
    "- `factorial_i`: the factorial of `i` (`i!`)\n",
    "- `gcd_fib_i_fact_i`: the greatest common denominator of the `i`th Fibonacci number and `i!` \n",
    "\n",
    "Hint: look at the `math.factorial` and `math.gcd` functions in the Python docs\n",
    "\n",
    "Also make sure to include a header row in your file."
   ]
  },
  {
   "cell_type": "markdown",
   "id": "consistent-lying",
   "metadata": {},
   "source": [
    "For example, the first few rows in your file should contain this data:"
   ]
  },
  {
   "cell_type": "markdown",
   "id": "express-distinction",
   "metadata": {},
   "source": [
    "```\n",
    "i,fib,fact,gcd\n",
    "0,1,1,1\n",
    "1,1,1,1\n",
    "2,2,2,2\n",
    "3,3,6,3\n",
    "4,5,24,1\n",
    "5,8,120,8\n",
    "```"
   ]
  },
  {
   "cell_type": "markdown",
   "id": "c688fa5e-0e1c-485b-98d3-8a0b5c6eea51",
   "metadata": {},
   "source": [
    "##### Solution 1"
   ]
  },
  {
   "cell_type": "code",
   "execution_count": 276,
   "id": "6a6094c2-4d9c-49b2-8b4b-4cd55fec528e",
   "metadata": {},
   "outputs": [],
   "source": [
    "import math\n",
    "from functools import lru_cache\n",
    "from timeit import timeit"
   ]
  },
  {
   "cell_type": "code",
   "execution_count": 104,
   "id": "bd6a289d-a793-4807-ad9a-40cfe9bd6d40",
   "metadata": {},
   "outputs": [],
   "source": [
    "file = 'question_1_solution.csv'"
   ]
  },
  {
   "cell_type": "code",
   "execution_count": 80,
   "id": "a5ba07a7-5007-42fe-97eb-bb140c119105",
   "metadata": {},
   "outputs": [],
   "source": [
    "def fib_fac_gcd_output(n_th):\n",
    "    i = range(n_th+1)\n",
    "    \n",
    "    @lru_cache(maxsize=3)\n",
    "    def fib(n):\n",
    "        if n <= 1:\n",
    "            return n\n",
    "        return fib(n-1) + fib(n-2)\n",
    "    \n",
    "    num_series = (\n",
    "        (num, fib(num), math.factorial(num), math.gcd(fib(num), math.factorial(num))) for num in i\n",
    "    )\n",
    "\n",
    "    output = (\n",
    "        ','.join([str(num), str(fib_i), str(fac_i), str(gcd_fib_fac)]) + '\\n' \n",
    "        for num, fib_i, fac_i, gcd_fib_fac in num_series\n",
    "    )\n",
    "\n",
    "    return output"
   ]
  },
  {
   "cell_type": "code",
   "execution_count": 83,
   "id": "6514f852-495f-46eb-a523-0b019e01db7d",
   "metadata": {},
   "outputs": [
    {
     "data": {
      "text/plain": [
       "['0,0,1,1\\n',\n",
       " '1,1,1,1\\n',\n",
       " '2,1,2,1\\n',\n",
       " '3,2,6,2\\n',\n",
       " '4,3,24,3\\n',\n",
       " '5,5,120,5\\n']"
      ]
     },
     "execution_count": 83,
     "metadata": {},
     "output_type": "execute_result"
    }
   ],
   "source": [
    "list(fib_fac_gcd_output(5))"
   ]
  },
  {
   "cell_type": "code",
   "execution_count": 106,
   "id": "5da3b061-971f-45ed-bcf1-20aa4dabc6ae",
   "metadata": {},
   "outputs": [],
   "source": [
    "with open(file, 'w') as f:\n",
    "    f.write('i,fib,fact,gcd\\n')\n",
    "    for line in fib_fac_gcd_output(100):\n",
    "        f.write(line)"
   ]
  },
  {
   "cell_type": "code",
   "execution_count": 110,
   "id": "32632a09-2703-403c-85ed-22c3747a3c4e",
   "metadata": {},
   "outputs": [
    {
     "name": "stdout",
     "output_type": "stream",
     "text": [
      "i,fib,fact,gcd\n",
      "0,0,1,1\n",
      "1,1,1,1\n",
      "2,1,2,1\n",
      "3,2,6,2\n",
      "4,3,24,3\n",
      "5,5,120,5\n",
      "6,8,720,8\n",
      "7,13,5040,1\n",
      "8,21,40320,21\n",
      "9,34,362880,2\n",
      "10,55,3628800,5\n"
     ]
    }
   ],
   "source": [
    "with open(file) as f:\n",
    "    for _ in range(12):\n",
    "        print(next(f), end='')"
   ]
  },
  {
   "cell_type": "markdown",
   "id": "north-voice",
   "metadata": {},
   "source": [
    "#### Question 2"
   ]
  },
  {
   "cell_type": "markdown",
   "id": "boring-veteran",
   "metadata": {},
   "source": [
    "Using the file you just generated, write three functions:\n",
    "- `fib`\n",
    "- `fact`\n",
    "- `gcd_fib_fact`\n",
    "\n",
    "that perform the same calculations as our original `fib` function, the `math` module's `factorial` and the `gcd` of the corresponding fibonacci and factorial numbers, but uses the data that was saved in the file as a cache/lookup mechanism - i.e. just use the numbers in the file if they are available, otherwise make the calculation."
   ]
  },
  {
   "cell_type": "markdown",
   "id": "21c94019-aa3f-4a7d-a214-2392bc2ab8ce",
   "metadata": {},
   "source": [
    "##### Solution 2"
   ]
  },
  {
   "cell_type": "code",
   "execution_count": 113,
   "id": "699125f8-fe5d-4acf-ac43-d78309204e5c",
   "metadata": {},
   "outputs": [],
   "source": [
    "from pprint import pprint"
   ]
  },
  {
   "cell_type": "code",
   "execution_count": 190,
   "id": "d7139152-ecf7-48ac-aa5b-d8537900f37e",
   "metadata": {},
   "outputs": [],
   "source": [
    "cache = {}\n",
    "\n",
    "with open(file) as f:\n",
    "    header = next(f)\n",
    "\n",
    "    for data in f:\n",
    "        num, fib, fac, gcd = data.strip().split(',')\n",
    "        cache[int(num)] = {\n",
    "            'fib': int(fib),\n",
    "            'fact': int(fac),\n",
    "            'gcd': int(gcd)\n",
    "        }"
   ]
  },
  {
   "cell_type": "code",
   "execution_count": 263,
   "id": "2925b64f-4239-4330-bebc-668153ec8e82",
   "metadata": {},
   "outputs": [],
   "source": [
    "@lru_cache(maxsize=3)\n",
    "def new_fib(n):\n",
    "    if n in cache:\n",
    "        #print('cache hit')\n",
    "        return cache[n]['fib']\n",
    "    else:\n",
    "        #print('cache miss')\n",
    "        if n <= 1:\n",
    "            return n\n",
    "        return new_fib(n-1) + new_fib(n-2)\n",
    "\n",
    "def new_fact(n):\n",
    "    if n in cache:\n",
    "        #print('cache hit')\n",
    "        return cache[n]['fact']\n",
    "    else:\n",
    "        #print('cache miss')\n",
    "        return math.factorial(n)\n",
    "\n",
    "def new_gcd(*args, n):\n",
    "    if n in cache:\n",
    "        #print('cache hit')\n",
    "        return cache[n]['gcd']\n",
    "    else:\n",
    "        #print('cache miss')\n",
    "        return math.gcd(*args)"
   ]
  },
  {
   "cell_type": "code",
   "execution_count": 219,
   "id": "3c5d61ee-9e36-451f-a87a-55f06d610bac",
   "metadata": {},
   "outputs": [
    {
     "name": "stdout",
     "output_type": "stream",
     "text": [
      "cache hit\n"
     ]
    },
    {
     "data": {
      "text/plain": [
       "7540113804746346429"
      ]
     },
     "execution_count": 219,
     "metadata": {},
     "output_type": "execute_result"
    }
   ],
   "source": [
    "new_fib(92)"
   ]
  },
  {
   "cell_type": "code",
   "execution_count": 196,
   "id": "81379043-bad4-4ba9-a1f5-59f0a9bdbdd8",
   "metadata": {},
   "outputs": [
    {
     "name": "stdout",
     "output_type": "stream",
     "text": [
      "cache hit\n"
     ]
    },
    {
     "data": {
      "text/plain": [
       "93326215443944152681699238856266700490715968264381621468592963895217599993229915608941463976156518286253697920827223758251185210916864000000000000000000000000"
      ]
     },
     "execution_count": 196,
     "metadata": {},
     "output_type": "execute_result"
    }
   ],
   "source": [
    "new_fact(100)"
   ]
  },
  {
   "cell_type": "code",
   "execution_count": 224,
   "id": "99d46285-e6ba-400b-8111-8d0a3ab6a893",
   "metadata": {},
   "outputs": [
    {
     "name": "stdout",
     "output_type": "stream",
     "text": [
      "cache hit\n"
     ]
    },
    {
     "data": {
      "text/plain": [
       "4505904"
      ]
     },
     "execution_count": 224,
     "metadata": {},
     "output_type": "execute_result"
    }
   ],
   "source": [
    "i = 84\n",
    "new_gcd(new_fib(i), new_fact(i), n=i)"
   ]
  },
  {
   "cell_type": "code",
   "execution_count": 226,
   "id": "f6983e89-54bb-41ae-a17b-7efadccc8037",
   "metadata": {},
   "outputs": [],
   "source": [
    "def ffg_from_cache(n_th):\n",
    "    i = range(n_th+1)\n",
    "    \n",
    "    num_series = (\n",
    "        (num, new_fib(num), new_fact(num), new_gcd(new_fib(num), new_fact(num), n=num)) for num in i\n",
    "    )\n",
    "\n",
    "    output = (\n",
    "        ','.join([str(num), str(fib_i), str(fac_i), str(gcd_fib_fac)]) + '\\n' \n",
    "        for num, fib_i, fac_i, gcd_fib_fac in num_series\n",
    "    )\n",
    "\n",
    "    return output"
   ]
  },
  {
   "cell_type": "code",
   "execution_count": 274,
   "id": "d5adc753-5e53-4d61-8919-9eaaff79e1b3",
   "metadata": {},
   "outputs": [
    {
     "data": {
      "text/plain": [
       "['0,0,1,1\\n',\n",
       " '1,1,1,1\\n',\n",
       " '2,1,2,1\\n',\n",
       " '3,2,6,2\\n',\n",
       " '4,3,24,3\\n',\n",
       " '5,5,120,5\\n',\n",
       " '6,8,720,8\\n',\n",
       " '7,13,5040,1\\n',\n",
       " '8,21,40320,21\\n',\n",
       " '9,34,362880,2\\n',\n",
       " '10,55,3628800,5\\n']"
      ]
     },
     "execution_count": 274,
     "metadata": {},
     "output_type": "execute_result"
    }
   ],
   "source": [
    "list(ffg_from_cache(10))"
   ]
  },
  {
   "cell_type": "code",
   "execution_count": 273,
   "id": "a90e06dc-e606-41d3-990e-ec651975066b",
   "metadata": {},
   "outputs": [
    {
     "data": {
      "text/plain": [
       "5.9200014220550656e-05"
      ]
     },
     "execution_count": 273,
     "metadata": {},
     "output_type": "execute_result"
    }
   ],
   "source": [
    "timeit('list(ffg_from_cache(10))', globals=globals(), number=1)"
   ]
  },
  {
   "cell_type": "code",
   "execution_count": 275,
   "id": "c23a41db-656e-46bf-8b50-4ce0438d4fa2",
   "metadata": {},
   "outputs": [
    {
     "data": {
      "text/plain": [
       "0.0002834000042639673"
      ]
     },
     "execution_count": 275,
     "metadata": {},
     "output_type": "execute_result"
    }
   ],
   "source": [
    "timeit('list(fib_fac_gcd_output(10))', globals=globals(), number=1)"
   ]
  }
 ],
 "metadata": {
  "kernelspec": {
   "display_name": "Python 3 (ipykernel)",
   "language": "python",
   "name": "python3"
  },
  "language_info": {
   "codemirror_mode": {
    "name": "ipython",
    "version": 3
   },
   "file_extension": ".py",
   "mimetype": "text/x-python",
   "name": "python",
   "nbconvert_exporter": "python",
   "pygments_lexer": "ipython3",
   "version": "3.9.19"
  }
 },
 "nbformat": 4,
 "nbformat_minor": 5
}
