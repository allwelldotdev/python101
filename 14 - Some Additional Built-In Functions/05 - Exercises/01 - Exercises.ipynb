{
 "cells": [
  {
   "cell_type": "markdown",
   "id": "golden-ending",
   "metadata": {},
   "source": [
    "### Exercises"
   ]
  },
  {
   "cell_type": "markdown",
   "id": "minimal-layer",
   "metadata": {},
   "source": [
    "#### Question 1"
   ]
  },
  {
   "cell_type": "markdown",
   "id": "confirmed-surveillance",
   "metadata": {},
   "source": [
    "Given these two lists:"
   ]
  },
  {
   "cell_type": "code",
   "execution_count": 1,
   "id": "secure-mexican",
   "metadata": {},
   "outputs": [],
   "source": [
    "widgets = [f'w{i}' for i in range(1, 21)]\n",
    "skus = [f'sku{i}' for i in range(1, len(widgets) + 1)]"
   ]
  },
  {
   "cell_type": "markdown",
   "id": "retained-pacific",
   "metadata": {},
   "source": [
    "Write a function that uses the `zip` function to generate a dictionary with keys from the `widgets`, and values from the `skus`, i.e.:\n",
    "\n",
    "```\n",
    "{\n",
    "  'w1': 'sku1',\n",
    "  'w2': 'sku2',\n",
    "  ...\n",
    "  'w20': 'sku20'\n",
    "}\n",
    "```"
   ]
  },
  {
   "cell_type": "code",
   "execution_count": 3,
   "id": "d66805f9-5a60-4f1d-95cc-73ba98c5abe7",
   "metadata": {},
   "outputs": [],
   "source": [
    "zip_func = lambda key_iter, value_iter: dict(zip(key_iter, value_iter))"
   ]
  },
  {
   "cell_type": "code",
   "execution_count": 4,
   "id": "4a4b303c-8364-432d-868e-daff4753f3b4",
   "metadata": {},
   "outputs": [
    {
     "data": {
      "text/plain": [
       "{'w1': 'sku1',\n",
       " 'w2': 'sku2',\n",
       " 'w3': 'sku3',\n",
       " 'w4': 'sku4',\n",
       " 'w5': 'sku5',\n",
       " 'w6': 'sku6',\n",
       " 'w7': 'sku7',\n",
       " 'w8': 'sku8',\n",
       " 'w9': 'sku9',\n",
       " 'w10': 'sku10',\n",
       " 'w11': 'sku11',\n",
       " 'w12': 'sku12',\n",
       " 'w13': 'sku13',\n",
       " 'w14': 'sku14',\n",
       " 'w15': 'sku15',\n",
       " 'w16': 'sku16',\n",
       " 'w17': 'sku17',\n",
       " 'w18': 'sku18',\n",
       " 'w19': 'sku19',\n",
       " 'w20': 'sku20'}"
      ]
     },
     "execution_count": 4,
     "metadata": {},
     "output_type": "execute_result"
    }
   ],
   "source": [
    "zip_func(widgets, skus)"
   ]
  },
  {
   "cell_type": "markdown",
   "id": "potential-kingdom",
   "metadata": {},
   "source": [
    "#### Question 2"
   ]
  },
  {
   "cell_type": "markdown",
   "id": "expanded-payroll",
   "metadata": {},
   "source": [
    "Given the following data:"
   ]
  },
  {
   "cell_type": "code",
   "execution_count": 94,
   "id": "compatible-cabin",
   "metadata": {},
   "outputs": [],
   "source": [
    "suits = 'shdc'  # Spades, Hearts, Diamonds, Clubs\n",
    "ranks = list('23456789') + ['10', 'J', 'Q', 'K', 'A', 'B']"
   ]
  },
  {
   "cell_type": "markdown",
   "id": "studied-behavior",
   "metadata": {},
   "source": [
    "Write a function that given those two inputs, returns a list with all 52 cards, consisting of tuples `(rank, suit)`, i.e.\n",
    "\n",
    "```\n",
    "[\n",
    "  [('2', 's'), ('3', 's'), ..., ('K', 's'), ('A', 's')],\n",
    "  [('2', 'h'), ('3', 'h'), ..., ('K', 'h'), ('A', 'h')],\n",
    "  ...\n",
    "]\n",
    "```"
   ]
  },
  {
   "cell_type": "code",
   "execution_count": 106,
   "id": "c397dcb9-bcba-4ca6-996d-f901324a0d8b",
   "metadata": {},
   "outputs": [],
   "source": [
    "def list_of_cards(suits, ranks):\n",
    "    return [[next(zip(rank, suit)) for rank in ranks] for suit in suits]"
   ]
  },
  {
   "cell_type": "code",
   "execution_count": 101,
   "id": "50c14ac3-df8a-485a-be76-b335ff642c05",
   "metadata": {
    "scrolled": true
   },
   "outputs": [
    {
     "data": {
      "text/plain": [
       "[[('2', 's'),\n",
       "  ('3', 's'),\n",
       "  ('4', 's'),\n",
       "  ('5', 's'),\n",
       "  ('6', 's'),\n",
       "  ('7', 's'),\n",
       "  ('8', 's'),\n",
       "  ('9', 's'),\n",
       "  ('1', 's'),\n",
       "  ('J', 's'),\n",
       "  ('Q', 's'),\n",
       "  ('K', 's'),\n",
       "  ('A', 's'),\n",
       "  ('B', 's')],\n",
       " [('2', 'h'),\n",
       "  ('3', 'h'),\n",
       "  ('4', 'h'),\n",
       "  ('5', 'h'),\n",
       "  ('6', 'h'),\n",
       "  ('7', 'h'),\n",
       "  ('8', 'h'),\n",
       "  ('9', 'h'),\n",
       "  ('1', 'h'),\n",
       "  ('J', 'h'),\n",
       "  ('Q', 'h'),\n",
       "  ('K', 'h'),\n",
       "  ('A', 'h'),\n",
       "  ('B', 'h')],\n",
       " [('2', 'd'),\n",
       "  ('3', 'd'),\n",
       "  ('4', 'd'),\n",
       "  ('5', 'd'),\n",
       "  ('6', 'd'),\n",
       "  ('7', 'd'),\n",
       "  ('8', 'd'),\n",
       "  ('9', 'd'),\n",
       "  ('1', 'd'),\n",
       "  ('J', 'd'),\n",
       "  ('Q', 'd'),\n",
       "  ('K', 'd'),\n",
       "  ('A', 'd'),\n",
       "  ('B', 'd')],\n",
       " [('2', 'c'),\n",
       "  ('3', 'c'),\n",
       "  ('4', 'c'),\n",
       "  ('5', 'c'),\n",
       "  ('6', 'c'),\n",
       "  ('7', 'c'),\n",
       "  ('8', 'c'),\n",
       "  ('9', 'c'),\n",
       "  ('1', 'c'),\n",
       "  ('J', 'c'),\n",
       "  ('Q', 'c'),\n",
       "  ('K', 'c'),\n",
       "  ('A', 'c'),\n",
       "  ('B', 'c')]]"
      ]
     },
     "execution_count": 101,
     "metadata": {},
     "output_type": "execute_result"
    }
   ],
   "source": [
    "list_of_cards(suits, ranks)"
   ]
  },
  {
   "cell_type": "markdown",
   "id": "9732a7eb-1b49-4e14-8557-d6736a2b0936",
   "metadata": {},
   "source": [
    "##### Failed Solution 2: read below"
   ]
  },
  {
   "cell_type": "markdown",
   "id": "d2ba2ad5-634b-4945-aca2-fc7e88abc5ea",
   "metadata": {},
   "source": [
    "Notice when the `zip()` function iterates through the integers for `ranks` and outputs `('1', 's')` and subsequent `suits` instead of `('10', 's')` and subsequent suits.\n",
    "\n",
    "That's because the `zip()` function iterates through the string `'10'` and limits the iteration by the minimum length (which is one string - `s`). Therefore, it outputs `'1'` instead of `'10'`. To resolve this, `zip()` is not the right method. I'll attempt another below."
   ]
  },
  {
   "cell_type": "code",
   "execution_count": 105,
   "id": "cfa955a1-6cc9-463b-8015-e294504f31d7",
   "metadata": {},
   "outputs": [],
   "source": [
    "def list_of_cards_new(suits, ranks):\n",
    "    deck = []\n",
    "    for suit in suits:\n",
    "        sub_deck = []\n",
    "        for rank in ranks:\n",
    "            sub_deck.append((rank, suit))\n",
    "        deck.append(sub_deck)\n",
    "    return deck"
   ]
  },
  {
   "cell_type": "code",
   "execution_count": 78,
   "id": "f4500c5b-ef46-4e4e-b63c-a913828896b7",
   "metadata": {
    "scrolled": true
   },
   "outputs": [
    {
     "data": {
      "text/plain": [
       "[[('2', 's'),\n",
       "  ('3', 's'),\n",
       "  ('4', 's'),\n",
       "  ('5', 's'),\n",
       "  ('6', 's'),\n",
       "  ('7', 's'),\n",
       "  ('8', 's'),\n",
       "  ('9', 's'),\n",
       "  ('10', 's'),\n",
       "  ('J', 's'),\n",
       "  ('Q', 's'),\n",
       "  ('K', 's'),\n",
       "  ('A', 's')],\n",
       " [('2', 'h'),\n",
       "  ('3', 'h'),\n",
       "  ('4', 'h'),\n",
       "  ('5', 'h'),\n",
       "  ('6', 'h'),\n",
       "  ('7', 'h'),\n",
       "  ('8', 'h'),\n",
       "  ('9', 'h'),\n",
       "  ('10', 'h'),\n",
       "  ('J', 'h'),\n",
       "  ('Q', 'h'),\n",
       "  ('K', 'h'),\n",
       "  ('A', 'h')],\n",
       " [('2', 'd'),\n",
       "  ('3', 'd'),\n",
       "  ('4', 'd'),\n",
       "  ('5', 'd'),\n",
       "  ('6', 'd'),\n",
       "  ('7', 'd'),\n",
       "  ('8', 'd'),\n",
       "  ('9', 'd'),\n",
       "  ('10', 'd'),\n",
       "  ('J', 'd'),\n",
       "  ('Q', 'd'),\n",
       "  ('K', 'd'),\n",
       "  ('A', 'd')],\n",
       " [('2', 'c'),\n",
       "  ('3', 'c'),\n",
       "  ('4', 'c'),\n",
       "  ('5', 'c'),\n",
       "  ('6', 'c'),\n",
       "  ('7', 'c'),\n",
       "  ('8', 'c'),\n",
       "  ('9', 'c'),\n",
       "  ('10', 'c'),\n",
       "  ('J', 'c'),\n",
       "  ('Q', 'c'),\n",
       "  ('K', 'c'),\n",
       "  ('A', 'c')]]"
      ]
     },
     "execution_count": 78,
     "metadata": {},
     "output_type": "execute_result"
    }
   ],
   "source": [
    "list_of_cards_new(suits, ranks)"
   ]
  },
  {
   "cell_type": "markdown",
   "id": "4b2000b1-70ec-4c39-80f7-4f5a8efac911",
   "metadata": {},
   "source": [
    "##### Another Solution: Using a Lambda Function with list comprehension"
   ]
  },
  {
   "cell_type": "code",
   "execution_count": 89,
   "id": "5031590a-915c-4993-b351-ab057597efdc",
   "metadata": {},
   "outputs": [],
   "source": [
    "list_of_cards_lambda = lambda suits, ranks: [[(rank, suit) for rank in ranks] for suit in suits]"
   ]
  },
  {
   "cell_type": "code",
   "execution_count": 102,
   "id": "6c8b7cc7-4093-4f3f-864b-81dc6483e6de",
   "metadata": {},
   "outputs": [
    {
     "data": {
      "text/plain": [
       "[[('2', 's'),\n",
       "  ('3', 's'),\n",
       "  ('4', 's'),\n",
       "  ('5', 's'),\n",
       "  ('6', 's'),\n",
       "  ('7', 's'),\n",
       "  ('8', 's'),\n",
       "  ('9', 's'),\n",
       "  ('10', 's'),\n",
       "  ('J', 's'),\n",
       "  ('Q', 's'),\n",
       "  ('K', 's'),\n",
       "  ('A', 's'),\n",
       "  ('B', 's')],\n",
       " [('2', 'h'),\n",
       "  ('3', 'h'),\n",
       "  ('4', 'h'),\n",
       "  ('5', 'h'),\n",
       "  ('6', 'h'),\n",
       "  ('7', 'h'),\n",
       "  ('8', 'h'),\n",
       "  ('9', 'h'),\n",
       "  ('10', 'h'),\n",
       "  ('J', 'h'),\n",
       "  ('Q', 'h'),\n",
       "  ('K', 'h'),\n",
       "  ('A', 'h'),\n",
       "  ('B', 'h')],\n",
       " [('2', 'd'),\n",
       "  ('3', 'd'),\n",
       "  ('4', 'd'),\n",
       "  ('5', 'd'),\n",
       "  ('6', 'd'),\n",
       "  ('7', 'd'),\n",
       "  ('8', 'd'),\n",
       "  ('9', 'd'),\n",
       "  ('10', 'd'),\n",
       "  ('J', 'd'),\n",
       "  ('Q', 'd'),\n",
       "  ('K', 'd'),\n",
       "  ('A', 'd'),\n",
       "  ('B', 'd')],\n",
       " [('2', 'c'),\n",
       "  ('3', 'c'),\n",
       "  ('4', 'c'),\n",
       "  ('5', 'c'),\n",
       "  ('6', 'c'),\n",
       "  ('7', 'c'),\n",
       "  ('8', 'c'),\n",
       "  ('9', 'c'),\n",
       "  ('10', 'c'),\n",
       "  ('J', 'c'),\n",
       "  ('Q', 'c'),\n",
       "  ('K', 'c'),\n",
       "  ('A', 'c'),\n",
       "  ('B', 'c')]]"
      ]
     },
     "execution_count": 102,
     "metadata": {},
     "output_type": "execute_result"
    }
   ],
   "source": [
    "list_of_cards_lambda(suits, ranks)"
   ]
  },
  {
   "cell_type": "markdown",
   "id": "06cf9a2f-1ccd-4045-9389-a7cecaf3da61",
   "metadata": {},
   "source": [
    "##### Another Solution: Using a `zip()` function hack"
   ]
  },
  {
   "cell_type": "code",
   "execution_count": 104,
   "id": "3261ecbc-1086-41ab-b6ef-0875a290ebd8",
   "metadata": {},
   "outputs": [],
   "source": [
    "def list_of_cards_with_zip_hack(suits, ranks):\n",
    "    return [list(zip(ranks, suit * (len(ranks) - len(suit)))) for suit in suits]"
   ]
  },
  {
   "cell_type": "code",
   "execution_count": 107,
   "id": "883adc80-47d2-43e5-a4ea-afb536d3bb51",
   "metadata": {},
   "outputs": [
    {
     "data": {
      "text/plain": [
       "[[('2', 's'),\n",
       "  ('3', 's'),\n",
       "  ('4', 's'),\n",
       "  ('5', 's'),\n",
       "  ('6', 's'),\n",
       "  ('7', 's'),\n",
       "  ('8', 's'),\n",
       "  ('9', 's'),\n",
       "  ('10', 's'),\n",
       "  ('J', 's'),\n",
       "  ('Q', 's'),\n",
       "  ('K', 's'),\n",
       "  ('A', 's')],\n",
       " [('2', 'h'),\n",
       "  ('3', 'h'),\n",
       "  ('4', 'h'),\n",
       "  ('5', 'h'),\n",
       "  ('6', 'h'),\n",
       "  ('7', 'h'),\n",
       "  ('8', 'h'),\n",
       "  ('9', 'h'),\n",
       "  ('10', 'h'),\n",
       "  ('J', 'h'),\n",
       "  ('Q', 'h'),\n",
       "  ('K', 'h'),\n",
       "  ('A', 'h')],\n",
       " [('2', 'd'),\n",
       "  ('3', 'd'),\n",
       "  ('4', 'd'),\n",
       "  ('5', 'd'),\n",
       "  ('6', 'd'),\n",
       "  ('7', 'd'),\n",
       "  ('8', 'd'),\n",
       "  ('9', 'd'),\n",
       "  ('10', 'd'),\n",
       "  ('J', 'd'),\n",
       "  ('Q', 'd'),\n",
       "  ('K', 'd'),\n",
       "  ('A', 'd')],\n",
       " [('2', 'c'),\n",
       "  ('3', 'c'),\n",
       "  ('4', 'c'),\n",
       "  ('5', 'c'),\n",
       "  ('6', 'c'),\n",
       "  ('7', 'c'),\n",
       "  ('8', 'c'),\n",
       "  ('9', 'c'),\n",
       "  ('10', 'c'),\n",
       "  ('J', 'c'),\n",
       "  ('Q', 'c'),\n",
       "  ('K', 'c'),\n",
       "  ('A', 'c')]]"
      ]
     },
     "execution_count": 107,
     "metadata": {},
     "output_type": "execute_result"
    }
   ],
   "source": [
    "list_of_cards_with_zip_hack(suits, ranks)"
   ]
  },
  {
   "cell_type": "markdown",
   "id": "global-helena",
   "metadata": {},
   "source": [
    "#### Question 3"
   ]
  },
  {
   "cell_type": "markdown",
   "id": "confused-causing",
   "metadata": {},
   "source": [
    "Write a function that receives two arguments:\n",
    "- a list of numbers\n",
    "- a keyword-only argument `reverse` that defaults to `False` and indicates an ascending sort, but a value of `True` indicates a descending sort"
   ]
  },
  {
   "cell_type": "markdown",
   "id": "reflected-cause",
   "metadata": {},
   "source": [
    "Your function should return three values:\n",
    "- a list of the numbers, but sorted (ascending/descending depending on value of `reverse`)\n",
    "- the minimum value in the list (this is not affected by the value of `reverse`)\n",
    "- the maximum value in the list (this is not affected by the value of `reverse`)"
   ]
  },
  {
   "cell_type": "code",
   "execution_count": 50,
   "id": "20aa2c0c-9b12-44ff-beef-055fcca30aca",
   "metadata": {},
   "outputs": [],
   "source": [
    "def sorting(list_of_numbers, *, reverse=False):\n",
    "    sort = sorted(list_of_numbers, reverse=True) if reverse else sorted(list_of_numbers)\n",
    "    max_n = max(list_of_numbers)\n",
    "    min_n = min(list_of_numbers)\n",
    "    return sort, max_n, min_n"
   ]
  },
  {
   "cell_type": "code",
   "execution_count": 53,
   "id": "02e1141b-8241-4aa9-a371-bacb4ad69b39",
   "metadata": {},
   "outputs": [
    {
     "data": {
      "text/plain": [
       "([64, 29, 12, 10, 8, 7, 6, 5, 3, 2, 1, -20], 64, -20)"
      ]
     },
     "execution_count": 53,
     "metadata": {},
     "output_type": "execute_result"
    }
   ],
   "source": [
    "l = [1, 5, 3, 6, 7, 8, 12, 10, 29, 64, 2, -20]\n",
    "\n",
    "sorting(l, reverse=True)"
   ]
  }
 ],
 "metadata": {
  "kernelspec": {
   "display_name": "Python 3 (ipykernel)",
   "language": "python",
   "name": "python3"
  },
  "language_info": {
   "codemirror_mode": {
    "name": "ipython",
    "version": 3
   },
   "file_extension": ".py",
   "mimetype": "text/x-python",
   "name": "python",
   "nbconvert_exporter": "python",
   "pygments_lexer": "ipython3",
   "version": "3.9.19"
  }
 },
 "nbformat": 4,
 "nbformat_minor": 5
}
