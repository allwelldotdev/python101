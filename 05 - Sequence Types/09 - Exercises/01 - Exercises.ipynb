{
 "cells": [
  {
   "cell_type": "markdown",
   "id": "animal-encoding",
   "metadata": {},
   "source": [
    "### Exercises"
   ]
  },
  {
   "cell_type": "markdown",
   "id": "editorial-church",
   "metadata": {},
   "source": [
    "#### Exercise 1"
   ]
  },
  {
   "cell_type": "markdown",
   "id": "coordinated-victor",
   "metadata": {},
   "source": [
    "Given the following string:"
   ]
  },
  {
   "cell_type": "code",
   "execution_count": 1,
   "id": "quick-symposium",
   "metadata": {},
   "outputs": [],
   "source": [
    "s = 'FfEeDdCcBbAa'"
   ]
  },
  {
   "cell_type": "markdown",
   "id": "imported-crown",
   "metadata": {},
   "source": [
    "Create two new variables that contain just the lower and upper case letters of `s` respectively, in the correct alphabetical order, i.e:\n",
    "\n",
    "- `'ABCDEF'`\n",
    "- `'abcdef'`"
   ]
  },
  {
   "cell_type": "code",
   "execution_count": 2,
   "id": "c66cdb17-f361-4fe9-8d07-bed8c3faa652",
   "metadata": {},
   "outputs": [
    {
     "name": "stdout",
     "output_type": "stream",
     "text": [
      "ABCDEF\n",
      "abcdef\n"
     ]
    }
   ],
   "source": [
    "upper = s[-2::-2]\n",
    "lower = s[::-2]\n",
    "\n",
    "print(upper)\n",
    "print(lower)"
   ]
  },
  {
   "cell_type": "markdown",
   "id": "copyrighted-spirit",
   "metadata": {},
   "source": [
    "#### Exercise 2"
   ]
  },
  {
   "cell_type": "markdown",
   "id": "powered-gazette",
   "metadata": {},
   "source": [
    "Concatenate the following tuples into a single one, but replacing the odd values with zeros (`0`)."
   ]
  },
  {
   "cell_type": "code",
   "execution_count": 3,
   "id": "interior-webster",
   "metadata": {},
   "outputs": [],
   "source": [
    "t1 = 1, 2, 3, 4, 5, 6\n",
    "t2 = 7, 8, 9, 10\n",
    "t3 = 11, 12, 13, 14, 15, 16, 17"
   ]
  },
  {
   "cell_type": "markdown",
   "id": "allied-ladder",
   "metadata": {},
   "source": [
    "You can assume that every tuple is a sequence of consecutive integers starting with an odd integer.\n",
    "\n",
    "Try to write your code to be as generic as possible."
   ]
  },
  {
   "cell_type": "code",
   "execution_count": 36,
   "id": "ff9500a6-3320-4e5a-9e30-06968b2e4872",
   "metadata": {},
   "outputs": [
    {
     "name": "stdout",
     "output_type": "stream",
     "text": [
      "(0, 2, 0, 4, 0, 6, 0, 8, 9, 10, 0, 12, 0, 14, 15, 16, 0)\n"
     ]
    }
   ],
   "source": [
    "l1, l2, l3 = list(t1), list(t2), list(t3)\n",
    "\n",
    "l1[0], l1[2], l1[4] = 0, 0, 0\n",
    "l2[0] = 0\n",
    "l3[0], l3[2], l3[-1] = 0, 0, 0\n",
    "\n",
    "l1.extend(l2)\n",
    "l1.extend(l3)\n",
    "\n",
    "ts = tuple(l1)\n",
    "\n",
    "print(ts)"
   ]
  },
  {
   "cell_type": "markdown",
   "id": "controversial-crest",
   "metadata": {},
   "source": [
    "#### Exercise 3"
   ]
  },
  {
   "cell_type": "markdown",
   "id": "lucky-divide",
   "metadata": {},
   "source": [
    "Given the following matrix:"
   ]
  },
  {
   "cell_type": "code",
   "execution_count": 4,
   "id": "israeli-porter",
   "metadata": {},
   "outputs": [],
   "source": [
    "m = [\n",
    "    [0, 0, 0],\n",
    "    [0, 0, 0],\n",
    "    [0, 0, 0]\n",
    "]"
   ]
  },
  {
   "cell_type": "markdown",
   "id": "independent-blast",
   "metadata": {},
   "source": [
    "Make this matrix into an identity matrix (setting the diagonal elements to `1`).\n",
    "\n",
    "Your code should *mutate* `m`."
   ]
  },
  {
   "cell_type": "code",
   "execution_count": 75,
   "id": "e57d746f-7bd7-49f4-86d6-76f4e16a46dd",
   "metadata": {},
   "outputs": [
    {
     "data": {
      "text/plain": [
       "[[1, 0, 0], [0, 1, 0], [0, 0, 1]]"
      ]
     },
     "execution_count": 75,
     "metadata": {},
     "output_type": "execute_result"
    }
   ],
   "source": [
    "id_matrix = m\n",
    "\n",
    "id_matrix[:] = [1, 0, 0], [0, 1, 0], [0, 0, 1]\n",
    "\n",
    "id_matrix"
   ]
  },
  {
   "cell_type": "markdown",
   "id": "damaged-response",
   "metadata": {},
   "source": [
    "#### Exercise 4"
   ]
  },
  {
   "cell_type": "markdown",
   "id": "separated-april",
   "metadata": {},
   "source": [
    "Do the same problem as Exercise 3, but do **not** mutate `m`."
   ]
  },
  {
   "cell_type": "code",
   "execution_count": 67,
   "id": "7986e3f0-0195-49ad-afcb-3ce85b62b62f",
   "metadata": {},
   "outputs": [
    {
     "data": {
      "text/plain": [
       "([[1, 0, 0], [0, 1, 0], [0, 0, 1]], [[0, 0, 0], [0, 0, 0], [0, 0, 0]])"
      ]
     },
     "execution_count": 67,
     "metadata": {},
     "output_type": "execute_result"
    }
   ],
   "source": [
    "from copy import deepcopy\n",
    "\n",
    "m = [\n",
    "    [0, 0, 0],\n",
    "    [0, 0, 0],\n",
    "    [0, 0, 0]\n",
    "]\n",
    "\n",
    "n = deepcopy(m)\n",
    "\n",
    "n[:] = [1, 0, 0], [0, 1, 0], [0, 0, 1]\n",
    "\n",
    "n, m"
   ]
  },
  {
   "cell_type": "markdown",
   "id": "respiratory-uniform",
   "metadata": {},
   "source": [
    "#### Exercise 5"
   ]
  },
  {
   "cell_type": "markdown",
   "id": "heard-hurricane",
   "metadata": {},
   "source": [
    "You are given a list of tuples that each contain 4 values:\n",
    "\n",
    "```\n",
    "(amount, currency, target_currency, exchange_rate)\n",
    "```"
   ]
  },
  {
   "cell_type": "code",
   "execution_count": 5,
   "id": "positive-welcome",
   "metadata": {},
   "outputs": [],
   "source": [
    "data = [\n",
    "    (100, 'USD', 'EUR', 0.83),\n",
    "    (100, 'USD', 'CAD', 1.27),\n",
    "    (100, 'CAD', 'EUR', 0.65)\n",
    "]"
   ]
  },
  {
   "cell_type": "markdown",
   "id": "alternative-lobby",
   "metadata": {},
   "source": [
    "Write code that converts the `amount` from its `currency` to its `target_currency` using the `exchange_rate` (which is the exchange rate for `1` `currency` in `target_currency`).\n",
    "\n",
    "Try to make your code as generic as possible (we'll see later how to use loops so we don't have to write three separate statements).\n",
    "\n",
    "In other words, you'll need three blocks of code here that are essentially almost identical.\n",
    "\n",
    "Use unpacking to assign the values in each tuple to variables.\n",
    "\n",
    "Your result for each row should print something like this out:\n",
    "\n",
    "```\n",
    "100 USD = 83 EUR\n",
    "```"
   ]
  },
  {
   "cell_type": "code",
   "execution_count": 71,
   "id": "c2eadad3-c674-4d61-862a-d84e9c004718",
   "metadata": {},
   "outputs": [
    {
     "name": "stdout",
     "output_type": "stream",
     "text": [
      "100 USD = 83 EUR\n",
      "100 USD = 127 CAD\n",
      "100 CAD = 65 EUR\n"
     ]
    }
   ],
   "source": [
    "amount_r0, currency_r0, target_currency_r0, exchange_rate_r0 = data[0]\n",
    "amount_r1, currency_r1, target_currency_r1, exchange_rate_r1 = data[1]\n",
    "amount_r2, currency_r2, target_currency_r2, exchange_rate_r2 = data[2]\n",
    "\n",
    "print(f'{amount_r0} {currency_r0} = {int(amount_r0 * exchange_rate_r0)} {target_currency_r0}')\n",
    "print(f'{amount_r1} {currency_r1} = {int(amount_r1 * exchange_rate_r1)} {target_currency_r1}')\n",
    "print(f'{amount_r2} {currency_r2} = {int(amount_r2 * exchange_rate_r2)} {target_currency_r2}')"
   ]
  }
 ],
 "metadata": {
  "kernelspec": {
   "display_name": "Python 3 (ipykernel)",
   "language": "python",
   "name": "python3"
  },
  "language_info": {
   "codemirror_mode": {
    "name": "ipython",
    "version": 3
   },
   "file_extension": ".py",
   "mimetype": "text/x-python",
   "name": "python",
   "nbconvert_exporter": "python",
   "pygments_lexer": "ipython3",
   "version": "3.9.19"
  }
 },
 "nbformat": 4,
 "nbformat_minor": 5
}
