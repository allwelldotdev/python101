{
 "cells": [
  {
   "cell_type": "markdown",
   "id": "0ec0d9aa",
   "metadata": {},
   "source": [
    "### Exercises"
   ]
  },
  {
   "cell_type": "markdown",
   "id": "aec4ba73",
   "metadata": {},
   "source": [
    "#### Question 1"
   ]
  },
  {
   "cell_type": "markdown",
   "id": "6a12c15a",
   "metadata": {},
   "source": [
    "Given the following data:"
   ]
  },
  {
   "cell_type": "code",
   "execution_count": 1,
   "id": "8df316b7",
   "metadata": {},
   "outputs": [],
   "source": [
    "data = [\n",
    "    {'open': 100, 'high': 120, 'low': 90, 'close': 110},\n",
    "    {'open': 110, 'high': 130, 'low': 80, 'close': 120},\n",
    "    {'open': 120, 'high': 140, 'low': 70, 'close': 130},\n",
    "    {'open': 130, 'high': 150, 'low': 60, 'close': 140},\n",
    "]"
   ]
  },
  {
   "cell_type": "markdown",
   "id": "589081b2",
   "metadata": {},
   "source": [
    "Re-write the following code using a comprehension:"
   ]
  },
  {
   "cell_type": "code",
   "execution_count": 2,
   "id": "df66a466",
   "metadata": {},
   "outputs": [],
   "source": [
    "ranges = []\n",
    "for d in data:\n",
    "    ranges.append(d['high'] - d['low'])"
   ]
  },
  {
   "cell_type": "code",
   "execution_count": 3,
   "id": "7fc2da11-ceeb-44dc-b384-d0eff5c04334",
   "metadata": {},
   "outputs": [
    {
     "name": "stdout",
     "output_type": "stream",
     "text": [
      "[30, 50, 70, 90]\n"
     ]
    }
   ],
   "source": [
    "data = [\n",
    "    {'open': 100, 'high': 120, 'low': 90, 'close': 110},\n",
    "    {'open': 110, 'high': 130, 'low': 80, 'close': 120},\n",
    "    {'open': 120, 'high': 140, 'low': 70, 'close': 130},\n",
    "    {'open': 130, 'high': 150, 'low': 60, 'close': 140},\n",
    "]\n",
    "\n",
    "ranges = [d['high'] - d['low'] for d in data]\n",
    "print(ranges)"
   ]
  },
  {
   "cell_type": "markdown",
   "id": "9f4cb740",
   "metadata": {},
   "source": [
    "#### Question 2"
   ]
  },
  {
   "cell_type": "markdown",
   "id": "92cfa610",
   "metadata": {},
   "source": [
    "Find all the numbers from 1 to 100 (inclusive) that are divisible by any single digit except 1."
   ]
  },
  {
   "cell_type": "markdown",
   "id": "a213f03f",
   "metadata": {},
   "source": [
    "For example, 22 is divisible by 2, so it should get included in the result. But 11 is not divisible by any of the digits 2-9, so it should not get included."
   ]
  },
  {
   "cell_type": "markdown",
   "id": "3c2b9d16",
   "metadata": {},
   "source": [
    "Your solution should use comprehensions. (Hint: you may need nested loops in your comprehension)"
   ]
  },
  {
   "cell_type": "markdown",
   "id": "6a9beebe",
   "metadata": {},
   "source": [
    "Next, find all the numbers from 1 to 100 (inclusive) that are not in the list of numbers you just generated."
   ]
  },
  {
   "cell_type": "markdown",
   "id": "f085e0ad",
   "metadata": {},
   "source": [
    "If your code works correctly, you should end up with this result:\n",
    "\n",
    "```\n",
    "{1, 11, 13, 17, 19, 23, 29, 31, 37, 41, 43, 47, 53, 59, 61, 67, 71, 73, 79, 83, 89, 97}\n",
    "```"
   ]
  },
  {
   "cell_type": "code",
   "execution_count": 27,
   "id": "95bca02f-f894-49b5-aba3-d8f0662edcca",
   "metadata": {},
   "outputs": [
    {
     "name": "stdout",
     "output_type": "stream",
     "text": [
      "{1, 11, 13, 17, 19, 23, 29, 31, 37, 41, 43, 47, 53, 59, 61, 67, 71, 73, 79, 83, 89, 97}\n"
     ]
    }
   ],
   "source": [
    "numbers = range(1, 100+1)\n",
    "divisibles = range(2, 9+1)\n",
    "\n",
    "#con = set()\n",
    "#for div in divisibles:\n",
    "#    for num in numbers:\n",
    "#        if num % div == 0:\n",
    "#            con.add(num)\n",
    "# using set comprehensions:\n",
    "con = {\n",
    "    num for num in numbers\n",
    "    for div in divisibles\n",
    "    if num % div == 0\n",
    "}\n",
    "\n",
    "result = set(numbers) - con\n",
    "print(result)"
   ]
  },
  {
   "cell_type": "markdown",
   "id": "a0659046",
   "metadata": {},
   "source": [
    "#### Question 3"
   ]
  },
  {
   "cell_type": "markdown",
   "id": "3db0f56d",
   "metadata": {},
   "source": [
    "You are given the following data:"
   ]
  },
  {
   "cell_type": "code",
   "execution_count": 65,
   "id": "ab7f5fc6",
   "metadata": {},
   "outputs": [],
   "source": [
    "data = [\n",
    "    {'symbol': 'ABCD', 'name': 'ABCD Company', 'ranking': 2, 'risk': 0.2},\n",
    "    {'symbol': 'BCDE', 'name': 'BCDE Company', 'ranking': 5, 'risk': 0.2},\n",
    "    {'symbol': 'CDEF', 'name': 'CDEF Company', 'ranking': 8, 'risk': 0.5},\n",
    "    {'symbol': 'DEFG', 'name': 'DEFG Company', 'ranking': 7, 'risk': 0.8},\n",
    "    {'symbol': 'EFGH', 'name': 'EFGH Company', 'ranking': 9, 'risk': 0.6},\n",
    "    {'symbol': 'FGHI', 'name': 'FGHI Company', 'ranking': 10, 'risk': 0.1},\n",
    "    {'symbol': 'GHIJ', 'name': 'GHIJ Company', 'ranking': 3, 'risk': 0.6},\n",
    "    {'symbol': 'HIJK', 'name': 'HIJK Company', 'ranking': 5, 'risk': 0.5},\n",
    "    {'symbol': 'IJKL', 'name': 'IJKL Company', 'ranking': 5, 'risk': 0.7},\n",
    "    {'symbol': 'JKLM', 'name': 'JKLM Company', 'ranking': 6, 'risk': 0.9},\n",
    "    {'symbol': 'KLMN', 'name': 'KLMN Company', 'ranking': 6, 'risk': 0.4},\n",
    "    {'symbol': 'LMNO', 'name': 'LMNO Company', 'ranking': 8, 'risk': 0.4},\n",
    "    {'symbol': 'MNOP', 'name': 'MNOP Company', 'ranking': 8, 'risk': 0.2},\n",
    "    {'symbol': 'NOPQ', 'name': 'NOPQ Company', 'ranking': 1, 'risk': 0.5},\n",
    "    {'symbol': 'OPQR', 'name': 'OPQR Company', 'ranking': 9, 'risk': 0.2},\n",
    "    {'symbol': 'PQRS', 'name': 'PQRS Company', 'ranking': 10, 'risk': 0.9},\n",
    "    {'symbol': 'QRST', 'name': 'QRST Company', 'ranking': 3, 'risk': 0.4},\n",
    "    {'symbol': 'RSTU', 'name': 'RSTU Company', 'ranking': 7, 'risk': 0.3},\n",
    "    {'symbol': 'STUV', 'name': 'STUV Company', 'ranking': 8, 'risk': 0.1},\n",
    "    {'symbol': 'TUVW', 'name': 'TUVW Company', 'ranking': 7, 'risk': 0.9}\n",
    "]"
   ]
  },
  {
   "cell_type": "markdown",
   "id": "7c358629",
   "metadata": {},
   "source": [
    "Write code that does these two things:\n",
    "- creates a new list of of dictionaries where the ranking is at least `5`, and the risk is less than `0.6`\n",
    "\n",
    "- these dictionaries should contain the `symbol` and a calculated key, named `weighted`, which is the result of dividing `ranking` by `risk`. (You should round this value two decimal places). Do **not** mutate the original `data` list or dictionaries in any way."
   ]
  },
  {
   "cell_type": "code",
   "execution_count": 84,
   "id": "75200fdb-c2e0-4a30-882e-87a60ddb3e40",
   "metadata": {},
   "outputs": [
    {
     "name": "stdout",
     "output_type": "stream",
     "text": [
      "[{'symbol': 'BCDE', 'weighted': 25.0}, {'symbol': 'CDEF', 'weighted': 16.0}, {'symbol': 'FGHI', 'weighted': 100.0}, {'symbol': 'HIJK', 'weighted': 10.0}, {'symbol': 'KLMN', 'weighted': 15.0}, {'symbol': 'LMNO', 'weighted': 20.0}, {'symbol': 'MNOP', 'weighted': 40.0}, {'symbol': 'OPQR', 'weighted': 45.0}, {'symbol': 'RSTU', 'weighted': 23.33}, {'symbol': 'STUV', 'weighted': 80.0}]\n"
     ]
    }
   ],
   "source": [
    "#data2 = []\n",
    "#for d in data:\n",
    "#    if d['ranking'] >= 5 and d['risk'] < .6:\n",
    "#        con = {'symbol': d['symbol'], 'weighted': round(d['ranking'] / d['risk'], 2)}\n",
    "#        data2.append(con)\n",
    "#print(data2)\n",
    "# using comprehensions:\n",
    "result = [\n",
    "    {\n",
    "        'symbol': d['symbol'],\n",
    "        'weighted': round(d['ranking'] / d['risk'], 2)\n",
    "    }\n",
    "    for d in data\n",
    "    if d['ranking'] >= 5 and d['risk'] < .6\n",
    "]\n",
    "print(result)"
   ]
  }
 ],
 "metadata": {
  "kernelspec": {
   "display_name": "Python 3 (ipykernel)",
   "language": "python",
   "name": "python3"
  },
  "language_info": {
   "codemirror_mode": {
    "name": "ipython",
    "version": 3
   },
   "file_extension": ".py",
   "mimetype": "text/x-python",
   "name": "python",
   "nbconvert_exporter": "python",
   "pygments_lexer": "ipython3",
   "version": "3.9.19"
  }
 },
 "nbformat": 4,
 "nbformat_minor": 5
}
