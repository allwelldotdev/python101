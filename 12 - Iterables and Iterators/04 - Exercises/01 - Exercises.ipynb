{
 "cells": [
  {
   "cell_type": "markdown",
   "id": "actual-product",
   "metadata": {},
   "source": [
    "### Solutions"
   ]
  },
  {
   "cell_type": "markdown",
   "id": "choice-local",
   "metadata": {},
   "source": [
    "#### Question 1"
   ]
  },
  {
   "cell_type": "markdown",
   "id": "later-brown",
   "metadata": {},
   "source": [
    "Given the following list:"
   ]
  },
  {
   "cell_type": "code",
   "execution_count": 2,
   "id": "bound-religion",
   "metadata": {},
   "outputs": [],
   "source": [
    "l = [10, 'abc', 3.14, True]"
   ]
  },
  {
   "cell_type": "markdown",
   "id": "fatty-quantity",
   "metadata": {},
   "source": [
    "Write code that prints out the index number and value at that index for every element of `l`."
   ]
  },
  {
   "cell_type": "code",
   "execution_count": 6,
   "id": "24948447-9b9e-46a0-882e-49449763e9fb",
   "metadata": {},
   "outputs": [
    {
     "data": {
      "text/plain": [
       "[(0, 10), (1, 'abc'), (2, 3.14), (3, True)]"
      ]
     },
     "execution_count": 6,
     "metadata": {},
     "output_type": "execute_result"
    }
   ],
   "source": [
    "enum_l = enumerate(l)\n",
    "result = list(enum_l)\n",
    "result"
   ]
  },
  {
   "cell_type": "markdown",
   "id": "7f062eb8-a41d-4e5d-bf22-d485946cc771",
   "metadata": {},
   "source": [
    "##### Another solution"
   ]
  },
  {
   "cell_type": "code",
   "execution_count": 61,
   "id": "3c9047cc-c168-437a-996a-77f6bcef16f4",
   "metadata": {},
   "outputs": [
    {
     "data": {
      "text/plain": [
       "<generator object my_enumerate.<locals>.<genexpr> at 0x7f002fe2c200>"
      ]
     },
     "execution_count": 61,
     "metadata": {},
     "output_type": "execute_result"
    }
   ],
   "source": [
    "def my_enumerate(iterable):\n",
    "    idx = 0\n",
    "    new_l = []\n",
    "    \n",
    "    for i in iterable:\n",
    "        enum = []\n",
    "        enum.append(idx)\n",
    "        idx += 1\n",
    "        enum.append(i)\n",
    "        #print(tuple(enum))\n",
    "        new_l.append(tuple(enum))\n",
    "        enum_l = (i for i in new_l)\n",
    "    \n",
    "    return enum_l\n",
    "\n",
    "my_enumerate(l)"
   ]
  },
  {
   "cell_type": "code",
   "execution_count": 75,
   "id": "d84d4e47-a695-4dc3-92c7-842ef551ef3b",
   "metadata": {},
   "outputs": [
    {
     "data": {
      "text/plain": [
       "(0, 10)"
      ]
     },
     "execution_count": 75,
     "metadata": {},
     "output_type": "execute_result"
    }
   ],
   "source": [
    "var = my_enumerate(l)\n",
    "var\n",
    "next(var)"
   ]
  },
  {
   "cell_type": "code",
   "execution_count": 76,
   "id": "ffdb8bb7-5109-4a4b-b982-de68234db092",
   "metadata": {},
   "outputs": [
    {
     "data": {
      "text/plain": [
       "(1, 'abc')"
      ]
     },
     "execution_count": 76,
     "metadata": {},
     "output_type": "execute_result"
    }
   ],
   "source": [
    "next(var)"
   ]
  },
  {
   "cell_type": "code",
   "execution_count": 77,
   "id": "3058c0d8-a4af-419a-9a26-7973a71652a7",
   "metadata": {},
   "outputs": [
    {
     "data": {
      "text/plain": [
       "(2, 3.14)"
      ]
     },
     "execution_count": 77,
     "metadata": {},
     "output_type": "execute_result"
    }
   ],
   "source": [
    "next(var)"
   ]
  },
  {
   "cell_type": "code",
   "execution_count": 78,
   "id": "1c6603ed-e93b-4298-a678-24708d61d8ad",
   "metadata": {},
   "outputs": [
    {
     "data": {
      "text/plain": [
       "(3, True)"
      ]
     },
     "execution_count": 78,
     "metadata": {},
     "output_type": "execute_result"
    }
   ],
   "source": [
    "next(var)"
   ]
  },
  {
   "cell_type": "code",
   "execution_count": 81,
   "id": "da8319d4-6570-4c48-ac18-15be220a6f00",
   "metadata": {},
   "outputs": [
    {
     "ename": "StopIteration",
     "evalue": "",
     "output_type": "error",
     "traceback": [
      "\u001b[0;31m---------------------------------------------------------------------------\u001b[0m",
      "\u001b[0;31mStopIteration\u001b[0m                             Traceback (most recent call last)",
      "Cell \u001b[0;32mIn[81], line 1\u001b[0m\n\u001b[0;32m----> 1\u001b[0m \u001b[38;5;28;43mnext\u001b[39;49m\u001b[43m(\u001b[49m\u001b[43mvar\u001b[49m\u001b[43m)\u001b[49m\n",
      "\u001b[0;31mStopIteration\u001b[0m: "
     ]
    }
   ],
   "source": [
    "next(var)"
   ]
  },
  {
   "cell_type": "code",
   "execution_count": 83,
   "id": "fc70eaca-1724-4dc3-bf2f-8fc24f06dbae",
   "metadata": {},
   "outputs": [
    {
     "data": {
      "text/plain": [
       "<generator object my_enumerate.<locals>.<genexpr> at 0x7f002fdd8200>"
      ]
     },
     "execution_count": 83,
     "metadata": {},
     "output_type": "execute_result"
    }
   ],
   "source": [
    "var = my_enumerate(l)\n",
    "var"
   ]
  },
  {
   "cell_type": "code",
   "execution_count": 84,
   "id": "f555b85d-a948-42a5-aa38-1896bb20d138",
   "metadata": {},
   "outputs": [
    {
     "data": {
      "text/plain": [
       "[(0, 10), (1, 'abc'), (2, 3.14), (3, True)]"
      ]
     },
     "execution_count": 84,
     "metadata": {},
     "output_type": "execute_result"
    }
   ],
   "source": [
    "list(var)"
   ]
  },
  {
   "cell_type": "code",
   "execution_count": 85,
   "id": "8199dead-5d2e-41e1-a59a-f801c1766bf1",
   "metadata": {},
   "outputs": [
    {
     "data": {
      "text/plain": [
       "[]"
      ]
     },
     "execution_count": 85,
     "metadata": {},
     "output_type": "execute_result"
    }
   ],
   "source": [
    "list(var)"
   ]
  },
  {
   "cell_type": "markdown",
   "id": "based-baking",
   "metadata": {},
   "source": [
    "#### Question 2"
   ]
  },
  {
   "cell_type": "markdown",
   "id": "mental-venture",
   "metadata": {},
   "source": [
    "We saw in this section how generator expressions can be more efficient, not only in terms of memory, but also in terms of computation time when not all values in the generator are iterated."
   ]
  },
  {
   "cell_type": "markdown",
   "id": "referenced-italy",
   "metadata": {},
   "source": [
    "Create a generator expression that when iterated over will produce the integers from `1` to `10_000` raised to the power of `1`, `2`, `3`, etc."
   ]
  },
  {
   "cell_type": "markdown",
   "id": "shared-serbia",
   "metadata": {},
   "source": [
    "So this generator should produce these results:"
   ]
  },
  {
   "cell_type": "markdown",
   "id": "cheap-emission",
   "metadata": {},
   "source": [
    "```\n",
    "1**1, 2**2, 3**3, 4**4, ...\n",
    "```"
   ]
  },
  {
   "cell_type": "markdown",
   "id": "liable-connectivity",
   "metadata": {},
   "source": [
    "Once you have created a generator expression to do this, time your results to create the generator and iterate through the first 5 elements of the generator."
   ]
  },
  {
   "cell_type": "markdown",
   "id": "divided-senior",
   "metadata": {},
   "source": [
    "Then, do the same thing, but using a list comprehension instead of a generator expression."
   ]
  },
  {
   "cell_type": "markdown",
   "id": "mexican-latin",
   "metadata": {},
   "source": [
    "Hint: you should use the `perf_counter` apprioach we have seen a few times in previous lectures:\n",
    "\n",
    "```\n",
    "from time import perf_counter\n",
    "\n",
    "start = perf_counter()\n",
    "# your code goes here\n",
    "end = perf_counter()\n",
    "print('elapsed:', end - start)\n",
    "```\n"
   ]
  },
  {
   "cell_type": "markdown",
   "id": "caroline-queen",
   "metadata": {},
   "source": [
    "To make timings more accurate, you should time a loop that repeats your code at least 10 times."
   ]
  },
  {
   "cell_type": "code",
   "execution_count": 91,
   "id": "f5cbede5-d5b6-4178-a369-7e2d209fcf43",
   "metadata": {},
   "outputs": [],
   "source": [
    "from time import perf_counter"
   ]
  },
  {
   "cell_type": "code",
   "execution_count": 116,
   "id": "224b86ce-a649-4616-a8ef-715b4ccf2e75",
   "metadata": {},
   "outputs": [
    {
     "name": "stdout",
     "output_type": "stream",
     "text": [
      "elapsed: 0.00015999999959603883\n"
     ]
    }
   ],
   "source": [
    "start = perf_counter()\n",
    "power = range(1, 10_000+1)\n",
    "result = (i ** i for i in power)\n",
    "end = perf_counter()\n",
    "print(f'elapsed: {end - start}')"
   ]
  },
  {
   "cell_type": "code",
   "execution_count": 120,
   "id": "419f49eb-7b43-4190-8032-c552ed1adb19",
   "metadata": {},
   "outputs": [
    {
     "name": "stdout",
     "output_type": "stream",
     "text": [
      "elapsed: 4.454786386999331\n"
     ]
    }
   ],
   "source": [
    "start = perf_counter()\n",
    "power = range(1, 10_000+1)\n",
    "result = [i ** i for i in power]\n",
    "end = perf_counter()\n",
    "print(f'elapsed: {end - start}')"
   ]
  },
  {
   "cell_type": "code",
   "execution_count": 121,
   "id": "886fdc98-0b52-42a3-b3bf-ea9f42dbc22a",
   "metadata": {},
   "outputs": [],
   "source": [
    "del result"
   ]
  }
 ],
 "metadata": {
  "kernelspec": {
   "display_name": "Python 3 (ipykernel)",
   "language": "python",
   "name": "python3"
  },
  "language_info": {
   "codemirror_mode": {
    "name": "ipython",
    "version": 3
   },
   "file_extension": ".py",
   "mimetype": "text/x-python",
   "name": "python",
   "nbconvert_exporter": "python",
   "pygments_lexer": "ipython3",
   "version": "3.9.19"
  }
 },
 "nbformat": 4,
 "nbformat_minor": 5
}
