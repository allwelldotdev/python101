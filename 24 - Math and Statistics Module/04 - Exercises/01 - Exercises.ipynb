{
 "cells": [
  {
   "cell_type": "markdown",
   "id": "hazardous-columbia",
   "metadata": {},
   "source": [
    "### Exercises"
   ]
  },
  {
   "cell_type": "markdown",
   "id": "unknown-sapphire",
   "metadata": {},
   "source": [
    "#### Question 1"
   ]
  },
  {
   "cell_type": "markdown",
   "id": "hawaiian-drinking",
   "metadata": {},
   "source": [
    "Many functions in Python deal with numbers in a half-closed intervals."
   ]
  },
  {
   "cell_type": "markdown",
   "id": "stock-condition",
   "metadata": {},
   "source": [
    "For example, `range(n)` returns integers in the interval `[0, n)`."
   ]
  },
  {
   "cell_type": "markdown",
   "id": "durable-disney",
   "metadata": {},
   "source": [
    "When we deal with integers, it is very easy to include `n` - we simply add `1` to it."
   ]
  },
  {
   "cell_type": "markdown",
   "id": "fundamental-representation",
   "metadata": {},
   "source": [
    "For example, to generate integers in the range `[a, b]`, we use `range(a, b+1)`."
   ]
  },
  {
   "cell_type": "markdown",
   "id": "powered-combat",
   "metadata": {},
   "source": [
    "However, when it comes to real numbers there is no (mathematically speaking) \"next\" real number."
   ]
  },
  {
   "cell_type": "markdown",
   "id": "polished-canal",
   "metadata": {},
   "source": [
    "But for floats, remember that these are actually **not** real numbers, but approximations with some fixed precision - in those cases it is indeed possible to always calculate the \"next\" number after any given float."
   ]
  },
  {
   "cell_type": "markdown",
   "id": "sweet-cartoon",
   "metadata": {},
   "source": [
    "Read the Python documentation for the `math` module, and find in there a function that will help you calculate the \"next\" number after some given `float`.\n",
    "\n",
    "(You will need Python 3.9 and above for this)"
   ]
  },
  {
   "cell_type": "markdown",
   "id": "4955fc05-4469-4869-8214-0f8b6c54888d",
   "metadata": {},
   "source": [
    "##### Solution 1"
   ]
  },
  {
   "cell_type": "code",
   "execution_count": 1,
   "id": "65a54dcd-d8da-41f3-bd2a-768c900ba731",
   "metadata": {},
   "outputs": [],
   "source": [
    "import math"
   ]
  },
  {
   "cell_type": "code",
   "execution_count": 3,
   "id": "dec6ae06-ace6-448e-abf3-6f0b2f6cadbf",
   "metadata": {},
   "outputs": [
    {
     "data": {
      "text/plain": [
       "(1.0000000000000002, 0.9999999999999999)"
      ]
     },
     "execution_count": 3,
     "metadata": {},
     "output_type": "execute_result"
    }
   ],
   "source": [
    "x = 1.0\n",
    "math.nextafter(x, math.inf), math.nextafter(x, -math.inf)"
   ]
  },
  {
   "cell_type": "code",
   "execution_count": 4,
   "id": "8ccd4d9b-1374-45f6-bb74-79d011c69c72",
   "metadata": {},
   "outputs": [
    {
     "data": {
      "text/plain": [
       "0.5000000000000001"
      ]
     },
     "execution_count": 4,
     "metadata": {},
     "output_type": "execute_result"
    }
   ],
   "source": [
    "x = .5\n",
    "math.nextafter(x, math.copysign(math.inf, x))"
   ]
  },
  {
   "cell_type": "code",
   "execution_count": 5,
   "id": "18230569-41ae-4292-8dd5-e7c72a8db7d4",
   "metadata": {},
   "outputs": [
    {
     "data": {
      "text/plain": [
       "-0.5000000000000001"
      ]
     },
     "execution_count": 5,
     "metadata": {},
     "output_type": "execute_result"
    }
   ],
   "source": [
    "x = -.5\n",
    "math.nextafter(x, math.copysign(math.inf, x))"
   ]
  },
  {
   "cell_type": "markdown",
   "id": "quick-grammar",
   "metadata": {},
   "source": [
    "#### Question 2"
   ]
  },
  {
   "cell_type": "markdown",
   "id": "interior-width",
   "metadata": {},
   "source": [
    "Given a sequence of points, each one with possibly different number of dimensions, generate a list that contains the magnitude (*norm*) of the point."
   ]
  },
  {
   "cell_type": "markdown",
   "id": "ongoing-coverage",
   "metadata": {},
   "source": [
    "For an n-dimensional point (therefore containing n components):\n",
    "\n",
    "```\n",
    "x = (x_1, x_2, ..., x_n)\n",
    "```\n",
    "\n",
    "this value can be computed as:\n",
    "\n",
    "```\n",
    "sqrt(x_1 ** 2 + x_2 ** 2 + ... + x_n **2) \n",
    "```"
   ]
  },
  {
   "cell_type": "markdown",
   "id": "beneficial-imaging",
   "metadata": {},
   "source": [
    "Write a function that performs this calculation and returns the norm of each point given in some sequence."
   ]
  },
  {
   "cell_type": "markdown",
   "id": "drawn-crazy",
   "metadata": {},
   "source": [
    "For example, if the sequence is:"
   ]
  },
  {
   "cell_type": "code",
   "execution_count": 26,
   "id": "extreme-screening",
   "metadata": {},
   "outputs": [],
   "source": [
    "data = [\n",
    "    (0, 1),\n",
    "    (1, 2, 3),\n",
    "    (1, 3, 5, 7),\n",
    "    (1, 1, 2, 3, 5, 8, 13)\n",
    "]"
   ]
  },
  {
   "cell_type": "markdown",
   "id": "discrete-craft",
   "metadata": {},
   "source": [
    "Your function should return this list:\n",
    "\n",
    "```\n",
    "[1.0, 3.741657386773941, 9.16515138991168, 16.522711641858308]\n",
    "```"
   ]
  },
  {
   "cell_type": "markdown",
   "id": "flexible-hughes",
   "metadata": {},
   "source": [
    "(Hint: you may want to read the `math` module docs to see if you can find a function in there that might help you out!)"
   ]
  },
  {
   "cell_type": "markdown",
   "id": "105d4d4c-7801-40e1-a224-80adf26bbde3",
   "metadata": {},
   "source": [
    "##### Solution 2"
   ]
  },
  {
   "cell_type": "code",
   "execution_count": 22,
   "id": "866574bf-1108-43c6-bd3c-05e0bfdb79fd",
   "metadata": {},
   "outputs": [],
   "source": [
    "def norm(data):\n",
    "    return [math.sqrt(sum([math.pow(pt, 2) for pt in row])) for row in data]"
   ]
  },
  {
   "cell_type": "code",
   "execution_count": 27,
   "id": "94652bd1-1749-46ba-9f96-8734381c8c29",
   "metadata": {},
   "outputs": [
    {
     "data": {
      "text/plain": [
       "[1.0, 3.7416573867739413, 9.16515138991168, 16.522711641858304]"
      ]
     },
     "execution_count": 27,
     "metadata": {},
     "output_type": "execute_result"
    }
   ],
   "source": [
    "norm(data)"
   ]
  },
  {
   "cell_type": "markdown",
   "id": "advisory-patrick",
   "metadata": {},
   "source": [
    "#### Question 3"
   ]
  },
  {
   "cell_type": "markdown",
   "id": "tamil-giving",
   "metadata": {},
   "source": [
    "Given an arbitrary sequence of numerical values, write a function that \"analyzes\" the sequence by generating print outputs of:\n",
    "- number of elements\n",
    "- number of unique elements\n",
    "- the min\n",
    "- the max\n",
    "- the mean\n",
    "- the standard deviation\n",
    "- all the modes (if there are more than one)\n",
    "- the 25th, 50th, and 75th percentiles\n"
   ]
  },
  {
   "cell_type": "markdown",
   "id": "employed-batch",
   "metadata": {},
   "source": [
    "For example, given this list of numbers:"
   ]
  },
  {
   "cell_type": "code",
   "execution_count": 25,
   "id": "meaning-minister",
   "metadata": {},
   "outputs": [],
   "source": [
    "stats_data = [\n",
    "    61, 35, 99, 100, 75, 94, 88, 14, 21, 39, 53, 25, 87, 84, \n",
    "    81, 55, 86, 18, 69, 44, 16, 33, 66, 52, 70, 52, 95, 45, \n",
    "    94, 35, 68, 70, 52, 53, 30, 87, 79, 51, 92, 72, 55, 40, \n",
    "    15, 74, 86, 87, 91, 70, 45, 37\n",
    "]"
   ]
  },
  {
   "cell_type": "markdown",
   "id": "historical-constraint",
   "metadata": {},
   "source": [
    "For calculations that result in floats, display only `3` digits after the decimal point for those result."
   ]
  },
  {
   "cell_type": "markdown",
   "id": "loving-portuguese",
   "metadata": {},
   "source": [
    "Your function should print information such as this to the console:"
   ]
  },
  {
   "cell_type": "markdown",
   "id": "reasonable-advisory",
   "metadata": {},
   "source": [
    "```\n",
    "count: 50\n",
    "unique count: 38\n",
    "min: 14\n",
    "max: 100\n",
    "mean: 60.800\n",
    "std dev: 25.283\n",
    "modes: [87, 52, 70]\n",
    "25th percentile: 39.750\n",
    "median: 63.500\n",
    "75th percentile: 86.000\n",
    "```"
   ]
  },
  {
   "cell_type": "markdown",
   "id": "cd9dbd26-105b-483f-8444-4627a99cb804",
   "metadata": {},
   "source": [
    "##### Solution 3"
   ]
  },
  {
   "cell_type": "code",
   "execution_count": 28,
   "id": "cfd794ed-8251-4337-ac66-a543592ddad7",
   "metadata": {},
   "outputs": [],
   "source": [
    "import statistics as stats"
   ]
  },
  {
   "cell_type": "code",
   "execution_count": 62,
   "id": "b064f601-afda-440b-b1f8-851e7618acec",
   "metadata": {},
   "outputs": [],
   "source": [
    "def stats_func(data):\n",
    "    # create str wrapper func to output all variables as str\n",
    "    def str_wrapper(_str, value):\n",
    "        return f'{_str}: {value}'\n",
    "    # create wrapper func to output all digits as only 3 digits after the decimal point\n",
    "    def digit3(digits):\n",
    "        return format(digits, '.3f')\n",
    "    \n",
    "    count = str_wrapper('count', len(data))\n",
    "    u_count = str_wrapper('unique count', len(set(data)))\n",
    "    _min = str_wrapper('min', min(data))\n",
    "    _max = str_wrapper('max', max(data))    \n",
    "    mean = str_wrapper('mean', digit3(stats.fmean(data)))\n",
    "    std_dev = str_wrapper('std dev', digit3(stats.stdev(data)))\n",
    "    modes = str_wrapper('modes', stats.multimode(data))\n",
    "    \n",
    "    # sort the data to calculate medians: 25th, 50th, and 75th percentile\n",
    "    sorted_data = sorted(data)\n",
    "    \n",
    "    # calculate percentiles\n",
    "    _25th_per = str_wrapper('25th percentile', digit3(stats.median(sorted_data[:len(sorted_data)//2])))\n",
    "    median = str_wrapper('median', digit3(stats.median(sorted_data)))\n",
    "    _75th_per = str_wrapper('75th percentile', digit3(stats.median(sorted_data[len(sorted_data)//2:])))\n",
    "    \n",
    "    return '\\n'.join([count, u_count, _min, _max, mean, std_dev, modes, _25th_per, median, _75th_per])"
   ]
  },
  {
   "cell_type": "code",
   "execution_count": 65,
   "id": "fd86a806-7062-4c34-a95f-5d06df6d2bb1",
   "metadata": {},
   "outputs": [
    {
     "data": {
      "text/plain": [
       "'count: 50\\nunique count: 38\\nmin: 14\\nmax: 100\\nmean: 60.800\\nstd dev: 25.283\\nmodes: [87, 52, 70]\\n25th percentile: 40.000\\nmedian: 63.500\\n75th percentile: 86.000'"
      ]
     },
     "execution_count": 65,
     "metadata": {},
     "output_type": "execute_result"
    }
   ],
   "source": [
    "stats_func(stats_data)"
   ]
  },
  {
   "cell_type": "code",
   "execution_count": 66,
   "id": "0ce38cfd-f41a-4def-8e2c-66eb1fd286a1",
   "metadata": {},
   "outputs": [
    {
     "name": "stdout",
     "output_type": "stream",
     "text": [
      "count: 50\n",
      "unique count: 38\n",
      "min: 14\n",
      "max: 100\n",
      "mean: 60.800\n",
      "std dev: 25.283\n",
      "modes: [87, 52, 70]\n",
      "25th percentile: 40.000\n",
      "median: 63.500\n",
      "75th percentile: 86.000\n"
     ]
    }
   ],
   "source": [
    "print(stats_func(stats_data))"
   ]
  }
 ],
 "metadata": {
  "kernelspec": {
   "display_name": "Python 3 (ipykernel)",
   "language": "python",
   "name": "python3"
  },
  "language_info": {
   "codemirror_mode": {
    "name": "ipython",
    "version": 3
   },
   "file_extension": ".py",
   "mimetype": "text/x-python",
   "name": "python",
   "nbconvert_exporter": "python",
   "pygments_lexer": "ipython3",
   "version": "3.9.19"
  }
 },
 "nbformat": 4,
 "nbformat_minor": 5
}
