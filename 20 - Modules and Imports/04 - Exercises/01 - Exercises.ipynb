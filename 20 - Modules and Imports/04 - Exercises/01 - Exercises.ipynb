{
 "cells": [
  {
   "cell_type": "markdown",
   "id": "invalid-compatibility",
   "metadata": {},
   "source": [
    "### Exercises"
   ]
  },
  {
   "cell_type": "markdown",
   "id": "theoretical-livestock",
   "metadata": {},
   "source": [
    "#### Question 1"
   ]
  },
  {
   "cell_type": "markdown",
   "id": "liberal-gibraltar",
   "metadata": {},
   "source": [
    "Your code uses a few functions in the `math` module here and there, but you also tend to use the `sin`, `cos` and `tan` functions and the `pi` constant very frequently."
   ]
  },
  {
   "cell_type": "markdown",
   "id": "presidential-milwaukee",
   "metadata": {},
   "source": [
    "Write some import statements that you think would be helpful in this scenario."
   ]
  },
  {
   "cell_type": "code",
   "execution_count": 13,
   "id": "224c22a3-eb71-484f-b714-7241c425cf22",
   "metadata": {},
   "outputs": [],
   "source": [
    "import math\n",
    "from math import sin, cos, tan, pi"
   ]
  },
  {
   "cell_type": "code",
   "execution_count": 17,
   "id": "3e32d773-2b54-4b71-94aa-20da5e2df07c",
   "metadata": {},
   "outputs": [
    {
     "data": {
      "text/plain": [
       "(1,\n",
       " -0.9880316240928618,\n",
       " 0.15425144988758405,\n",
       " -6.405331196646276,\n",
       " 3.141592653589793)"
      ]
     },
     "execution_count": 17,
     "metadata": {},
     "output_type": "execute_result"
    }
   ],
   "source": [
    "math.gcd(3, 4), sin(30), cos(30), tan(30), pi"
   ]
  },
  {
   "cell_type": "markdown",
   "id": "binding-cream",
   "metadata": {},
   "source": [
    "#### Question 2"
   ]
  },
  {
   "cell_type": "markdown",
   "id": "fewer-actress",
   "metadata": {},
   "source": [
    "There is a library that we installed for our course called `matplotlib`."
   ]
  },
  {
   "cell_type": "markdown",
   "id": "instrumental-interaction",
   "metadata": {},
   "source": [
    "We can certainly import that library using its full name, but whenever we need to reach into that module we need to type out `matplotlib.som_func` - since we use this library quite often, typing out `matplotlib` every time gets tiring."
   ]
  },
  {
   "cell_type": "markdown",
   "id": "computational-robert",
   "metadata": {},
   "source": [
    "Write an import function that allows you to reference that module using the name `mpl` instead of the full name `matplotlib`."
   ]
  },
  {
   "cell_type": "code",
   "execution_count": 6,
   "id": "11eaa765-0bc3-4c27-9206-6af0602fe753",
   "metadata": {},
   "outputs": [],
   "source": [
    "import matplotlib as mpl"
   ]
  },
  {
   "cell_type": "code",
   "execution_count": 7,
   "id": "d2bf9be8-476c-4d87-8a01-14925be3c8d5",
   "metadata": {},
   "outputs": [
    {
     "data": {
      "text/plain": [
       "<module 'matplotlib' from '/home/allwell/code/py/python101/venv/py39/lib/python3.9/site-packages/matplotlib/__init__.py'>"
      ]
     },
     "execution_count": 7,
     "metadata": {},
     "output_type": "execute_result"
    }
   ],
   "source": [
    "mpl"
   ]
  }
 ],
 "metadata": {
  "kernelspec": {
   "display_name": "Python 3 (ipykernel)",
   "language": "python",
   "name": "python3"
  },
  "language_info": {
   "codemirror_mode": {
    "name": "ipython",
    "version": 3
   },
   "file_extension": ".py",
   "mimetype": "text/x-python",
   "name": "python",
   "nbconvert_exporter": "python",
   "pygments_lexer": "ipython3",
   "version": "3.9.19"
  }
 },
 "nbformat": 4,
 "nbformat_minor": 5
}
