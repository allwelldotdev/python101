{
 "cells": [
  {
   "cell_type": "code",
   "execution_count": 55,
   "id": "abc0920f-6f84-4551-8402-32c94d2c9384",
   "metadata": {},
   "outputs": [],
   "source": [
    "# dummy code\n",
    "i = 1000\n",
    "\n",
    "# TODO: Fix this function\n",
    "# currently does nothing but should do ...\n",
    "def my_func(a: 'mandatory positional',\n",
    "            b: 'optional positional' = 1,\n",
    "            c=2,\n",
    "            *args: 'add extra positional here',\n",
    "            kw1,\n",
    "            kw2=100,\n",
    "            kw3=200,\n",
    "            **kwargs: 'provide extra kw-only here') -> 'does nothing':\n",
    "    \"\"\"This function does nothing but does have various parameters\n",
    "    and annotations.\n",
    "    \"\"\"\n",
    "    i = 10\n",
    "    j = 20\n",
    "    a = i + j\n",
    "    return a"
   ]
  },
  {
   "cell_type": "code",
   "execution_count": 3,
   "id": "e1341e8b-1af2-4bd1-804e-61f718309d5f",
   "metadata": {},
   "outputs": [
    {
     "data": {
      "text/plain": [
       "'This function does nothing but does have various parameters\\n    and annotations.\\n    '"
      ]
     },
     "execution_count": 3,
     "metadata": {},
     "output_type": "execute_result"
    }
   ],
   "source": [
    "my_func.__doc__"
   ]
  },
  {
   "cell_type": "code",
   "execution_count": 4,
   "id": "9416ffa3-0f73-4644-b0dc-0b94b2b77afd",
   "metadata": {},
   "outputs": [
    {
     "data": {
      "text/plain": [
       "{'a': 'mandatory positional',\n",
       " 'b': 'optional positional',\n",
       " 'args': 'add extra positional here',\n",
       " 'kwargs': 'provide extra kw-only here',\n",
       " 'return': 'does nothing'}"
      ]
     },
     "execution_count": 4,
     "metadata": {},
     "output_type": "execute_result"
    }
   ],
   "source": [
    "my_func.__annotations__"
   ]
  },
  {
   "cell_type": "code",
   "execution_count": 5,
   "id": "aaf852c9-eff3-48ec-9171-6bd427a50f50",
   "metadata": {},
   "outputs": [],
   "source": [
    "my_func.short_description = 'this is a function that does nothing much'"
   ]
  },
  {
   "cell_type": "code",
   "execution_count": 7,
   "id": "b46d3720-6a2b-433a-b7f8-eb243dda5bc6",
   "metadata": {},
   "outputs": [
    {
     "data": {
      "text/plain": [
       "'this is a function that does nothing much'"
      ]
     },
     "execution_count": 7,
     "metadata": {},
     "output_type": "execute_result"
    }
   ],
   "source": [
    "my_func.short_description"
   ]
  },
  {
   "cell_type": "code",
   "execution_count": 8,
   "id": "df64d9b3-d8dc-4979-9d6a-f63f913fc747",
   "metadata": {},
   "outputs": [
    {
     "data": {
      "text/plain": [
       "['__annotations__',\n",
       " '__call__',\n",
       " '__class__',\n",
       " '__closure__',\n",
       " '__code__',\n",
       " '__defaults__',\n",
       " '__delattr__',\n",
       " '__dict__',\n",
       " '__dir__',\n",
       " '__doc__',\n",
       " '__eq__',\n",
       " '__format__',\n",
       " '__ge__',\n",
       " '__get__',\n",
       " '__getattribute__',\n",
       " '__globals__',\n",
       " '__gt__',\n",
       " '__hash__',\n",
       " '__init__',\n",
       " '__init_subclass__',\n",
       " '__kwdefaults__',\n",
       " '__le__',\n",
       " '__lt__',\n",
       " '__module__',\n",
       " '__name__',\n",
       " '__ne__',\n",
       " '__new__',\n",
       " '__qualname__',\n",
       " '__reduce__',\n",
       " '__reduce_ex__',\n",
       " '__repr__',\n",
       " '__setattr__',\n",
       " '__sizeof__',\n",
       " '__str__',\n",
       " '__subclasshook__',\n",
       " 'short_description']"
      ]
     },
     "execution_count": 8,
     "metadata": {},
     "output_type": "execute_result"
    }
   ],
   "source": [
    "dir(my_func)"
   ]
  },
  {
   "cell_type": "code",
   "execution_count": 10,
   "id": "29986e93-8cd0-4c6d-a041-683898bb56bc",
   "metadata": {},
   "outputs": [
    {
     "data": {
      "text/plain": [
       "'my_func'"
      ]
     },
     "execution_count": 10,
     "metadata": {},
     "output_type": "execute_result"
    }
   ],
   "source": [
    "my_func.__name__"
   ]
  },
  {
   "cell_type": "markdown",
   "id": "9258a3a3-7028-48ee-8353-861c5cf2216b",
   "metadata": {},
   "source": [
    "say you pass the function `my_func` into another object or function and you want to know what the name of your original function is,\n",
    "you can use `my_func.__name__`"
   ]
  },
  {
   "cell_type": "code",
   "execution_count": 11,
   "id": "2be558dd-f5bd-4b4f-83dd-3afe2ecfb638",
   "metadata": {},
   "outputs": [
    {
     "data": {
      "text/plain": [
       "140399797781984"
      ]
     },
     "execution_count": 11,
     "metadata": {},
     "output_type": "execute_result"
    }
   ],
   "source": [
    "id(my_func)"
   ]
  },
  {
   "cell_type": "code",
   "execution_count": 12,
   "id": "1cb82730-8d3a-43b0-bafe-c71fb0517834",
   "metadata": {},
   "outputs": [],
   "source": [
    "def func_call(f):\n",
    "    print(id(f))\n",
    "    print(f.__name__)"
   ]
  },
  {
   "cell_type": "code",
   "execution_count": 13,
   "id": "044aecdc-ba4e-4675-96c4-5cc220df82fe",
   "metadata": {},
   "outputs": [
    {
     "name": "stdout",
     "output_type": "stream",
     "text": [
      "140399797781984\n",
      "my_func\n"
     ]
    }
   ],
   "source": [
    "func_call(my_func)"
   ]
  },
  {
   "cell_type": "markdown",
   "id": "01bc50fb-215f-4b8a-a046-ddc7b94ae8a2",
   "metadata": {},
   "source": [
    "checking out `__defaults__` and `__kwdefaults__`"
   ]
  },
  {
   "cell_type": "code",
   "execution_count": 14,
   "id": "e36203c1-c7dd-4891-804b-6fb12fcabb16",
   "metadata": {},
   "outputs": [
    {
     "data": {
      "text/plain": [
       "(1, 2)"
      ]
     },
     "execution_count": 14,
     "metadata": {},
     "output_type": "execute_result"
    }
   ],
   "source": [
    "my_func.__defaults__"
   ]
  },
  {
   "cell_type": "markdown",
   "id": "a6aa7674-328b-44a7-8e52-6e40b27e26df",
   "metadata": {},
   "source": [
    "notice we only got back two default values here despite specifying three positional arguments.\n",
    "`__defaults__` only shows the default values specified for the positional arguments in the tuple, **not the positional arguments or the values of the positional arguments**"
   ]
  },
  {
   "cell_type": "code",
   "execution_count": 15,
   "id": "593dbca7-0be2-4699-bfea-b739a5f968de",
   "metadata": {},
   "outputs": [
    {
     "data": {
      "text/plain": [
       "{'kw2': 100, 'kw3': 200}"
      ]
     },
     "execution_count": 15,
     "metadata": {},
     "output_type": "execute_result"
    }
   ],
   "source": [
    "my_func.__kwdefaults__"
   ]
  },
  {
   "cell_type": "code",
   "execution_count": 16,
   "id": "7697bc88-7c1d-4133-9bfb-c6ee535b1de7",
   "metadata": {},
   "outputs": [
    {
     "data": {
      "text/plain": [
       "<code object my_func at 0x7fb160108f50, file \"/tmp/ipykernel_89308/1803968170.py\", line 1>"
      ]
     },
     "execution_count": 16,
     "metadata": {},
     "output_type": "execute_result"
    }
   ],
   "source": [
    "my_func.__code__"
   ]
  },
  {
   "cell_type": "code",
   "execution_count": 17,
   "id": "47c88665-3cc5-41fe-9b7f-3980fe9ff52a",
   "metadata": {
    "scrolled": true
   },
   "outputs": [
    {
     "data": {
      "text/plain": [
       "['__class__',\n",
       " '__delattr__',\n",
       " '__dir__',\n",
       " '__doc__',\n",
       " '__eq__',\n",
       " '__format__',\n",
       " '__ge__',\n",
       " '__getattribute__',\n",
       " '__gt__',\n",
       " '__hash__',\n",
       " '__init__',\n",
       " '__init_subclass__',\n",
       " '__le__',\n",
       " '__lt__',\n",
       " '__ne__',\n",
       " '__new__',\n",
       " '__reduce__',\n",
       " '__reduce_ex__',\n",
       " '__repr__',\n",
       " '__setattr__',\n",
       " '__sizeof__',\n",
       " '__str__',\n",
       " '__subclasshook__',\n",
       " 'co_argcount',\n",
       " 'co_cellvars',\n",
       " 'co_code',\n",
       " 'co_consts',\n",
       " 'co_filename',\n",
       " 'co_firstlineno',\n",
       " 'co_flags',\n",
       " 'co_freevars',\n",
       " 'co_kwonlyargcount',\n",
       " 'co_lnotab',\n",
       " 'co_name',\n",
       " 'co_names',\n",
       " 'co_nlocals',\n",
       " 'co_posonlyargcount',\n",
       " 'co_stacksize',\n",
       " 'co_varnames',\n",
       " 'replace']"
      ]
     },
     "execution_count": 17,
     "metadata": {},
     "output_type": "execute_result"
    }
   ],
   "source": [
    "dir(my_func.__code__)"
   ]
  },
  {
   "cell_type": "code",
   "execution_count": 18,
   "id": "b6eb3fcb-b6e5-4135-9fd9-29f653bc87c9",
   "metadata": {},
   "outputs": [
    {
     "data": {
      "text/plain": [
       "'my_func'"
      ]
     },
     "execution_count": 18,
     "metadata": {},
     "output_type": "execute_result"
    }
   ],
   "source": [
    "my_func.__code__.co_name"
   ]
  },
  {
   "cell_type": "code",
   "execution_count": 19,
   "id": "58117aea-f040-4d15-ab9d-abbf7fef7af6",
   "metadata": {},
   "outputs": [
    {
     "data": {
      "text/plain": [
       "('a', 'b', 'c', 'kw1', 'kw2', 'kw3', 'args', 'kwargs', 'i', 'j')"
      ]
     },
     "execution_count": 19,
     "metadata": {},
     "output_type": "execute_result"
    }
   ],
   "source": [
    "my_func.__code__.co_varnames"
   ]
  },
  {
   "cell_type": "code",
   "execution_count": 20,
   "id": "93216337-d088-4fd0-9c67-917afc3659cb",
   "metadata": {},
   "outputs": [
    {
     "ename": "AttributeError",
     "evalue": "'builtin_function_or_method' object has no attribute '__code__'",
     "output_type": "error",
     "traceback": [
      "\u001b[0;31m---------------------------------------------------------------------------\u001b[0m",
      "\u001b[0;31mAttributeError\u001b[0m                            Traceback (most recent call last)",
      "Cell \u001b[0;32mIn[20], line 1\u001b[0m\n\u001b[0;32m----> 1\u001b[0m \u001b[38;5;28;43mprint\u001b[39;49m\u001b[38;5;241;43m.\u001b[39;49m\u001b[38;5;18;43m__code__\u001b[39;49m\u001b[38;5;241m.\u001b[39mco_varnames\n",
      "\u001b[0;31mAttributeError\u001b[0m: 'builtin_function_or_method' object has no attribute '__code__'"
     ]
    }
   ],
   "source": [
    "print.__code__.co_varnames"
   ]
  },
  {
   "cell_type": "code",
   "execution_count": 21,
   "id": "3a3bfd58-1d3a-4e30-9790-08ab04e26357",
   "metadata": {},
   "outputs": [
    {
     "data": {
      "text/plain": [
       "['__call__',\n",
       " '__class__',\n",
       " '__delattr__',\n",
       " '__dir__',\n",
       " '__doc__',\n",
       " '__eq__',\n",
       " '__format__',\n",
       " '__ge__',\n",
       " '__getattribute__',\n",
       " '__gt__',\n",
       " '__hash__',\n",
       " '__init__',\n",
       " '__init_subclass__',\n",
       " '__le__',\n",
       " '__lt__',\n",
       " '__module__',\n",
       " '__name__',\n",
       " '__ne__',\n",
       " '__new__',\n",
       " '__qualname__',\n",
       " '__reduce__',\n",
       " '__reduce_ex__',\n",
       " '__repr__',\n",
       " '__self__',\n",
       " '__setattr__',\n",
       " '__sizeof__',\n",
       " '__str__',\n",
       " '__subclasshook__',\n",
       " '__text_signature__']"
      ]
     },
     "execution_count": 21,
     "metadata": {},
     "output_type": "execute_result"
    }
   ],
   "source": [
    "dir(print)"
   ]
  },
  {
   "cell_type": "code",
   "execution_count": 23,
   "id": "c73b3949-360e-4253-920d-73c6f720b2fc",
   "metadata": {},
   "outputs": [],
   "source": [
    "import math"
   ]
  },
  {
   "cell_type": "code",
   "execution_count": 24,
   "id": "b80cd1d8-da0f-4554-8d06-c9a9361049f7",
   "metadata": {},
   "outputs": [
    {
     "data": {
      "text/plain": [
       "['__call__',\n",
       " '__class__',\n",
       " '__delattr__',\n",
       " '__dir__',\n",
       " '__doc__',\n",
       " '__eq__',\n",
       " '__format__',\n",
       " '__ge__',\n",
       " '__getattribute__',\n",
       " '__gt__',\n",
       " '__hash__',\n",
       " '__init__',\n",
       " '__init_subclass__',\n",
       " '__le__',\n",
       " '__lt__',\n",
       " '__module__',\n",
       " '__name__',\n",
       " '__ne__',\n",
       " '__new__',\n",
       " '__qualname__',\n",
       " '__reduce__',\n",
       " '__reduce_ex__',\n",
       " '__repr__',\n",
       " '__self__',\n",
       " '__setattr__',\n",
       " '__sizeof__',\n",
       " '__str__',\n",
       " '__subclasshook__',\n",
       " '__text_signature__']"
      ]
     },
     "execution_count": 24,
     "metadata": {},
     "output_type": "execute_result"
    }
   ],
   "source": [
    "dir(math.sin)"
   ]
  },
  {
   "cell_type": "markdown",
   "id": "1b43abf3-b413-4d21-8934-2ffc9cfdd9de",
   "metadata": {},
   "source": [
    "interesting here (above) to learn that 'builtin function or method' objects do not have the `__code__` attribute"
   ]
  },
  {
   "cell_type": "code",
   "execution_count": 22,
   "id": "e8582f2d-15c6-4b35-8164-84f13b5487be",
   "metadata": {},
   "outputs": [
    {
     "data": {
      "text/plain": [
       "3"
      ]
     },
     "execution_count": 22,
     "metadata": {},
     "output_type": "execute_result"
    }
   ],
   "source": [
    "my_func.__code__.co_argcount"
   ]
  },
  {
   "cell_type": "markdown",
   "id": "5e5e95d2-f228-492d-a1ed-d033628d1b15",
   "metadata": {},
   "source": [
    "`<func_obj>.__code__.co_argcount` only counts positional arguments, hence the return of `3`"
   ]
  },
  {
   "cell_type": "code",
   "execution_count": 25,
   "id": "17a9bf46-5c0e-4d17-938f-55a2edda047c",
   "metadata": {},
   "outputs": [],
   "source": [
    "import inspect"
   ]
  },
  {
   "cell_type": "code",
   "execution_count": 26,
   "id": "9115cb54-84a3-4b36-b3f8-5ae88c5466aa",
   "metadata": {},
   "outputs": [],
   "source": [
    "from inspect import isfunction, ismethod, isroutine"
   ]
  },
  {
   "cell_type": "code",
   "execution_count": 27,
   "id": "f3290751-f61f-4966-a458-fda24bb86b3e",
   "metadata": {},
   "outputs": [],
   "source": [
    "a = 10"
   ]
  },
  {
   "cell_type": "code",
   "execution_count": 28,
   "id": "f985186f-cd45-4105-a1e7-582df4dd10bf",
   "metadata": {},
   "outputs": [
    {
     "data": {
      "text/plain": [
       "False"
      ]
     },
     "execution_count": 28,
     "metadata": {},
     "output_type": "execute_result"
    }
   ],
   "source": [
    "isfunction(a)"
   ]
  },
  {
   "cell_type": "code",
   "execution_count": 29,
   "id": "5ef7aff5-26bd-4be2-8c9f-c131528c895c",
   "metadata": {},
   "outputs": [
    {
     "data": {
      "text/plain": [
       "True"
      ]
     },
     "execution_count": 29,
     "metadata": {},
     "output_type": "execute_result"
    }
   ],
   "source": [
    "isfunction(my_func)"
   ]
  },
  {
   "cell_type": "code",
   "execution_count": 30,
   "id": "6db7010a-c38d-4a09-9ba6-b5e473c1a581",
   "metadata": {},
   "outputs": [
    {
     "data": {
      "text/plain": [
       "False"
      ]
     },
     "execution_count": 30,
     "metadata": {},
     "output_type": "execute_result"
    }
   ],
   "source": [
    "ismethod(my_func)"
   ]
  },
  {
   "cell_type": "code",
   "execution_count": 31,
   "id": "383b6778-0b58-486d-94c2-2fb6122462b8",
   "metadata": {},
   "outputs": [],
   "source": [
    "class MyClass:\n",
    "    def f(self):\n",
    "        pass"
   ]
  },
  {
   "cell_type": "code",
   "execution_count": 32,
   "id": "a384c50f-81d9-4eba-9717-2baaf46a42d1",
   "metadata": {},
   "outputs": [
    {
     "data": {
      "text/plain": [
       "True"
      ]
     },
     "execution_count": 32,
     "metadata": {},
     "output_type": "execute_result"
    }
   ],
   "source": [
    "isfunction(MyClass.f)"
   ]
  },
  {
   "cell_type": "code",
   "execution_count": 33,
   "id": "38a7eaa4-335e-4640-a6fe-ac28033b352e",
   "metadata": {},
   "outputs": [],
   "source": [
    "my_obj = MyClass()"
   ]
  },
  {
   "cell_type": "code",
   "execution_count": 34,
   "id": "48e26622-c531-47a5-a12b-8955bd0187f5",
   "metadata": {},
   "outputs": [
    {
     "data": {
      "text/plain": [
       "False"
      ]
     },
     "execution_count": 34,
     "metadata": {},
     "output_type": "execute_result"
    }
   ],
   "source": [
    "isfunction(my_obj.f)"
   ]
  },
  {
   "cell_type": "code",
   "execution_count": 35,
   "id": "66a70ff7-2fd7-43ab-b412-5598828cff76",
   "metadata": {},
   "outputs": [
    {
     "data": {
      "text/plain": [
       "True"
      ]
     },
     "execution_count": 35,
     "metadata": {},
     "output_type": "execute_result"
    }
   ],
   "source": [
    "ismethod(my_obj.f)"
   ]
  },
  {
   "cell_type": "markdown",
   "id": "dc313bf6-b0bb-4187-903c-29eb0b22a59e",
   "metadata": {},
   "source": [
    "if you're not concerned of checking specifically for `function` or `method` you can use the `isroutine()` to check if the obj is a function or a method"
   ]
  },
  {
   "cell_type": "code",
   "execution_count": 36,
   "id": "b85c9a86-c0ec-4e35-a1db-34bea14302c2",
   "metadata": {},
   "outputs": [
    {
     "data": {
      "text/plain": [
       "True"
      ]
     },
     "execution_count": 36,
     "metadata": {},
     "output_type": "execute_result"
    }
   ],
   "source": [
    "isroutine(my_obj.f)"
   ]
  },
  {
   "cell_type": "code",
   "execution_count": 37,
   "id": "0df759fc-a864-4a64-89f0-fedbc884c012",
   "metadata": {},
   "outputs": [
    {
     "data": {
      "text/plain": [
       "True"
      ]
     },
     "execution_count": 37,
     "metadata": {},
     "output_type": "execute_result"
    }
   ],
   "source": [
    "isroutine(MyClass.f)"
   ]
  },
  {
   "cell_type": "code",
   "execution_count": 39,
   "id": "c6f5aded-715d-4117-a746-dd107d5aeef0",
   "metadata": {},
   "outputs": [
    {
     "data": {
      "text/plain": [
       "'def my_func(a: \\'mandatory positional\\',\\n            b: \\'optional positional\\' = 1,\\n            c=2,\\n            *args: \\'add extra positional here\\',\\n            kw1,\\n            kw2=100,\\n            kw3=200,\\n            **kwargs: \\'provide extra kw-only here\\') -> \\'does nothing\\':\\n    \"\"\"This function does nothing but does have various parameters\\n    and annotations.\\n    \"\"\"\\n    i = 10\\n    j = 20\\n    a = i + j\\n    return a\\n'"
      ]
     },
     "execution_count": 39,
     "metadata": {},
     "output_type": "execute_result"
    }
   ],
   "source": [
    "inspect.getsource(my_func)"
   ]
  },
  {
   "cell_type": "code",
   "execution_count": 40,
   "id": "f360dce8-b453-4a74-a024-6cbb4374a716",
   "metadata": {},
   "outputs": [
    {
     "name": "stdout",
     "output_type": "stream",
     "text": [
      "def my_func(a: 'mandatory positional',\n",
      "            b: 'optional positional' = 1,\n",
      "            c=2,\n",
      "            *args: 'add extra positional here',\n",
      "            kw1,\n",
      "            kw2=100,\n",
      "            kw3=200,\n",
      "            **kwargs: 'provide extra kw-only here') -> 'does nothing':\n",
      "    \"\"\"This function does nothing but does have various parameters\n",
      "    and annotations.\n",
      "    \"\"\"\n",
      "    i = 10\n",
      "    j = 20\n",
      "    a = i + j\n",
      "    return a\n",
      "\n"
     ]
    }
   ],
   "source": [
    "print(inspect.getsource(my_func))"
   ]
  },
  {
   "cell_type": "markdown",
   "id": "1bbf0611-650a-46f8-b530-d91847b1c229",
   "metadata": {},
   "source": [
    "notice how I got the code of my entire function `my_func` there. Isn't that amazing? 😍 That's a cool Python feature."
   ]
  },
  {
   "cell_type": "code",
   "execution_count": 41,
   "id": "4b3a542d-f292-4a3e-9422-ee3a887e3e91",
   "metadata": {},
   "outputs": [
    {
     "ename": "TypeError",
     "evalue": "module, class, method, function, traceback, frame, or code object was expected, got builtin_function_or_method",
     "output_type": "error",
     "traceback": [
      "\u001b[0;31m---------------------------------------------------------------------------\u001b[0m",
      "\u001b[0;31mTypeError\u001b[0m                                 Traceback (most recent call last)",
      "Cell \u001b[0;32mIn[41], line 1\u001b[0m\n\u001b[0;32m----> 1\u001b[0m \u001b[38;5;28mprint\u001b[39m(\u001b[43minspect\u001b[49m\u001b[38;5;241;43m.\u001b[39;49m\u001b[43mgetsource\u001b[49m\u001b[43m(\u001b[49m\u001b[38;5;28;43mprint\u001b[39;49m\u001b[43m)\u001b[49m)\n",
      "File \u001b[0;32m/usr/local/lib/python3.9/inspect.py:1024\u001b[0m, in \u001b[0;36mgetsource\u001b[0;34m(object)\u001b[0m\n\u001b[1;32m   1018\u001b[0m \u001b[38;5;28;01mdef\u001b[39;00m \u001b[38;5;21mgetsource\u001b[39m(\u001b[38;5;28mobject\u001b[39m):\n\u001b[1;32m   1019\u001b[0m \u001b[38;5;250m    \u001b[39m\u001b[38;5;124;03m\"\"\"Return the text of the source code for an object.\u001b[39;00m\n\u001b[1;32m   1020\u001b[0m \n\u001b[1;32m   1021\u001b[0m \u001b[38;5;124;03m    The argument may be a module, class, method, function, traceback, frame,\u001b[39;00m\n\u001b[1;32m   1022\u001b[0m \u001b[38;5;124;03m    or code object.  The source code is returned as a single string.  An\u001b[39;00m\n\u001b[1;32m   1023\u001b[0m \u001b[38;5;124;03m    OSError is raised if the source code cannot be retrieved.\"\"\"\u001b[39;00m\n\u001b[0;32m-> 1024\u001b[0m     lines, lnum \u001b[38;5;241m=\u001b[39m \u001b[43mgetsourcelines\u001b[49m\u001b[43m(\u001b[49m\u001b[38;5;28;43mobject\u001b[39;49m\u001b[43m)\u001b[49m\n\u001b[1;32m   1025\u001b[0m     \u001b[38;5;28;01mreturn\u001b[39;00m \u001b[38;5;124m'\u001b[39m\u001b[38;5;124m'\u001b[39m\u001b[38;5;241m.\u001b[39mjoin(lines)\n",
      "File \u001b[0;32m/usr/local/lib/python3.9/inspect.py:1006\u001b[0m, in \u001b[0;36mgetsourcelines\u001b[0;34m(object)\u001b[0m\n\u001b[1;32m    998\u001b[0m \u001b[38;5;250m\u001b[39m\u001b[38;5;124;03m\"\"\"Return a list of source lines and starting line number for an object.\u001b[39;00m\n\u001b[1;32m    999\u001b[0m \n\u001b[1;32m   1000\u001b[0m \u001b[38;5;124;03mThe argument may be a module, class, method, function, traceback, frame,\u001b[39;00m\n\u001b[0;32m   (...)\u001b[0m\n\u001b[1;32m   1003\u001b[0m \u001b[38;5;124;03moriginal source file the first line of code was found.  An OSError is\u001b[39;00m\n\u001b[1;32m   1004\u001b[0m \u001b[38;5;124;03mraised if the source code cannot be retrieved.\"\"\"\u001b[39;00m\n\u001b[1;32m   1005\u001b[0m \u001b[38;5;28mobject\u001b[39m \u001b[38;5;241m=\u001b[39m unwrap(\u001b[38;5;28mobject\u001b[39m)\n\u001b[0;32m-> 1006\u001b[0m lines, lnum \u001b[38;5;241m=\u001b[39m \u001b[43mfindsource\u001b[49m\u001b[43m(\u001b[49m\u001b[38;5;28;43mobject\u001b[39;49m\u001b[43m)\u001b[49m\n\u001b[1;32m   1008\u001b[0m \u001b[38;5;28;01mif\u001b[39;00m istraceback(\u001b[38;5;28mobject\u001b[39m):\n\u001b[1;32m   1009\u001b[0m     \u001b[38;5;28mobject\u001b[39m \u001b[38;5;241m=\u001b[39m \u001b[38;5;28mobject\u001b[39m\u001b[38;5;241m.\u001b[39mtb_frame\n",
      "File \u001b[0;32m/usr/local/lib/python3.9/inspect.py:817\u001b[0m, in \u001b[0;36mfindsource\u001b[0;34m(object)\u001b[0m\n\u001b[1;32m    809\u001b[0m \u001b[38;5;28;01mdef\u001b[39;00m \u001b[38;5;21mfindsource\u001b[39m(\u001b[38;5;28mobject\u001b[39m):\n\u001b[1;32m    810\u001b[0m \u001b[38;5;250m    \u001b[39m\u001b[38;5;124;03m\"\"\"Return the entire source file and starting line number for an object.\u001b[39;00m\n\u001b[1;32m    811\u001b[0m \n\u001b[1;32m    812\u001b[0m \u001b[38;5;124;03m    The argument may be a module, class, method, function, traceback, frame,\u001b[39;00m\n\u001b[1;32m    813\u001b[0m \u001b[38;5;124;03m    or code object.  The source code is returned as a list of all the lines\u001b[39;00m\n\u001b[1;32m    814\u001b[0m \u001b[38;5;124;03m    in the file and the line number indexes a line in that list.  An OSError\u001b[39;00m\n\u001b[1;32m    815\u001b[0m \u001b[38;5;124;03m    is raised if the source code cannot be retrieved.\"\"\"\u001b[39;00m\n\u001b[0;32m--> 817\u001b[0m     file \u001b[38;5;241m=\u001b[39m \u001b[43mgetsourcefile\u001b[49m\u001b[43m(\u001b[49m\u001b[38;5;28;43mobject\u001b[39;49m\u001b[43m)\u001b[49m\n\u001b[1;32m    818\u001b[0m     \u001b[38;5;28;01mif\u001b[39;00m file:\n\u001b[1;32m    819\u001b[0m         \u001b[38;5;66;03m# Invalidate cache if needed.\u001b[39;00m\n\u001b[1;32m    820\u001b[0m         linecache\u001b[38;5;241m.\u001b[39mcheckcache(file)\n",
      "File \u001b[0;32m/usr/local/lib/python3.9/inspect.py:697\u001b[0m, in \u001b[0;36mgetsourcefile\u001b[0;34m(object)\u001b[0m\n\u001b[1;32m    693\u001b[0m \u001b[38;5;28;01mdef\u001b[39;00m \u001b[38;5;21mgetsourcefile\u001b[39m(\u001b[38;5;28mobject\u001b[39m):\n\u001b[1;32m    694\u001b[0m \u001b[38;5;250m    \u001b[39m\u001b[38;5;124;03m\"\"\"Return the filename that can be used to locate an object's source.\u001b[39;00m\n\u001b[1;32m    695\u001b[0m \u001b[38;5;124;03m    Return None if no way can be identified to get the source.\u001b[39;00m\n\u001b[1;32m    696\u001b[0m \u001b[38;5;124;03m    \"\"\"\u001b[39;00m\n\u001b[0;32m--> 697\u001b[0m     filename \u001b[38;5;241m=\u001b[39m \u001b[43mgetfile\u001b[49m\u001b[43m(\u001b[49m\u001b[38;5;28;43mobject\u001b[39;49m\u001b[43m)\u001b[49m\n\u001b[1;32m    698\u001b[0m     all_bytecode_suffixes \u001b[38;5;241m=\u001b[39m importlib\u001b[38;5;241m.\u001b[39mmachinery\u001b[38;5;241m.\u001b[39mDEBUG_BYTECODE_SUFFIXES[:]\n\u001b[1;32m    699\u001b[0m     all_bytecode_suffixes \u001b[38;5;241m+\u001b[39m\u001b[38;5;241m=\u001b[39m importlib\u001b[38;5;241m.\u001b[39mmachinery\u001b[38;5;241m.\u001b[39mOPTIMIZED_BYTECODE_SUFFIXES[:]\n",
      "File \u001b[0;32m/usr/local/lib/python3.9/inspect.py:677\u001b[0m, in \u001b[0;36mgetfile\u001b[0;34m(object)\u001b[0m\n\u001b[1;32m    675\u001b[0m \u001b[38;5;28;01mif\u001b[39;00m iscode(\u001b[38;5;28mobject\u001b[39m):\n\u001b[1;32m    676\u001b[0m     \u001b[38;5;28;01mreturn\u001b[39;00m \u001b[38;5;28mobject\u001b[39m\u001b[38;5;241m.\u001b[39mco_filename\n\u001b[0;32m--> 677\u001b[0m \u001b[38;5;28;01mraise\u001b[39;00m \u001b[38;5;167;01mTypeError\u001b[39;00m(\u001b[38;5;124m'\u001b[39m\u001b[38;5;124mmodule, class, method, function, traceback, frame, or \u001b[39m\u001b[38;5;124m'\u001b[39m\n\u001b[1;32m    678\u001b[0m                 \u001b[38;5;124m'\u001b[39m\u001b[38;5;124mcode object was expected, got \u001b[39m\u001b[38;5;132;01m{}\u001b[39;00m\u001b[38;5;124m'\u001b[39m\u001b[38;5;241m.\u001b[39mformat(\n\u001b[1;32m    679\u001b[0m                 \u001b[38;5;28mtype\u001b[39m(\u001b[38;5;28mobject\u001b[39m)\u001b[38;5;241m.\u001b[39m\u001b[38;5;18m__name__\u001b[39m))\n",
      "\u001b[0;31mTypeError\u001b[0m: module, class, method, function, traceback, frame, or code object was expected, got builtin_function_or_method"
     ]
    }
   ],
   "source": [
    "print(inspect.getsource(print))"
   ]
  },
  {
   "cell_type": "markdown",
   "id": "c44bd708-fbe5-49a5-9308-659a877383e5",
   "metadata": {},
   "source": [
    "okay! interesting to see that `inspect.getsource()` does not also work for 'built-in function of method' objects"
   ]
  },
  {
   "cell_type": "code",
   "execution_count": 42,
   "id": "c1001107-c959-4078-9d5b-2cc6352e988e",
   "metadata": {},
   "outputs": [],
   "source": [
    "f = my_func"
   ]
  },
  {
   "cell_type": "code",
   "execution_count": 43,
   "id": "ba525e92-a36e-42a3-99ba-18330697fb71",
   "metadata": {},
   "outputs": [
    {
     "data": {
      "text/plain": [
       "<module '__main__'>"
      ]
     },
     "execution_count": 43,
     "metadata": {},
     "output_type": "execute_result"
    }
   ],
   "source": [
    "inspect.getmodule(f)"
   ]
  },
  {
   "cell_type": "code",
   "execution_count": 44,
   "id": "9b2a8c9f-ca6f-48da-899e-078c2a6fc0d7",
   "metadata": {},
   "outputs": [
    {
     "data": {
      "text/plain": [
       "<module 'builtins' (built-in)>"
      ]
     },
     "execution_count": 44,
     "metadata": {},
     "output_type": "execute_result"
    }
   ],
   "source": [
    "inspect.getmodule(print)"
   ]
  },
  {
   "cell_type": "markdown",
   "id": "cf7550e9-fbe9-454e-a446-d71f44c4fcad",
   "metadata": {},
   "source": [
    "interesting! `inspect.getmodule()` works for builtins - different from `inspect.getsource()` and `<func_obj>.__code__`"
   ]
  },
  {
   "cell_type": "code",
   "execution_count": 45,
   "id": "d7f844b6-d15c-4d70-82bc-65071ec29889",
   "metadata": {},
   "outputs": [
    {
     "data": {
      "text/plain": [
       "<module 'math' from '/usr/local/lib/python3.9/lib-dynload/math.cpython-39-x86_64-linux-gnu.so'>"
      ]
     },
     "execution_count": 45,
     "metadata": {},
     "output_type": "execute_result"
    }
   ],
   "source": [
    "inspect.getmodule(math.sin)"
   ]
  },
  {
   "cell_type": "code",
   "execution_count": 47,
   "id": "409558c7-eb11-4393-8463-5ea5f2d0769d",
   "metadata": {},
   "outputs": [
    {
     "data": {
      "text/plain": [
       "<module 'inspect' from '/usr/local/lib/python3.9/inspect.py'>"
      ]
     },
     "execution_count": 47,
     "metadata": {},
     "output_type": "execute_result"
    }
   ],
   "source": [
    "inspect.getmodule(inspect)"
   ]
  },
  {
   "cell_type": "code",
   "execution_count": 51,
   "id": "ac0a19de-e0b6-4563-9adf-2933cfa7c229",
   "metadata": {},
   "outputs": [
    {
     "data": {
      "text/plain": [
       "False"
      ]
     },
     "execution_count": 51,
     "metadata": {},
     "output_type": "execute_result"
    }
   ],
   "source": [
    "'__code__' in dir(inspect)"
   ]
  },
  {
   "cell_type": "markdown",
   "id": "dff3abee-2e7a-42cc-9ce6-1d24f7ba2ab3",
   "metadata": {},
   "source": [
    "an interesting way to find out if the `__code__` function exists in certain modules whether builtin or 3rd party"
   ]
  },
  {
   "cell_type": "code",
   "execution_count": 52,
   "id": "9e1f6c0f-7a25-46c0-872b-fc7b14c3e1cc",
   "metadata": {
    "scrolled": true
   },
   "outputs": [
    {
     "data": {
      "text/plain": [
       "['ArgInfo',\n",
       " 'ArgSpec',\n",
       " 'Arguments',\n",
       " 'Attribute',\n",
       " 'BlockFinder',\n",
       " 'BoundArguments',\n",
       " 'CORO_CLOSED',\n",
       " 'CORO_CREATED',\n",
       " 'CORO_RUNNING',\n",
       " 'CORO_SUSPENDED',\n",
       " 'CO_ASYNC_GENERATOR',\n",
       " 'CO_COROUTINE',\n",
       " 'CO_GENERATOR',\n",
       " 'CO_ITERABLE_COROUTINE',\n",
       " 'CO_NESTED',\n",
       " 'CO_NEWLOCALS',\n",
       " 'CO_NOFREE',\n",
       " 'CO_OPTIMIZED',\n",
       " 'CO_VARARGS',\n",
       " 'CO_VARKEYWORDS',\n",
       " 'ClassFoundException',\n",
       " 'ClosureVars',\n",
       " 'EndOfBlock',\n",
       " 'FrameInfo',\n",
       " 'FullArgSpec',\n",
       " 'GEN_CLOSED',\n",
       " 'GEN_CREATED',\n",
       " 'GEN_RUNNING',\n",
       " 'GEN_SUSPENDED',\n",
       " 'OrderedDict',\n",
       " 'Parameter',\n",
       " 'Signature',\n",
       " 'TPFLAGS_IS_ABSTRACT',\n",
       " 'Traceback',\n",
       " '_ClassFinder',\n",
       " '_ClassMethodWrapper',\n",
       " '_KEYWORD_ONLY',\n",
       " '_MethodWrapper',\n",
       " '_NonUserDefinedCallables',\n",
       " '_PARAM_NAME_MAPPING',\n",
       " '_POSITIONAL_ONLY',\n",
       " '_POSITIONAL_OR_KEYWORD',\n",
       " '_ParameterKind',\n",
       " '_VAR_KEYWORD',\n",
       " '_VAR_POSITIONAL',\n",
       " '_WrapperDescriptor',\n",
       " '__author__',\n",
       " '__builtins__',\n",
       " '__cached__',\n",
       " '__doc__',\n",
       " '__file__',\n",
       " '__loader__',\n",
       " '__name__',\n",
       " '__package__',\n",
       " '__spec__',\n",
       " '_check_class',\n",
       " '_check_instance',\n",
       " '_empty',\n",
       " '_filesbymodname',\n",
       " '_findclass',\n",
       " '_finddoc',\n",
       " '_has_code_flag',\n",
       " '_is_type',\n",
       " '_main',\n",
       " '_missing_arguments',\n",
       " '_sentinel',\n",
       " '_shadowed_dict',\n",
       " '_signature_bound_method',\n",
       " '_signature_from_builtin',\n",
       " '_signature_from_callable',\n",
       " '_signature_from_function',\n",
       " '_signature_fromstr',\n",
       " '_signature_get_bound_param',\n",
       " '_signature_get_partial',\n",
       " '_signature_get_user_defined_method',\n",
       " '_signature_is_builtin',\n",
       " '_signature_is_functionlike',\n",
       " '_signature_strip_non_python_syntax',\n",
       " '_static_getmro',\n",
       " '_too_many',\n",
       " '_void',\n",
       " 'abc',\n",
       " 'ast',\n",
       " 'attrgetter',\n",
       " 'builtins',\n",
       " 'classify_class_attrs',\n",
       " 'cleandoc',\n",
       " 'collections',\n",
       " 'currentframe',\n",
       " 'dis',\n",
       " 'enum',\n",
       " 'findsource',\n",
       " 'formatannotation',\n",
       " 'formatannotationrelativeto',\n",
       " 'formatargspec',\n",
       " 'formatargvalues',\n",
       " 'functools',\n",
       " 'getabsfile',\n",
       " 'getargs',\n",
       " 'getargspec',\n",
       " 'getargvalues',\n",
       " 'getattr_static',\n",
       " 'getblock',\n",
       " 'getcallargs',\n",
       " 'getclasstree',\n",
       " 'getclosurevars',\n",
       " 'getcomments',\n",
       " 'getcoroutinelocals',\n",
       " 'getcoroutinestate',\n",
       " 'getdoc',\n",
       " 'getfile',\n",
       " 'getframeinfo',\n",
       " 'getfullargspec',\n",
       " 'getgeneratorlocals',\n",
       " 'getgeneratorstate',\n",
       " 'getinnerframes',\n",
       " 'getlineno',\n",
       " 'getmembers',\n",
       " 'getmodule',\n",
       " 'getmodulename',\n",
       " 'getmro',\n",
       " 'getouterframes',\n",
       " 'getsource',\n",
       " 'getsourcefile',\n",
       " 'getsourcelines',\n",
       " 'importlib',\n",
       " 'indentsize',\n",
       " 'isabstract',\n",
       " 'isasyncgen',\n",
       " 'isasyncgenfunction',\n",
       " 'isawaitable',\n",
       " 'isbuiltin',\n",
       " 'isclass',\n",
       " 'iscode',\n",
       " 'iscoroutine',\n",
       " 'iscoroutinefunction',\n",
       " 'isdatadescriptor',\n",
       " 'isframe',\n",
       " 'isfunction',\n",
       " 'isgenerator',\n",
       " 'isgeneratorfunction',\n",
       " 'isgetsetdescriptor',\n",
       " 'ismemberdescriptor',\n",
       " 'ismethod',\n",
       " 'ismethoddescriptor',\n",
       " 'ismodule',\n",
       " 'isroutine',\n",
       " 'istraceback',\n",
       " 'itertools',\n",
       " 'k',\n",
       " 'linecache',\n",
       " 'mod_dict',\n",
       " 'modulesbyfile',\n",
       " 'namedtuple',\n",
       " 'os',\n",
       " 're',\n",
       " 'signature',\n",
       " 'stack',\n",
       " 'sys',\n",
       " 'token',\n",
       " 'tokenize',\n",
       " 'trace',\n",
       " 'types',\n",
       " 'unwrap',\n",
       " 'v',\n",
       " 'walktree',\n",
       " 'warnings']"
      ]
     },
     "execution_count": 52,
     "metadata": {},
     "output_type": "execute_result"
    }
   ],
   "source": [
    "dir(inspect)"
   ]
  },
  {
   "cell_type": "markdown",
   "id": "fadca056-a969-4036-ab79-00fda50ed6d6",
   "metadata": {},
   "source": [
    "`inspect` has a lot of useful attributes, properties, and methods "
   ]
  },
  {
   "cell_type": "code",
   "execution_count": 56,
   "id": "5388f32f-0bc5-447c-adb0-1c2302dedbd3",
   "metadata": {},
   "outputs": [
    {
     "data": {
      "text/plain": [
       "'# TODO: Fix this function\\n# currently does nothing but should do ...\\n'"
      ]
     },
     "execution_count": 56,
     "metadata": {},
     "output_type": "execute_result"
    }
   ],
   "source": [
    "inspect.getcomments(my_func)"
   ]
  },
  {
   "cell_type": "code",
   "execution_count": 57,
   "id": "5016a79e-09af-405b-9723-44c4c8838bdb",
   "metadata": {},
   "outputs": [
    {
     "data": {
      "text/plain": [
       "'This function does nothing but does have various parameters\\n    and annotations.\\n    '"
      ]
     },
     "execution_count": 57,
     "metadata": {},
     "output_type": "execute_result"
    }
   ],
   "source": [
    "my_func.__doc__"
   ]
  },
  {
   "cell_type": "markdown",
   "id": "71c937f9-f9dd-41a2-8533-f92791cb5f50",
   "metadata": {},
   "source": [
    "`inspect.getcomments(my_func)` is not the same as `<func_obj>.__doc__`.\n",
    "Notice the difference!"
   ]
  },
  {
   "cell_type": "code",
   "execution_count": 58,
   "id": "4053d2c5-b3b8-4370-b7cc-dc590de7bf23",
   "metadata": {},
   "outputs": [
    {
     "data": {
      "text/plain": [
       "<Signature (a: 'mandatory positional', b: 'optional positional' = 1, c=2, *args: 'add extra positional here', kw1, kw2=100, kw3=200, **kwargs: 'provide extra kw-only here') -> 'does nothing'>"
      ]
     },
     "execution_count": 58,
     "metadata": {},
     "output_type": "execute_result"
    }
   ],
   "source": [
    "inspect.signature(my_func)"
   ]
  },
  {
   "cell_type": "code",
   "execution_count": 59,
   "id": "0dc5718a-ed27-49b3-821e-f648fa230cdc",
   "metadata": {},
   "outputs": [
    {
     "ename": "ValueError",
     "evalue": "no signature found for builtin <built-in function print>",
     "output_type": "error",
     "traceback": [
      "\u001b[0;31m---------------------------------------------------------------------------\u001b[0m",
      "\u001b[0;31mValueError\u001b[0m                                Traceback (most recent call last)",
      "Cell \u001b[0;32mIn[59], line 1\u001b[0m\n\u001b[0;32m----> 1\u001b[0m \u001b[43minspect\u001b[49m\u001b[38;5;241;43m.\u001b[39;49m\u001b[43msignature\u001b[49m\u001b[43m(\u001b[49m\u001b[38;5;28;43mprint\u001b[39;49m\u001b[43m)\u001b[49m\n",
      "File \u001b[0;32m/usr/local/lib/python3.9/inspect.py:3113\u001b[0m, in \u001b[0;36msignature\u001b[0;34m(obj, follow_wrapped)\u001b[0m\n\u001b[1;32m   3111\u001b[0m \u001b[38;5;28;01mdef\u001b[39;00m \u001b[38;5;21msignature\u001b[39m(obj, \u001b[38;5;241m*\u001b[39m, follow_wrapped\u001b[38;5;241m=\u001b[39m\u001b[38;5;28;01mTrue\u001b[39;00m):\n\u001b[1;32m   3112\u001b[0m \u001b[38;5;250m    \u001b[39m\u001b[38;5;124;03m\"\"\"Get a signature object for the passed callable.\"\"\"\u001b[39;00m\n\u001b[0;32m-> 3113\u001b[0m     \u001b[38;5;28;01mreturn\u001b[39;00m \u001b[43mSignature\u001b[49m\u001b[38;5;241;43m.\u001b[39;49m\u001b[43mfrom_callable\u001b[49m\u001b[43m(\u001b[49m\u001b[43mobj\u001b[49m\u001b[43m,\u001b[49m\u001b[43m \u001b[49m\u001b[43mfollow_wrapped\u001b[49m\u001b[38;5;241;43m=\u001b[39;49m\u001b[43mfollow_wrapped\u001b[49m\u001b[43m)\u001b[49m\n",
      "File \u001b[0;32m/usr/local/lib/python3.9/inspect.py:2862\u001b[0m, in \u001b[0;36mSignature.from_callable\u001b[0;34m(cls, obj, follow_wrapped)\u001b[0m\n\u001b[1;32m   2859\u001b[0m \u001b[38;5;129m@classmethod\u001b[39m\n\u001b[1;32m   2860\u001b[0m \u001b[38;5;28;01mdef\u001b[39;00m \u001b[38;5;21mfrom_callable\u001b[39m(\u001b[38;5;28mcls\u001b[39m, obj, \u001b[38;5;241m*\u001b[39m, follow_wrapped\u001b[38;5;241m=\u001b[39m\u001b[38;5;28;01mTrue\u001b[39;00m):\n\u001b[1;32m   2861\u001b[0m \u001b[38;5;250m    \u001b[39m\u001b[38;5;124;03m\"\"\"Constructs Signature for the given callable object.\"\"\"\u001b[39;00m\n\u001b[0;32m-> 2862\u001b[0m     \u001b[38;5;28;01mreturn\u001b[39;00m \u001b[43m_signature_from_callable\u001b[49m\u001b[43m(\u001b[49m\u001b[43mobj\u001b[49m\u001b[43m,\u001b[49m\u001b[43m \u001b[49m\u001b[43msigcls\u001b[49m\u001b[38;5;241;43m=\u001b[39;49m\u001b[38;5;28;43mcls\u001b[39;49m\u001b[43m,\u001b[49m\n\u001b[1;32m   2863\u001b[0m \u001b[43m                                    \u001b[49m\u001b[43mfollow_wrapper_chains\u001b[49m\u001b[38;5;241;43m=\u001b[39;49m\u001b[43mfollow_wrapped\u001b[49m\u001b[43m)\u001b[49m\n",
      "File \u001b[0;32m/usr/local/lib/python3.9/inspect.py:2329\u001b[0m, in \u001b[0;36m_signature_from_callable\u001b[0;34m(obj, follow_wrapper_chains, skip_bound_arg, sigcls)\u001b[0m\n\u001b[1;32m   2325\u001b[0m     \u001b[38;5;28;01mreturn\u001b[39;00m _signature_from_function(sigcls, obj,\n\u001b[1;32m   2326\u001b[0m                                     skip_bound_arg\u001b[38;5;241m=\u001b[39mskip_bound_arg)\n\u001b[1;32m   2328\u001b[0m \u001b[38;5;28;01mif\u001b[39;00m _signature_is_builtin(obj):\n\u001b[0;32m-> 2329\u001b[0m     \u001b[38;5;28;01mreturn\u001b[39;00m \u001b[43m_signature_from_builtin\u001b[49m\u001b[43m(\u001b[49m\u001b[43msigcls\u001b[49m\u001b[43m,\u001b[49m\u001b[43m \u001b[49m\u001b[43mobj\u001b[49m\u001b[43m,\u001b[49m\n\u001b[1;32m   2330\u001b[0m \u001b[43m                                   \u001b[49m\u001b[43mskip_bound_arg\u001b[49m\u001b[38;5;241;43m=\u001b[39;49m\u001b[43mskip_bound_arg\u001b[49m\u001b[43m)\u001b[49m\n\u001b[1;32m   2332\u001b[0m \u001b[38;5;28;01mif\u001b[39;00m \u001b[38;5;28misinstance\u001b[39m(obj, functools\u001b[38;5;241m.\u001b[39mpartial):\n\u001b[1;32m   2333\u001b[0m     wrapped_sig \u001b[38;5;241m=\u001b[39m _get_signature_of(obj\u001b[38;5;241m.\u001b[39mfunc)\n",
      "File \u001b[0;32m/usr/local/lib/python3.9/inspect.py:2147\u001b[0m, in \u001b[0;36m_signature_from_builtin\u001b[0;34m(cls, func, skip_bound_arg)\u001b[0m\n\u001b[1;32m   2145\u001b[0m s \u001b[38;5;241m=\u001b[39m \u001b[38;5;28mgetattr\u001b[39m(func, \u001b[38;5;124m\"\u001b[39m\u001b[38;5;124m__text_signature__\u001b[39m\u001b[38;5;124m\"\u001b[39m, \u001b[38;5;28;01mNone\u001b[39;00m)\n\u001b[1;32m   2146\u001b[0m \u001b[38;5;28;01mif\u001b[39;00m \u001b[38;5;129;01mnot\u001b[39;00m s:\n\u001b[0;32m-> 2147\u001b[0m     \u001b[38;5;28;01mraise\u001b[39;00m \u001b[38;5;167;01mValueError\u001b[39;00m(\u001b[38;5;124m\"\u001b[39m\u001b[38;5;124mno signature found for builtin \u001b[39m\u001b[38;5;132;01m{!r}\u001b[39;00m\u001b[38;5;124m\"\u001b[39m\u001b[38;5;241m.\u001b[39mformat(func))\n\u001b[1;32m   2149\u001b[0m \u001b[38;5;28;01mreturn\u001b[39;00m _signature_fromstr(\u001b[38;5;28mcls\u001b[39m, func, s, skip_bound_arg)\n",
      "\u001b[0;31mValueError\u001b[0m: no signature found for builtin <built-in function print>"
     ]
    }
   ],
   "source": [
    "inspect.signature(print)"
   ]
  },
  {
   "cell_type": "markdown",
   "id": "b65d2464-4183-40b4-94af-19dd31f22f2a",
   "metadata": {},
   "source": [
    "I'm starting to get the feeling majority `inspect` functions don't work on 'builtin function and method' objects. 😡"
   ]
  },
  {
   "cell_type": "markdown",
   "id": "f48a1cca-2ee1-4a9f-92ec-4dea1697d512",
   "metadata": {},
   "source": [
    "well, `help(<builtin_func>)` is always available!"
   ]
  },
  {
   "cell_type": "code",
   "execution_count": 62,
   "id": "306e5d6f-31c2-491c-8f74-8d5d036572e1",
   "metadata": {},
   "outputs": [
    {
     "name": "stdout",
     "output_type": "stream",
     "text": [
      "Help on built-in function print in module builtins:\n",
      "\n",
      "print(...)\n",
      "    print(value, ..., sep=' ', end='\\n', file=sys.stdout, flush=False)\n",
      "    \n",
      "    Prints the values to a stream, or to sys.stdout by default.\n",
      "    Optional keyword arguments:\n",
      "    file:  a file-like object (stream); defaults to the current sys.stdout.\n",
      "    sep:   string inserted between values, default a space.\n",
      "    end:   string appended after the last value, default a newline.\n",
      "    flush: whether to forcibly flush the stream.\n",
      "\n"
     ]
    }
   ],
   "source": [
    "help(print)"
   ]
  },
  {
   "cell_type": "code",
   "execution_count": 63,
   "id": "c5bbf249-3604-4e4d-a628-4a850c047c07",
   "metadata": {},
   "outputs": [
    {
     "data": {
      "text/plain": [
       "<Signature (a: 'mandatory positional', b: 'optional positional' = 1, c=2, *args: 'add extra positional here', kw1, kw2=100, kw3=200, **kwargs: 'provide extra kw-only here') -> 'does nothing'>"
      ]
     },
     "execution_count": 63,
     "metadata": {},
     "output_type": "execute_result"
    }
   ],
   "source": [
    "inspect.signature(my_func)"
   ]
  },
  {
   "cell_type": "code",
   "execution_count": 64,
   "id": "94b3bf0a-aa00-4c5d-acf0-8c885f5f1a1c",
   "metadata": {
    "scrolled": true
   },
   "outputs": [
    {
     "data": {
      "text/plain": [
       "['__class__',\n",
       " '__delattr__',\n",
       " '__dir__',\n",
       " '__doc__',\n",
       " '__eq__',\n",
       " '__format__',\n",
       " '__ge__',\n",
       " '__getattribute__',\n",
       " '__gt__',\n",
       " '__hash__',\n",
       " '__init__',\n",
       " '__init_subclass__',\n",
       " '__le__',\n",
       " '__lt__',\n",
       " '__module__',\n",
       " '__ne__',\n",
       " '__new__',\n",
       " '__reduce__',\n",
       " '__reduce_ex__',\n",
       " '__repr__',\n",
       " '__setattr__',\n",
       " '__setstate__',\n",
       " '__sizeof__',\n",
       " '__slots__',\n",
       " '__str__',\n",
       " '__subclasshook__',\n",
       " '_bind',\n",
       " '_bound_arguments_cls',\n",
       " '_hash_basis',\n",
       " '_parameter_cls',\n",
       " '_parameters',\n",
       " '_return_annotation',\n",
       " 'bind',\n",
       " 'bind_partial',\n",
       " 'empty',\n",
       " 'from_builtin',\n",
       " 'from_callable',\n",
       " 'from_function',\n",
       " 'parameters',\n",
       " 'replace',\n",
       " 'return_annotation']"
      ]
     },
     "execution_count": 64,
     "metadata": {},
     "output_type": "execute_result"
    }
   ],
   "source": [
    "dir(inspect.signature(my_func))"
   ]
  },
  {
   "cell_type": "code",
   "execution_count": 65,
   "id": "640c236a-4995-4e8e-a998-8813ad96ff2b",
   "metadata": {},
   "outputs": [
    {
     "data": {
      "text/plain": [
       "{'a': 'mandatory positional',\n",
       " 'b': 'optional positional',\n",
       " 'args': 'add extra positional here',\n",
       " 'kwargs': 'provide extra kw-only here',\n",
       " 'return': 'does nothing'}"
      ]
     },
     "execution_count": 65,
     "metadata": {},
     "output_type": "execute_result"
    }
   ],
   "source": [
    "my_func.__annotations__"
   ]
  },
  {
   "cell_type": "code",
   "execution_count": 66,
   "id": "a83b4c5e-0099-43ac-b20d-c7698cb76ae7",
   "metadata": {},
   "outputs": [
    {
     "data": {
      "text/plain": [
       "'does nothing'"
      ]
     },
     "execution_count": 66,
     "metadata": {},
     "output_type": "execute_result"
    }
   ],
   "source": [
    "inspect.signature(my_func).return_annotation"
   ]
  },
  {
   "cell_type": "code",
   "execution_count": 67,
   "id": "c224ff73-e630-420a-8466-1b9812c8b532",
   "metadata": {},
   "outputs": [],
   "source": [
    "sig = inspect.signature(my_func)"
   ]
  },
  {
   "cell_type": "code",
   "execution_count": 69,
   "id": "d26ed0c5-ab6f-4828-b4cd-eb7961e7a3c6",
   "metadata": {},
   "outputs": [
    {
     "data": {
      "text/plain": [
       "<Signature (a: 'mandatory positional', b: 'optional positional' = 1, c=2, *args: 'add extra positional here', kw1, kw2=100, kw3=200, **kwargs: 'provide extra kw-only here') -> 'does nothing'>"
      ]
     },
     "execution_count": 69,
     "metadata": {},
     "output_type": "execute_result"
    }
   ],
   "source": [
    "sig"
   ]
  },
  {
   "cell_type": "code",
   "execution_count": 70,
   "id": "e5ddf03d-5ee4-4680-8823-dd0eee3923ec",
   "metadata": {},
   "outputs": [
    {
     "data": {
      "text/plain": [
       "mappingproxy({'a': <Parameter \"a: 'mandatory positional'\">,\n",
       "              'b': <Parameter \"b: 'optional positional' = 1\">,\n",
       "              'c': <Parameter \"c=2\">,\n",
       "              'args': <Parameter \"*args: 'add extra positional here'\">,\n",
       "              'kw1': <Parameter \"kw1\">,\n",
       "              'kw2': <Parameter \"kw2=100\">,\n",
       "              'kw3': <Parameter \"kw3=200\">,\n",
       "              'kwargs': <Parameter \"**kwargs: 'provide extra kw-only here'\">})"
      ]
     },
     "execution_count": 70,
     "metadata": {},
     "output_type": "execute_result"
    }
   ],
   "source": [
    "sig.parameters"
   ]
  },
  {
   "cell_type": "markdown",
   "id": "5ad751d4-abae-4b5d-9a3f-ec1bad62742c",
   "metadata": {},
   "source": [
    "`sig.parameters` returns a dictionary class object. this means we can iterate through the `dict` unpacking `key`, `value` pairs"
   ]
  },
  {
   "cell_type": "code",
   "execution_count": 78,
   "id": "bced8c61-7b75-40d6-8f46-06ab8b2e777c",
   "metadata": {},
   "outputs": [
    {
     "name": "stdout",
     "output_type": "stream",
     "text": [
      "a a: 'mandatory positional'\n",
      "b b: 'optional positional' = 1\n",
      "c c=2\n",
      "args *args: 'add extra positional here'\n",
      "kw1 kw1\n",
      "kw2 kw2=100\n",
      "kw3 kw3=200\n",
      "kwargs **kwargs: 'provide extra kw-only here'\n"
     ]
    }
   ],
   "source": [
    "for k, v in sig.parameters.items():\n",
    "    print(k, v)"
   ]
  },
  {
   "cell_type": "markdown",
   "id": "a43e036c-8d1f-4e21-bc71-fff844256d06",
   "metadata": {},
   "source": [
    "the `key`s are the names of the parameters in our function `my_func`. What are the values?"
   ]
  },
  {
   "cell_type": "code",
   "execution_count": 79,
   "id": "54fb5f27-55d8-43da-a388-307855b830c6",
   "metadata": {},
   "outputs": [
    {
     "name": "stdout",
     "output_type": "stream",
     "text": [
      "a <class 'inspect.Parameter'>\n",
      "b <class 'inspect.Parameter'>\n",
      "c <class 'inspect.Parameter'>\n",
      "args <class 'inspect.Parameter'>\n",
      "kw1 <class 'inspect.Parameter'>\n",
      "kw2 <class 'inspect.Parameter'>\n",
      "kw3 <class 'inspect.Parameter'>\n",
      "kwargs <class 'inspect.Parameter'>\n"
     ]
    }
   ],
   "source": [
    "for k, v in sig.parameters.items():\n",
    "    print(k, type(v))"
   ]
  },
  {
   "cell_type": "markdown",
   "id": "cb30641a-c8ca-4724-a19c-328859719a24",
   "metadata": {},
   "source": [
    "the `value`s appear to be some class object. Let's list out the attributes, properties, and methods available to be called within the class object."
   ]
  },
  {
   "cell_type": "code",
   "execution_count": 77,
   "id": "d754b7f3-951e-4faa-8834-e0653728aa7b",
   "metadata": {},
   "outputs": [
    {
     "name": "stdout",
     "output_type": "stream",
     "text": [
      "['KEYWORD_ONLY', 'POSITIONAL_ONLY', 'POSITIONAL_OR_KEYWORD', 'VAR_KEYWORD', 'VAR_POSITIONAL', '__class__', '__delattr__', '__dir__', '__doc__', '__eq__', '__format__', '__ge__', '__getattribute__', '__gt__', '__hash__', '__init__', '__init_subclass__', '__le__', '__lt__', '__module__', '__ne__', '__new__', '__reduce__', '__reduce_ex__', '__repr__', '__setattr__', '__setstate__', '__sizeof__', '__slots__', '__str__', '__subclasshook__', '_annotation', '_default', '_kind', '_name', 'annotation', 'default', 'empty', 'kind', 'name', 'replace']\n"
     ]
    }
   ],
   "source": [
    "for param in sig.parameters.values():\n",
    "    print(dir(param))\n",
    "    break"
   ]
  },
  {
   "cell_type": "markdown",
   "id": "1b716c9e-c804-486f-9f06-b0386a917caa",
   "metadata": {},
   "source": [
    "we can see the attributes `annotation`, `default`, `kind`, `name`. Let's check them out"
   ]
  },
  {
   "cell_type": "code",
   "execution_count": 80,
   "id": "2262fc74-8b68-4527-8d8b-14703813ad7f",
   "metadata": {},
   "outputs": [
    {
     "name": "stdout",
     "output_type": "stream",
     "text": [
      "Key: a\n",
      "Name: a\n",
      "Default: <class 'inspect._empty'>\n",
      "Annotation: mandatory positional\n",
      "Kind: POSITIONAL_OR_KEYWORD\n",
      "---------------\n",
      "Key: b\n",
      "Name: b\n",
      "Default: 1\n",
      "Annotation: optional positional\n",
      "Kind: POSITIONAL_OR_KEYWORD\n",
      "---------------\n",
      "Key: c\n",
      "Name: c\n",
      "Default: 2\n",
      "Annotation: <class 'inspect._empty'>\n",
      "Kind: POSITIONAL_OR_KEYWORD\n",
      "---------------\n",
      "Key: args\n",
      "Name: args\n",
      "Default: <class 'inspect._empty'>\n",
      "Annotation: add extra positional here\n",
      "Kind: VAR_POSITIONAL\n",
      "---------------\n",
      "Key: kw1\n",
      "Name: kw1\n",
      "Default: <class 'inspect._empty'>\n",
      "Annotation: <class 'inspect._empty'>\n",
      "Kind: KEYWORD_ONLY\n",
      "---------------\n",
      "Key: kw2\n",
      "Name: kw2\n",
      "Default: 100\n",
      "Annotation: <class 'inspect._empty'>\n",
      "Kind: KEYWORD_ONLY\n",
      "---------------\n",
      "Key: kw3\n",
      "Name: kw3\n",
      "Default: 200\n",
      "Annotation: <class 'inspect._empty'>\n",
      "Kind: KEYWORD_ONLY\n",
      "---------------\n",
      "Key: kwargs\n",
      "Name: kwargs\n",
      "Default: <class 'inspect._empty'>\n",
      "Annotation: provide extra kw-only here\n",
      "Kind: VAR_KEYWORD\n",
      "---------------\n"
     ]
    }
   ],
   "source": [
    "for k, param in sig.parameters.items():\n",
    "    print('Key:', k)\n",
    "    print('Name:', param.name)\n",
    "    print('Default:', param.default)\n",
    "    print('Annotation:', param.annotation)\n",
    "    print('Kind:', param.kind)\n",
    "    print('-' * 15)"
   ]
  },
  {
   "cell_type": "markdown",
   "id": "7411e744-a115-40f0-9120-c581e2d4e24f",
   "metadata": {},
   "source": [
    "interesting! Note `kind` which displays the type of function parameter was passed in\n",
    "- `POSITIONAL_OR_KEYWORD`\n",
    "- `VAR_POSITIONAL`\n",
    "- `KEYWORD_ONLY`\n",
    "- `VAR_KEYWORD`\n",
    "- there are others like:\n",
    "    - `POSITIONAL_ONLY`"
   ]
  },
  {
   "cell_type": "markdown",
   "id": "cc123d0c-29c5-45cd-9882-42eb84cd2383",
   "metadata": {},
   "source": [
    "`POSITIONAL_ONLY` arguments are achieved using the `/` after inserting all the positional arguments for your function. As seen in the help of the `divmod()` function below."
   ]
  },
  {
   "cell_type": "code",
   "execution_count": 81,
   "id": "8daf0a2a-d5f4-4a9d-8a11-9afdebe7e843",
   "metadata": {},
   "outputs": [
    {
     "name": "stdout",
     "output_type": "stream",
     "text": [
      "Help on built-in function divmod in module builtins:\n",
      "\n",
      "divmod(x, y, /)\n",
      "    Return the tuple (x//y, x%y).  Invariant: div*y + mod == x.\n",
      "\n"
     ]
    }
   ],
   "source": [
    "help(divmod)"
   ]
  },
  {
   "cell_type": "code",
   "execution_count": 82,
   "id": "09827ead-5707-4e44-b05c-f9fb008aadcc",
   "metadata": {},
   "outputs": [
    {
     "name": "stdout",
     "output_type": "stream",
     "text": [
      "POSITIONAL_ONLY\n",
      "POSITIONAL_ONLY\n"
     ]
    }
   ],
   "source": [
    "for param in inspect.signature(divmod).parameters.values():\n",
    "    print(param.kind)"
   ]
  },
  {
   "cell_type": "code",
   "execution_count": 83,
   "id": "b86f350e-d590-4ae9-863c-20fbaab3ec96",
   "metadata": {},
   "outputs": [
    {
     "data": {
      "text/plain": [
       "<module 'builtins' (built-in)>"
      ]
     },
     "execution_count": 83,
     "metadata": {},
     "output_type": "execute_result"
    }
   ],
   "source": [
    "inspect.getmodule(divmod)"
   ]
  },
  {
   "cell_type": "code",
   "execution_count": 84,
   "id": "73431d11-45c9-45fe-893d-ff86bcaa3ce3",
   "metadata": {},
   "outputs": [
    {
     "ename": "ValueError",
     "evalue": "no signature found for builtin <built-in function print>",
     "output_type": "error",
     "traceback": [
      "\u001b[0;31m---------------------------------------------------------------------------\u001b[0m",
      "\u001b[0;31mValueError\u001b[0m                                Traceback (most recent call last)",
      "Cell \u001b[0;32mIn[84], line 1\u001b[0m\n\u001b[0;32m----> 1\u001b[0m \u001b[38;5;28;01mfor\u001b[39;00m param \u001b[38;5;129;01min\u001b[39;00m \u001b[43minspect\u001b[49m\u001b[38;5;241;43m.\u001b[39;49m\u001b[43msignature\u001b[49m\u001b[43m(\u001b[49m\u001b[38;5;28;43mprint\u001b[39;49m\u001b[43m)\u001b[49m\u001b[38;5;241m.\u001b[39mparameters\u001b[38;5;241m.\u001b[39mvalues():\n\u001b[1;32m      2\u001b[0m     \u001b[38;5;28mprint\u001b[39m(param\u001b[38;5;241m.\u001b[39mkind)\n",
      "File \u001b[0;32m/usr/local/lib/python3.9/inspect.py:3113\u001b[0m, in \u001b[0;36msignature\u001b[0;34m(obj, follow_wrapped)\u001b[0m\n\u001b[1;32m   3111\u001b[0m \u001b[38;5;28;01mdef\u001b[39;00m \u001b[38;5;21msignature\u001b[39m(obj, \u001b[38;5;241m*\u001b[39m, follow_wrapped\u001b[38;5;241m=\u001b[39m\u001b[38;5;28;01mTrue\u001b[39;00m):\n\u001b[1;32m   3112\u001b[0m \u001b[38;5;250m    \u001b[39m\u001b[38;5;124;03m\"\"\"Get a signature object for the passed callable.\"\"\"\u001b[39;00m\n\u001b[0;32m-> 3113\u001b[0m     \u001b[38;5;28;01mreturn\u001b[39;00m \u001b[43mSignature\u001b[49m\u001b[38;5;241;43m.\u001b[39;49m\u001b[43mfrom_callable\u001b[49m\u001b[43m(\u001b[49m\u001b[43mobj\u001b[49m\u001b[43m,\u001b[49m\u001b[43m \u001b[49m\u001b[43mfollow_wrapped\u001b[49m\u001b[38;5;241;43m=\u001b[39;49m\u001b[43mfollow_wrapped\u001b[49m\u001b[43m)\u001b[49m\n",
      "File \u001b[0;32m/usr/local/lib/python3.9/inspect.py:2862\u001b[0m, in \u001b[0;36mSignature.from_callable\u001b[0;34m(cls, obj, follow_wrapped)\u001b[0m\n\u001b[1;32m   2859\u001b[0m \u001b[38;5;129m@classmethod\u001b[39m\n\u001b[1;32m   2860\u001b[0m \u001b[38;5;28;01mdef\u001b[39;00m \u001b[38;5;21mfrom_callable\u001b[39m(\u001b[38;5;28mcls\u001b[39m, obj, \u001b[38;5;241m*\u001b[39m, follow_wrapped\u001b[38;5;241m=\u001b[39m\u001b[38;5;28;01mTrue\u001b[39;00m):\n\u001b[1;32m   2861\u001b[0m \u001b[38;5;250m    \u001b[39m\u001b[38;5;124;03m\"\"\"Constructs Signature for the given callable object.\"\"\"\u001b[39;00m\n\u001b[0;32m-> 2862\u001b[0m     \u001b[38;5;28;01mreturn\u001b[39;00m \u001b[43m_signature_from_callable\u001b[49m\u001b[43m(\u001b[49m\u001b[43mobj\u001b[49m\u001b[43m,\u001b[49m\u001b[43m \u001b[49m\u001b[43msigcls\u001b[49m\u001b[38;5;241;43m=\u001b[39;49m\u001b[38;5;28;43mcls\u001b[39;49m\u001b[43m,\u001b[49m\n\u001b[1;32m   2863\u001b[0m \u001b[43m                                    \u001b[49m\u001b[43mfollow_wrapper_chains\u001b[49m\u001b[38;5;241;43m=\u001b[39;49m\u001b[43mfollow_wrapped\u001b[49m\u001b[43m)\u001b[49m\n",
      "File \u001b[0;32m/usr/local/lib/python3.9/inspect.py:2329\u001b[0m, in \u001b[0;36m_signature_from_callable\u001b[0;34m(obj, follow_wrapper_chains, skip_bound_arg, sigcls)\u001b[0m\n\u001b[1;32m   2325\u001b[0m     \u001b[38;5;28;01mreturn\u001b[39;00m _signature_from_function(sigcls, obj,\n\u001b[1;32m   2326\u001b[0m                                     skip_bound_arg\u001b[38;5;241m=\u001b[39mskip_bound_arg)\n\u001b[1;32m   2328\u001b[0m \u001b[38;5;28;01mif\u001b[39;00m _signature_is_builtin(obj):\n\u001b[0;32m-> 2329\u001b[0m     \u001b[38;5;28;01mreturn\u001b[39;00m \u001b[43m_signature_from_builtin\u001b[49m\u001b[43m(\u001b[49m\u001b[43msigcls\u001b[49m\u001b[43m,\u001b[49m\u001b[43m \u001b[49m\u001b[43mobj\u001b[49m\u001b[43m,\u001b[49m\n\u001b[1;32m   2330\u001b[0m \u001b[43m                                   \u001b[49m\u001b[43mskip_bound_arg\u001b[49m\u001b[38;5;241;43m=\u001b[39;49m\u001b[43mskip_bound_arg\u001b[49m\u001b[43m)\u001b[49m\n\u001b[1;32m   2332\u001b[0m \u001b[38;5;28;01mif\u001b[39;00m \u001b[38;5;28misinstance\u001b[39m(obj, functools\u001b[38;5;241m.\u001b[39mpartial):\n\u001b[1;32m   2333\u001b[0m     wrapped_sig \u001b[38;5;241m=\u001b[39m _get_signature_of(obj\u001b[38;5;241m.\u001b[39mfunc)\n",
      "File \u001b[0;32m/usr/local/lib/python3.9/inspect.py:2147\u001b[0m, in \u001b[0;36m_signature_from_builtin\u001b[0;34m(cls, func, skip_bound_arg)\u001b[0m\n\u001b[1;32m   2145\u001b[0m s \u001b[38;5;241m=\u001b[39m \u001b[38;5;28mgetattr\u001b[39m(func, \u001b[38;5;124m\"\u001b[39m\u001b[38;5;124m__text_signature__\u001b[39m\u001b[38;5;124m\"\u001b[39m, \u001b[38;5;28;01mNone\u001b[39;00m)\n\u001b[1;32m   2146\u001b[0m \u001b[38;5;28;01mif\u001b[39;00m \u001b[38;5;129;01mnot\u001b[39;00m s:\n\u001b[0;32m-> 2147\u001b[0m     \u001b[38;5;28;01mraise\u001b[39;00m \u001b[38;5;167;01mValueError\u001b[39;00m(\u001b[38;5;124m\"\u001b[39m\u001b[38;5;124mno signature found for builtin \u001b[39m\u001b[38;5;132;01m{!r}\u001b[39;00m\u001b[38;5;124m\"\u001b[39m\u001b[38;5;241m.\u001b[39mformat(func))\n\u001b[1;32m   2149\u001b[0m \u001b[38;5;28;01mreturn\u001b[39;00m _signature_fromstr(\u001b[38;5;28mcls\u001b[39m, func, s, skip_bound_arg)\n",
      "\u001b[0;31mValueError\u001b[0m: no signature found for builtin <built-in function print>"
     ]
    }
   ],
   "source": [
    "for param in inspect.signature(print).parameters.values():\n",
    "    print(param.kind)"
   ]
  },
  {
   "cell_type": "markdown",
   "id": "95cc5ef5-adcf-4066-bd78-6360555d53dd",
   "metadata": {},
   "source": [
    "interesting that `inspect.signature()` works on `divmod()` which is a builtin function and not `print()`. Not sure why? 🤔"
   ]
  }
 ],
 "metadata": {
  "kernelspec": {
   "display_name": "Python 3 (ipykernel)",
   "language": "python",
   "name": "python3"
  },
  "language_info": {
   "codemirror_mode": {
    "name": "ipython",
    "version": 3
   },
   "file_extension": ".py",
   "mimetype": "text/x-python",
   "name": "python",
   "nbconvert_exporter": "python",
   "pygments_lexer": "ipython3",
   "version": "3.9.19"
  }
 },
 "nbformat": 4,
 "nbformat_minor": 5
}
