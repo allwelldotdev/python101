{
 "cells": [
  {
   "cell_type": "code",
   "execution_count": 6,
   "id": "381247f6-e959-4e42-b236-ade6c00dc188",
   "metadata": {
    "scrolled": true
   },
   "outputs": [
    {
     "name": "stdout",
     "output_type": "stream",
     "text": [
      "Demo 1\n",
      "10\n",
      "20\n",
      "30\n",
      "40\n",
      "Done!\n"
     ]
    }
   ],
   "source": [
    "print ('Demo 1')\n",
    "\n",
    "for i in range(10, 50, 10):\n",
    "    print (i)\n",
    "\n",
    "print('Done!')"
   ]
  },
  {
   "cell_type": "code",
   "execution_count": 7,
   "id": "8c906008-1dbb-4637-a953-7cf31f40a22d",
   "metadata": {},
   "outputs": [
    {
     "name": "stdout",
     "output_type": "stream",
     "text": [
      "Hello, World!\n",
      "160\n"
     ]
    }
   ],
   "source": [
    "print('Hello, World!')\n",
    "print(10 + 120 + 30)"
   ]
  },
  {
   "cell_type": "code",
   "execution_count": null,
   "id": "631da8b9-ae7c-4b97-a274-be6b1dfae4f1",
   "metadata": {},
   "outputs": [],
   "source": []
  }
 ],
 "metadata": {
  "kernelspec": {
   "display_name": "Python 3 (ipykernel)",
   "language": "python",
   "name": "python3"
  },
  "language_info": {
   "codemirror_mode": {
    "name": "ipython",
    "version": 3
   },
   "file_extension": ".py",
   "mimetype": "text/x-python",
   "name": "python",
   "nbconvert_exporter": "python",
   "pygments_lexer": "ipython3",
   "version": "3.9.19"
  }
 },
 "nbformat": 4,
 "nbformat_minor": 5
}
