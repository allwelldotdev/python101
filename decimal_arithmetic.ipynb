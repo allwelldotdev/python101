{
 "cells": [
  {
   "cell_type": "code",
   "execution_count": 1,
   "id": "adfcd261-d4fe-4d23-991e-b98e913a0f78",
   "metadata": {},
   "outputs": [],
   "source": [
    "import decimal\n",
    "from decimal import Decimal"
   ]
  },
  {
   "cell_type": "code",
   "execution_count": 2,
   "id": "74b1fa59-c435-4a21-8896-dbc8e69d1700",
   "metadata": {},
   "outputs": [
    {
     "data": {
      "text/plain": [
       "Context(prec=28, rounding=ROUND_HALF_EVEN, Emin=-999999, Emax=999999, capitals=1, clamp=0, flags=[], traps=[InvalidOperation, DivisionByZero, Overflow])"
      ]
     },
     "execution_count": 2,
     "metadata": {},
     "output_type": "execute_result"
    }
   ],
   "source": [
    "decimal.getcontext()"
   ]
  },
  {
   "cell_type": "code",
   "execution_count": 3,
   "id": "3274b4f7-6151-4282-870b-00bb3aba157a",
   "metadata": {},
   "outputs": [],
   "source": [
    "ctx = decimal.getcontext()\n",
    "ctx.prec = 5"
   ]
  },
  {
   "cell_type": "code",
   "execution_count": 4,
   "id": "e7255772-ed3b-4863-b632-971260e2268b",
   "metadata": {},
   "outputs": [
    {
     "data": {
      "text/plain": [
       "Context(prec=5, rounding=ROUND_HALF_EVEN, Emin=-999999, Emax=999999, capitals=1, clamp=0, flags=[], traps=[InvalidOperation, DivisionByZero, Overflow])"
      ]
     },
     "execution_count": 4,
     "metadata": {},
     "output_type": "execute_result"
    }
   ],
   "source": [
    "decimal.getcontext()"
   ]
  },
  {
   "cell_type": "code",
   "execution_count": 5,
   "id": "67be19fc-d42a-4cda-b4fa-f2652b650a95",
   "metadata": {},
   "outputs": [],
   "source": [
    "ctx.rounding = decimal.ROUND_HALF_UP"
   ]
  },
  {
   "cell_type": "code",
   "execution_count": 6,
   "id": "c311056c-bb54-4e4d-b506-524cf2af265a",
   "metadata": {},
   "outputs": [
    {
     "data": {
      "text/plain": [
       "(Context(prec=5, rounding=ROUND_HALF_UP, Emin=-999999, Emax=999999, capitals=1, clamp=0, flags=[], traps=[InvalidOperation, DivisionByZero, Overflow]),\n",
       " Context(prec=5, rounding=ROUND_HALF_UP, Emin=-999999, Emax=999999, capitals=1, clamp=0, flags=[], traps=[InvalidOperation, DivisionByZero, Overflow]))"
      ]
     },
     "execution_count": 6,
     "metadata": {},
     "output_type": "execute_result"
    }
   ],
   "source": [
    "ctx, decimal.getcontext()"
   ]
  },
  {
   "cell_type": "markdown",
   "id": "01e06ecb-4ad8-4b96-b8c9-f42be8056c6a",
   "metadata": {},
   "source": [
    "The bug that caused Jupyter Notebook (version 6.0.3) not to update decimal global context properties has been resolved!"
   ]
  },
  {
   "cell_type": "code",
   "execution_count": 7,
   "id": "a5fccdf7-bfe3-44ff-a4ba-48a460926efe",
   "metadata": {},
   "outputs": [],
   "source": [
    "ctx.prec, ctx.rounding = 28, decimal.ROUND_HALF_EVEN"
   ]
  },
  {
   "cell_type": "code",
   "execution_count": 8,
   "id": "7d20e6bd-249d-466b-8cac-0f85ac9df593",
   "metadata": {},
   "outputs": [
    {
     "data": {
      "text/plain": [
       "Context(prec=28, rounding=ROUND_HALF_EVEN, Emin=-999999, Emax=999999, capitals=1, clamp=0, flags=[], traps=[InvalidOperation, DivisionByZero, Overflow])"
      ]
     },
     "execution_count": 8,
     "metadata": {},
     "output_type": "execute_result"
    }
   ],
   "source": [
    "ctx"
   ]
  }
 ],
 "metadata": {
  "kernelspec": {
   "display_name": "Python 3 (ipykernel)",
   "language": "python",
   "name": "python3"
  },
  "language_info": {
   "codemirror_mode": {
    "name": "ipython",
    "version": 3
   },
   "file_extension": ".py",
   "mimetype": "text/x-python",
   "name": "python",
   "nbconvert_exporter": "python",
   "pygments_lexer": "ipython3",
   "version": "3.9.19"
  }
 },
 "nbformat": 4,
 "nbformat_minor": 5
}
