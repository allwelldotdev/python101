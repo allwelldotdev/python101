{
 "cells": [
  {
   "cell_type": "markdown",
   "id": "b32a09ec",
   "metadata": {},
   "source": [
    "### Solutions"
   ]
  },
  {
   "cell_type": "markdown",
   "id": "89d7fa38",
   "metadata": {},
   "source": [
    "#### Question 1"
   ]
  },
  {
   "cell_type": "markdown",
   "id": "f4226de7",
   "metadata": {},
   "source": [
    "Given this string of comma separated characters, create three new variables containing the unicode codepoint (in hex), uppercase and lower case versions of each character (also comma delimited).\n",
    "\n",
    "For example, if the string was `'a, b, c'` you should generate three lists that look like:\n",
    "* `['0x61', '0x62', '0x63']`\n",
    "* `['a', 'b', 'c']`\n",
    "* `['A', 'B', 'C']`\n",
    "\n",
    "[You should use the `split()` and `strip()` functions, amongst others, to help you solve this.]"
   ]
  },
  {
   "cell_type": "markdown",
   "id": "a17d4eb2-cac4-43a3-b91d-d38507dacff8",
   "metadata": {},
   "source": [
    "#### Solution 1"
   ]
  },
  {
   "cell_type": "code",
   "execution_count": 137,
   "id": "8b78843c",
   "metadata": {},
   "outputs": [
    {
     "name": "stdout",
     "output_type": "stream",
     "text": [
      "['0x3a0', '0x3cd', '0x3b8', '0x3c9', '0x3bd']\n",
      "['Π', 'Ύ', 'Θ', 'Ω', 'Ν']\n",
      "['π', 'ύ', 'θ', 'ω', 'ν']\n"
     ]
    }
   ],
   "source": [
    "s = 'Π, ύ, θ, ω, ν'\n",
    "\n",
    "ss = s.split(',')\n",
    "a, b, c, d, e = ss\n",
    "\n",
    "a = a.strip()\n",
    "b = b.strip()\n",
    "c = c.strip()\n",
    "d = d.strip()\n",
    "e = e.strip()\n",
    "\n",
    "unicode = [hex(ord(a)), hex(ord(b)), hex(ord(c)), hex(ord(d)), hex(ord(e))]\n",
    "upper = [a.upper(), b.upper(), c.upper(), d.upper(), e.upper()]\n",
    "lower = [a.lower(), b.lower(), c.lower(), d.lower(), e.lower()]\n",
    "\n",
    "print(unicode)\n",
    "print(upper)\n",
    "print(lower)"
   ]
  },
  {
   "cell_type": "markdown",
   "id": "2b35761b-4f09-4eaf-8292-7bdb14e22ce1",
   "metadata": {},
   "source": [
    "#### Using Loops to solve Question 1"
   ]
  },
  {
   "cell_type": "code",
   "execution_count": 50,
   "id": "d72fe03e-9035-4315-8ce2-6d874759c0b3",
   "metadata": {},
   "outputs": [
    {
     "name": "stdout",
     "output_type": "stream",
     "text": [
      "['0x3a0', '0x3cd', '0x3b8', '0x3c9', '0x3bd'] ['Π', 'Ύ', 'Θ', 'Ω', 'Ν'] ['π', 'ύ', 'θ', 'ω', 'ν']\n"
     ]
    }
   ],
   "source": [
    "s = 'Π, ύ, θ, ω, ν'\n",
    "\n",
    "unicode = []\n",
    "upper = []\n",
    "lower = []\n",
    "\n",
    "for v in s.split(','):\n",
    "    str_ = v.strip()\n",
    "\n",
    "    # for unicode\n",
    "    uc = hex(ord(str_))\n",
    "    unicode.append(uc)\n",
    "\n",
    "    #for uppercase\n",
    "    up = str_.upper()\n",
    "    upper.append(up)\n",
    "\n",
    "    #for lowercase\n",
    "    low = str_.lower()\n",
    "    lower.append(low)\n",
    "\n",
    "print(unicode, upper, lower)"
   ]
  },
  {
   "cell_type": "markdown",
   "id": "94e45cbc",
   "metadata": {},
   "source": [
    "#### Question 2"
   ]
  },
  {
   "cell_type": "markdown",
   "id": "a0554e52",
   "metadata": {},
   "source": [
    "Using two types of string interpolation, and given the variable `a` that contains an integer, print out the following string for `a`:\n",
    "\n",
    "`The number ...value of a... is (or is not) even`\n",
    "\n",
    "For example, if `a` is `42`, the your code should print:\n",
    "\n",
    "`'The number 42 is even'`\n",
    "\n",
    "But if `a` is `31`, then the **same** code should print:\n",
    "\n",
    "`'The number 31 is not even'`\n"
   ]
  },
  {
   "cell_type": "code",
   "execution_count": 141,
   "id": "65a58e78-9777-44c0-843d-66fc0881c0f8",
   "metadata": {},
   "outputs": [
    {
     "name": "stdout",
     "output_type": "stream",
     "text": [
      "The number 42 is even\n"
     ]
    }
   ],
   "source": [
    "a = 42\n",
    "print(f\"The number {a} is {'even' if a % 2 == 0 else 'odd'}\")"
   ]
  },
  {
   "cell_type": "code",
   "execution_count": 140,
   "id": "db1070c0-94a8-45f2-befc-208f02fc04c3",
   "metadata": {},
   "outputs": [
    {
     "name": "stdout",
     "output_type": "stream",
     "text": [
      "The number 31 is odd\n"
     ]
    }
   ],
   "source": [
    "a = 31\n",
    "print(f\"The number {a} is {'even' if a % 2 == 0 else 'odd'}\")"
   ]
  },
  {
   "cell_type": "markdown",
   "id": "ab2c955f",
   "metadata": {},
   "source": [
    "#### Question 3"
   ]
  },
  {
   "cell_type": "markdown",
   "id": "03619dde",
   "metadata": {},
   "source": [
    "You are given two variables `a` and `b` (with `b` non-zero), and you need to generate a string that reads something like this:\n",
    "\n",
    "```\n",
    "'a / b = (result)'\n",
    "```"
   ]
  },
  {
   "cell_type": "markdown",
   "id": "76378ec5",
   "metadata": {},
   "source": [
    "But you want your string to be nicely formatted for display purposes, so you want to limit displaying possible digits after the decimal point in all your values to 4 digits."
   ]
  },
  {
   "cell_type": "code",
   "execution_count": 155,
   "id": "1badc59a-ddb9-4b35-b79b-c487523d9f69",
   "metadata": {},
   "outputs": [
    {
     "name": "stdout",
     "output_type": "stream",
     "text": [
      "16.2340 / 6.2990 = (2.5772)\n"
     ]
    }
   ],
   "source": [
    "a = 16.234\n",
    "b = 6.299\n",
    "\n",
    "if not b < 1:\n",
    "    print(f\"{a:.4f} / {b:.4f} = ({a / b:.4f})\")\n",
    "else:\n",
    "    print(f\"a / b - '\\\"b\\\" value must be non-zero'\")\n",
    "\n",
    "#print(f\"a / b = ({div if not div < 1 else 'b value must be non-zero'})\")"
   ]
  }
 ],
 "metadata": {
  "kernelspec": {
   "display_name": "Python 3 (ipykernel)",
   "language": "python",
   "name": "python3"
  },
  "language_info": {
   "codemirror_mode": {
    "name": "ipython",
    "version": 3
   },
   "file_extension": ".py",
   "mimetype": "text/x-python",
   "name": "python",
   "nbconvert_exporter": "python",
   "pygments_lexer": "ipython3",
   "version": "3.9.19"
  }
 },
 "nbformat": 4,
 "nbformat_minor": 5
}
