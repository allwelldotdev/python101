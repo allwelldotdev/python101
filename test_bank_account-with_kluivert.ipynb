{
 "cells": [
  {
   "cell_type": "code",
   "execution_count": 1,
   "id": "e894a408-54ea-42d5-90a7-e1bd2a26955c",
   "metadata": {},
   "outputs": [],
   "source": [
    "import random\n",
    "from datetime import datetime "
   ]
  },
  {
   "cell_type": "code",
   "execution_count": 307,
   "id": "07472889-cf00-425b-924d-3f99ca24df88",
   "metadata": {},
   "outputs": [],
   "source": [
    "class BankAccount():\n",
    "    def __init__(self, *,\n",
    "                  first_name,\n",
    "                  last_name,\n",
    "                  account_number,\n",
    "                  balance,\n",
    "                  is_overdraft_allowed=False,\n",
    "                 overdraft_amount=0\n",
    "                ):\n",
    "        self._first_name = first_name\n",
    "        self._last_name = last_name\n",
    "        self._account_number = account_number\n",
    "        self._balance = balance\n",
    "        self.is_overdraft_allowed = is_overdraft_allowed\n",
    "\n",
    "        # compute overdraft\n",
    "        if self.is_overdraft_allowed == False and overdraft_amount > 0 or overdraft_amount < 0:\n",
    "            raise ValueError(f'setting overdraft is not allowed because is_overdraft_allowed: {self.is_overdraft_allowed}')\n",
    "        self.overdraft_amount = self.balance * overdraft_amount / 100, f'{overdraft_amount}%'\n",
    "        self._overdraft = self.overdraft_amount[0]\n",
    "\n",
    "    # providing read-only properties\n",
    "    @property # property class decorator | known as a getter method\n",
    "    def first_name(self):\n",
    "        return self._first_name\n",
    "\n",
    "    @property\n",
    "    def last_name(self):\n",
    "        return self._last_name\n",
    "\n",
    "    @property\n",
    "    def account_number(self):\n",
    "        return self._account_number\n",
    "\n",
    "    @property\n",
    "    def balance(self):\n",
    "        return self._balance\n",
    "\n",
    "    @property\n",
    "    def overdraft(self):\n",
    "        return self._overdraft\n",
    "    \n",
    "\n",
    "    # deposit func\n",
    "    def deposit(self, amount):\n",
    "        # adding limits\n",
    "        if amount < 0:\n",
    "            raise ValueError('amount must be a positive value')\n",
    "\n",
    "        # grab initial balance\n",
    "        initial_balance, initial_overdraft = self.balance, self.overdraft\n",
    "\n",
    "        # deposit compute\n",
    "        #self._balance = self.balance + amount\n",
    "\n",
    "        # deposit + overdraft functionality\n",
    "        if self.overdraft < self.overdraft_amount[0]: # 199 < 200\n",
    "            if amount + self.overdraft > self.overdraft_amount[0]:\n",
    "                # if amount + current_overdraft > set_overdraft_amount; then close the gap on overdraft and compute balance\n",
    "                remainder = self.overdraft_amount[0] - self.overdraft # compute remainder\n",
    "                self._overdraft = self.overdraft_amount[0] # overdraft = overdraft_amount\n",
    "                self._balance = amount - remainder # compute current_balance\n",
    "            else:\n",
    "                # if amount + current_overdraft < set_overdraft_amount; then current_overdraft = amount + current_overdraft\n",
    "                # and balance stays the same\n",
    "                self._overdraft = amount + self.overdraft\n",
    "        else:\n",
    "            self._balance = self.balance + amount\n",
    "\n",
    "        # receipt functionality\n",
    "        return {\n",
    "            'transaction': 'credit',\n",
    "            'initial_balance': initial_balance,\n",
    "            'current_balance': self.balance,\n",
    "            'initial_overdraft': initial_overdraft,\n",
    "            'current_overdraft': self.overdraft\n",
    "        }\n",
    "\n",
    "    # withdraw func\n",
    "    def withdraw(self, amount):\n",
    "        # adding limits\n",
    "        if amount < 0:\n",
    "            raise ValueError('amount must be a positive value')\n",
    "        # checking overdraft + balance\n",
    "        if amount > self.balance + self.overdraft:\n",
    "            raise ValueError('you no get money again - GO HUSTLE')\n",
    "\n",
    "        # grab initial balance + overdraft\n",
    "        initial_balance, initial_overdraft = self.balance, self.overdraft\n",
    "\n",
    "        # withdraw compute\n",
    "        #self._balance = self.balance - amount\n",
    "\n",
    "        # withdraw + overdraft compute\n",
    "        if amount > self.balance:\n",
    "            remainder = amount - self.balance # 1100 - 1000 = 100\n",
    "            self._balance = 0\n",
    "            self._overdraft = self.overdraft - remainder # 200 - 100 = 100\n",
    "        else:\n",
    "            self._balance = self.balance - amount\n",
    "        \n",
    "        # receipt functionality\n",
    "        return {\n",
    "            'transaction': 'debit',\n",
    "            'initial_balance': initial_balance,\n",
    "            'current_balance': self.balance,\n",
    "            'initial_overdraft': initial_overdraft,\n",
    "            'current_overdraft': self.overdraft\n",
    "        }"
   ]
  },
  {
   "cell_type": "code",
   "execution_count": 327,
   "id": "63c2539b-c5b0-473d-a61f-80d0e107a3d1",
   "metadata": {},
   "outputs": [],
   "source": [
    "x = BankAccount(first_name='Allwell',\n",
    "                last_name='Agwu-Okoro',\n",
    "                account_number=1234567890,\n",
    "                balance=150,\n",
    "                is_overdraft_allowed=True,\n",
    "                overdraft_amount=50)"
   ]
  },
  {
   "cell_type": "code",
   "execution_count": 328,
   "id": "14e745dc-d9e6-428c-a6cc-2e349cb74a48",
   "metadata": {},
   "outputs": [
    {
     "data": {
      "text/plain": [
       "150"
      ]
     },
     "execution_count": 328,
     "metadata": {},
     "output_type": "execute_result"
    }
   ],
   "source": [
    "x.balance"
   ]
  },
  {
   "cell_type": "code",
   "execution_count": 329,
   "id": "9246c31b-076d-4106-b74a-5c752f0033c7",
   "metadata": {},
   "outputs": [
    {
     "data": {
      "text/plain": [
       "((75.0, '50%'), 75.0)"
      ]
     },
     "execution_count": 329,
     "metadata": {},
     "output_type": "execute_result"
    }
   ],
   "source": [
    "x.overdraft_amount, x.overdraft"
   ]
  },
  {
   "cell_type": "code",
   "execution_count": 330,
   "id": "79c215c3-de56-4114-a7c0-32150e1245c7",
   "metadata": {},
   "outputs": [
    {
     "data": {
      "text/plain": [
       "{'transaction': 'debit',\n",
       " 'initial_balance': 150,\n",
       " 'current_balance': 129,\n",
       " 'initial_overdraft': 75.0,\n",
       " 'current_overdraft': 75.0}"
      ]
     },
     "execution_count": 330,
     "metadata": {},
     "output_type": "execute_result"
    }
   ],
   "source": [
    "x.withdraw(21)"
   ]
  },
  {
   "cell_type": "code",
   "execution_count": 331,
   "id": "19be0851-114b-411c-a194-5b2c3294235d",
   "metadata": {},
   "outputs": [
    {
     "data": {
      "text/plain": [
       "(129, 75.0)"
      ]
     },
     "execution_count": 331,
     "metadata": {},
     "output_type": "execute_result"
    }
   ],
   "source": [
    "x.balance, x.overdraft"
   ]
  },
  {
   "cell_type": "code",
   "execution_count": 332,
   "id": "1c6780c5-e88a-430d-bd6d-4b3c0e27db92",
   "metadata": {},
   "outputs": [
    {
     "data": {
      "text/plain": [
       "{'transaction': 'debit',\n",
       " 'initial_balance': 129,\n",
       " 'current_balance': 16,\n",
       " 'initial_overdraft': 75.0,\n",
       " 'current_overdraft': 75.0}"
      ]
     },
     "execution_count": 332,
     "metadata": {},
     "output_type": "execute_result"
    }
   ],
   "source": [
    "x.withdraw(113)"
   ]
  },
  {
   "cell_type": "code",
   "execution_count": 333,
   "id": "0baed06e-4965-4d95-9c0c-3c6ce9353377",
   "metadata": {},
   "outputs": [
    {
     "data": {
      "text/plain": [
       "{'transaction': 'debit',\n",
       " 'initial_balance': 16,\n",
       " 'current_balance': 0,\n",
       " 'initial_overdraft': 75.0,\n",
       " 'current_overdraft': 34.0}"
      ]
     },
     "execution_count": 333,
     "metadata": {},
     "output_type": "execute_result"
    }
   ],
   "source": [
    "x.withdraw(57)"
   ]
  },
  {
   "cell_type": "code",
   "execution_count": 334,
   "id": "395580cc-2eb7-465a-99ef-a80075d7452b",
   "metadata": {},
   "outputs": [
    {
     "data": {
      "text/plain": [
       "{'transaction': 'credit',\n",
       " 'initial_balance': 0,\n",
       " 'current_balance': 0,\n",
       " 'initial_overdraft': 34.0,\n",
       " 'current_overdraft': 54.0}"
      ]
     },
     "execution_count": 334,
     "metadata": {},
     "output_type": "execute_result"
    }
   ],
   "source": [
    "x.deposit(20)"
   ]
  },
  {
   "cell_type": "code",
   "execution_count": 335,
   "id": "b523d271-bac5-4f9b-9414-243f270adae3",
   "metadata": {},
   "outputs": [
    {
     "data": {
      "text/plain": [
       "((75.0, '50%'), 54.0)"
      ]
     },
     "execution_count": 335,
     "metadata": {},
     "output_type": "execute_result"
    }
   ],
   "source": [
    "x.overdraft_amount, x.overdraft"
   ]
  },
  {
   "cell_type": "code",
   "execution_count": 336,
   "id": "d1e70360-f579-45d6-99d4-f8b8bb3abbd9",
   "metadata": {},
   "outputs": [
    {
     "data": {
      "text/plain": [
       "{'transaction': 'credit',\n",
       " 'initial_balance': 0,\n",
       " 'current_balance': 29.0,\n",
       " 'initial_overdraft': 54.0,\n",
       " 'current_overdraft': 75.0}"
      ]
     },
     "execution_count": 336,
     "metadata": {},
     "output_type": "execute_result"
    }
   ],
   "source": [
    "x.deposit(50)"
   ]
  },
  {
   "cell_type": "code",
   "execution_count": 315,
   "id": "ff02a62d-a9f3-44b9-bb6a-682c68b78202",
   "metadata": {},
   "outputs": [
    {
     "ename": "ValueError",
     "evalue": "you no get money again - GO HUSTLE",
     "output_type": "error",
     "traceback": [
      "\u001b[0;31m---------------------------------------------------------------------------\u001b[0m",
      "\u001b[0;31mValueError\u001b[0m                                Traceback (most recent call last)",
      "Cell \u001b[0;32mIn[315], line 1\u001b[0m\n\u001b[0;32m----> 1\u001b[0m \u001b[43mx\u001b[49m\u001b[38;5;241;43m.\u001b[39;49m\u001b[43mwithdraw\u001b[49m\u001b[43m(\u001b[49m\u001b[38;5;241;43m100\u001b[39;49m\u001b[43m)\u001b[49m\n",
      "Cell \u001b[0;32mIn[307], line 86\u001b[0m, in \u001b[0;36mBankAccount.withdraw\u001b[0;34m(self, amount)\u001b[0m\n\u001b[1;32m     84\u001b[0m \u001b[38;5;66;03m# checking overdraft + balance\u001b[39;00m\n\u001b[1;32m     85\u001b[0m \u001b[38;5;28;01mif\u001b[39;00m amount \u001b[38;5;241m>\u001b[39m \u001b[38;5;28mself\u001b[39m\u001b[38;5;241m.\u001b[39mbalance \u001b[38;5;241m+\u001b[39m \u001b[38;5;28mself\u001b[39m\u001b[38;5;241m.\u001b[39moverdraft:\n\u001b[0;32m---> 86\u001b[0m     \u001b[38;5;28;01mraise\u001b[39;00m \u001b[38;5;167;01mValueError\u001b[39;00m(\u001b[38;5;124m'\u001b[39m\u001b[38;5;124myou no get money again - GO HUSTLE\u001b[39m\u001b[38;5;124m'\u001b[39m)\n\u001b[1;32m     88\u001b[0m \u001b[38;5;66;03m# grab initial balance + overdraft\u001b[39;00m\n\u001b[1;32m     89\u001b[0m initial_balance, initial_overdraft \u001b[38;5;241m=\u001b[39m \u001b[38;5;28mself\u001b[39m\u001b[38;5;241m.\u001b[39mbalance, \u001b[38;5;28mself\u001b[39m\u001b[38;5;241m.\u001b[39moverdraft\n",
      "\u001b[0;31mValueError\u001b[0m: you no get money again - GO HUSTLE"
     ]
    }
   ],
   "source": [
    "x.withdraw(100)"
   ]
  },
  {
   "cell_type": "code",
   "execution_count": 316,
   "id": "6371c9c8-9e55-4e9b-b84e-25c4fb63e0f3",
   "metadata": {},
   "outputs": [
    {
     "data": {
      "text/plain": [
       "{'transaction': 'debit',\n",
       " 'initial_balance': 0,\n",
       " 'current_balance': 0,\n",
       " 'initial_overdraft': 50.0,\n",
       " 'current_overdraft': 0.0}"
      ]
     },
     "execution_count": 316,
     "metadata": {},
     "output_type": "execute_result"
    }
   ],
   "source": [
    "x.withdraw(50)"
   ]
  },
  {
   "cell_type": "code",
   "execution_count": 317,
   "id": "00f88cc9-379f-4d60-83c9-59e74e709384",
   "metadata": {},
   "outputs": [
    {
     "ename": "ValueError",
     "evalue": "you no get money again - GO HUSTLE",
     "output_type": "error",
     "traceback": [
      "\u001b[0;31m---------------------------------------------------------------------------\u001b[0m",
      "\u001b[0;31mValueError\u001b[0m                                Traceback (most recent call last)",
      "Cell \u001b[0;32mIn[317], line 1\u001b[0m\n\u001b[0;32m----> 1\u001b[0m \u001b[43mx\u001b[49m\u001b[38;5;241;43m.\u001b[39;49m\u001b[43mwithdraw\u001b[49m\u001b[43m(\u001b[49m\u001b[38;5;241;43m0.01\u001b[39;49m\u001b[43m)\u001b[49m\n",
      "Cell \u001b[0;32mIn[307], line 86\u001b[0m, in \u001b[0;36mBankAccount.withdraw\u001b[0;34m(self, amount)\u001b[0m\n\u001b[1;32m     84\u001b[0m \u001b[38;5;66;03m# checking overdraft + balance\u001b[39;00m\n\u001b[1;32m     85\u001b[0m \u001b[38;5;28;01mif\u001b[39;00m amount \u001b[38;5;241m>\u001b[39m \u001b[38;5;28mself\u001b[39m\u001b[38;5;241m.\u001b[39mbalance \u001b[38;5;241m+\u001b[39m \u001b[38;5;28mself\u001b[39m\u001b[38;5;241m.\u001b[39moverdraft:\n\u001b[0;32m---> 86\u001b[0m     \u001b[38;5;28;01mraise\u001b[39;00m \u001b[38;5;167;01mValueError\u001b[39;00m(\u001b[38;5;124m'\u001b[39m\u001b[38;5;124myou no get money again - GO HUSTLE\u001b[39m\u001b[38;5;124m'\u001b[39m)\n\u001b[1;32m     88\u001b[0m \u001b[38;5;66;03m# grab initial balance + overdraft\u001b[39;00m\n\u001b[1;32m     89\u001b[0m initial_balance, initial_overdraft \u001b[38;5;241m=\u001b[39m \u001b[38;5;28mself\u001b[39m\u001b[38;5;241m.\u001b[39mbalance, \u001b[38;5;28mself\u001b[39m\u001b[38;5;241m.\u001b[39moverdraft\n",
      "\u001b[0;31mValueError\u001b[0m: you no get money again - GO HUSTLE"
     ]
    }
   ],
   "source": [
    "x.withdraw(0.01)"
   ]
  },
  {
   "cell_type": "code",
   "execution_count": 318,
   "id": "3e2c6ea5-7275-4001-a868-eda36f5d819d",
   "metadata": {},
   "outputs": [
    {
     "data": {
      "text/plain": [
       "((200.0, '10%'), 0.0)"
      ]
     },
     "execution_count": 318,
     "metadata": {},
     "output_type": "execute_result"
    }
   ],
   "source": [
    "x.overdraft_amount, x.overdraft"
   ]
  },
  {
   "cell_type": "code",
   "execution_count": 319,
   "id": "3ee32027-e049-4098-bba8-5ac061958c45",
   "metadata": {},
   "outputs": [
    {
     "data": {
      "text/plain": [
       "{'transaction': 'credit',\n",
       " 'initial_balance': 0,\n",
       " 'current_balance': 0,\n",
       " 'initial_overdraft': 0.0,\n",
       " 'current_overdraft': 100.0}"
      ]
     },
     "execution_count": 319,
     "metadata": {},
     "output_type": "execute_result"
    }
   ],
   "source": [
    "x.deposit(100)"
   ]
  },
  {
   "cell_type": "code",
   "execution_count": 320,
   "id": "a7a30af2-ff7f-416a-bcaf-19b0d41e286d",
   "metadata": {},
   "outputs": [
    {
     "data": {
      "text/plain": [
       "((200.0, '10%'), 100.0)"
      ]
     },
     "execution_count": 320,
     "metadata": {},
     "output_type": "execute_result"
    }
   ],
   "source": [
    "x.overdraft_amount, x.overdraft"
   ]
  },
  {
   "cell_type": "code",
   "execution_count": 321,
   "id": "0389c4ba-8698-48ee-8fd3-7ea12c86be05",
   "metadata": {},
   "outputs": [
    {
     "data": {
      "text/plain": [
       "{'transaction': 'credit',\n",
       " 'initial_balance': 0,\n",
       " 'current_balance': 100.0,\n",
       " 'initial_overdraft': 100.0,\n",
       " 'current_overdraft': 200.0}"
      ]
     },
     "execution_count": 321,
     "metadata": {},
     "output_type": "execute_result"
    }
   ],
   "source": [
    "x.deposit(200)"
   ]
  },
  {
   "cell_type": "code",
   "execution_count": null,
   "id": "03066f3d-11d7-44da-86d5-09aeabdbe47a",
   "metadata": {},
   "outputs": [],
   "source": []
  }
 ],
 "metadata": {
  "kernelspec": {
   "display_name": "Python 3 (ipykernel)",
   "language": "python",
   "name": "python3"
  },
  "language_info": {
   "codemirror_mode": {
    "name": "ipython",
    "version": 3
   },
   "file_extension": ".py",
   "mimetype": "text/x-python",
   "name": "python",
   "nbconvert_exporter": "python",
   "pygments_lexer": "ipython3",
   "version": "3.9.19"
  }
 },
 "nbformat": 4,
 "nbformat_minor": 5
}
